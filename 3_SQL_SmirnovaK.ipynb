{
 "cells": [
  {
   "cell_type": "markdown",
   "metadata": {},
   "source": [
    "## **Описание проекта**\n",
    "**SQL**\n",
    "\n",
    "Наша компания решила быть на волне и купила крупный сервис для чтения книг по подписке. Наша первая задача — проанализировать базу данных.\n",
    "В ней — информация о книгах, издательствах, авторах, а также пользовательские обзоры книг. Эти данные помогут сформулировать ценностное предложение для нового продукта.\n",
    "\n",
    "**Цель:** ответить на вопросы поставленные заказчиком, сформулировать ценностное предложение для нового продукта\n",
    "\n",
    "**Описание данных:**\n",
    "\n",
    "Таблица books\n",
    "Содержит данные о книгах:\n",
    "\n",
    "    book_id — идентификатор книги;\n",
    "    author_id — идентификатор автора;\n",
    "    title — название книги;\n",
    "    num_pages — количество страниц;\n",
    "    publication_date — дата публикации книги;\n",
    "    publisher_id — идентификатор издателя.\n",
    "\n",
    "Таблица authors\n",
    "Содержит данные об авторах:\n",
    "\n",
    "    author_id — идентификатор автора;\n",
    "    author — имя автора.\n",
    "\n",
    "Таблица publishers\n",
    "Содержит данные об издательствах:\n",
    "\n",
    "    publisher_id — идентификатор издательства;\n",
    "    publisher — название издательства;\n",
    "\n",
    "Таблица ratings\n",
    "Содержит данные о пользовательских оценках книг:\n",
    "\n",
    "    rating_id — идентификатор оценки;\n",
    "    book_id — идентификатор книги;\n",
    "    username — имя пользователя, оставившего оценку;\n",
    "    rating — оценка книги.\n",
    "\n",
    "Таблица reviews\n",
    "Содержит данные о пользовательских обзорах:\n",
    "\n",
    "    review_id — идентификатор обзора;\n",
    "    book_id — идентификатор книги;\n",
    "    username — имя автора обзора;\n",
    "    text — текст обзора.\n",
    "`\n",
    "\n",
    "\n",
    "**План проекта:**\n",
    "\n",
    "Ответим на вопросы: \n",
    "\n",
    "[Посчитайте, сколько книг вышло после 1 января 2000 года;](#first)\n",
    "  \n",
    "[Для каждой книги посчитайте количество обзоров и среднюю оценку;](#second)\n",
    "  \n",
    "[Определите издательство, которое выпустило наибольшее число книг толще 50 страниц — так вы исключите из анализа брошюры;](#third)\n",
    "\n",
    "[Определите автора с самой высокой средней оценкой книг — учитывайте только книги с 50 и более оценками;](#fourth)\n",
    "\n",
    "[Посчитайте среднее количество обзоров от пользователей, которые поставили больше 50 оценок.](#fifth)\n",
    "\n",
    "[Общий вывод](#conclution)"
   ]
  },
  {
   "cell_type": "markdown",
   "metadata": {},
   "source": [
    "## **Подключимся к базе данных**"
   ]
  },
  {
   "cell_type": "raw",
   "metadata": {},
   "source": [
    "pip install psycopg2"
   ]
  },
  {
   "cell_type": "code",
   "execution_count": 13,
   "metadata": {},
   "outputs": [
    {
     "name": "stdout",
     "output_type": "stream",
     "text": [
      "<class 'pandas.core.frame.DataFrame'>\n",
      "RangeIndex: 1000 entries, 0 to 999\n",
      "Data columns (total 6 columns):\n",
      "book_id             1000 non-null int64\n",
      "author_id           1000 non-null int64\n",
      "title               1000 non-null object\n",
      "num_pages           1000 non-null int64\n",
      "publication_date    1000 non-null object\n",
      "publisher_id        1000 non-null int64\n",
      "dtypes: int64(4), object(2)\n",
      "memory usage: 47.0+ KB\n",
      "None\n"
     ]
    },
    {
     "data": {
      "text/html": [
       "<div>\n",
       "<style scoped>\n",
       "    .dataframe tbody tr th:only-of-type {\n",
       "        vertical-align: middle;\n",
       "    }\n",
       "\n",
       "    .dataframe tbody tr th {\n",
       "        vertical-align: top;\n",
       "    }\n",
       "\n",
       "    .dataframe thead th {\n",
       "        text-align: right;\n",
       "    }\n",
       "</style>\n",
       "<table border=\"1\" class=\"dataframe\">\n",
       "  <thead>\n",
       "    <tr style=\"text-align: right;\">\n",
       "      <th></th>\n",
       "      <th>book_id</th>\n",
       "      <th>author_id</th>\n",
       "      <th>title</th>\n",
       "      <th>num_pages</th>\n",
       "      <th>publication_date</th>\n",
       "      <th>publisher_id</th>\n",
       "    </tr>\n",
       "  </thead>\n",
       "  <tbody>\n",
       "    <tr>\n",
       "      <td>0</td>\n",
       "      <td>1</td>\n",
       "      <td>546</td>\n",
       "      <td>'Salem's Lot</td>\n",
       "      <td>594</td>\n",
       "      <td>2005-11-01</td>\n",
       "      <td>93</td>\n",
       "    </tr>\n",
       "    <tr>\n",
       "      <td>1</td>\n",
       "      <td>2</td>\n",
       "      <td>465</td>\n",
       "      <td>1 000 Places to See Before You Die</td>\n",
       "      <td>992</td>\n",
       "      <td>2003-05-22</td>\n",
       "      <td>336</td>\n",
       "    </tr>\n",
       "    <tr>\n",
       "      <td>2</td>\n",
       "      <td>3</td>\n",
       "      <td>407</td>\n",
       "      <td>13 Little Blue Envelopes (Little Blue Envelope...</td>\n",
       "      <td>322</td>\n",
       "      <td>2010-12-21</td>\n",
       "      <td>135</td>\n",
       "    </tr>\n",
       "    <tr>\n",
       "      <td>3</td>\n",
       "      <td>4</td>\n",
       "      <td>82</td>\n",
       "      <td>1491: New Revelations of the Americas Before C...</td>\n",
       "      <td>541</td>\n",
       "      <td>2006-10-10</td>\n",
       "      <td>309</td>\n",
       "    </tr>\n",
       "    <tr>\n",
       "      <td>4</td>\n",
       "      <td>5</td>\n",
       "      <td>125</td>\n",
       "      <td>1776</td>\n",
       "      <td>386</td>\n",
       "      <td>2006-07-04</td>\n",
       "      <td>268</td>\n",
       "    </tr>\n",
       "  </tbody>\n",
       "</table>\n",
       "</div>"
      ],
      "text/plain": [
       "   book_id  author_id                                              title  \\\n",
       "0        1        546                                       'Salem's Lot   \n",
       "1        2        465                 1 000 Places to See Before You Die   \n",
       "2        3        407  13 Little Blue Envelopes (Little Blue Envelope...   \n",
       "3        4         82  1491: New Revelations of the Americas Before C...   \n",
       "4        5        125                                               1776   \n",
       "\n",
       "   num_pages publication_date  publisher_id  \n",
       "0        594       2005-11-01            93  \n",
       "1        992       2003-05-22           336  \n",
       "2        322       2010-12-21           135  \n",
       "3        541       2006-10-10           309  \n",
       "4        386       2006-07-04           268  "
      ]
     },
     "execution_count": 13,
     "metadata": {},
     "output_type": "execute_result"
    }
   ],
   "source": [
    "# импортируем библиотеки \n",
    "import pandas as pd \n",
    "from sqlalchemy import create_engine \n",
    "# устанавливаем параметры \n",
    "db_config = {'user': 'praktikum_student', # имя пользователя \n",
    "                     'pwd': 'Sdf4$2;d-d30pp', # пароль \n",
    "                     'host': 'rc1b-wcoijxj3yxfsf3fs.mdb.yandexcloud.net', \n",
    "                     'port': 6432, # порт подключения \n",
    "                     'db': 'data-analyst-final-project-db'} # название базы данных \n",
    "connection_string = 'postgresql://{}:{}@{}:{}/{}'.format(db_config['user'], \n",
    "                                                db_config['pwd'], \n",
    "                                                db_config['host'], \n",
    "                                                db_config['port'], \n",
    "                                                db_config['db']) \n",
    "# сохраняем коннектор \n",
    "engine = create_engine(connection_string, connect_args={'sslmode':'require'}) \n",
    "\n",
    "\n",
    "# Формируем sql-запрос.\n",
    "query = ''' SELECT *\n",
    "            FROM books\n",
    "        '''\n",
    "\n",
    "# Выполняем запрос и сохраняем результат\n",
    "# выполнения в DataFrame.\n",
    "# Sqlalchemy автоматически установит названия колонок\n",
    "# такими же, как у таблицы в БД. \n",
    "books = pd.io.sql.read_sql(query, con = engine) \n",
    "\n",
    "print(books.info())\n",
    "books.head()"
   ]
  },
  {
   "cell_type": "code",
   "execution_count": 10,
   "metadata": {},
   "outputs": [
    {
     "name": "stdout",
     "output_type": "stream",
     "text": [
      "<class 'pandas.core.frame.DataFrame'>\n",
      "RangeIndex: 340 entries, 0 to 339\n",
      "Data columns (total 2 columns):\n",
      "publisher_id    340 non-null int64\n",
      "publisher       340 non-null object\n",
      "dtypes: int64(1), object(1)\n",
      "memory usage: 5.4+ KB\n",
      "None\n"
     ]
    },
    {
     "data": {
      "text/html": [
       "<div>\n",
       "<style scoped>\n",
       "    .dataframe tbody tr th:only-of-type {\n",
       "        vertical-align: middle;\n",
       "    }\n",
       "\n",
       "    .dataframe tbody tr th {\n",
       "        vertical-align: top;\n",
       "    }\n",
       "\n",
       "    .dataframe thead th {\n",
       "        text-align: right;\n",
       "    }\n",
       "</style>\n",
       "<table border=\"1\" class=\"dataframe\">\n",
       "  <thead>\n",
       "    <tr style=\"text-align: right;\">\n",
       "      <th></th>\n",
       "      <th>publisher_id</th>\n",
       "      <th>publisher</th>\n",
       "    </tr>\n",
       "  </thead>\n",
       "  <tbody>\n",
       "    <tr>\n",
       "      <td>0</td>\n",
       "      <td>1</td>\n",
       "      <td>Ace</td>\n",
       "    </tr>\n",
       "    <tr>\n",
       "      <td>1</td>\n",
       "      <td>2</td>\n",
       "      <td>Ace Book</td>\n",
       "    </tr>\n",
       "    <tr>\n",
       "      <td>2</td>\n",
       "      <td>3</td>\n",
       "      <td>Ace Books</td>\n",
       "    </tr>\n",
       "    <tr>\n",
       "      <td>3</td>\n",
       "      <td>4</td>\n",
       "      <td>Ace Hardcover</td>\n",
       "    </tr>\n",
       "    <tr>\n",
       "      <td>4</td>\n",
       "      <td>5</td>\n",
       "      <td>Addison Wesley Publishing Company</td>\n",
       "    </tr>\n",
       "  </tbody>\n",
       "</table>\n",
       "</div>"
      ],
      "text/plain": [
       "   publisher_id                          publisher\n",
       "0             1                                Ace\n",
       "1             2                           Ace Book\n",
       "2             3                          Ace Books\n",
       "3             4                      Ace Hardcover\n",
       "4             5  Addison Wesley Publishing Company"
      ]
     },
     "execution_count": 10,
     "metadata": {},
     "output_type": "execute_result"
    }
   ],
   "source": [
    "query = ''' SELECT *\n",
    "            FROM publishers\n",
    "        '''\n",
    "publishers = pd.io.sql.read_sql(query, con = engine) \n",
    "\n",
    "print(publishers.info())\n",
    "publishers.head()"
   ]
  },
  {
   "cell_type": "code",
   "execution_count": 11,
   "metadata": {},
   "outputs": [
    {
     "name": "stdout",
     "output_type": "stream",
     "text": [
      "<class 'pandas.core.frame.DataFrame'>\n",
      "RangeIndex: 6456 entries, 0 to 6455\n",
      "Data columns (total 4 columns):\n",
      "rating_id    6456 non-null int64\n",
      "book_id      6456 non-null int64\n",
      "username     6456 non-null object\n",
      "rating       6456 non-null int64\n",
      "dtypes: int64(3), object(1)\n",
      "memory usage: 201.9+ KB\n",
      "None\n"
     ]
    },
    {
     "data": {
      "text/html": [
       "<div>\n",
       "<style scoped>\n",
       "    .dataframe tbody tr th:only-of-type {\n",
       "        vertical-align: middle;\n",
       "    }\n",
       "\n",
       "    .dataframe tbody tr th {\n",
       "        vertical-align: top;\n",
       "    }\n",
       "\n",
       "    .dataframe thead th {\n",
       "        text-align: right;\n",
       "    }\n",
       "</style>\n",
       "<table border=\"1\" class=\"dataframe\">\n",
       "  <thead>\n",
       "    <tr style=\"text-align: right;\">\n",
       "      <th></th>\n",
       "      <th>rating_id</th>\n",
       "      <th>book_id</th>\n",
       "      <th>username</th>\n",
       "      <th>rating</th>\n",
       "    </tr>\n",
       "  </thead>\n",
       "  <tbody>\n",
       "    <tr>\n",
       "      <td>0</td>\n",
       "      <td>1</td>\n",
       "      <td>1</td>\n",
       "      <td>ryanfranco</td>\n",
       "      <td>4</td>\n",
       "    </tr>\n",
       "    <tr>\n",
       "      <td>1</td>\n",
       "      <td>2</td>\n",
       "      <td>1</td>\n",
       "      <td>grantpatricia</td>\n",
       "      <td>2</td>\n",
       "    </tr>\n",
       "    <tr>\n",
       "      <td>2</td>\n",
       "      <td>3</td>\n",
       "      <td>1</td>\n",
       "      <td>brandtandrea</td>\n",
       "      <td>5</td>\n",
       "    </tr>\n",
       "    <tr>\n",
       "      <td>3</td>\n",
       "      <td>4</td>\n",
       "      <td>2</td>\n",
       "      <td>lorichen</td>\n",
       "      <td>3</td>\n",
       "    </tr>\n",
       "    <tr>\n",
       "      <td>4</td>\n",
       "      <td>5</td>\n",
       "      <td>2</td>\n",
       "      <td>mariokeller</td>\n",
       "      <td>2</td>\n",
       "    </tr>\n",
       "  </tbody>\n",
       "</table>\n",
       "</div>"
      ],
      "text/plain": [
       "   rating_id  book_id       username  rating\n",
       "0          1        1     ryanfranco       4\n",
       "1          2        1  grantpatricia       2\n",
       "2          3        1   brandtandrea       5\n",
       "3          4        2       lorichen       3\n",
       "4          5        2    mariokeller       2"
      ]
     },
     "execution_count": 11,
     "metadata": {},
     "output_type": "execute_result"
    }
   ],
   "source": [
    "query = ''' SELECT *\n",
    "            FROM ratings\n",
    "        '''\n",
    "ratings = pd.io.sql.read_sql(query, con = engine) \n",
    "\n",
    "print(ratings.info())\n",
    "ratings.head()"
   ]
  },
  {
   "cell_type": "code",
   "execution_count": 12,
   "metadata": {},
   "outputs": [
    {
     "name": "stdout",
     "output_type": "stream",
     "text": [
      "<class 'pandas.core.frame.DataFrame'>\n",
      "RangeIndex: 2793 entries, 0 to 2792\n",
      "Data columns (total 4 columns):\n",
      "review_id    2793 non-null int64\n",
      "book_id      2793 non-null int64\n",
      "username     2793 non-null object\n",
      "text         2793 non-null object\n",
      "dtypes: int64(2), object(2)\n",
      "memory usage: 87.4+ KB\n",
      "None\n"
     ]
    },
    {
     "data": {
      "text/html": [
       "<div>\n",
       "<style scoped>\n",
       "    .dataframe tbody tr th:only-of-type {\n",
       "        vertical-align: middle;\n",
       "    }\n",
       "\n",
       "    .dataframe tbody tr th {\n",
       "        vertical-align: top;\n",
       "    }\n",
       "\n",
       "    .dataframe thead th {\n",
       "        text-align: right;\n",
       "    }\n",
       "</style>\n",
       "<table border=\"1\" class=\"dataframe\">\n",
       "  <thead>\n",
       "    <tr style=\"text-align: right;\">\n",
       "      <th></th>\n",
       "      <th>review_id</th>\n",
       "      <th>book_id</th>\n",
       "      <th>username</th>\n",
       "      <th>text</th>\n",
       "    </tr>\n",
       "  </thead>\n",
       "  <tbody>\n",
       "    <tr>\n",
       "      <td>0</td>\n",
       "      <td>1</td>\n",
       "      <td>1</td>\n",
       "      <td>brandtandrea</td>\n",
       "      <td>Mention society tell send professor analysis. ...</td>\n",
       "    </tr>\n",
       "    <tr>\n",
       "      <td>1</td>\n",
       "      <td>2</td>\n",
       "      <td>1</td>\n",
       "      <td>ryanfranco</td>\n",
       "      <td>Foot glass pretty audience hit themselves. Amo...</td>\n",
       "    </tr>\n",
       "    <tr>\n",
       "      <td>2</td>\n",
       "      <td>3</td>\n",
       "      <td>2</td>\n",
       "      <td>lorichen</td>\n",
       "      <td>Listen treat keep worry. Miss husband tax but ...</td>\n",
       "    </tr>\n",
       "    <tr>\n",
       "      <td>3</td>\n",
       "      <td>4</td>\n",
       "      <td>3</td>\n",
       "      <td>johnsonamanda</td>\n",
       "      <td>Finally month interesting blue could nature cu...</td>\n",
       "    </tr>\n",
       "    <tr>\n",
       "      <td>4</td>\n",
       "      <td>5</td>\n",
       "      <td>3</td>\n",
       "      <td>scotttamara</td>\n",
       "      <td>Nation purpose heavy give wait song will. List...</td>\n",
       "    </tr>\n",
       "  </tbody>\n",
       "</table>\n",
       "</div>"
      ],
      "text/plain": [
       "   review_id  book_id       username  \\\n",
       "0          1        1   brandtandrea   \n",
       "1          2        1     ryanfranco   \n",
       "2          3        2       lorichen   \n",
       "3          4        3  johnsonamanda   \n",
       "4          5        3    scotttamara   \n",
       "\n",
       "                                                text  \n",
       "0  Mention society tell send professor analysis. ...  \n",
       "1  Foot glass pretty audience hit themselves. Amo...  \n",
       "2  Listen treat keep worry. Miss husband tax but ...  \n",
       "3  Finally month interesting blue could nature cu...  \n",
       "4  Nation purpose heavy give wait song will. List...  "
      ]
     },
     "execution_count": 12,
     "metadata": {},
     "output_type": "execute_result"
    }
   ],
   "source": [
    "query = ''' SELECT *\n",
    "            FROM reviews\n",
    "        '''\n",
    "reviews = pd.io.sql.read_sql(query, con = engine) \n",
    "\n",
    "print(reviews.info())\n",
    "reviews.head()"
   ]
  },
  {
   "cell_type": "markdown",
   "metadata": {},
   "source": [
    "## **Ответим на поставленные в проекте вопросы**"
   ]
  },
  {
   "cell_type": "markdown",
   "metadata": {},
   "source": [
    "<a id='first'></a>  \n",
    "1. Посчитаем, сколько книг вышло после 1 января 2000 года;"
   ]
  },
  {
   "cell_type": "code",
   "execution_count": 5,
   "metadata": {},
   "outputs": [
    {
     "name": "stdout",
     "output_type": "stream",
     "text": [
      "Количество книг вышло после 1 января 2000 года: 821\n"
     ]
    }
   ],
   "source": [
    "query = ''' SELECT COUNT(book_id)\n",
    "            FROM books\n",
    "            WHERE publication_date >= '2000-01-01'\n",
    "        '''\n",
    "count_books = pd.io.sql.read_sql(query, con = engine)\n",
    "print('Количество книг вышло после 1 января 2000 года:',count_books['count'][0])"
   ]
  },
  {
   "cell_type": "markdown",
   "metadata": {},
   "source": [
    "<a id='second'></a>  \n",
    "2. Для каждой книги посчитайте количество обзоров и среднюю оценку;"
   ]
  },
  {
   "cell_type": "code",
   "execution_count": 79,
   "metadata": {},
   "outputs": [
    {
     "data": {
      "text/html": [
       "<div>\n",
       "<style scoped>\n",
       "    .dataframe tbody tr th:only-of-type {\n",
       "        vertical-align: middle;\n",
       "    }\n",
       "\n",
       "    .dataframe tbody tr th {\n",
       "        vertical-align: top;\n",
       "    }\n",
       "\n",
       "    .dataframe thead th {\n",
       "        text-align: right;\n",
       "    }\n",
       "</style>\n",
       "<table border=\"1\" class=\"dataframe\">\n",
       "  <thead>\n",
       "    <tr style=\"text-align: right;\">\n",
       "      <th></th>\n",
       "      <th>book_id</th>\n",
       "      <th>title</th>\n",
       "      <th>review_qty</th>\n",
       "      <th>avr_rating</th>\n",
       "    </tr>\n",
       "  </thead>\n",
       "  <tbody>\n",
       "    <tr>\n",
       "      <td>0</td>\n",
       "      <td>948</td>\n",
       "      <td>Twilight (Twilight  #1)</td>\n",
       "      <td>7</td>\n",
       "      <td>3.66</td>\n",
       "    </tr>\n",
       "    <tr>\n",
       "      <td>1</td>\n",
       "      <td>695</td>\n",
       "      <td>The Curious Incident of the Dog in the Night-Time</td>\n",
       "      <td>6</td>\n",
       "      <td>4.08</td>\n",
       "    </tr>\n",
       "    <tr>\n",
       "      <td>2</td>\n",
       "      <td>299</td>\n",
       "      <td>Harry Potter and the Chamber of Secrets (Harry...</td>\n",
       "      <td>6</td>\n",
       "      <td>4.29</td>\n",
       "    </tr>\n",
       "    <tr>\n",
       "      <td>3</td>\n",
       "      <td>696</td>\n",
       "      <td>The Da Vinci Code (Robert Langdon  #2)</td>\n",
       "      <td>6</td>\n",
       "      <td>3.83</td>\n",
       "    </tr>\n",
       "    <tr>\n",
       "      <td>4</td>\n",
       "      <td>734</td>\n",
       "      <td>The Glass Castle</td>\n",
       "      <td>6</td>\n",
       "      <td>4.21</td>\n",
       "    </tr>\n",
       "    <tr>\n",
       "      <td>...</td>\n",
       "      <td>...</td>\n",
       "      <td>...</td>\n",
       "      <td>...</td>\n",
       "      <td>...</td>\n",
       "    </tr>\n",
       "    <tr>\n",
       "      <td>995</td>\n",
       "      <td>672</td>\n",
       "      <td>The Cat in the Hat and Other Dr. Seuss Favorites</td>\n",
       "      <td>0</td>\n",
       "      <td>5.00</td>\n",
       "    </tr>\n",
       "    <tr>\n",
       "      <td>996</td>\n",
       "      <td>808</td>\n",
       "      <td>The Natural Way to Draw</td>\n",
       "      <td>0</td>\n",
       "      <td>3.00</td>\n",
       "    </tr>\n",
       "    <tr>\n",
       "      <td>997</td>\n",
       "      <td>221</td>\n",
       "      <td>Essential Tales and Poems</td>\n",
       "      <td>0</td>\n",
       "      <td>4.00</td>\n",
       "    </tr>\n",
       "    <tr>\n",
       "      <td>998</td>\n",
       "      <td>387</td>\n",
       "      <td>Leonardo's Notebooks</td>\n",
       "      <td>0</td>\n",
       "      <td>4.00</td>\n",
       "    </tr>\n",
       "    <tr>\n",
       "      <td>999</td>\n",
       "      <td>83</td>\n",
       "      <td>Anne Rice's The Vampire Lestat: A Graphic Novel</td>\n",
       "      <td>0</td>\n",
       "      <td>3.67</td>\n",
       "    </tr>\n",
       "  </tbody>\n",
       "</table>\n",
       "<p>1000 rows × 4 columns</p>\n",
       "</div>"
      ],
      "text/plain": [
       "     book_id                                              title  review_qty  \\\n",
       "0        948                            Twilight (Twilight  #1)           7   \n",
       "1        695  The Curious Incident of the Dog in the Night-Time           6   \n",
       "2        299  Harry Potter and the Chamber of Secrets (Harry...           6   \n",
       "3        696             The Da Vinci Code (Robert Langdon  #2)           6   \n",
       "4        734                                   The Glass Castle           6   \n",
       "..       ...                                                ...         ...   \n",
       "995      672   The Cat in the Hat and Other Dr. Seuss Favorites           0   \n",
       "996      808                            The Natural Way to Draw           0   \n",
       "997      221                          Essential Tales and Poems           0   \n",
       "998      387                               Leonardo's Notebooks           0   \n",
       "999       83    Anne Rice's The Vampire Lestat: A Graphic Novel           0   \n",
       "\n",
       "     avr_rating  \n",
       "0          3.66  \n",
       "1          4.08  \n",
       "2          4.29  \n",
       "3          3.83  \n",
       "4          4.21  \n",
       "..          ...  \n",
       "995        5.00  \n",
       "996        3.00  \n",
       "997        4.00  \n",
       "998        4.00  \n",
       "999        3.67  \n",
       "\n",
       "[1000 rows x 4 columns]"
      ]
     },
     "execution_count": 79,
     "metadata": {},
     "output_type": "execute_result"
    }
   ],
   "source": [
    "query = ''' SELECT books_rating.book_id,\n",
    "                   title,\n",
    "                   review_qty,\n",
    "                   avr_rating\n",
    "            FROM (SELECT b.book_id,\n",
    "                         title,\n",
    "                  ROUND (AVG(rating),2) as avr_rating\n",
    "                  FROM books b\n",
    "                      join ratings r \n",
    "                          on b.book_id = r.book_id\n",
    "                  GROUP BY b.book_id) as books_rating\n",
    "            LEFT JOIN(SELECT b.book_id,\n",
    "                             COUNT(review_id) as review_qty\n",
    "                      FROM books b\n",
    "                          left join reviews rw \n",
    "                              on b.book_id = rw.book_id\n",
    "                      GROUP BY b.book_id\n",
    "            ) AS books_review ON books_rating.book_id = books_review.book_id\n",
    "            ORDER BY review_qty desc\n",
    "       \n",
    "        '''\n",
    "books_info= pd.io.sql.read_sql(query, con = engine)\n",
    "books_info"
   ]
  },
  {
   "cell_type": "markdown",
   "metadata": {},
   "source": [
    "Всего в базе 1000 книг, самое большое количество обзоров у Twilight (Twilight #1), с оценкой 3,66"
   ]
  },
  {
   "cell_type": "markdown",
   "metadata": {},
   "source": [
    "<a id='third'></a>  \n",
    "3. Определите издательство, которое выпустило наибольшее число книг толще 50 страниц — так вы исключите из анализа брошюры;"
   ]
  },
  {
   "cell_type": "code",
   "execution_count": 35,
   "metadata": {},
   "outputs": [
    {
     "name": "stdout",
     "output_type": "stream",
     "text": [
      "Издательство, которое выпустило наибольшее число книг толще 50 страниц:\n"
     ]
    },
    {
     "data": {
      "text/html": [
       "<div>\n",
       "<style scoped>\n",
       "    .dataframe tbody tr th:only-of-type {\n",
       "        vertical-align: middle;\n",
       "    }\n",
       "\n",
       "    .dataframe tbody tr th {\n",
       "        vertical-align: top;\n",
       "    }\n",
       "\n",
       "    .dataframe thead th {\n",
       "        text-align: right;\n",
       "    }\n",
       "</style>\n",
       "<table border=\"1\" class=\"dataframe\">\n",
       "  <thead>\n",
       "    <tr style=\"text-align: right;\">\n",
       "      <th></th>\n",
       "      <th>publisher</th>\n",
       "      <th>books_qty</th>\n",
       "    </tr>\n",
       "  </thead>\n",
       "  <tbody>\n",
       "    <tr>\n",
       "      <td>0</td>\n",
       "      <td>Penguin Books</td>\n",
       "      <td>42</td>\n",
       "    </tr>\n",
       "  </tbody>\n",
       "</table>\n",
       "</div>"
      ],
      "text/plain": [
       "       publisher  books_qty\n",
       "0  Penguin Books         42"
      ]
     },
     "execution_count": 35,
     "metadata": {},
     "output_type": "execute_result"
    }
   ],
   "source": [
    "query = ''' SELECT publisher,\n",
    "            COUNT(title) as books_qty\n",
    "            FROM books b\n",
    "                join publishers p \n",
    "                    on b.publisher_id = p.publisher_id\n",
    "            WHERE num_pages > 50\n",
    "            GROUP BY publisher\n",
    "            ORDER BY books_qty desc\n",
    "            LIMIT 1\n",
    "        '''\n",
    "publisher_info= pd.io.sql.read_sql(query, con = engine)\n",
    "print('Издательство, которое выпустило наибольшее число книг толще 50 страниц:')\n",
    "publisher_info"
   ]
  },
  {
   "cell_type": "markdown",
   "metadata": {},
   "source": [
    "<a id='fourth'></a>  \n",
    "4. Определите автора с самой высокой средней оценкой книг — учитывайте только книги с 50 и более оценками;"
   ]
  },
  {
   "cell_type": "code",
   "execution_count": 83,
   "metadata": {},
   "outputs": [
    {
     "name": "stdout",
     "output_type": "stream",
     "text": [
      "Автор с самой высокой средней оценкой книг:\n"
     ]
    },
    {
     "data": {
      "text/html": [
       "<div>\n",
       "<style scoped>\n",
       "    .dataframe tbody tr th:only-of-type {\n",
       "        vertical-align: middle;\n",
       "    }\n",
       "\n",
       "    .dataframe tbody tr th {\n",
       "        vertical-align: top;\n",
       "    }\n",
       "\n",
       "    .dataframe thead th {\n",
       "        text-align: right;\n",
       "    }\n",
       "</style>\n",
       "<table border=\"1\" class=\"dataframe\">\n",
       "  <thead>\n",
       "    <tr style=\"text-align: right;\">\n",
       "      <th></th>\n",
       "      <th>author</th>\n",
       "      <th>avg_rating</th>\n",
       "    </tr>\n",
       "  </thead>\n",
       "  <tbody>\n",
       "    <tr>\n",
       "      <td>0</td>\n",
       "      <td>J.K. Rowling/Mary GrandPré</td>\n",
       "      <td>4.29</td>\n",
       "    </tr>\n",
       "  </tbody>\n",
       "</table>\n",
       "</div>"
      ],
      "text/plain": [
       "                       author  avg_rating\n",
       "0  J.K. Rowling/Mary GrandPré        4.29"
      ]
     },
     "execution_count": 83,
     "metadata": {},
     "output_type": "execute_result"
    }
   ],
   "source": [
    "query = ''' SELECT author,\n",
    "            ROUND(AVG(rating),2) as avg_rating\n",
    "            FROM books b\n",
    "                join ratings r \n",
    "                    on b.book_id = r.book_id\n",
    "                join authors a\n",
    "                    on b.author_id = a.author_id   \n",
    "            WHERE b.book_id in (SELECT b.book_id\n",
    "                            FROM books b\n",
    "                                join ratings r \n",
    "                                    on b.book_id = r.book_id               \n",
    "                            GROUP BY b.book_id\n",
    "                            HAVING COUNT(rating) >= 50)\n",
    "            GROUP BY author\n",
    "            ORDER BY avg_rating desc\n",
    "            LIMIT 1\n",
    "        '''\n",
    "books_rating= pd.io.sql.read_sql(query, con = engine)\n",
    "print('Автор с самой высокой средней оценкой книг:')\n",
    "books_rating"
   ]
  },
  {
   "cell_type": "markdown",
   "metadata": {},
   "source": [
    "<a id='fifth'></a>  \n",
    "5.Посчитайте среднее количество обзоров от пользователей, которые поставили больше 50 оценок."
   ]
  },
  {
   "cell_type": "code",
   "execution_count": 9,
   "metadata": {},
   "outputs": [
    {
     "name": "stdout",
     "output_type": "stream",
     "text": [
      "Среднее количество обзоров от пользователей, которые поставили больше 50 оценок: 24.33\n"
     ]
    }
   ],
   "source": [
    "query = ''' SELECT \n",
    "            ROUND(AVG(SUBQ.review_qty),2) as avg_review_qty\n",
    "            FROM (SELECT username,\n",
    "                  COUNT(review_id) as review_qty\n",
    "                  FROM books b\n",
    "                      join reviews rw \n",
    "                          on b.book_id = rw.book_id\n",
    "                  GROUP BY username) as SUBQ\n",
    "            WHERE username in (SELECT username\n",
    "                               FROM books b\n",
    "                                   join ratings r\n",
    "                                       on b.book_id = r.book_id\n",
    "                               GROUP BY username\n",
    "                               HAVING COUNT(rating) > 50)\n",
    "        '''\n",
    "user_rating= pd.io.sql.read_sql(query, con = engine)\n",
    "print('Среднее количество обзоров от пользователей, которые поставили больше 50 оценок:',user_rating['avg_review_qty'][0])"
   ]
  },
  {
   "cell_type": "markdown",
   "metadata": {},
   "source": [
    "<a id='conclution'></a>  \n",
    "## Общий вывод\n",
    "\n",
    "    Анализ проведен, на поставленные вопросы даны ответы:\n",
    "\n",
    "    Всего в базе 1000 кник,из них 821 книги вышло после 1 января 2000 года. Наибольшее количество обзоров собрала книга Twilight (Twilight #1), со средней оценкой 3.66. Вторая в рейтинге книга The Curious Incident of the Dog in the Night-Time, у нее оценка намного выше -4.08.\n",
    "    Издательство, которое выпустило наибольшее число книг толще 50 страниц - Penguin Books\n",
    "    Автор с самой высокой средней оценкой книг: J.K. Rowling/Mary GrandPré\n",
    "    Среднее количество обзоров от пользователей, которые поставили больше 50 оценок: 24.33"
   ]
  },
  {
   "cell_type": "code",
   "execution_count": null,
   "metadata": {},
   "outputs": [],
   "source": []
  }
 ],
 "metadata": {
  "ExecuteTimeLog": [
   {
    "duration": 3972,
    "start_time": "2021-10-21T14:00:57.024Z"
   },
   {
    "duration": 2978,
    "start_time": "2021-10-21T14:01:10.683Z"
   },
   {
    "duration": 1179,
    "start_time": "2021-10-21T14:01:35.439Z"
   },
   {
    "duration": 64,
    "start_time": "2021-10-21T14:01:45.857Z"
   },
   {
    "duration": 119,
    "start_time": "2021-10-21T14:01:52.526Z"
   },
   {
    "duration": 110,
    "start_time": "2021-10-21T14:01:59.640Z"
   },
   {
    "duration": 62,
    "start_time": "2021-10-21T14:08:42.726Z"
   },
   {
    "duration": 60,
    "start_time": "2021-10-21T14:09:08.611Z"
   },
   {
    "duration": 20,
    "start_time": "2021-10-21T14:30:22.916Z"
   },
   {
    "duration": 114,
    "start_time": "2021-10-21T14:33:40.557Z"
   },
   {
    "duration": 539,
    "start_time": "2021-10-21T14:33:59.591Z"
   },
   {
    "duration": 402,
    "start_time": "2021-10-21T14:34:06.937Z"
   },
   {
    "duration": 374,
    "start_time": "2021-10-21T14:34:28.404Z"
   },
   {
    "duration": 378,
    "start_time": "2021-10-21T14:34:49.271Z"
   },
   {
    "duration": 141,
    "start_time": "2021-10-21T14:35:13.643Z"
   },
   {
    "duration": 147,
    "start_time": "2021-10-21T14:37:32.070Z"
   },
   {
    "duration": 527,
    "start_time": "2021-10-21T14:38:13.157Z"
   },
   {
    "duration": 410,
    "start_time": "2021-10-21T14:38:31.681Z"
   },
   {
    "duration": 89,
    "start_time": "2021-10-21T14:38:45.100Z"
   },
   {
    "duration": 148,
    "start_time": "2021-10-21T14:38:56.219Z"
   },
   {
    "duration": 469,
    "start_time": "2021-10-21T14:39:17.817Z"
   },
   {
    "duration": 447,
    "start_time": "2021-10-21T14:39:36.306Z"
   },
   {
    "duration": 148,
    "start_time": "2021-10-21T14:39:44.490Z"
   },
   {
    "duration": 367,
    "start_time": "2021-10-21T14:40:32.136Z"
   },
   {
    "duration": 483,
    "start_time": "2021-10-21T14:40:53.915Z"
   },
   {
    "duration": 400,
    "start_time": "2021-10-21T14:53:26.643Z"
   },
   {
    "duration": 95,
    "start_time": "2021-10-21T14:53:53.684Z"
   },
   {
    "duration": 91,
    "start_time": "2021-10-21T14:54:08.565Z"
   },
   {
    "duration": 99,
    "start_time": "2021-10-21T14:55:57.217Z"
   },
   {
    "duration": 344,
    "start_time": "2021-10-21T14:56:13.323Z"
   },
   {
    "duration": 104,
    "start_time": "2021-10-21T14:57:15.478Z"
   },
   {
    "duration": 372,
    "start_time": "2021-10-21T14:58:12.354Z"
   },
   {
    "duration": 99,
    "start_time": "2021-10-21T14:58:20.677Z"
   },
   {
    "duration": 117,
    "start_time": "2021-10-21T15:03:16.151Z"
   },
   {
    "duration": 102,
    "start_time": "2021-10-21T15:05:05.902Z"
   },
   {
    "duration": 108,
    "start_time": "2021-10-21T15:05:17.663Z"
   },
   {
    "duration": 111,
    "start_time": "2021-10-21T15:09:39.108Z"
   },
   {
    "duration": 99,
    "start_time": "2021-10-21T15:10:46.878Z"
   },
   {
    "duration": 70,
    "start_time": "2021-10-21T15:11:06.624Z"
   },
   {
    "duration": 106,
    "start_time": "2021-10-21T15:12:06.519Z"
   },
   {
    "duration": 104,
    "start_time": "2021-10-21T15:12:13.979Z"
   },
   {
    "duration": 329,
    "start_time": "2021-10-21T15:13:39.275Z"
   },
   {
    "duration": 376,
    "start_time": "2021-10-21T15:13:57.662Z"
   },
   {
    "duration": 71,
    "start_time": "2021-10-21T15:15:40.895Z"
   },
   {
    "duration": 74,
    "start_time": "2021-10-21T15:15:59.225Z"
   },
   {
    "duration": 71,
    "start_time": "2021-10-21T15:16:05.258Z"
   },
   {
    "duration": 68,
    "start_time": "2021-10-21T15:16:11.442Z"
   },
   {
    "duration": 76,
    "start_time": "2021-10-21T15:16:17.619Z"
   },
   {
    "duration": 74,
    "start_time": "2021-10-21T15:16:24.421Z"
   },
   {
    "duration": 70,
    "start_time": "2021-10-21T15:16:29.517Z"
   },
   {
    "duration": 169,
    "start_time": "2021-10-21T15:21:41.783Z"
   },
   {
    "duration": 84,
    "start_time": "2021-10-21T15:23:09.376Z"
   },
   {
    "duration": 362,
    "start_time": "2021-10-21T15:27:19.898Z"
   },
   {
    "duration": 379,
    "start_time": "2021-10-21T15:28:25.470Z"
   },
   {
    "duration": 413,
    "start_time": "2021-10-21T15:29:54.148Z"
   },
   {
    "duration": 360,
    "start_time": "2021-10-21T15:30:12.582Z"
   },
   {
    "duration": 417,
    "start_time": "2021-10-21T15:30:22.223Z"
   },
   {
    "duration": 154,
    "start_time": "2021-10-21T15:32:05.427Z"
   },
   {
    "duration": 88,
    "start_time": "2021-10-21T15:33:28.267Z"
   },
   {
    "duration": 317,
    "start_time": "2021-10-21T15:33:59.300Z"
   },
   {
    "duration": 355,
    "start_time": "2021-10-21T15:34:47.099Z"
   },
   {
    "duration": 381,
    "start_time": "2021-10-21T15:35:00.231Z"
   },
   {
    "duration": 364,
    "start_time": "2021-10-21T15:35:24.800Z"
   },
   {
    "duration": 68,
    "start_time": "2021-10-21T15:35:49.795Z"
   },
   {
    "duration": 67,
    "start_time": "2021-10-21T15:36:38.360Z"
   },
   {
    "duration": 445,
    "start_time": "2021-10-21T15:37:15.623Z"
   },
   {
    "duration": 327,
    "start_time": "2021-10-21T15:37:37.769Z"
   },
   {
    "duration": 331,
    "start_time": "2021-10-21T15:38:33.430Z"
   },
   {
    "duration": 67,
    "start_time": "2021-10-21T15:38:47.212Z"
   },
   {
    "duration": 637,
    "start_time": "2021-10-21T15:39:01.555Z"
   },
   {
    "duration": 73,
    "start_time": "2021-10-21T15:40:45.079Z"
   },
   {
    "duration": 70,
    "start_time": "2021-10-21T15:41:13.234Z"
   },
   {
    "duration": 69,
    "start_time": "2021-10-21T15:43:15.250Z"
   },
   {
    "duration": 386,
    "start_time": "2021-10-21T15:44:14.604Z"
   },
   {
    "duration": 70,
    "start_time": "2021-10-21T15:44:55.492Z"
   },
   {
    "duration": 69,
    "start_time": "2021-10-21T15:45:39.053Z"
   },
   {
    "duration": 65,
    "start_time": "2021-10-21T15:45:45.856Z"
   },
   {
    "duration": 114,
    "start_time": "2021-10-21T15:46:05.257Z"
   },
   {
    "duration": 3230,
    "start_time": "2021-10-22T05:42:34.992Z"
   },
   {
    "duration": 1015,
    "start_time": "2021-10-22T05:42:38.224Z"
   },
   {
    "duration": 73,
    "start_time": "2021-10-22T05:42:39.241Z"
   },
   {
    "duration": 107,
    "start_time": "2021-10-22T05:42:39.316Z"
   },
   {
    "duration": 90,
    "start_time": "2021-10-22T05:42:39.425Z"
   },
   {
    "duration": 13,
    "start_time": "2021-10-22T05:42:39.516Z"
   },
   {
    "duration": 75,
    "start_time": "2021-10-22T05:42:39.531Z"
   },
   {
    "duration": 87,
    "start_time": "2021-10-22T05:42:39.609Z"
   },
   {
    "duration": 74,
    "start_time": "2021-10-22T05:42:39.698Z"
   },
   {
    "duration": 78,
    "start_time": "2021-10-22T05:42:39.774Z"
   },
   {
    "duration": 123,
    "start_time": "2021-10-22T05:45:51.197Z"
   },
   {
    "duration": 123,
    "start_time": "2021-10-22T05:46:18.976Z"
   },
   {
    "duration": 173,
    "start_time": "2021-10-22T05:47:37.197Z"
   },
   {
    "duration": 139,
    "start_time": "2021-10-22T05:48:57.390Z"
   },
   {
    "duration": 404,
    "start_time": "2021-10-22T05:54:32.145Z"
   },
   {
    "duration": 69,
    "start_time": "2021-10-22T05:55:57.387Z"
   },
   {
    "duration": 330,
    "start_time": "2021-10-22T05:56:09.462Z"
   },
   {
    "duration": 71,
    "start_time": "2021-10-22T05:56:25.504Z"
   },
   {
    "duration": 135,
    "start_time": "2021-10-22T06:00:55.741Z"
   },
   {
    "duration": 340,
    "start_time": "2021-10-22T06:04:11.738Z"
   },
   {
    "duration": 68,
    "start_time": "2021-10-22T06:04:33.134Z"
   },
   {
    "duration": 334,
    "start_time": "2021-10-22T06:07:04.685Z"
   },
   {
    "duration": 75,
    "start_time": "2021-10-22T06:13:40.105Z"
   },
   {
    "duration": 649,
    "start_time": "2021-10-22T06:14:08.271Z"
   },
   {
    "duration": 76,
    "start_time": "2021-10-22T06:14:22.403Z"
   },
   {
    "duration": 74,
    "start_time": "2021-10-22T06:14:29.634Z"
   },
   {
    "duration": 76,
    "start_time": "2021-10-22T06:14:37.427Z"
   },
   {
    "duration": 77,
    "start_time": "2021-10-22T06:16:38.215Z"
   },
   {
    "duration": 3,
    "start_time": "2021-10-22T06:21:02.833Z"
   },
   {
    "duration": 2551,
    "start_time": "2021-10-22T06:21:06.808Z"
   },
   {
    "duration": 73,
    "start_time": "2021-10-22T06:29:15.264Z"
   },
   {
    "duration": 125,
    "start_time": "2021-10-22T06:29:18.242Z"
   },
   {
    "duration": 292,
    "start_time": "2021-10-22T06:29:27.275Z"
   },
   {
    "duration": 72,
    "start_time": "2021-10-22T06:40:16.951Z"
   },
   {
    "duration": -1809,
    "start_time": "2021-10-22T06:40:39.563Z"
   },
   {
    "duration": 13407,
    "start_time": "2021-10-22T06:41:02.050Z"
   },
   {
    "duration": 74,
    "start_time": "2021-10-22T06:41:24.375Z"
   },
   {
    "duration": 73,
    "start_time": "2021-10-22T06:41:51.226Z"
   },
   {
    "duration": 73,
    "start_time": "2021-10-22T06:42:06.068Z"
   },
   {
    "duration": 75,
    "start_time": "2021-10-22T06:42:18.213Z"
   },
   {
    "duration": 73,
    "start_time": "2021-10-22T06:42:24.472Z"
   },
   {
    "duration": 79,
    "start_time": "2021-10-22T06:44:02.881Z"
   },
   {
    "duration": 76,
    "start_time": "2021-10-22T06:44:10.559Z"
   },
   {
    "duration": 77,
    "start_time": "2021-10-22T06:44:50.485Z"
   },
   {
    "duration": 819,
    "start_time": "2021-10-23T05:07:34.148Z"
   },
   {
    "duration": 11,
    "start_time": "2021-10-23T05:07:34.980Z"
   },
   {
    "duration": 25,
    "start_time": "2021-10-23T05:07:35.780Z"
   },
   {
    "duration": 20,
    "start_time": "2021-10-23T05:07:35.959Z"
   },
   {
    "duration": 9,
    "start_time": "2021-10-23T05:07:36.408Z"
   },
   {
    "duration": 24,
    "start_time": "2021-10-23T05:07:36.646Z"
   },
   {
    "duration": 10,
    "start_time": "2021-10-23T05:07:37.050Z"
   },
   {
    "duration": 13,
    "start_time": "2021-10-23T05:07:37.321Z"
   },
   {
    "duration": 12,
    "start_time": "2021-10-23T05:07:37.636Z"
   },
   {
    "duration": 25,
    "start_time": "2021-10-23T05:08:38.482Z"
   },
   {
    "duration": 18,
    "start_time": "2021-10-23T05:10:36.958Z"
   },
   {
    "duration": 13,
    "start_time": "2021-10-23T05:10:47.631Z"
   },
   {
    "duration": 264,
    "start_time": "2021-10-23T07:17:19.393Z"
   },
   {
    "duration": 1011,
    "start_time": "2021-10-23T07:17:23.673Z"
   },
   {
    "duration": 69,
    "start_time": "2021-10-23T07:17:24.686Z"
   },
   {
    "duration": 98,
    "start_time": "2021-10-23T07:17:24.758Z"
   },
   {
    "duration": 81,
    "start_time": "2021-10-23T07:17:24.859Z"
   },
   {
    "duration": 62,
    "start_time": "2021-10-23T07:17:24.942Z"
   },
   {
    "duration": 82,
    "start_time": "2021-10-23T07:17:25.006Z"
   },
   {
    "duration": 62,
    "start_time": "2021-10-23T07:17:25.090Z"
   },
   {
    "duration": 66,
    "start_time": "2021-10-23T07:17:25.155Z"
   },
   {
    "duration": 64,
    "start_time": "2021-10-23T07:17:25.224Z"
   },
   {
    "duration": 70,
    "start_time": "2021-10-23T07:18:14.931Z"
   },
   {
    "duration": 175,
    "start_time": "2021-10-23T07:18:30.194Z"
   },
   {
    "duration": 113,
    "start_time": "2021-10-23T07:18:44.111Z"
   },
   {
    "duration": 257,
    "start_time": "2021-10-23T07:19:11.210Z"
   },
   {
    "duration": 97,
    "start_time": "2021-10-23T07:38:35.686Z"
   },
   {
    "duration": 166,
    "start_time": "2021-10-23T07:42:35.613Z"
   },
   {
    "duration": 386,
    "start_time": "2021-10-23T07:42:56.082Z"
   },
   {
    "duration": 161,
    "start_time": "2021-10-23T07:43:06.858Z"
   },
   {
    "duration": 306,
    "start_time": "2021-10-23T07:45:34.699Z"
   },
   {
    "duration": 475,
    "start_time": "2021-10-23T07:45:40.899Z"
   },
   {
    "duration": 147,
    "start_time": "2021-10-23T07:47:43.933Z"
   },
   {
    "duration": 91,
    "start_time": "2021-10-23T07:48:54.940Z"
   },
   {
    "duration": 91,
    "start_time": "2021-10-23T07:50:11.770Z"
   },
   {
    "duration": 94,
    "start_time": "2021-10-23T07:50:17.282Z"
   },
   {
    "duration": 86,
    "start_time": "2021-10-23T07:50:53.998Z"
   },
   {
    "duration": 281,
    "start_time": "2021-10-23T08:03:09.516Z"
   },
   {
    "duration": 1018,
    "start_time": "2021-10-23T08:03:28.943Z"
   },
   {
    "duration": 261,
    "start_time": "2021-10-23T08:03:47.785Z"
   },
   {
    "duration": 275,
    "start_time": "2021-10-23T08:04:31.900Z"
   },
   {
    "duration": 137,
    "start_time": "2021-10-23T08:04:45.235Z"
   },
   {
    "duration": 295,
    "start_time": "2021-10-23T08:05:11.399Z"
   },
   {
    "duration": 141,
    "start_time": "2021-10-23T08:05:27.353Z"
   },
   {
    "duration": 75,
    "start_time": "2021-10-23T08:05:45.381Z"
   },
   {
    "duration": 63,
    "start_time": "2021-10-23T08:08:38.168Z"
   },
   {
    "duration": 61,
    "start_time": "2021-10-23T08:08:56.327Z"
   },
   {
    "duration": 68,
    "start_time": "2021-10-23T08:09:02.248Z"
   },
   {
    "duration": 75,
    "start_time": "2021-10-23T08:09:59.123Z"
   },
   {
    "duration": 297,
    "start_time": "2021-10-23T08:10:36.489Z"
   },
   {
    "duration": 70,
    "start_time": "2021-10-23T08:10:51.879Z"
   },
   {
    "duration": 242,
    "start_time": "2021-10-23T08:11:01.388Z"
   },
   {
    "duration": 71,
    "start_time": "2021-10-23T08:11:13.711Z"
   },
   {
    "duration": 288,
    "start_time": "2021-10-23T08:13:07.457Z"
   },
   {
    "duration": 273,
    "start_time": "2021-10-23T08:13:59.454Z"
   },
   {
    "duration": 96,
    "start_time": "2021-10-23T08:14:18.065Z"
   },
   {
    "duration": 140,
    "start_time": "2021-10-23T08:14:27.897Z"
   },
   {
    "duration": 140,
    "start_time": "2021-10-23T08:15:17.621Z"
   },
   {
    "duration": 79,
    "start_time": "2021-10-23T08:16:11.072Z"
   },
   {
    "duration": 140,
    "start_time": "2021-10-23T08:16:16.077Z"
   },
   {
    "duration": 270,
    "start_time": "2021-10-23T08:16:23.866Z"
   },
   {
    "duration": 78,
    "start_time": "2021-10-23T08:17:48.658Z"
   },
   {
    "duration": 265,
    "start_time": "2021-10-23T08:18:31.671Z"
   },
   {
    "duration": 78,
    "start_time": "2021-10-23T08:18:48.562Z"
   },
   {
    "duration": 78,
    "start_time": "2021-10-23T08:19:05.916Z"
   },
   {
    "duration": 79,
    "start_time": "2021-10-23T08:19:32.367Z"
   },
   {
    "duration": 84,
    "start_time": "2021-10-23T08:19:54.034Z"
   },
   {
    "duration": 258,
    "start_time": "2021-10-23T08:20:40.873Z"
   },
   {
    "duration": 94,
    "start_time": "2021-10-23T08:20:57.812Z"
   },
   {
    "duration": 88,
    "start_time": "2021-10-23T08:22:04.946Z"
   },
   {
    "duration": 92,
    "start_time": "2021-10-23T08:30:45.599Z"
   },
   {
    "duration": 98,
    "start_time": "2021-10-23T08:32:59.192Z"
   },
   {
    "duration": 98,
    "start_time": "2021-10-23T08:33:30.556Z"
   },
   {
    "duration": 96,
    "start_time": "2021-10-23T08:34:36.598Z"
   },
   {
    "duration": 98,
    "start_time": "2021-10-23T08:34:48.421Z"
   },
   {
    "duration": 99,
    "start_time": "2021-10-23T08:34:57.255Z"
   },
   {
    "duration": 98,
    "start_time": "2021-10-23T08:35:14.417Z"
   },
   {
    "duration": 98,
    "start_time": "2021-10-23T08:35:21.266Z"
   },
   {
    "duration": 68,
    "start_time": "2021-10-23T08:36:59.223Z"
   },
   {
    "duration": 220,
    "start_time": "2021-10-23T08:37:04.000Z"
   },
   {
    "duration": 99,
    "start_time": "2021-10-23T08:37:16.954Z"
   },
   {
    "duration": 70,
    "start_time": "2021-10-23T08:37:47.606Z"
   },
   {
    "duration": 98,
    "start_time": "2021-10-23T08:38:03.800Z"
   },
   {
    "duration": 79,
    "start_time": "2021-10-23T08:38:34.764Z"
   },
   {
    "duration": 97,
    "start_time": "2021-10-23T08:38:45.133Z"
   },
   {
    "duration": 143,
    "start_time": "2021-10-23T08:39:07.936Z"
   },
   {
    "duration": 89,
    "start_time": "2021-10-23T08:40:24.619Z"
   },
   {
    "duration": 103,
    "start_time": "2021-10-23T08:40:35.395Z"
   },
   {
    "duration": 256,
    "start_time": "2021-10-23T08:41:22.670Z"
   },
   {
    "duration": 99,
    "start_time": "2021-10-23T08:41:41.817Z"
   },
   {
    "duration": 71,
    "start_time": "2021-10-23T08:42:53.913Z"
   },
   {
    "duration": 100,
    "start_time": "2021-10-23T08:44:17.864Z"
   },
   {
    "duration": 267,
    "start_time": "2021-10-23T08:46:12.955Z"
   },
   {
    "duration": 74,
    "start_time": "2021-10-23T08:46:35.230Z"
   },
   {
    "duration": 254,
    "start_time": "2021-10-23T08:46:50.896Z"
   },
   {
    "duration": 70,
    "start_time": "2021-10-23T08:47:23.508Z"
   }
  ],
  "kernelspec": {
   "display_name": "Python 3",
   "language": "python",
   "name": "python3"
  },
  "language_info": {
   "codemirror_mode": {
    "name": "ipython",
    "version": 3
   },
   "file_extension": ".py",
   "mimetype": "text/x-python",
   "name": "python",
   "nbconvert_exporter": "python",
   "pygments_lexer": "ipython3",
   "version": "3.8.8"
  },
  "toc": {
   "base_numbering": 1,
   "nav_menu": {},
   "number_sections": true,
   "sideBar": true,
   "skip_h1_title": true,
   "title_cell": "Table of Contents",
   "title_sidebar": "Contents",
   "toc_cell": false,
   "toc_position": {},
   "toc_section_display": true,
   "toc_window_display": true
  }
 },
 "nbformat": 4,
 "nbformat_minor": 2
}
