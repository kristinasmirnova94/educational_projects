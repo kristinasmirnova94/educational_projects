{
 "cells": [
  {
   "cell_type": "markdown",
   "metadata": {},
   "source": [
    "## Материалы:\n",
    "[Презентация](https://drive.google.com/file/d/1HNLkVv5RkC1cJOUbN_mPK-Ea2Ziq1Ngd/view?usp=sharing)\n",
    "\n",
    "[Дашборт](https://public.tableau.com/views/final_project_mobile/ProjectMobileapp?:language=en-US&publish=yes&:display_count=n&:origin=viz_share_link)"
   ]
  },
  {
   "cell_type": "markdown",
   "metadata": {},
   "source": [
    "## **Описание проекта**\n",
    "**Мобильные приложения — Анализ поведения пользователей в мобильном приложении**\n",
    "\n",
    "**Описание проекта:**\n",
    "работа производится для команды сервиса «Ненужные вещи». Пользователи совершают много действий в приложении, в этих данных есть инсайты, которые позволят компании стать лучшим приложением для продажи ненужных вещей. Топ-менеджмент компании хотят узнать, насколько эффективны дополнения, которые были добавлены в приложение за последнее время.\n",
    "\n",
    "\n",
    "**Цель:** определение влияния событий на совершение целевого действия – пользователь посмотрел номер телефона.\n",
    "\n",
    "\n",
    "**Описание данных:**\n",
    "\n",
    "Датасет содержит данные о событиях, совершенных в мобильном приложении \"Ненужные вещи\".\n",
    "\n",
    "В датасете содержатся данные пользователей, впервые совершивших действия в приложении после 7 октября 2019 года.\n",
    "\n",
    "Колонки в *mobile_sources.csv*: \n",
    "\n",
    "- `userId` — идентификатор пользователя,\n",
    "- `source` — источник, с которого пользователь установил приложение.\n",
    "\n",
    "Колонки в mobile_dataset.csv: **\n",
    "\n",
    "- `event.time` — время совершения,\n",
    "- `user.id` — идентификатор пользователя,\n",
    "- `event.name` — действие пользователя.\n",
    "\n",
    "Виды действий:\n",
    "\n",
    "- `advert_open` — открыл карточки объявления,\n",
    "- `photos_show` — просмотрел фотографий в объявлении,\n",
    "- `tips_show` — увидел рекомендованные объявления,\n",
    "- `tips_click` — кликнул по рекомендованному объявлению,\n",
    "- `contacts_show` и `show_contacts` — посмотрел номер телефона,\n",
    "- `contacts_call` — позвонил по номеру из объявления,\n",
    "- `map` — открыл карту объявлений,\n",
    "- `search_1`—`search_7` — разные действия, связанные с поиском по сайту,\n",
    "- `favorites_add` — добавил объявление в избранное.\n",
    "\n",
    "\n",
    "**План проекта:**\n",
    "\n",
    "[Шаг №1. Загрузим данные и подготовим их к анализу](#file_info)\n",
    "  \n",
    "[Шаг №2. Предобработка данных](#data_check)\n",
    "  \n",
    "[Шаг №3. Исследовательский анализ данных](#data_analysis)\n",
    "\n",
    "[Шаг №4 Проанализируем влияние событий на совершение целевого события](#rest_analysis)\n",
    "\n",
    "[Шаг №5. Выдвигаем гипотезы](#gipotes)\n",
    "  \n",
    "[Шаг №6. Сделаем общий вывод.](#conclution)"
   ]
  },
  {
   "cell_type": "markdown",
   "metadata": {},
   "source": [
    "<a id='file_info'></a>  \n",
    "## Откроем файл с данными и изучим общую информацию"
   ]
  },
  {
   "cell_type": "code",
   "execution_count": 1,
   "metadata": {},
   "outputs": [],
   "source": [
    "import pandas as pd\n",
    "import matplotlib.pyplot as plt\n",
    "import plotly.express as px \n",
    "import seaborn as sns\n",
    "import numpy as np \n",
    "import matplotlib.pyplot as plt \n",
    "from datetime import datetime\n",
    "from matplotlib.pyplot import figure\n",
    "from statsmodels.stats.proportion import proportions_ztest\n",
    "\n",
    "from plotly import graph_objects as go\n",
    "from scipy import stats as st\n",
    "\n",
    "from io import BytesIO\n",
    "import requests"
   ]
  },
  {
   "cell_type": "code",
   "execution_count": 2,
   "metadata": {},
   "outputs": [
    {
     "data": {
      "text/html": [
       "<div>\n",
       "<style scoped>\n",
       "    .dataframe tbody tr th:only-of-type {\n",
       "        vertical-align: middle;\n",
       "    }\n",
       "\n",
       "    .dataframe tbody tr th {\n",
       "        vertical-align: top;\n",
       "    }\n",
       "\n",
       "    .dataframe thead th {\n",
       "        text-align: right;\n",
       "    }\n",
       "</style>\n",
       "<table border=\"1\" class=\"dataframe\">\n",
       "  <thead>\n",
       "    <tr style=\"text-align: right;\">\n",
       "      <th></th>\n",
       "      <th>event.time</th>\n",
       "      <th>event.name</th>\n",
       "      <th>user.id</th>\n",
       "    </tr>\n",
       "  </thead>\n",
       "  <tbody>\n",
       "    <tr>\n",
       "      <th>45370</th>\n",
       "      <td>2019-10-24 19:51:07.738964</td>\n",
       "      <td>tips_show</td>\n",
       "      <td>072629a4-8281-4eaf-b6dc-175ccb6c316a</td>\n",
       "    </tr>\n",
       "    <tr>\n",
       "      <th>34809</th>\n",
       "      <td>2019-10-21 12:08:17.074072</td>\n",
       "      <td>tips_show</td>\n",
       "      <td>e38cb669-7335-4d56-9de5-c8d5d2f13fd3</td>\n",
       "    </tr>\n",
       "    <tr>\n",
       "      <th>41465</th>\n",
       "      <td>2019-10-23 16:03:40.017925</td>\n",
       "      <td>tips_show</td>\n",
       "      <td>08b25050-2a3d-48af-bb45-ac437ec7ed3d</td>\n",
       "    </tr>\n",
       "    <tr>\n",
       "      <th>13580</th>\n",
       "      <td>2019-10-13 11:10:43.791104</td>\n",
       "      <td>search_1</td>\n",
       "      <td>3d5a91de-062a-485a-b486-d67e5d802cd8</td>\n",
       "    </tr>\n",
       "    <tr>\n",
       "      <th>56377</th>\n",
       "      <td>2019-10-28 15:22:34.314256</td>\n",
       "      <td>tips_show</td>\n",
       "      <td>d6a70d32-e890-49ea-a006-7f93a117ca37</td>\n",
       "    </tr>\n",
       "    <tr>\n",
       "      <th>54097</th>\n",
       "      <td>2019-10-27 20:00:06.637394</td>\n",
       "      <td>photos_show</td>\n",
       "      <td>13140930-df18-4793-a230-7cca5c8813db</td>\n",
       "    </tr>\n",
       "    <tr>\n",
       "      <th>1258</th>\n",
       "      <td>2019-10-07 16:25:58.188846</td>\n",
       "      <td>tips_show</td>\n",
       "      <td>c04bf0ba-942e-4ea1-ac7a-5b56542dc6a0</td>\n",
       "    </tr>\n",
       "    <tr>\n",
       "      <th>57435</th>\n",
       "      <td>2019-10-28 20:46:21.566483</td>\n",
       "      <td>tips_show</td>\n",
       "      <td>19d741ba-2bae-4108-8eee-3c72a27b6c0c</td>\n",
       "    </tr>\n",
       "    <tr>\n",
       "      <th>48727</th>\n",
       "      <td>2019-10-25 22:53:46.388249</td>\n",
       "      <td>tips_show</td>\n",
       "      <td>a6743146-4e51-43bd-84e3-c36ee4247124</td>\n",
       "    </tr>\n",
       "    <tr>\n",
       "      <th>47316</th>\n",
       "      <td>2019-10-25 14:28:27.599486</td>\n",
       "      <td>search_1</td>\n",
       "      <td>2420c4df-c998-4309-9644-cac8b5e03773</td>\n",
       "    </tr>\n",
       "  </tbody>\n",
       "</table>\n",
       "</div>"
      ],
      "text/plain": [
       "                       event.time   event.name  \\\n",
       "45370  2019-10-24 19:51:07.738964    tips_show   \n",
       "34809  2019-10-21 12:08:17.074072    tips_show   \n",
       "41465  2019-10-23 16:03:40.017925    tips_show   \n",
       "13580  2019-10-13 11:10:43.791104     search_1   \n",
       "56377  2019-10-28 15:22:34.314256    tips_show   \n",
       "54097  2019-10-27 20:00:06.637394  photos_show   \n",
       "1258   2019-10-07 16:25:58.188846    tips_show   \n",
       "57435  2019-10-28 20:46:21.566483    tips_show   \n",
       "48727  2019-10-25 22:53:46.388249    tips_show   \n",
       "47316  2019-10-25 14:28:27.599486     search_1   \n",
       "\n",
       "                                    user.id  \n",
       "45370  072629a4-8281-4eaf-b6dc-175ccb6c316a  \n",
       "34809  e38cb669-7335-4d56-9de5-c8d5d2f13fd3  \n",
       "41465  08b25050-2a3d-48af-bb45-ac437ec7ed3d  \n",
       "13580  3d5a91de-062a-485a-b486-d67e5d802cd8  \n",
       "56377  d6a70d32-e890-49ea-a006-7f93a117ca37  \n",
       "54097  13140930-df18-4793-a230-7cca5c8813db  \n",
       "1258   c04bf0ba-942e-4ea1-ac7a-5b56542dc6a0  \n",
       "57435  19d741ba-2bae-4108-8eee-3c72a27b6c0c  \n",
       "48727  a6743146-4e51-43bd-84e3-c36ee4247124  \n",
       "47316  2420c4df-c998-4309-9644-cac8b5e03773  "
      ]
     },
     "metadata": {},
     "output_type": "display_data"
    },
    {
     "name": "stdout",
     "output_type": "stream",
     "text": [
      "<class 'pandas.core.frame.DataFrame'>\n",
      "RangeIndex: 74197 entries, 0 to 74196\n",
      "Data columns (total 3 columns):\n",
      " #   Column      Non-Null Count  Dtype \n",
      "---  ------      --------------  ----- \n",
      " 0   event.time  74197 non-null  object\n",
      " 1   event.name  74197 non-null  object\n",
      " 2   user.id     74197 non-null  object\n",
      "dtypes: object(3)\n",
      "memory usage: 1.7+ MB\n"
     ]
    },
    {
     "data": {
      "text/plain": [
       "None"
      ]
     },
     "metadata": {},
     "output_type": "display_data"
    },
    {
     "name": "stdout",
     "output_type": "stream",
     "text": [
      "Количесто дубликатов: 0\n"
     ]
    }
   ],
   "source": [
    "spreadsheet_id = \"1lxTd0oMdhltP32V1kO_lENpqNC-RdPKbBwW9UbmyOsk\"\n",
    "file_name = 'https://docs.google.com/spreadsheets/d/{}/export?format=csv'.format(spreadsheet_id)\n",
    "r = requests.get(file_name)\n",
    "df_mobile = pd.read_csv(BytesIO(r.content))\n",
    "\n",
    "display(df_mobile.sample(10, random_state=1))\n",
    "display(df_mobile.info())\n",
    "print ('Количесто дубликатов: {:.0f}'.format(df_mobile.duplicated().sum()))"
   ]
  },
  {
   "cell_type": "code",
   "execution_count": 3,
   "metadata": {},
   "outputs": [
    {
     "data": {
      "text/html": [
       "<div>\n",
       "<style scoped>\n",
       "    .dataframe tbody tr th:only-of-type {\n",
       "        vertical-align: middle;\n",
       "    }\n",
       "\n",
       "    .dataframe tbody tr th {\n",
       "        vertical-align: top;\n",
       "    }\n",
       "\n",
       "    .dataframe thead th {\n",
       "        text-align: right;\n",
       "    }\n",
       "</style>\n",
       "<table border=\"1\" class=\"dataframe\">\n",
       "  <thead>\n",
       "    <tr style=\"text-align: right;\">\n",
       "      <th></th>\n",
       "      <th>userId</th>\n",
       "      <th>source</th>\n",
       "    </tr>\n",
       "  </thead>\n",
       "  <tbody>\n",
       "    <tr>\n",
       "      <th>2359</th>\n",
       "      <td>2bbb107e-4b8c-4e73-9c77-a2c0add1cfe2</td>\n",
       "      <td>other</td>\n",
       "    </tr>\n",
       "    <tr>\n",
       "      <th>2838</th>\n",
       "      <td>cf5735bc-6dba-4348-b558-06e99ea597f9</td>\n",
       "      <td>yandex</td>\n",
       "    </tr>\n",
       "    <tr>\n",
       "      <th>1882</th>\n",
       "      <td>3521521c-99cb-4142-96cb-0b97cd5c60e6</td>\n",
       "      <td>yandex</td>\n",
       "    </tr>\n",
       "    <tr>\n",
       "      <th>1459</th>\n",
       "      <td>ae3ba452-dda0-4107-b0eb-51c060ef511e</td>\n",
       "      <td>google</td>\n",
       "    </tr>\n",
       "    <tr>\n",
       "      <th>2920</th>\n",
       "      <td>a273950e-dc7a-45b7-a9e6-5fe6c02b8971</td>\n",
       "      <td>other</td>\n",
       "    </tr>\n",
       "    <tr>\n",
       "      <th>941</th>\n",
       "      <td>8ca6b3b3-0237-4aba-bb1d-bdcb67133524</td>\n",
       "      <td>google</td>\n",
       "    </tr>\n",
       "    <tr>\n",
       "      <th>3486</th>\n",
       "      <td>472754c2-e86c-47c8-9c46-3c3a2ced94ec</td>\n",
       "      <td>yandex</td>\n",
       "    </tr>\n",
       "    <tr>\n",
       "      <th>280</th>\n",
       "      <td>f0ca6d7b-65d7-4b04-ba27-d3cc49f16429</td>\n",
       "      <td>google</td>\n",
       "    </tr>\n",
       "    <tr>\n",
       "      <th>3594</th>\n",
       "      <td>889db4da-0f3b-4ec0-8618-6a603a950cb0</td>\n",
       "      <td>yandex</td>\n",
       "    </tr>\n",
       "    <tr>\n",
       "      <th>608</th>\n",
       "      <td>3a9df3a6-84f9-416a-a363-a0dd1af58131</td>\n",
       "      <td>yandex</td>\n",
       "    </tr>\n",
       "  </tbody>\n",
       "</table>\n",
       "</div>"
      ],
      "text/plain": [
       "                                    userId  source\n",
       "2359  2bbb107e-4b8c-4e73-9c77-a2c0add1cfe2   other\n",
       "2838  cf5735bc-6dba-4348-b558-06e99ea597f9  yandex\n",
       "1882  3521521c-99cb-4142-96cb-0b97cd5c60e6  yandex\n",
       "1459  ae3ba452-dda0-4107-b0eb-51c060ef511e  google\n",
       "2920  a273950e-dc7a-45b7-a9e6-5fe6c02b8971   other\n",
       "941   8ca6b3b3-0237-4aba-bb1d-bdcb67133524  google\n",
       "3486  472754c2-e86c-47c8-9c46-3c3a2ced94ec  yandex\n",
       "280   f0ca6d7b-65d7-4b04-ba27-d3cc49f16429  google\n",
       "3594  889db4da-0f3b-4ec0-8618-6a603a950cb0  yandex\n",
       "608   3a9df3a6-84f9-416a-a363-a0dd1af58131  yandex"
      ]
     },
     "metadata": {},
     "output_type": "display_data"
    },
    {
     "name": "stdout",
     "output_type": "stream",
     "text": [
      "<class 'pandas.core.frame.DataFrame'>\n",
      "RangeIndex: 4293 entries, 0 to 4292\n",
      "Data columns (total 2 columns):\n",
      " #   Column  Non-Null Count  Dtype \n",
      "---  ------  --------------  ----- \n",
      " 0   userId  4293 non-null   object\n",
      " 1   source  4293 non-null   object\n",
      "dtypes: object(2)\n",
      "memory usage: 67.2+ KB\n"
     ]
    },
    {
     "data": {
      "text/plain": [
       "None"
      ]
     },
     "metadata": {},
     "output_type": "display_data"
    },
    {
     "name": "stdout",
     "output_type": "stream",
     "text": [
      "Количесто дубликатов: 0\n"
     ]
    }
   ],
   "source": [
    "spreadsheet_id = \"1k1k97UGiE00SJ3Q79opAqT6R4Xf1-ykyL7_hIWQwpmU\"\n",
    "file_name = 'https://docs.google.com/spreadsheets/d/{}/export?format=csv'.format(spreadsheet_id)\n",
    "r = requests.get(file_name)\n",
    "df_soures = pd.read_csv(BytesIO(r.content))\n",
    "\n",
    "display(df_soures.sample(10, random_state=1))\n",
    "display(df_soures.info())\n",
    "print ('Количесто дубликатов: {:.0f}'.format(df_soures.duplicated().sum()))"
   ]
  },
  {
   "cell_type": "markdown",
   "metadata": {},
   "source": [
    "<a id='data_check'></a>  \n",
    "## Предобработка данных"
   ]
  },
  {
   "cell_type": "markdown",
   "metadata": {},
   "source": [
    "В таблице df_mobile и df_soures приведем наименование столбцов к единому стилю:"
   ]
  },
  {
   "cell_type": "code",
   "execution_count": 4,
   "metadata": {},
   "outputs": [
    {
     "name": "stderr",
     "output_type": "stream",
     "text": [
      "<ipython-input-4-da94827c8447>:1: FutureWarning: The default value of regex will change from True to False in a future version. In addition, single character regular expressions will*not* be treated as literal strings when regex=True.\n",
      "  df_mobile.columns = df_mobile.columns.str.replace('.','_')\n"
     ]
    }
   ],
   "source": [
    "df_mobile.columns = df_mobile.columns.str.replace('.','_')\n",
    "df_soures = df_soures.rename(columns={\"userId\": \"user_id\"})"
   ]
  },
  {
   "cell_type": "markdown",
   "metadata": {},
   "source": [
    "Согласно описанию проекта contacts_show и show_contacts — оба события, означающие - посмотрел номер телефона, заменим show_contacts на contacts_show для удобства дальнейшего анализа."
   ]
  },
  {
   "cell_type": "code",
   "execution_count": 5,
   "metadata": {},
   "outputs": [],
   "source": [
    "df_mobile['event_name'] = df_mobile['event_name'].replace('show_contacts', 'contacts_show')"
   ]
  },
  {
   "cell_type": "markdown",
   "metadata": {},
   "source": [
    "Столбец с датой приведем к дипу данных datetime"
   ]
  },
  {
   "cell_type": "code",
   "execution_count": 6,
   "metadata": {},
   "outputs": [
    {
     "data": {
      "text/html": [
       "<div>\n",
       "<style scoped>\n",
       "    .dataframe tbody tr th:only-of-type {\n",
       "        vertical-align: middle;\n",
       "    }\n",
       "\n",
       "    .dataframe tbody tr th {\n",
       "        vertical-align: top;\n",
       "    }\n",
       "\n",
       "    .dataframe thead th {\n",
       "        text-align: right;\n",
       "    }\n",
       "</style>\n",
       "<table border=\"1\" class=\"dataframe\">\n",
       "  <thead>\n",
       "    <tr style=\"text-align: right;\">\n",
       "      <th></th>\n",
       "      <th>event_time</th>\n",
       "      <th>event_name</th>\n",
       "      <th>user_id</th>\n",
       "    </tr>\n",
       "  </thead>\n",
       "  <tbody>\n",
       "    <tr>\n",
       "      <th>0</th>\n",
       "      <td>2019-10-07 00:00:00</td>\n",
       "      <td>advert_open</td>\n",
       "      <td>020292ab-89bc-4156-9acf-68bc2783f894</td>\n",
       "    </tr>\n",
       "    <tr>\n",
       "      <th>1</th>\n",
       "      <td>2019-10-07 00:00:01</td>\n",
       "      <td>tips_show</td>\n",
       "      <td>020292ab-89bc-4156-9acf-68bc2783f894</td>\n",
       "    </tr>\n",
       "    <tr>\n",
       "      <th>2</th>\n",
       "      <td>2019-10-07 00:00:02</td>\n",
       "      <td>tips_show</td>\n",
       "      <td>cf7eda61-9349-469f-ac27-e5b6f5ec475c</td>\n",
       "    </tr>\n",
       "    <tr>\n",
       "      <th>3</th>\n",
       "      <td>2019-10-07 00:00:07</td>\n",
       "      <td>tips_show</td>\n",
       "      <td>020292ab-89bc-4156-9acf-68bc2783f894</td>\n",
       "    </tr>\n",
       "    <tr>\n",
       "      <th>4</th>\n",
       "      <td>2019-10-07 00:00:56</td>\n",
       "      <td>advert_open</td>\n",
       "      <td>cf7eda61-9349-469f-ac27-e5b6f5ec475c</td>\n",
       "    </tr>\n",
       "  </tbody>\n",
       "</table>\n",
       "</div>"
      ],
      "text/plain": [
       "           event_time   event_name                               user_id\n",
       "0 2019-10-07 00:00:00  advert_open  020292ab-89bc-4156-9acf-68bc2783f894\n",
       "1 2019-10-07 00:00:01    tips_show  020292ab-89bc-4156-9acf-68bc2783f894\n",
       "2 2019-10-07 00:00:02    tips_show  cf7eda61-9349-469f-ac27-e5b6f5ec475c\n",
       "3 2019-10-07 00:00:07    tips_show  020292ab-89bc-4156-9acf-68bc2783f894\n",
       "4 2019-10-07 00:00:56  advert_open  cf7eda61-9349-469f-ac27-e5b6f5ec475c"
      ]
     },
     "execution_count": 6,
     "metadata": {},
     "output_type": "execute_result"
    }
   ],
   "source": [
    "df_mobile['event_time'] = pd.to_datetime(df_mobile['event_time']).apply(lambda x: x.replace(microsecond=0))\n",
    "df_mobile.head()"
   ]
  },
  {
   "cell_type": "markdown",
   "metadata": {},
   "source": [
    "**Вывод:** дубликатов и пропущенных значений в таблице не содержится, типы данных, где необходимо, исправлены. Наименование столбцов и их содержимого приведено к единому стилю.  Данные готовы к дальнейшему анализу."
   ]
  },
  {
   "cell_type": "markdown",
   "metadata": {},
   "source": [
    "<a id='data_analysis'></a>  \n",
    "## Исследовательский анализ данных"
   ]
  },
  {
   "cell_type": "markdown",
   "metadata": {},
   "source": [
    "1. Сколько всего событий в логе?"
   ]
  },
  {
   "cell_type": "code",
   "execution_count": 7,
   "metadata": {},
   "outputs": [
    {
     "data": {
      "text/plain": [
       "array(['advert_open', 'tips_show', 'map', 'contacts_show', 'search_4',\n",
       "       'search_5', 'tips_click', 'photos_show', 'search_1', 'search_2',\n",
       "       'search_3', 'favorites_add', 'contacts_call', 'search_6',\n",
       "       'search_7'], dtype=object)"
      ]
     },
     "execution_count": 7,
     "metadata": {},
     "output_type": "execute_result"
    }
   ],
   "source": [
    "df_mobile['event_name'].unique()"
   ]
  },
  {
   "cell_type": "markdown",
   "metadata": {},
   "source": [
    "2. Сколько всего пользователей в логе?"
   ]
  },
  {
   "cell_type": "code",
   "execution_count": 8,
   "metadata": {},
   "outputs": [
    {
     "name": "stdout",
     "output_type": "stream",
     "text": [
      "Уникальных пользователей: 4293\n"
     ]
    }
   ],
   "source": [
    "print('Уникальных пользователей: {}'.format(df_mobile['user_id'].nunique()))"
   ]
  },
  {
   "cell_type": "markdown",
   "metadata": {},
   "source": [
    "3. Сколько в среднем событий приходится на пользователя"
   ]
  },
  {
   "cell_type": "code",
   "execution_count": 9,
   "metadata": {},
   "outputs": [
    {
     "name": "stdout",
     "output_type": "stream",
     "text": [
      "В среднем событий приходится на пользователя: 17.28\n",
      "Медианое значение количества событий на пользователя: 9.0\n",
      "Мода количества событий на пользователя: 5\n"
     ]
    }
   ],
   "source": [
    "avr_df = df_mobile.groupby('user_id')['event_name'].agg('count').reset_index()\n",
    "print('В среднем событий приходится на пользователя: {}'.format(round(avr_df['event_name'].mean(),2)))\n",
    "print('Медианое значение количества событий на пользователя: {}'.format(round(avr_df['event_name'].median(),2)))\n",
    "print('Мода количества событий на пользователя: {}'.format(round(avr_df['event_name'].mode()[0],2)))"
   ]
  },
  {
   "cell_type": "markdown",
   "metadata": {},
   "source": [
    "4. Данными за какой период мы располагаем? Найдем максимальную и минимальную дату. Построим гистограмму по дате и времени."
   ]
  },
  {
   "cell_type": "code",
   "execution_count": 10,
   "metadata": {},
   "outputs": [
    {
     "name": "stdout",
     "output_type": "stream",
     "text": [
      "Период с 2019-10-07 до 2019-11-03\n"
     ]
    }
   ],
   "source": [
    "print('Период с {} до {}'.format(df_mobile['event_time'].min().strftime('%Y-%m-%d'), df_mobile['event_time'].max().strftime('%Y-%m-%d')))"
   ]
  },
  {
   "cell_type": "code",
   "execution_count": 11,
   "metadata": {},
   "outputs": [
    {
     "data": {
      "image/png": "[encoded data removed]",
      "text/plain": [
       "<Figure size 1125x375 with 1 Axes>"
      ]
     },
     "metadata": {
      "needs_background": "light"
     },
     "output_type": "display_data"
    }
   ],
   "source": [
    "d = {'m':'Minute', 'h': 'Hours', 'D': 'Days'}\n",
    "fig, axes = plt.subplots(nrows=1, figsize=(15, 5), dpi=75)\n",
    "for idx, interval in enumerate(['D']):\n",
    "    # ограничим дату до интервала\n",
    "    tmp = df_mobile.assign(dt_hour=lambda row: row['event_time'].astype(f'datetime64[{interval}]'))\\\n",
    "        .groupby('dt_hour').agg({'user_id': 'count'})\n",
    "    axes.bar(x=tmp.index, height=tmp['user_id'], label=d[interval], width=0.25)\n",
    "    axes.grid(color='grey', alpha=0.5, linewidth=0.5)\n",
    "    sns.despine(left=True, right=True, top=True, ax=axes)\n",
    "    axes.legend();"
   ]
  },
  {
   "cell_type": "markdown",
   "metadata": {},
   "source": [
    "У нас одинаково полные данные за весь период с 2019-10-07 до 2019-11-03"
   ]
  },
  {
   "cell_type": "markdown",
   "metadata": {},
   "source": [
    "<a id='rest_analysis'></a>  \n",
    "## Проанализируем влияние событий на совершение целевого события"
   ]
  },
  {
   "cell_type": "markdown",
   "metadata": {},
   "source": [
    "1. Посмотрим, какие действия чаще всего совершают пользователи"
   ]
  },
  {
   "cell_type": "code",
   "execution_count": 12,
   "metadata": {},
   "outputs": [
    {
     "data": {
      "text/html": [
       "<div>\n",
       "<style scoped>\n",
       "    .dataframe tbody tr th:only-of-type {\n",
       "        vertical-align: middle;\n",
       "    }\n",
       "\n",
       "    .dataframe tbody tr th {\n",
       "        vertical-align: top;\n",
       "    }\n",
       "\n",
       "    .dataframe thead th {\n",
       "        text-align: right;\n",
       "    }\n",
       "</style>\n",
       "<table border=\"1\" class=\"dataframe\">\n",
       "  <thead>\n",
       "    <tr style=\"text-align: right;\">\n",
       "      <th></th>\n",
       "      <th>event_name</th>\n",
       "      <th>user_id</th>\n",
       "    </tr>\n",
       "  </thead>\n",
       "  <tbody>\n",
       "    <tr>\n",
       "      <th>14</th>\n",
       "      <td>tips_show</td>\n",
       "      <td>40055</td>\n",
       "    </tr>\n",
       "    <tr>\n",
       "      <th>5</th>\n",
       "      <td>photos_show</td>\n",
       "      <td>10012</td>\n",
       "    </tr>\n",
       "    <tr>\n",
       "      <th>0</th>\n",
       "      <td>advert_open</td>\n",
       "      <td>6164</td>\n",
       "    </tr>\n",
       "    <tr>\n",
       "      <th>2</th>\n",
       "      <td>contacts_show</td>\n",
       "      <td>4529</td>\n",
       "    </tr>\n",
       "    <tr>\n",
       "      <th>4</th>\n",
       "      <td>map</td>\n",
       "      <td>3881</td>\n",
       "    </tr>\n",
       "    <tr>\n",
       "      <th>6</th>\n",
       "      <td>search_1</td>\n",
       "      <td>3506</td>\n",
       "    </tr>\n",
       "    <tr>\n",
       "      <th>3</th>\n",
       "      <td>favorites_add</td>\n",
       "      <td>1417</td>\n",
       "    </tr>\n",
       "    <tr>\n",
       "      <th>10</th>\n",
       "      <td>search_5</td>\n",
       "      <td>1049</td>\n",
       "    </tr>\n",
       "    <tr>\n",
       "      <th>13</th>\n",
       "      <td>tips_click</td>\n",
       "      <td>814</td>\n",
       "    </tr>\n",
       "    <tr>\n",
       "      <th>9</th>\n",
       "      <td>search_4</td>\n",
       "      <td>701</td>\n",
       "    </tr>\n",
       "    <tr>\n",
       "      <th>1</th>\n",
       "      <td>contacts_call</td>\n",
       "      <td>541</td>\n",
       "    </tr>\n",
       "    <tr>\n",
       "      <th>8</th>\n",
       "      <td>search_3</td>\n",
       "      <td>522</td>\n",
       "    </tr>\n",
       "    <tr>\n",
       "      <th>11</th>\n",
       "      <td>search_6</td>\n",
       "      <td>460</td>\n",
       "    </tr>\n",
       "    <tr>\n",
       "      <th>7</th>\n",
       "      <td>search_2</td>\n",
       "      <td>324</td>\n",
       "    </tr>\n",
       "    <tr>\n",
       "      <th>12</th>\n",
       "      <td>search_7</td>\n",
       "      <td>222</td>\n",
       "    </tr>\n",
       "  </tbody>\n",
       "</table>\n",
       "</div>"
      ],
      "text/plain": [
       "       event_name  user_id\n",
       "14      tips_show    40055\n",
       "5     photos_show    10012\n",
       "0     advert_open     6164\n",
       "2   contacts_show     4529\n",
       "4             map     3881\n",
       "6        search_1     3506\n",
       "3   favorites_add     1417\n",
       "10       search_5     1049\n",
       "13     tips_click      814\n",
       "9        search_4      701\n",
       "1   contacts_call      541\n",
       "8        search_3      522\n",
       "11       search_6      460\n",
       "7        search_2      324\n",
       "12       search_7      222"
      ]
     },
     "execution_count": 12,
     "metadata": {},
     "output_type": "execute_result"
    }
   ],
   "source": [
    "log_frequency = df_mobile.groupby('event_name')['user_id'].agg('count').reset_index().sort_values(by = 'user_id', ascending = False)\n",
    "log_frequency"
   ]
  },
  {
   "cell_type": "markdown",
   "metadata": {},
   "source": [
    "Топ три чаще выполняемых действия:\n",
    "\n",
    "   - увидел рекомендованные объявления\n",
    "    \n",
    "   - просмотрел фотографий в объявлении\n",
    "    \n",
    "   - открыл карточки объявления\n",
    "   \n",
    "Можно считать, что это три стандартных действия, которые совершают практически все пользователи.\n",
    "\n",
    "Посмотрел номер телефона - целевое действие находиться на 4-ом месте.\n"
   ]
  },
  {
   "cell_type": "markdown",
   "metadata": {},
   "source": [
    "2. Отсортируем события по числу уникальных пользователей. Посчитаем долю пользователей, которые хоть раз совершали событие."
   ]
  },
  {
   "cell_type": "code",
   "execution_count": 13,
   "metadata": {},
   "outputs": [
    {
     "data": {
      "text/html": [
       "<div>\n",
       "<style scoped>\n",
       "    .dataframe tbody tr th:only-of-type {\n",
       "        vertical-align: middle;\n",
       "    }\n",
       "\n",
       "    .dataframe tbody tr th {\n",
       "        vertical-align: top;\n",
       "    }\n",
       "\n",
       "    .dataframe thead th {\n",
       "        text-align: right;\n",
       "    }\n",
       "</style>\n",
       "<table border=\"1\" class=\"dataframe\">\n",
       "  <thead>\n",
       "    <tr style=\"text-align: right;\">\n",
       "      <th></th>\n",
       "      <th>event_name</th>\n",
       "      <th>user_id</th>\n",
       "      <th>total</th>\n",
       "      <th>share</th>\n",
       "    </tr>\n",
       "  </thead>\n",
       "  <tbody>\n",
       "    <tr>\n",
       "      <th>0</th>\n",
       "      <td>tips_show</td>\n",
       "      <td>2801</td>\n",
       "      <td>4293</td>\n",
       "      <td>0.652</td>\n",
       "    </tr>\n",
       "    <tr>\n",
       "      <th>1</th>\n",
       "      <td>map</td>\n",
       "      <td>1456</td>\n",
       "      <td>4293</td>\n",
       "      <td>0.339</td>\n",
       "    </tr>\n",
       "    <tr>\n",
       "      <th>2</th>\n",
       "      <td>photos_show</td>\n",
       "      <td>1095</td>\n",
       "      <td>4293</td>\n",
       "      <td>0.255</td>\n",
       "    </tr>\n",
       "    <tr>\n",
       "      <th>3</th>\n",
       "      <td>contacts_show</td>\n",
       "      <td>981</td>\n",
       "      <td>4293</td>\n",
       "      <td>0.229</td>\n",
       "    </tr>\n",
       "    <tr>\n",
       "      <th>4</th>\n",
       "      <td>search_1</td>\n",
       "      <td>787</td>\n",
       "      <td>4293</td>\n",
       "      <td>0.183</td>\n",
       "    </tr>\n",
       "    <tr>\n",
       "      <th>5</th>\n",
       "      <td>advert_open</td>\n",
       "      <td>751</td>\n",
       "      <td>4293</td>\n",
       "      <td>0.175</td>\n",
       "    </tr>\n",
       "    <tr>\n",
       "      <th>6</th>\n",
       "      <td>search_5</td>\n",
       "      <td>663</td>\n",
       "      <td>4293</td>\n",
       "      <td>0.154</td>\n",
       "    </tr>\n",
       "    <tr>\n",
       "      <th>7</th>\n",
       "      <td>search_4</td>\n",
       "      <td>474</td>\n",
       "      <td>4293</td>\n",
       "      <td>0.110</td>\n",
       "    </tr>\n",
       "    <tr>\n",
       "      <th>8</th>\n",
       "      <td>favorites_add</td>\n",
       "      <td>351</td>\n",
       "      <td>4293</td>\n",
       "      <td>0.082</td>\n",
       "    </tr>\n",
       "    <tr>\n",
       "      <th>9</th>\n",
       "      <td>search_6</td>\n",
       "      <td>330</td>\n",
       "      <td>4293</td>\n",
       "      <td>0.077</td>\n",
       "    </tr>\n",
       "    <tr>\n",
       "      <th>10</th>\n",
       "      <td>tips_click</td>\n",
       "      <td>322</td>\n",
       "      <td>4293</td>\n",
       "      <td>0.075</td>\n",
       "    </tr>\n",
       "    <tr>\n",
       "      <th>11</th>\n",
       "      <td>search_2</td>\n",
       "      <td>242</td>\n",
       "      <td>4293</td>\n",
       "      <td>0.056</td>\n",
       "    </tr>\n",
       "    <tr>\n",
       "      <th>12</th>\n",
       "      <td>contacts_call</td>\n",
       "      <td>213</td>\n",
       "      <td>4293</td>\n",
       "      <td>0.050</td>\n",
       "    </tr>\n",
       "    <tr>\n",
       "      <th>13</th>\n",
       "      <td>search_3</td>\n",
       "      <td>208</td>\n",
       "      <td>4293</td>\n",
       "      <td>0.048</td>\n",
       "    </tr>\n",
       "    <tr>\n",
       "      <th>14</th>\n",
       "      <td>search_7</td>\n",
       "      <td>157</td>\n",
       "      <td>4293</td>\n",
       "      <td>0.037</td>\n",
       "    </tr>\n",
       "  </tbody>\n",
       "</table>\n",
       "</div>"
      ],
      "text/plain": [
       "       event_name  user_id  total  share\n",
       "0       tips_show     2801   4293  0.652\n",
       "1             map     1456   4293  0.339\n",
       "2     photos_show     1095   4293  0.255\n",
       "3   contacts_show      981   4293  0.229\n",
       "4        search_1      787   4293  0.183\n",
       "5     advert_open      751   4293  0.175\n",
       "6        search_5      663   4293  0.154\n",
       "7        search_4      474   4293  0.110\n",
       "8   favorites_add      351   4293  0.082\n",
       "9        search_6      330   4293  0.077\n",
       "10     tips_click      322   4293  0.075\n",
       "11       search_2      242   4293  0.056\n",
       "12  contacts_call      213   4293  0.050\n",
       "13       search_3      208   4293  0.048\n",
       "14       search_7      157   4293  0.037"
      ]
     },
     "execution_count": 13,
     "metadata": {},
     "output_type": "execute_result"
    }
   ],
   "source": [
    "one_event_share = df_mobile.groupby('event_name')['user_id'].nunique().sort_values(ascending=False).reset_index()\n",
    "one_event_share['total'] = df_mobile['user_id'].nunique()\n",
    "one_event_share['share'] =round(one_event_share['user_id']/one_event_share['total'],3)\n",
    "one_event_share"
   ]
  },
  {
   "cell_type": "markdown",
   "metadata": {},
   "source": [
    "Здесь мы видим, что на самом деле очень много пользователей хотя бы раз совершают действие - просмотр карты, оно на втором месте."
   ]
  },
  {
   "cell_type": "markdown",
   "metadata": {},
   "source": [
    "3. С помощью методов group by и merge разделим пользователей на две группы, в первой будут находится те, которые просматривают контакты. Остальных пользователей определим во вторую группу."
   ]
  },
  {
   "cell_type": "markdown",
   "metadata": {},
   "source": [
    "3.1 Выделим в группу №1 пользователей, которые просматрели контакты."
   ]
  },
  {
   "cell_type": "code",
   "execution_count": 14,
   "metadata": {},
   "outputs": [
    {
     "name": "stderr",
     "output_type": "stream",
     "text": [
      "<ipython-input-14-1ac41a0126b1>:2: SettingWithCopyWarning: \n",
      "A value is trying to be set on a copy of a slice from a DataFrame.\n",
      "Try using .loc[row_indexer,col_indexer] = value instead\n",
      "\n",
      "See the caveats in the documentation: https://pandas.pydata.org/pandas-docs/stable/user_guide/indexing.html#returning-a-view-versus-a-copy\n",
      "  df_mobile_filtred['group'] = 1\n"
     ]
    },
    {
     "data": {
      "text/html": [
       "<div>\n",
       "<style scoped>\n",
       "    .dataframe tbody tr th:only-of-type {\n",
       "        vertical-align: middle;\n",
       "    }\n",
       "\n",
       "    .dataframe tbody tr th {\n",
       "        vertical-align: top;\n",
       "    }\n",
       "\n",
       "    .dataframe thead th {\n",
       "        text-align: right;\n",
       "    }\n",
       "</style>\n",
       "<table border=\"1\" class=\"dataframe\">\n",
       "  <thead>\n",
       "    <tr style=\"text-align: right;\">\n",
       "      <th></th>\n",
       "      <th>user_id</th>\n",
       "      <th>group</th>\n",
       "    </tr>\n",
       "  </thead>\n",
       "  <tbody>\n",
       "    <tr>\n",
       "      <th>0</th>\n",
       "      <td>8c356c42-3ba9-4cb6-80b8-3f868d0192c3</td>\n",
       "      <td>1</td>\n",
       "    </tr>\n",
       "    <tr>\n",
       "      <th>1</th>\n",
       "      <td>48e614d6-fe03-40f7-bf9e-4c4f61c19f64</td>\n",
       "      <td>1</td>\n",
       "    </tr>\n",
       "    <tr>\n",
       "      <th>2</th>\n",
       "      <td>9dfa242e-8630-480a-806b-5736bcda8f3d</td>\n",
       "      <td>1</td>\n",
       "    </tr>\n",
       "    <tr>\n",
       "      <th>3</th>\n",
       "      <td>1a3361d1-2002-4389-a669-ecb06ea7a90a</td>\n",
       "      <td>1</td>\n",
       "    </tr>\n",
       "    <tr>\n",
       "      <th>4</th>\n",
       "      <td>be95e2a4-50e3-4763-bc00-1758848d2641</td>\n",
       "      <td>1</td>\n",
       "    </tr>\n",
       "  </tbody>\n",
       "</table>\n",
       "</div>"
      ],
      "text/plain": [
       "                                user_id  group\n",
       "0  8c356c42-3ba9-4cb6-80b8-3f868d0192c3      1\n",
       "1  48e614d6-fe03-40f7-bf9e-4c4f61c19f64      1\n",
       "2  9dfa242e-8630-480a-806b-5736bcda8f3d      1\n",
       "3  1a3361d1-2002-4389-a669-ecb06ea7a90a      1\n",
       "4  be95e2a4-50e3-4763-bc00-1758848d2641      1"
      ]
     },
     "execution_count": 14,
     "metadata": {},
     "output_type": "execute_result"
    }
   ],
   "source": [
    "df_mobile_filtred = df_mobile[df_mobile['event_name'] == 'contacts_show']\n",
    "df_mobile_filtred['group'] = 1\n",
    "df_mobile_filtred = df_mobile_filtred[['user_id', 'group']]\n",
    "df_mobile_filtred = df_mobile_filtred.drop_duplicates().reset_index(drop = True)\n",
    "df_mobile_filtred.head()"
   ]
  },
  {
   "cell_type": "markdown",
   "metadata": {},
   "source": [
    "3.2 Остальных пользователей определим во вторую группу:"
   ]
  },
  {
   "cell_type": "code",
   "execution_count": 15,
   "metadata": {},
   "outputs": [
    {
     "data": {
      "text/html": [
       "<div>\n",
       "<style scoped>\n",
       "    .dataframe tbody tr th:only-of-type {\n",
       "        vertical-align: middle;\n",
       "    }\n",
       "\n",
       "    .dataframe tbody tr th {\n",
       "        vertical-align: top;\n",
       "    }\n",
       "\n",
       "    .dataframe thead th {\n",
       "        text-align: right;\n",
       "    }\n",
       "</style>\n",
       "<table border=\"1\" class=\"dataframe\">\n",
       "  <thead>\n",
       "    <tr style=\"text-align: right;\">\n",
       "      <th></th>\n",
       "      <th>event_time</th>\n",
       "      <th>event_name</th>\n",
       "      <th>user_id</th>\n",
       "      <th>group</th>\n",
       "    </tr>\n",
       "  </thead>\n",
       "  <tbody>\n",
       "    <tr>\n",
       "      <th>0</th>\n",
       "      <td>2019-10-07 00:00:00</td>\n",
       "      <td>advert_open</td>\n",
       "      <td>020292ab-89bc-4156-9acf-68bc2783f894</td>\n",
       "      <td>2.0</td>\n",
       "    </tr>\n",
       "    <tr>\n",
       "      <th>1</th>\n",
       "      <td>2019-10-07 00:00:01</td>\n",
       "      <td>tips_show</td>\n",
       "      <td>020292ab-89bc-4156-9acf-68bc2783f894</td>\n",
       "      <td>2.0</td>\n",
       "    </tr>\n",
       "    <tr>\n",
       "      <th>2</th>\n",
       "      <td>2019-10-07 00:00:02</td>\n",
       "      <td>tips_show</td>\n",
       "      <td>cf7eda61-9349-469f-ac27-e5b6f5ec475c</td>\n",
       "      <td>2.0</td>\n",
       "    </tr>\n",
       "    <tr>\n",
       "      <th>3</th>\n",
       "      <td>2019-10-07 00:00:07</td>\n",
       "      <td>tips_show</td>\n",
       "      <td>020292ab-89bc-4156-9acf-68bc2783f894</td>\n",
       "      <td>2.0</td>\n",
       "    </tr>\n",
       "    <tr>\n",
       "      <th>4</th>\n",
       "      <td>2019-10-07 00:00:56</td>\n",
       "      <td>advert_open</td>\n",
       "      <td>cf7eda61-9349-469f-ac27-e5b6f5ec475c</td>\n",
       "      <td>2.0</td>\n",
       "    </tr>\n",
       "    <tr>\n",
       "      <th>...</th>\n",
       "      <td>...</td>\n",
       "      <td>...</td>\n",
       "      <td>...</td>\n",
       "      <td>...</td>\n",
       "    </tr>\n",
       "    <tr>\n",
       "      <th>74192</th>\n",
       "      <td>2019-11-03 23:53:29</td>\n",
       "      <td>tips_show</td>\n",
       "      <td>28fccdf4-7b9e-42f5-bc73-439a265f20e9</td>\n",
       "      <td>1.0</td>\n",
       "    </tr>\n",
       "    <tr>\n",
       "      <th>74193</th>\n",
       "      <td>2019-11-03 23:54:00</td>\n",
       "      <td>tips_show</td>\n",
       "      <td>28fccdf4-7b9e-42f5-bc73-439a265f20e9</td>\n",
       "      <td>1.0</td>\n",
       "    </tr>\n",
       "    <tr>\n",
       "      <th>74194</th>\n",
       "      <td>2019-11-03 23:56:57</td>\n",
       "      <td>search_1</td>\n",
       "      <td>20850c8f-4135-4059-b13b-198d3ac59902</td>\n",
       "      <td>2.0</td>\n",
       "    </tr>\n",
       "    <tr>\n",
       "      <th>74195</th>\n",
       "      <td>2019-11-03 23:57:06</td>\n",
       "      <td>tips_show</td>\n",
       "      <td>28fccdf4-7b9e-42f5-bc73-439a265f20e9</td>\n",
       "      <td>1.0</td>\n",
       "    </tr>\n",
       "    <tr>\n",
       "      <th>74196</th>\n",
       "      <td>2019-11-03 23:58:12</td>\n",
       "      <td>tips_show</td>\n",
       "      <td>28fccdf4-7b9e-42f5-bc73-439a265f20e9</td>\n",
       "      <td>1.0</td>\n",
       "    </tr>\n",
       "  </tbody>\n",
       "</table>\n",
       "<p>74197 rows × 4 columns</p>\n",
       "</div>"
      ],
      "text/plain": [
       "               event_time   event_name                               user_id  \\\n",
       "0     2019-10-07 00:00:00  advert_open  020292ab-89bc-4156-9acf-68bc2783f894   \n",
       "1     2019-10-07 00:00:01    tips_show  020292ab-89bc-4156-9acf-68bc2783f894   \n",
       "2     2019-10-07 00:00:02    tips_show  cf7eda61-9349-469f-ac27-e5b6f5ec475c   \n",
       "3     2019-10-07 00:00:07    tips_show  020292ab-89bc-4156-9acf-68bc2783f894   \n",
       "4     2019-10-07 00:00:56  advert_open  cf7eda61-9349-469f-ac27-e5b6f5ec475c   \n",
       "...                   ...          ...                                   ...   \n",
       "74192 2019-11-03 23:53:29    tips_show  28fccdf4-7b9e-42f5-bc73-439a265f20e9   \n",
       "74193 2019-11-03 23:54:00    tips_show  28fccdf4-7b9e-42f5-bc73-439a265f20e9   \n",
       "74194 2019-11-03 23:56:57     search_1  20850c8f-4135-4059-b13b-198d3ac59902   \n",
       "74195 2019-11-03 23:57:06    tips_show  28fccdf4-7b9e-42f5-bc73-439a265f20e9   \n",
       "74196 2019-11-03 23:58:12    tips_show  28fccdf4-7b9e-42f5-bc73-439a265f20e9   \n",
       "\n",
       "       group  \n",
       "0        2.0  \n",
       "1        2.0  \n",
       "2        2.0  \n",
       "3        2.0  \n",
       "4        2.0  \n",
       "...      ...  \n",
       "74192    1.0  \n",
       "74193    1.0  \n",
       "74194    2.0  \n",
       "74195    1.0  \n",
       "74196    1.0  \n",
       "\n",
       "[74197 rows x 4 columns]"
      ]
     },
     "execution_count": 15,
     "metadata": {},
     "output_type": "execute_result"
    }
   ],
   "source": [
    "df_mobile_filtred = df_mobile.merge(df_mobile_filtred, on = 'user_id', how = 'left')\n",
    "df_mobile_filtred['group'].fillna(2, inplace=True)\n",
    "df_mobile_filtred"
   ]
  },
  {
   "cell_type": "markdown",
   "metadata": {},
   "source": [
    "4. Подсчитаем, какие действия чаще совершают пользователи в каждой группе. Сравним частоту действий у этих групп."
   ]
  },
  {
   "cell_type": "markdown",
   "metadata": {},
   "source": [
    "4.1 Для каждой группы и события считаем кол-во уникальных пользователей. Далее проверим гипотезы - Доли события X в группах равны. За кол-во успехов берем общий размер группы (кол-во уникальных пользователей в каждой из групп). "
   ]
  },
  {
   "cell_type": "markdown",
   "metadata": {},
   "source": [
    "    Нулевая гипотеза H₀ - доли групп равны;\n",
    "    Альтернативной гипотеза - доли групп не равны."
   ]
  },
  {
   "cell_type": "markdown",
   "metadata": {},
   "source": [
    "Посмотрим, сколько уникальных пользователей в каждой группе"
   ]
  },
  {
   "cell_type": "code",
   "execution_count": 16,
   "metadata": {},
   "outputs": [
    {
     "data": {
      "text/html": [
       "<div>\n",
       "<style scoped>\n",
       "    .dataframe tbody tr th:only-of-type {\n",
       "        vertical-align: middle;\n",
       "    }\n",
       "\n",
       "    .dataframe tbody tr th {\n",
       "        vertical-align: top;\n",
       "    }\n",
       "\n",
       "    .dataframe thead th {\n",
       "        text-align: right;\n",
       "    }\n",
       "</style>\n",
       "<table border=\"1\" class=\"dataframe\">\n",
       "  <thead>\n",
       "    <tr style=\"text-align: right;\">\n",
       "      <th></th>\n",
       "      <th>group</th>\n",
       "      <th>user_id</th>\n",
       "    </tr>\n",
       "  </thead>\n",
       "  <tbody>\n",
       "    <tr>\n",
       "      <th>0</th>\n",
       "      <td>1.0</td>\n",
       "      <td>981</td>\n",
       "    </tr>\n",
       "    <tr>\n",
       "      <th>1</th>\n",
       "      <td>2.0</td>\n",
       "      <td>3312</td>\n",
       "    </tr>\n",
       "  </tbody>\n",
       "</table>\n",
       "</div>"
      ],
      "text/plain": [
       "   group  user_id\n",
       "0    1.0      981\n",
       "1    2.0     3312"
      ]
     },
     "execution_count": 16,
     "metadata": {},
     "output_type": "execute_result"
    }
   ],
   "source": [
    "users_total_table = df_mobile_filtred.groupby('group', as_index=False).agg({'user_id': 'nunique'})\n",
    "users_total_table"
   ]
  },
  {
   "cell_type": "markdown",
   "metadata": {},
   "source": [
    "Создадим таблицу, где отобразим конверсию каждой группы для каждого события:"
   ]
  },
  {
   "cell_type": "code",
   "execution_count": 17,
   "metadata": {},
   "outputs": [
    {
     "data": {
      "text/html": [
       "<div>\n",
       "<style scoped>\n",
       "    .dataframe tbody tr th:only-of-type {\n",
       "        vertical-align: middle;\n",
       "    }\n",
       "\n",
       "    .dataframe tbody tr th {\n",
       "        vertical-align: top;\n",
       "    }\n",
       "\n",
       "    .dataframe thead th {\n",
       "        text-align: right;\n",
       "    }\n",
       "</style>\n",
       "<table border=\"1\" class=\"dataframe\">\n",
       "  <thead>\n",
       "    <tr style=\"text-align: right;\">\n",
       "      <th>group</th>\n",
       "      <th>event_name</th>\n",
       "      <th>1.0</th>\n",
       "      <th>2.0</th>\n",
       "      <th>total_1</th>\n",
       "      <th>total_2</th>\n",
       "      <th>total_1_share</th>\n",
       "      <th>total_2_share</th>\n",
       "      <th>diff</th>\n",
       "    </tr>\n",
       "  </thead>\n",
       "  <tbody>\n",
       "    <tr>\n",
       "      <th>1</th>\n",
       "      <td>photos_show</td>\n",
       "      <td>339</td>\n",
       "      <td>756</td>\n",
       "      <td>981</td>\n",
       "      <td>3312</td>\n",
       "      <td>0.345566</td>\n",
       "      <td>0.228261</td>\n",
       "      <td>0.117</td>\n",
       "    </tr>\n",
       "    <tr>\n",
       "      <th>3</th>\n",
       "      <td>search_1</td>\n",
       "      <td>237</td>\n",
       "      <td>550</td>\n",
       "      <td>981</td>\n",
       "      <td>3312</td>\n",
       "      <td>0.241590</td>\n",
       "      <td>0.166063</td>\n",
       "      <td>0.076</td>\n",
       "    </tr>\n",
       "    <tr>\n",
       "      <th>5</th>\n",
       "      <td>favorites_add</td>\n",
       "      <td>136</td>\n",
       "      <td>215</td>\n",
       "      <td>981</td>\n",
       "      <td>3312</td>\n",
       "      <td>0.138634</td>\n",
       "      <td>0.064915</td>\n",
       "      <td>0.074</td>\n",
       "    </tr>\n",
       "    <tr>\n",
       "      <th>7</th>\n",
       "      <td>tips_click</td>\n",
       "      <td>100</td>\n",
       "      <td>222</td>\n",
       "      <td>981</td>\n",
       "      <td>3312</td>\n",
       "      <td>0.101937</td>\n",
       "      <td>0.067029</td>\n",
       "      <td>0.035</td>\n",
       "    </tr>\n",
       "    <tr>\n",
       "      <th>9</th>\n",
       "      <td>search_2</td>\n",
       "      <td>55</td>\n",
       "      <td>187</td>\n",
       "      <td>981</td>\n",
       "      <td>3312</td>\n",
       "      <td>0.056065</td>\n",
       "      <td>0.056461</td>\n",
       "      <td>-0.000</td>\n",
       "    </tr>\n",
       "    <tr>\n",
       "      <th>11</th>\n",
       "      <td>search_3</td>\n",
       "      <td>38</td>\n",
       "      <td>170</td>\n",
       "      <td>981</td>\n",
       "      <td>3312</td>\n",
       "      <td>0.038736</td>\n",
       "      <td>0.051329</td>\n",
       "      <td>-0.013</td>\n",
       "    </tr>\n",
       "    <tr>\n",
       "      <th>12</th>\n",
       "      <td>search_7</td>\n",
       "      <td>25</td>\n",
       "      <td>132</td>\n",
       "      <td>981</td>\n",
       "      <td>3312</td>\n",
       "      <td>0.025484</td>\n",
       "      <td>0.039855</td>\n",
       "      <td>-0.014</td>\n",
       "    </tr>\n",
       "    <tr>\n",
       "      <th>8</th>\n",
       "      <td>search_4</td>\n",
       "      <td>88</td>\n",
       "      <td>386</td>\n",
       "      <td>981</td>\n",
       "      <td>3312</td>\n",
       "      <td>0.089704</td>\n",
       "      <td>0.116546</td>\n",
       "      <td>-0.027</td>\n",
       "    </tr>\n",
       "    <tr>\n",
       "      <th>10</th>\n",
       "      <td>search_6</td>\n",
       "      <td>52</td>\n",
       "      <td>278</td>\n",
       "      <td>981</td>\n",
       "      <td>3312</td>\n",
       "      <td>0.053007</td>\n",
       "      <td>0.083937</td>\n",
       "      <td>-0.031</td>\n",
       "    </tr>\n",
       "    <tr>\n",
       "      <th>4</th>\n",
       "      <td>advert_open</td>\n",
       "      <td>138</td>\n",
       "      <td>613</td>\n",
       "      <td>981</td>\n",
       "      <td>3312</td>\n",
       "      <td>0.140673</td>\n",
       "      <td>0.185085</td>\n",
       "      <td>-0.044</td>\n",
       "    </tr>\n",
       "    <tr>\n",
       "      <th>6</th>\n",
       "      <td>search_5</td>\n",
       "      <td>114</td>\n",
       "      <td>549</td>\n",
       "      <td>981</td>\n",
       "      <td>3312</td>\n",
       "      <td>0.116208</td>\n",
       "      <td>0.165761</td>\n",
       "      <td>-0.050</td>\n",
       "    </tr>\n",
       "    <tr>\n",
       "      <th>2</th>\n",
       "      <td>map</td>\n",
       "      <td>289</td>\n",
       "      <td>1167</td>\n",
       "      <td>981</td>\n",
       "      <td>3312</td>\n",
       "      <td>0.294597</td>\n",
       "      <td>0.352355</td>\n",
       "      <td>-0.058</td>\n",
       "    </tr>\n",
       "    <tr>\n",
       "      <th>0</th>\n",
       "      <td>tips_show</td>\n",
       "      <td>516</td>\n",
       "      <td>2285</td>\n",
       "      <td>981</td>\n",
       "      <td>3312</td>\n",
       "      <td>0.525994</td>\n",
       "      <td>0.689915</td>\n",
       "      <td>-0.164</td>\n",
       "    </tr>\n",
       "  </tbody>\n",
       "</table>\n",
       "</div>"
      ],
      "text/plain": [
       "group     event_name  1.0   2.0  total_1  total_2  total_1_share  \\\n",
       "1        photos_show  339   756      981     3312       0.345566   \n",
       "3           search_1  237   550      981     3312       0.241590   \n",
       "5      favorites_add  136   215      981     3312       0.138634   \n",
       "7         tips_click  100   222      981     3312       0.101937   \n",
       "9           search_2   55   187      981     3312       0.056065   \n",
       "11          search_3   38   170      981     3312       0.038736   \n",
       "12          search_7   25   132      981     3312       0.025484   \n",
       "8           search_4   88   386      981     3312       0.089704   \n",
       "10          search_6   52   278      981     3312       0.053007   \n",
       "4        advert_open  138   613      981     3312       0.140673   \n",
       "6           search_5  114   549      981     3312       0.116208   \n",
       "2                map  289  1167      981     3312       0.294597   \n",
       "0          tips_show  516  2285      981     3312       0.525994   \n",
       "\n",
       "group  total_2_share   diff  \n",
       "1           0.228261  0.117  \n",
       "3           0.166063  0.076  \n",
       "5           0.064915  0.074  \n",
       "7           0.067029  0.035  \n",
       "9           0.056461 -0.000  \n",
       "11          0.051329 -0.013  \n",
       "12          0.039855 -0.014  \n",
       "8           0.116546 -0.027  \n",
       "10          0.083937 -0.031  \n",
       "4           0.185085 -0.044  \n",
       "6           0.165761 -0.050  \n",
       "2           0.352355 -0.058  \n",
       "0           0.689915 -0.164  "
      ]
     },
     "execution_count": 17,
     "metadata": {},
     "output_type": "execute_result"
    }
   ],
   "source": [
    "events_table = df_mobile_filtred.pivot_table(index='event_name', columns='group', values='user_id', aggfunc='nunique')\\\n",
    "    .sort_values(by=1, ascending=False)\n",
    "events_table = events_table.dropna()\n",
    "events_table = events_table.reset_index()\n",
    "\n",
    "events_table['total_1'] = users_total_table[users_total_table['group'] == 1]['user_id'][0]\n",
    "events_table['total_2'] = users_total_table[users_total_table['group'] == 2]['user_id'][1]\n",
    "events_table['total_1_share'] = events_table[1] / events_table['total_1']\n",
    "events_table['total_2_share'] = events_table[2] / events_table['total_2']\n",
    "events_table['diff'] = round(events_table['total_1_share'] - events_table['total_2_share'],3)\n",
    "events_table = events_table.sort_values(by = 'diff', ascending = False)\n",
    "\n",
    "#Исправим тип данных для столбцов 1 и 2\n",
    "events_table[1] = events_table[1].astype('int')\n",
    "events_table[2] = events_table[2].astype('int')\n",
    "events_table"
   ]
  },
  {
   "cell_type": "code",
   "execution_count": 18,
   "metadata": {},
   "outputs": [
    {
     "data": {
      "text/plain": [
       "<matplotlib.legend.Legend at 0x26474f126d0>"
      ]
     },
     "execution_count": 18,
     "metadata": {},
     "output_type": "execute_result"
    },
    {
     "data": {
      "image/png": "[encoded data removed]",
      "text/plain": [
       "<Figure size 1008x504 with 1 Axes>"
      ]
     },
     "metadata": {
      "needs_background": "light"
     },
     "output_type": "display_data"
    }
   ],
   "source": [
    "ax = plt.gca()\n",
    "\n",
    "plot1 = events_table['total_1_share']\n",
    "plot1.plot(kind='bar', figsize=(14,7), ax=ax, width=0.3, color='blue', position=0)\n",
    "\n",
    "plot2 = events_table['total_2_share']\n",
    "plot2.plot(kind='bar', figsize=(14,7), ax=ax, width=0.3, color='green', position=1)\n",
    "\n",
    "ax.set_xticklabels(events_table['event_name'].values)\n",
    "ax.set_title('Конверсия событий для каждой группы', fontsize=20)\n",
    "plt.tick_params(axis='both', which='major', labelsize=16)\n",
    "ax.legend(['Первая группа(ЦД)', 'Вторая группа'], fontsize=20)"
   ]
  },
  {
   "cell_type": "code",
   "execution_count": 19,
   "metadata": {},
   "outputs": [],
   "source": [
    "def z_value_method(data, column):\n",
    "    alpha = 0.05\n",
    "\n",
    "    for idx, row in data.iterrows():\n",
    "        print ('Проверим гипотезу для события {}'.format(row[column]))\n",
    "        _, pvalue = proportions_ztest([row[1], row[2]], [row['total_1'], row['total_2']])\n",
    "        print('p-значение: {}'.format(pvalue))\n",
    "        if (pvalue < alpha):\n",
    "            print ('Отвергаем нулевую гипотезу')\n",
    "        else:\n",
    "            print ('Не получилось отвергнуть нулевую гипотезу')\n",
    "        print('')    "
   ]
  },
  {
   "cell_type": "code",
   "execution_count": 20,
   "metadata": {},
   "outputs": [
    {
     "name": "stdout",
     "output_type": "stream",
     "text": [
      "Проверим гипотезу для события photos_show\n",
      "p-значение: 1.327635267603621e-13\n",
      "Отвергаем нулевую гипотезу\n",
      "\n",
      "Проверим гипотезу для события search_1\n",
      "p-значение: 7.875225321490657e-08\n",
      "Отвергаем нулевую гипотезу\n",
      "\n",
      "Проверим гипотезу для события favorites_add\n",
      "p-значение: 1.3455950096729165e-13\n",
      "Отвергаем нулевую гипотезу\n",
      "\n",
      "Проверим гипотезу для события tips_click\n",
      "p-значение: 0.00026645646284051216\n",
      "Отвергаем нулевую гипотезу\n",
      "\n",
      "Проверим гипотезу для события search_2\n",
      "p-значение: 0.9623149570575524\n",
      "Не получилось отвергнуть нулевую гипотезу\n",
      "\n",
      "Проверим гипотезу для события search_3\n",
      "p-значение: 0.1066552401903203\n",
      "Не получилось отвергнуть нулевую гипотезу\n",
      "\n",
      "Проверим гипотезу для события search_7\n",
      "p-значение: 0.035185486782364196\n",
      "Отвергаем нулевую гипотезу\n",
      "\n",
      "Проверим гипотезу для события search_4\n",
      "p-значение: 0.018465425248742617\n",
      "Отвергаем нулевую гипотезу\n",
      "\n",
      "Проверим гипотезу для события search_6\n",
      "p-значение: 0.001401839373252087\n",
      "Отвергаем нулевую гипотезу\n",
      "\n",
      "Проверим гипотезу для события advert_open\n",
      "p-значение: 0.0012999824012865004\n",
      "Отвергаем нулевую гипотезу\n",
      "\n",
      "Проверим гипотезу для события search_5\n",
      "p-значение: 0.00016167612099273433\n",
      "Отвергаем нулевую гипотезу\n",
      "\n",
      "Проверим гипотезу для события map\n",
      "p-значение: 0.0007899493753890721\n",
      "Отвергаем нулевую гипотезу\n",
      "\n",
      "Проверим гипотезу для события tips_show\n",
      "p-значение: 2.7953508723109373e-21\n",
      "Отвергаем нулевую гипотезу\n",
      "\n"
     ]
    }
   ],
   "source": [
    "z_value_method(events_table, 'event_name')"
   ]
  },
  {
   "cell_type": "markdown",
   "metadata": {},
   "source": [
    "**Вывод**: мы видим, что только для четырех событий конверсия для первой группы (в которой пользователи просматривали контакты) выше, чем для второй: просмотрел фотографий в объявлении, search_1, добавил объявление в избранное, кликнул по рекомендованному объявлению. При этом, например, конверсия для события  tips_show - увидел рекомендованные объявления, которое пользователи совершаю чаще всего, для первой группы намного ниже.\n",
    "\n",
    "Из всех событий доли групп статистически равны только для search_2 и search_3.\n"
   ]
  },
  {
   "cell_type": "markdown",
   "metadata": {},
   "source": [
    "  5. Проведем еще один анализ:\n",
    "  \n",
    "5.1 Разделим клиентов на N категорий в зависимости от того, какое последнее событие они совершили перед целевым, если целевое действие не совершенно, то определяем в группу по последнему совершенному действию (т.е последнее действие, на котором они остановились). "
   ]
  },
  {
   "cell_type": "markdown",
   "metadata": {},
   "source": [
    "5.1.1 Для начала добавим нумерацию каждой сессии "
   ]
  },
  {
   "cell_type": "code",
   "execution_count": 21,
   "metadata": {},
   "outputs": [
    {
     "name": "stderr",
     "output_type": "stream",
     "text": [
      "<ipython-input-21-65420ad5a319>:9: SettingWithCopyWarning: \n",
      "A value is trying to be set on a copy of a slice from a DataFrame.\n",
      "Try using .loc[row_indexer,col_indexer] = value instead\n",
      "\n",
      "See the caveats in the documentation: https://pandas.pydata.org/pandas-docs/stable/user_guide/indexing.html#returning-a-view-versus-a-copy\n",
      "  sessions_start_df['session_id'] = sessions_start_df['index']\n"
     ]
    },
    {
     "data": {
      "text/html": [
       "<div>\n",
       "<style scoped>\n",
       "    .dataframe tbody tr th:only-of-type {\n",
       "        vertical-align: middle;\n",
       "    }\n",
       "\n",
       "    .dataframe tbody tr th {\n",
       "        vertical-align: top;\n",
       "    }\n",
       "\n",
       "    .dataframe thead th {\n",
       "        text-align: right;\n",
       "    }\n",
       "</style>\n",
       "<table border=\"1\" class=\"dataframe\">\n",
       "  <thead>\n",
       "    <tr style=\"text-align: right;\">\n",
       "      <th></th>\n",
       "      <th>index</th>\n",
       "      <th>event_time</th>\n",
       "      <th>event_name</th>\n",
       "      <th>user_id</th>\n",
       "      <th>diff</th>\n",
       "      <th>session_id</th>\n",
       "    </tr>\n",
       "  </thead>\n",
       "  <tbody>\n",
       "    <tr>\n",
       "      <th>0</th>\n",
       "      <td>0</td>\n",
       "      <td>2019-10-07 00:00:00</td>\n",
       "      <td>advert_open</td>\n",
       "      <td>020292ab-89bc-4156-9acf-68bc2783f894</td>\n",
       "      <td>NaT</td>\n",
       "      <td>0</td>\n",
       "    </tr>\n",
       "    <tr>\n",
       "      <th>1</th>\n",
       "      <td>1</td>\n",
       "      <td>2019-10-07 00:00:01</td>\n",
       "      <td>tips_show</td>\n",
       "      <td>020292ab-89bc-4156-9acf-68bc2783f894</td>\n",
       "      <td>0 days 00:00:01</td>\n",
       "      <td>0</td>\n",
       "    </tr>\n",
       "    <tr>\n",
       "      <th>2</th>\n",
       "      <td>2</td>\n",
       "      <td>2019-10-07 00:00:02</td>\n",
       "      <td>tips_show</td>\n",
       "      <td>cf7eda61-9349-469f-ac27-e5b6f5ec475c</td>\n",
       "      <td>NaT</td>\n",
       "      <td>2</td>\n",
       "    </tr>\n",
       "    <tr>\n",
       "      <th>3</th>\n",
       "      <td>3</td>\n",
       "      <td>2019-10-07 00:00:07</td>\n",
       "      <td>tips_show</td>\n",
       "      <td>020292ab-89bc-4156-9acf-68bc2783f894</td>\n",
       "      <td>0 days 00:00:06</td>\n",
       "      <td>0</td>\n",
       "    </tr>\n",
       "    <tr>\n",
       "      <th>4</th>\n",
       "      <td>4</td>\n",
       "      <td>2019-10-07 00:00:56</td>\n",
       "      <td>advert_open</td>\n",
       "      <td>cf7eda61-9349-469f-ac27-e5b6f5ec475c</td>\n",
       "      <td>0 days 00:00:54</td>\n",
       "      <td>2</td>\n",
       "    </tr>\n",
       "  </tbody>\n",
       "</table>\n",
       "</div>"
      ],
      "text/plain": [
       "   index          event_time   event_name  \\\n",
       "0      0 2019-10-07 00:00:00  advert_open   \n",
       "1      1 2019-10-07 00:00:01    tips_show   \n",
       "2      2 2019-10-07 00:00:02    tips_show   \n",
       "3      3 2019-10-07 00:00:07    tips_show   \n",
       "4      4 2019-10-07 00:00:56  advert_open   \n",
       "\n",
       "                                user_id            diff  session_id  \n",
       "0  020292ab-89bc-4156-9acf-68bc2783f894             NaT           0  \n",
       "1  020292ab-89bc-4156-9acf-68bc2783f894 0 days 00:00:01           0  \n",
       "2  cf7eda61-9349-469f-ac27-e5b6f5ec475c             NaT           2  \n",
       "3  020292ab-89bc-4156-9acf-68bc2783f894 0 days 00:00:06           0  \n",
       "4  cf7eda61-9349-469f-ac27-e5b6f5ec475c 0 days 00:00:54           2  "
      ]
     },
     "execution_count": 21,
     "metadata": {},
     "output_type": "execute_result"
    }
   ],
   "source": [
    "#Скопируем датасет и добавим столбец diff с разницей между событиями\n",
    "event_df = df_mobile.copy(deep=True)\n",
    "event_df['diff'] = event_df.groupby('user_id')['event_time'].diff(1)\n",
    "event_df = event_df.reset_index()\n",
    "\n",
    "#Cоздадим вспомогательный датафрейм ’session_start_df’, который будет содержать события, которые будут считаться первыми событиями сессий: \n",
    "#произошли спустя более чем 30 минут после предыдущего и были первыми для пользователя (NaT в колонке ’diff’)\n",
    "sessions_start_df = event_df[(event_df['diff'].isnull()) | (event_df['diff'] > '1800 seconds')]\n",
    "sessions_start_df['session_id'] = sessions_start_df['index']\n",
    "\n",
    "#С помощью функции merge_asof объединим между собой данные основного и вспомогательного датафреймов\n",
    "event_df = event_df.sort_values('index')\n",
    "sessions_start_df = sessions_start_df.sort_values('index')\n",
    "event_df = pd.merge_asof(event_df,sessions_start_df[['index','user_id','session_id']],on='index',by='user_id')\n",
    "event_df.head()"
   ]
  },
  {
   "cell_type": "markdown",
   "metadata": {},
   "source": [
    "5.1.2 Выделим максимальное-последнее время в сессии, предварительно исключив contacts_show"
   ]
  },
  {
   "cell_type": "code",
   "execution_count": 22,
   "metadata": {},
   "outputs": [],
   "source": [
    "event_df_non_goal = event_df.loc[event_df['event_name'] != 'contacts_show']"
   ]
  },
  {
   "cell_type": "code",
   "execution_count": 23,
   "metadata": {},
   "outputs": [
    {
     "data": {
      "text/html": [
       "<div>\n",
       "<style scoped>\n",
       "    .dataframe tbody tr th:only-of-type {\n",
       "        vertical-align: middle;\n",
       "    }\n",
       "\n",
       "    .dataframe tbody tr th {\n",
       "        vertical-align: top;\n",
       "    }\n",
       "\n",
       "    .dataframe thead th {\n",
       "        text-align: right;\n",
       "    }\n",
       "</style>\n",
       "<table border=\"1\" class=\"dataframe\">\n",
       "  <thead>\n",
       "    <tr style=\"text-align: right;\">\n",
       "      <th></th>\n",
       "      <th>user_id</th>\n",
       "      <th>session_id</th>\n",
       "      <th>event_time</th>\n",
       "      <th>group</th>\n",
       "    </tr>\n",
       "  </thead>\n",
       "  <tbody>\n",
       "    <tr>\n",
       "      <th>0</th>\n",
       "      <td>0001b1d5-b74a-4cbf-aeb0-7df5947bf349</td>\n",
       "      <td>805</td>\n",
       "      <td>2019-10-07 13:49:41</td>\n",
       "      <td>last</td>\n",
       "    </tr>\n",
       "    <tr>\n",
       "      <th>1</th>\n",
       "      <td>0001b1d5-b74a-4cbf-aeb0-7df5947bf349</td>\n",
       "      <td>6541</td>\n",
       "      <td>2019-10-09 18:42:22</td>\n",
       "      <td>last</td>\n",
       "    </tr>\n",
       "    <tr>\n",
       "      <th>2</th>\n",
       "      <td>0001b1d5-b74a-4cbf-aeb0-7df5947bf349</td>\n",
       "      <td>36412</td>\n",
       "      <td>2019-10-21 20:07:30</td>\n",
       "      <td>last</td>\n",
       "    </tr>\n",
       "    <tr>\n",
       "      <th>3</th>\n",
       "      <td>0001b1d5-b74a-4cbf-aeb0-7df5947bf349</td>\n",
       "      <td>37556</td>\n",
       "      <td>2019-10-22 11:30:52</td>\n",
       "      <td>last</td>\n",
       "    </tr>\n",
       "    <tr>\n",
       "      <th>4</th>\n",
       "      <td>00157779-810c-4498-9e05-a1e9e3cedf93</td>\n",
       "      <td>31632</td>\n",
       "      <td>2019-10-19 21:59:54</td>\n",
       "      <td>last</td>\n",
       "    </tr>\n",
       "    <tr>\n",
       "      <th>...</th>\n",
       "      <td>...</td>\n",
       "      <td>...</td>\n",
       "      <td>...</td>\n",
       "      <td>...</td>\n",
       "    </tr>\n",
       "    <tr>\n",
       "      <th>10168</th>\n",
       "      <td>fffb9e79-b927-4dbb-9b48-7fd09b23a62b</td>\n",
       "      <td>69525</td>\n",
       "      <td>2019-11-02 01:16:48</td>\n",
       "      <td>last</td>\n",
       "    </tr>\n",
       "    <tr>\n",
       "      <th>10169</th>\n",
       "      <td>fffb9e79-b927-4dbb-9b48-7fd09b23a62b</td>\n",
       "      <td>70585</td>\n",
       "      <td>2019-11-02 18:01:27</td>\n",
       "      <td>last</td>\n",
       "    </tr>\n",
       "    <tr>\n",
       "      <th>10170</th>\n",
       "      <td>fffb9e79-b927-4dbb-9b48-7fd09b23a62b</td>\n",
       "      <td>70771</td>\n",
       "      <td>2019-11-02 19:30:50</td>\n",
       "      <td>last</td>\n",
       "    </tr>\n",
       "    <tr>\n",
       "      <th>10171</th>\n",
       "      <td>fffb9e79-b927-4dbb-9b48-7fd09b23a62b</td>\n",
       "      <td>72321</td>\n",
       "      <td>2019-11-03 14:48:44</td>\n",
       "      <td>last</td>\n",
       "    </tr>\n",
       "    <tr>\n",
       "      <th>10172</th>\n",
       "      <td>fffb9e79-b927-4dbb-9b48-7fd09b23a62b</td>\n",
       "      <td>72487</td>\n",
       "      <td>2019-11-03 16:08:25</td>\n",
       "      <td>last</td>\n",
       "    </tr>\n",
       "  </tbody>\n",
       "</table>\n",
       "<p>10173 rows × 4 columns</p>\n",
       "</div>"
      ],
      "text/plain": [
       "                                    user_id  session_id          event_time  \\\n",
       "0      0001b1d5-b74a-4cbf-aeb0-7df5947bf349         805 2019-10-07 13:49:41   \n",
       "1      0001b1d5-b74a-4cbf-aeb0-7df5947bf349        6541 2019-10-09 18:42:22   \n",
       "2      0001b1d5-b74a-4cbf-aeb0-7df5947bf349       36412 2019-10-21 20:07:30   \n",
       "3      0001b1d5-b74a-4cbf-aeb0-7df5947bf349       37556 2019-10-22 11:30:52   \n",
       "4      00157779-810c-4498-9e05-a1e9e3cedf93       31632 2019-10-19 21:59:54   \n",
       "...                                     ...         ...                 ...   \n",
       "10168  fffb9e79-b927-4dbb-9b48-7fd09b23a62b       69525 2019-11-02 01:16:48   \n",
       "10169  fffb9e79-b927-4dbb-9b48-7fd09b23a62b       70585 2019-11-02 18:01:27   \n",
       "10170  fffb9e79-b927-4dbb-9b48-7fd09b23a62b       70771 2019-11-02 19:30:50   \n",
       "10171  fffb9e79-b927-4dbb-9b48-7fd09b23a62b       72321 2019-11-03 14:48:44   \n",
       "10172  fffb9e79-b927-4dbb-9b48-7fd09b23a62b       72487 2019-11-03 16:08:25   \n",
       "\n",
       "      group  \n",
       "0      last  \n",
       "1      last  \n",
       "2      last  \n",
       "3      last  \n",
       "4      last  \n",
       "...     ...  \n",
       "10168  last  \n",
       "10169  last  \n",
       "10170  last  \n",
       "10171  last  \n",
       "10172  last  \n",
       "\n",
       "[10173 rows x 4 columns]"
      ]
     },
     "execution_count": 23,
     "metadata": {},
     "output_type": "execute_result"
    }
   ],
   "source": [
    "last_activity_by_visitors = event_df_non_goal.groupby(['user_id', 'session_id'])['event_time'].max().reset_index()\n",
    "last_activity_by_visitors['group'] = 'last'\n",
    "last_activity_by_visitors"
   ]
  },
  {
   "cell_type": "markdown",
   "metadata": {},
   "source": [
    "Объединими датасеты, чтобы к основному добавить признак последней даты и оставим только последнии события"
   ]
  },
  {
   "cell_type": "code",
   "execution_count": 24,
   "metadata": {
    "scrolled": true
   },
   "outputs": [
    {
     "data": {
      "text/html": [
       "<div>\n",
       "<style scoped>\n",
       "    .dataframe tbody tr th:only-of-type {\n",
       "        vertical-align: middle;\n",
       "    }\n",
       "\n",
       "    .dataframe tbody tr th {\n",
       "        vertical-align: top;\n",
       "    }\n",
       "\n",
       "    .dataframe thead th {\n",
       "        text-align: right;\n",
       "    }\n",
       "</style>\n",
       "<table border=\"1\" class=\"dataframe\">\n",
       "  <thead>\n",
       "    <tr style=\"text-align: right;\">\n",
       "      <th></th>\n",
       "      <th>index</th>\n",
       "      <th>event_time</th>\n",
       "      <th>event_name</th>\n",
       "      <th>user_id</th>\n",
       "      <th>diff</th>\n",
       "      <th>session_id</th>\n",
       "      <th>group</th>\n",
       "    </tr>\n",
       "  </thead>\n",
       "  <tbody>\n",
       "    <tr>\n",
       "      <th>25</th>\n",
       "      <td>26</td>\n",
       "      <td>2019-10-07 00:05:23</td>\n",
       "      <td>search_5</td>\n",
       "      <td>d9b06b47-0f36-419b-bbb0-3533e582a6cb</td>\n",
       "      <td>0 days 00:00:03</td>\n",
       "      <td>25</td>\n",
       "      <td>last</td>\n",
       "    </tr>\n",
       "    <tr>\n",
       "      <th>68</th>\n",
       "      <td>69</td>\n",
       "      <td>2019-10-07 00:18:42</td>\n",
       "      <td>tips_show</td>\n",
       "      <td>020292ab-89bc-4156-9acf-68bc2783f894</td>\n",
       "      <td>0 days 00:00:05</td>\n",
       "      <td>0</td>\n",
       "      <td>last</td>\n",
       "    </tr>\n",
       "    <tr>\n",
       "      <th>81</th>\n",
       "      <td>83</td>\n",
       "      <td>2019-10-07 00:30:22</td>\n",
       "      <td>tips_show</td>\n",
       "      <td>8c356c42-3ba9-4cb6-80b8-3f868d0192c3</td>\n",
       "      <td>0 days 00:07:45</td>\n",
       "      <td>12</td>\n",
       "      <td>last</td>\n",
       "    </tr>\n",
       "    <tr>\n",
       "      <th>96</th>\n",
       "      <td>98</td>\n",
       "      <td>2019-10-07 00:41:40</td>\n",
       "      <td>tips_show</td>\n",
       "      <td>cf7eda61-9349-469f-ac27-e5b6f5ec475c</td>\n",
       "      <td>0 days 00:00:22</td>\n",
       "      <td>2</td>\n",
       "      <td>last</td>\n",
       "    </tr>\n",
       "    <tr>\n",
       "      <th>104</th>\n",
       "      <td>106</td>\n",
       "      <td>2019-10-07 00:50:22</td>\n",
       "      <td>tips_show</td>\n",
       "      <td>f32e1e2a-3027-4693-b793-b7b3ff274439</td>\n",
       "      <td>0 days 00:00:10</td>\n",
       "      <td>37</td>\n",
       "      <td>last</td>\n",
       "    </tr>\n",
       "    <tr>\n",
       "      <th>...</th>\n",
       "      <td>...</td>\n",
       "      <td>...</td>\n",
       "      <td>...</td>\n",
       "      <td>...</td>\n",
       "      <td>...</td>\n",
       "      <td>...</td>\n",
       "      <td>...</td>\n",
       "    </tr>\n",
       "    <tr>\n",
       "      <th>69652</th>\n",
       "      <td>74181</td>\n",
       "      <td>2019-11-03 23:47:35</td>\n",
       "      <td>photos_show</td>\n",
       "      <td>12681fdf-d1d1-454b-9b92-e8a3ccfaf07b</td>\n",
       "      <td>0 days 06:52:50</td>\n",
       "      <td>74181</td>\n",
       "      <td>last</td>\n",
       "    </tr>\n",
       "    <tr>\n",
       "      <th>69654</th>\n",
       "      <td>74183</td>\n",
       "      <td>2019-11-03 23:47:50</td>\n",
       "      <td>tips_show</td>\n",
       "      <td>d157bffc-264d-4464-8220-1cc0c42f43a9</td>\n",
       "      <td>0 days 00:00:03</td>\n",
       "      <td>74177</td>\n",
       "      <td>last</td>\n",
       "    </tr>\n",
       "    <tr>\n",
       "      <th>69660</th>\n",
       "      <td>74189</td>\n",
       "      <td>2019-11-03 23:52:01</td>\n",
       "      <td>tips_click</td>\n",
       "      <td>c10055f0-0b47-477a-869e-d391b31fdf8f</td>\n",
       "      <td>0 days 00:00:53</td>\n",
       "      <td>74176</td>\n",
       "      <td>last</td>\n",
       "    </tr>\n",
       "    <tr>\n",
       "      <th>69665</th>\n",
       "      <td>74194</td>\n",
       "      <td>2019-11-03 23:56:57</td>\n",
       "      <td>search_1</td>\n",
       "      <td>20850c8f-4135-4059-b13b-198d3ac59902</td>\n",
       "      <td>7 days 04:25:16</td>\n",
       "      <td>74194</td>\n",
       "      <td>last</td>\n",
       "    </tr>\n",
       "    <tr>\n",
       "      <th>69667</th>\n",
       "      <td>74196</td>\n",
       "      <td>2019-11-03 23:58:12</td>\n",
       "      <td>tips_show</td>\n",
       "      <td>28fccdf4-7b9e-42f5-bc73-439a265f20e9</td>\n",
       "      <td>0 days 00:01:06</td>\n",
       "      <td>74074</td>\n",
       "      <td>last</td>\n",
       "    </tr>\n",
       "  </tbody>\n",
       "</table>\n",
       "<p>10388 rows × 7 columns</p>\n",
       "</div>"
      ],
      "text/plain": [
       "       index          event_time   event_name  \\\n",
       "25        26 2019-10-07 00:05:23     search_5   \n",
       "68        69 2019-10-07 00:18:42    tips_show   \n",
       "81        83 2019-10-07 00:30:22    tips_show   \n",
       "96        98 2019-10-07 00:41:40    tips_show   \n",
       "104      106 2019-10-07 00:50:22    tips_show   \n",
       "...      ...                 ...          ...   \n",
       "69652  74181 2019-11-03 23:47:35  photos_show   \n",
       "69654  74183 2019-11-03 23:47:50    tips_show   \n",
       "69660  74189 2019-11-03 23:52:01   tips_click   \n",
       "69665  74194 2019-11-03 23:56:57     search_1   \n",
       "69667  74196 2019-11-03 23:58:12    tips_show   \n",
       "\n",
       "                                    user_id            diff  session_id group  \n",
       "25     d9b06b47-0f36-419b-bbb0-3533e582a6cb 0 days 00:00:03          25  last  \n",
       "68     020292ab-89bc-4156-9acf-68bc2783f894 0 days 00:00:05           0  last  \n",
       "81     8c356c42-3ba9-4cb6-80b8-3f868d0192c3 0 days 00:07:45          12  last  \n",
       "96     cf7eda61-9349-469f-ac27-e5b6f5ec475c 0 days 00:00:22           2  last  \n",
       "104    f32e1e2a-3027-4693-b793-b7b3ff274439 0 days 00:00:10          37  last  \n",
       "...                                     ...             ...         ...   ...  \n",
       "69652  12681fdf-d1d1-454b-9b92-e8a3ccfaf07b 0 days 06:52:50       74181  last  \n",
       "69654  d157bffc-264d-4464-8220-1cc0c42f43a9 0 days 00:00:03       74177  last  \n",
       "69660  c10055f0-0b47-477a-869e-d391b31fdf8f 0 days 00:00:53       74176  last  \n",
       "69665  20850c8f-4135-4059-b13b-198d3ac59902 7 days 04:25:16       74194  last  \n",
       "69667  28fccdf4-7b9e-42f5-bc73-439a265f20e9 0 days 00:01:06       74074  last  \n",
       "\n",
       "[10388 rows x 7 columns]"
      ]
     },
     "execution_count": 24,
     "metadata": {},
     "output_type": "execute_result"
    }
   ],
   "source": [
    "event_df_non_goal = event_df_non_goal.merge(last_activity_by_visitors, on = ['user_id','session_id','event_time'], how = 'left')\n",
    "event_df_non_goal = event_df_non_goal[event_df_non_goal['group'] == 'last']\n",
    "event_df_non_goal"
   ]
  },
  {
   "cell_type": "markdown",
   "metadata": {},
   "source": [
    "И создадим таблицу только с ЦД"
   ]
  },
  {
   "cell_type": "code",
   "execution_count": 25,
   "metadata": {},
   "outputs": [
    {
     "data": {
      "text/html": [
       "<div>\n",
       "<style scoped>\n",
       "    .dataframe tbody tr th:only-of-type {\n",
       "        vertical-align: middle;\n",
       "    }\n",
       "\n",
       "    .dataframe tbody tr th {\n",
       "        vertical-align: top;\n",
       "    }\n",
       "\n",
       "    .dataframe thead th {\n",
       "        text-align: right;\n",
       "    }\n",
       "</style>\n",
       "<table border=\"1\" class=\"dataframe\">\n",
       "  <thead>\n",
       "    <tr style=\"text-align: right;\">\n",
       "      <th></th>\n",
       "      <th>user_id</th>\n",
       "      <th>event_name</th>\n",
       "      <th>session_id</th>\n",
       "    </tr>\n",
       "  </thead>\n",
       "  <tbody>\n",
       "    <tr>\n",
       "      <th>0</th>\n",
       "      <td>8c356c42-3ba9-4cb6-80b8-3f868d0192c3</td>\n",
       "      <td>contacts_show</td>\n",
       "      <td>12</td>\n",
       "    </tr>\n",
       "    <tr>\n",
       "      <th>1</th>\n",
       "      <td>48e614d6-fe03-40f7-bf9e-4c4f61c19f64</td>\n",
       "      <td>contacts_show</td>\n",
       "      <td>191</td>\n",
       "    </tr>\n",
       "    <tr>\n",
       "      <th>2</th>\n",
       "      <td>9dfa242e-8630-480a-806b-5736bcda8f3d</td>\n",
       "      <td>contacts_show</td>\n",
       "      <td>244</td>\n",
       "    </tr>\n",
       "    <tr>\n",
       "      <th>3</th>\n",
       "      <td>1a3361d1-2002-4389-a669-ecb06ea7a90a</td>\n",
       "      <td>contacts_show</td>\n",
       "      <td>322</td>\n",
       "    </tr>\n",
       "    <tr>\n",
       "      <th>4</th>\n",
       "      <td>be95e2a4-50e3-4763-bc00-1758848d2641</td>\n",
       "      <td>contacts_show</td>\n",
       "      <td>335</td>\n",
       "    </tr>\n",
       "    <tr>\n",
       "      <th>...</th>\n",
       "      <td>...</td>\n",
       "      <td>...</td>\n",
       "      <td>...</td>\n",
       "    </tr>\n",
       "    <tr>\n",
       "      <th>1698</th>\n",
       "      <td>87a6fff9-134a-467d-a100-a606995025cd</td>\n",
       "      <td>contacts_show</td>\n",
       "      <td>74080</td>\n",
       "    </tr>\n",
       "    <tr>\n",
       "      <th>1699</th>\n",
       "      <td>ec70be94-3ea7-4ac2-90fb-da1a044d7e30</td>\n",
       "      <td>contacts_show</td>\n",
       "      <td>74145</td>\n",
       "    </tr>\n",
       "    <tr>\n",
       "      <th>1700</th>\n",
       "      <td>28fccdf4-7b9e-42f5-bc73-439a265f20e9</td>\n",
       "      <td>contacts_show</td>\n",
       "      <td>74074</td>\n",
       "    </tr>\n",
       "    <tr>\n",
       "      <th>1701</th>\n",
       "      <td>a0944ccf-5813-427a-966e-b146d4e9adbc</td>\n",
       "      <td>contacts_show</td>\n",
       "      <td>74107</td>\n",
       "    </tr>\n",
       "    <tr>\n",
       "      <th>1702</th>\n",
       "      <td>c10055f0-0b47-477a-869e-d391b31fdf8f</td>\n",
       "      <td>contacts_show</td>\n",
       "      <td>74176</td>\n",
       "    </tr>\n",
       "  </tbody>\n",
       "</table>\n",
       "<p>1703 rows × 3 columns</p>\n",
       "</div>"
      ],
      "text/plain": [
       "                                   user_id     event_name  session_id\n",
       "0     8c356c42-3ba9-4cb6-80b8-3f868d0192c3  contacts_show          12\n",
       "1     48e614d6-fe03-40f7-bf9e-4c4f61c19f64  contacts_show         191\n",
       "2     9dfa242e-8630-480a-806b-5736bcda8f3d  contacts_show         244\n",
       "3     1a3361d1-2002-4389-a669-ecb06ea7a90a  contacts_show         322\n",
       "4     be95e2a4-50e3-4763-bc00-1758848d2641  contacts_show         335\n",
       "...                                    ...            ...         ...\n",
       "1698  87a6fff9-134a-467d-a100-a606995025cd  contacts_show       74080\n",
       "1699  ec70be94-3ea7-4ac2-90fb-da1a044d7e30  contacts_show       74145\n",
       "1700  28fccdf4-7b9e-42f5-bc73-439a265f20e9  contacts_show       74074\n",
       "1701  a0944ccf-5813-427a-966e-b146d4e9adbc  contacts_show       74107\n",
       "1702  c10055f0-0b47-477a-869e-d391b31fdf8f  contacts_show       74176\n",
       "\n",
       "[1703 rows x 3 columns]"
      ]
     },
     "execution_count": 25,
     "metadata": {},
     "output_type": "execute_result"
    }
   ],
   "source": [
    "goal_group = event_df[event_df['event_name'] == 'contacts_show']\n",
    "goal_group = goal_group[['user_id', 'event_name', 'session_id']].drop_duplicates().reset_index(drop= True)\n",
    "goal_group"
   ]
  },
  {
   "cell_type": "markdown",
   "metadata": {},
   "source": [
    "Объединим две последние таблицы в результирующую"
   ]
  },
  {
   "cell_type": "code",
   "execution_count": 26,
   "metadata": {},
   "outputs": [
    {
     "data": {
      "text/html": [
       "<div>\n",
       "<style scoped>\n",
       "    .dataframe tbody tr th:only-of-type {\n",
       "        vertical-align: middle;\n",
       "    }\n",
       "\n",
       "    .dataframe tbody tr th {\n",
       "        vertical-align: top;\n",
       "    }\n",
       "\n",
       "    .dataframe thead th {\n",
       "        text-align: right;\n",
       "    }\n",
       "</style>\n",
       "<table border=\"1\" class=\"dataframe\">\n",
       "  <thead>\n",
       "    <tr style=\"text-align: right;\">\n",
       "      <th></th>\n",
       "      <th>total_q-ty</th>\n",
       "      <th>contact_show</th>\n",
       "      <th>share</th>\n",
       "    </tr>\n",
       "    <tr>\n",
       "      <th>event_name_x</th>\n",
       "      <th></th>\n",
       "      <th></th>\n",
       "      <th></th>\n",
       "    </tr>\n",
       "  </thead>\n",
       "  <tbody>\n",
       "    <tr>\n",
       "      <th>tips_show</th>\n",
       "      <td>5727</td>\n",
       "      <td>813</td>\n",
       "      <td>0.141959</td>\n",
       "    </tr>\n",
       "    <tr>\n",
       "      <th>photos_show</th>\n",
       "      <td>2340</td>\n",
       "      <td>273</td>\n",
       "      <td>0.116667</td>\n",
       "    </tr>\n",
       "    <tr>\n",
       "      <th>contacts_call</th>\n",
       "      <td>236</td>\n",
       "      <td>236</td>\n",
       "      <td>1.000000</td>\n",
       "    </tr>\n",
       "    <tr>\n",
       "      <th>search_1</th>\n",
       "      <td>847</td>\n",
       "      <td>88</td>\n",
       "      <td>0.103896</td>\n",
       "    </tr>\n",
       "    <tr>\n",
       "      <th>advert_open</th>\n",
       "      <td>338</td>\n",
       "      <td>38</td>\n",
       "      <td>0.112426</td>\n",
       "    </tr>\n",
       "    <tr>\n",
       "      <th>map</th>\n",
       "      <td>365</td>\n",
       "      <td>34</td>\n",
       "      <td>0.093151</td>\n",
       "    </tr>\n",
       "    <tr>\n",
       "      <th>favorites_add</th>\n",
       "      <td>233</td>\n",
       "      <td>31</td>\n",
       "      <td>0.133047</td>\n",
       "    </tr>\n",
       "    <tr>\n",
       "      <th>search_5</th>\n",
       "      <td>180</td>\n",
       "      <td>14</td>\n",
       "      <td>0.077778</td>\n",
       "    </tr>\n",
       "    <tr>\n",
       "      <th>tips_click</th>\n",
       "      <td>56</td>\n",
       "      <td>8</td>\n",
       "      <td>0.142857</td>\n",
       "    </tr>\n",
       "    <tr>\n",
       "      <th>search_2</th>\n",
       "      <td>11</td>\n",
       "      <td>2</td>\n",
       "      <td>0.181818</td>\n",
       "    </tr>\n",
       "    <tr>\n",
       "      <th>search_3</th>\n",
       "      <td>41</td>\n",
       "      <td>1</td>\n",
       "      <td>0.024390</td>\n",
       "    </tr>\n",
       "    <tr>\n",
       "      <th>search_4</th>\n",
       "      <td>9</td>\n",
       "      <td>0</td>\n",
       "      <td>0.000000</td>\n",
       "    </tr>\n",
       "    <tr>\n",
       "      <th>search_6</th>\n",
       "      <td>2</td>\n",
       "      <td>0</td>\n",
       "      <td>0.000000</td>\n",
       "    </tr>\n",
       "    <tr>\n",
       "      <th>search_7</th>\n",
       "      <td>3</td>\n",
       "      <td>0</td>\n",
       "      <td>0.000000</td>\n",
       "    </tr>\n",
       "  </tbody>\n",
       "</table>\n",
       "</div>"
      ],
      "text/plain": [
       "               total_q-ty  contact_show     share\n",
       "event_name_x                                     \n",
       "tips_show            5727           813  0.141959\n",
       "photos_show          2340           273  0.116667\n",
       "contacts_call         236           236  1.000000\n",
       "search_1              847            88  0.103896\n",
       "advert_open           338            38  0.112426\n",
       "map                   365            34  0.093151\n",
       "favorites_add         233            31  0.133047\n",
       "search_5              180            14  0.077778\n",
       "tips_click             56             8  0.142857\n",
       "search_2               11             2  0.181818\n",
       "search_3               41             1  0.024390\n",
       "search_4                9             0  0.000000\n",
       "search_6                2             0  0.000000\n",
       "search_7                3             0  0.000000"
      ]
     },
     "execution_count": 26,
     "metadata": {},
     "output_type": "execute_result"
    }
   ],
   "source": [
    "event_df_result = event_df_non_goal[['user_id', 'session_id', 'event_name']].merge(goal_group, on = ['user_id', 'session_id'], how = 'left')\n",
    "event_df_result\n",
    "event_df_result = event_df_result.groupby('event_name_x').agg({'user_id': 'count', 'event_name_y': 'count'})\n",
    "event_df_result['share'] = event_df_result['event_name_y']/event_df_result['user_id']\n",
    "event_df_result = event_df_result.rename(columns={\"user_id\": \"total_q-ty\", \"event_name_y\": \"contact_show\"})\n",
    "event_df_result.sort_values(by = 'contact_show', ascending = False)"
   ]
  },
  {
   "cell_type": "markdown",
   "metadata": {},
   "source": [
    "**Вывод**: чаще всего, прежде чем посмотреть контакты, пользователи совершали событие - увидел рекомендованные объявления.\n",
    "На втором месте - просмотрел фотографий в объявлении. Т.е обычно пользователю приложения достаточно увидеть объявление и посмотреть фото, чтобы решить позвонить. Третье место занимает позвонил по номеру из объявления - его в расчет не берем, т.к это логичное следствие."
   ]
  },
  {
   "cell_type": "markdown",
   "metadata": {},
   "source": [
    "<a id='gipotes'></a>  \n",
    "## Выдвигаем гипотезы\n"
   ]
  },
  {
   "cell_type": "markdown",
   "metadata": {},
   "source": [
    "Гипотеза 1.\n",
    "Одни пользователи совершают действия tips_show и tips_click, другие — только tips_show. Проверим гипотезу: конверсия в просмотры контактов различается у этих двух групп. \n",
    "\n",
    "Проверка:\n",
    "Выделим две группы, в одной пользователи совершили tips_show и tips_click, в другой только tips_show. Для этого медом pivot_table создадим таблицу с двумя колонками tips_show  и tips_click, в которых будет количество кликов на эти события. Далее оставим в одной группе тех пользователей, для которых есть значение только в одном столбце tips_show, пользователи, для которых есть посещения в обоих столбцах, в другой группе. \n",
    "\n",
    "Подсчитаем конверсию, выполним проверку гипотезы о равенстве долей Z-критерием."
   ]
  },
  {
   "cell_type": "code",
   "execution_count": 27,
   "metadata": {},
   "outputs": [
    {
     "data": {
      "text/html": [
       "<div>\n",
       "<style scoped>\n",
       "    .dataframe tbody tr th:only-of-type {\n",
       "        vertical-align: middle;\n",
       "    }\n",
       "\n",
       "    .dataframe tbody tr th {\n",
       "        vertical-align: top;\n",
       "    }\n",
       "\n",
       "    .dataframe thead th {\n",
       "        text-align: right;\n",
       "    }\n",
       "</style>\n",
       "<table border=\"1\" class=\"dataframe\">\n",
       "  <thead>\n",
       "    <tr style=\"text-align: right;\">\n",
       "      <th>event_name</th>\n",
       "      <th>user_id</th>\n",
       "      <th>tips_show</th>\n",
       "      <th>tips_click</th>\n",
       "      <th>contacts_show</th>\n",
       "    </tr>\n",
       "  </thead>\n",
       "  <tbody>\n",
       "    <tr>\n",
       "      <th>615</th>\n",
       "      <td>21230dd9-2f7f-4b77-a436-43d4d10388e0</td>\n",
       "      <td>346.0</td>\n",
       "      <td>1.0</td>\n",
       "      <td>43.0</td>\n",
       "    </tr>\n",
       "    <tr>\n",
       "      <th>3397</th>\n",
       "      <td>cb36854f-570a-41f4-baa8-36680b396370</td>\n",
       "      <td>317.0</td>\n",
       "      <td>7.0</td>\n",
       "      <td>86.0</td>\n",
       "    </tr>\n",
       "    <tr>\n",
       "      <th>740</th>\n",
       "      <td>28fccdf4-7b9e-42f5-bc73-439a265f20e9</td>\n",
       "      <td>294.0</td>\n",
       "      <td>2.0</td>\n",
       "      <td>2.0</td>\n",
       "    </tr>\n",
       "    <tr>\n",
       "      <th>2887</th>\n",
       "      <td>abdcbe3c-221b-4f59-afd9-bf9ca78f7e4c</td>\n",
       "      <td>265.0</td>\n",
       "      <td>NaN</td>\n",
       "      <td>21.0</td>\n",
       "    </tr>\n",
       "    <tr>\n",
       "      <th>3223</th>\n",
       "      <td>c140f88a-c544-4ce6-a6bd-578a1a0d1b18</td>\n",
       "      <td>239.0</td>\n",
       "      <td>NaN</td>\n",
       "      <td>1.0</td>\n",
       "    </tr>\n",
       "    <tr>\n",
       "      <th>...</th>\n",
       "      <td>...</td>\n",
       "      <td>...</td>\n",
       "      <td>...</td>\n",
       "      <td>...</td>\n",
       "    </tr>\n",
       "    <tr>\n",
       "      <th>4276</th>\n",
       "      <td>fe898476-a038-4717-875d-b01e8cddf537</td>\n",
       "      <td>NaN</td>\n",
       "      <td>NaN</td>\n",
       "      <td>NaN</td>\n",
       "    </tr>\n",
       "    <tr>\n",
       "      <th>4277</th>\n",
       "      <td>fe92fa6c-7eef-484f-b31b-fa0db4e4d895</td>\n",
       "      <td>NaN</td>\n",
       "      <td>NaN</td>\n",
       "      <td>NaN</td>\n",
       "    </tr>\n",
       "    <tr>\n",
       "      <th>4284</th>\n",
       "      <td>ff1554b5-919e-40b1-90bb-ee1f7f6d5846</td>\n",
       "      <td>NaN</td>\n",
       "      <td>NaN</td>\n",
       "      <td>1.0</td>\n",
       "    </tr>\n",
       "    <tr>\n",
       "      <th>4289</th>\n",
       "      <td>ffc01466-fdb1-4460-ae94-e800f52eb136</td>\n",
       "      <td>NaN</td>\n",
       "      <td>NaN</td>\n",
       "      <td>1.0</td>\n",
       "    </tr>\n",
       "    <tr>\n",
       "      <th>4291</th>\n",
       "      <td>ffe68f10-e48e-470e-be9b-eeb93128ff1a</td>\n",
       "      <td>NaN</td>\n",
       "      <td>NaN</td>\n",
       "      <td>1.0</td>\n",
       "    </tr>\n",
       "  </tbody>\n",
       "</table>\n",
       "<p>4293 rows × 4 columns</p>\n",
       "</div>"
      ],
      "text/plain": [
       "event_name                               user_id  tips_show  tips_click  \\\n",
       "615         21230dd9-2f7f-4b77-a436-43d4d10388e0      346.0         1.0   \n",
       "3397        cb36854f-570a-41f4-baa8-36680b396370      317.0         7.0   \n",
       "740         28fccdf4-7b9e-42f5-bc73-439a265f20e9      294.0         2.0   \n",
       "2887        abdcbe3c-221b-4f59-afd9-bf9ca78f7e4c      265.0         NaN   \n",
       "3223        c140f88a-c544-4ce6-a6bd-578a1a0d1b18      239.0         NaN   \n",
       "...                                          ...        ...         ...   \n",
       "4276        fe898476-a038-4717-875d-b01e8cddf537        NaN         NaN   \n",
       "4277        fe92fa6c-7eef-484f-b31b-fa0db4e4d895        NaN         NaN   \n",
       "4284        ff1554b5-919e-40b1-90bb-ee1f7f6d5846        NaN         NaN   \n",
       "4289        ffc01466-fdb1-4460-ae94-e800f52eb136        NaN         NaN   \n",
       "4291        ffe68f10-e48e-470e-be9b-eeb93128ff1a        NaN         NaN   \n",
       "\n",
       "event_name  contacts_show  \n",
       "615                  43.0  \n",
       "3397                 86.0  \n",
       "740                   2.0  \n",
       "2887                 21.0  \n",
       "3223                  1.0  \n",
       "...                   ...  \n",
       "4276                  NaN  \n",
       "4277                  NaN  \n",
       "4284                  1.0  \n",
       "4289                  1.0  \n",
       "4291                  1.0  \n",
       "\n",
       "[4293 rows x 4 columns]"
      ]
     },
     "execution_count": 27,
     "metadata": {},
     "output_type": "execute_result"
    }
   ],
   "source": [
    "#Подсчитаем для каждого пользователя, сколько каждого события он совершил\n",
    "events_table = df_mobile_filtred.pivot_table(index='user_id', columns='event_name', values='event_time', aggfunc='count')\n",
    "events_table = events_table.reset_index()\n",
    "events_table = events_table[['user_id','tips_show', 'tips_click','contacts_show']]\n",
    "events_table = events_table.sort_values(by = 'tips_show', ascending = False)\n",
    "events_table"
   ]
  },
  {
   "cell_type": "code",
   "execution_count": 28,
   "metadata": {},
   "outputs": [
    {
     "data": {
      "text/html": [
       "<div>\n",
       "<style scoped>\n",
       "    .dataframe tbody tr th:only-of-type {\n",
       "        vertical-align: middle;\n",
       "    }\n",
       "\n",
       "    .dataframe tbody tr th {\n",
       "        vertical-align: top;\n",
       "    }\n",
       "\n",
       "    .dataframe thead th {\n",
       "        text-align: right;\n",
       "    }\n",
       "</style>\n",
       "<table border=\"1\" class=\"dataframe\">\n",
       "  <thead>\n",
       "    <tr style=\"text-align: right;\">\n",
       "      <th></th>\n",
       "      <th>total_q_ty</th>\n",
       "      <th>contacts_show</th>\n",
       "      <th>share</th>\n",
       "    </tr>\n",
       "  </thead>\n",
       "  <tbody>\n",
       "    <tr>\n",
       "      <th>0</th>\n",
       "      <td>297</td>\n",
       "      <td>91</td>\n",
       "      <td>0.306</td>\n",
       "    </tr>\n",
       "  </tbody>\n",
       "</table>\n",
       "</div>"
      ],
      "text/plain": [
       "   total_q_ty  contacts_show  share\n",
       "0         297             91  0.306"
      ]
     },
     "execution_count": 28,
     "metadata": {},
     "output_type": "execute_result"
    }
   ],
   "source": [
    "#Выделим первую группу, где два события tips_show и tips_click\n",
    "tips_show_click = events_table[(~events_table['tips_show'].isnull()) & (~events_table['tips_click'].isnull())]\n",
    "tips_show_click = pd.DataFrame(data=[[tips_show_click['user_id'].count(),tips_show_click['contacts_show'].count()]], columns=['total_q_ty','contacts_show'])\n",
    "tips_show_click['share'] = round(tips_show_click['contacts_show'] / tips_show_click['total_q_ty'],3)\n",
    "tips_show_click"
   ]
  },
  {
   "cell_type": "code",
   "execution_count": 29,
   "metadata": {},
   "outputs": [
    {
     "data": {
      "text/html": [
       "<div>\n",
       "<style scoped>\n",
       "    .dataframe tbody tr th:only-of-type {\n",
       "        vertical-align: middle;\n",
       "    }\n",
       "\n",
       "    .dataframe tbody tr th {\n",
       "        vertical-align: top;\n",
       "    }\n",
       "\n",
       "    .dataframe thead th {\n",
       "        text-align: right;\n",
       "    }\n",
       "</style>\n",
       "<table border=\"1\" class=\"dataframe\">\n",
       "  <thead>\n",
       "    <tr style=\"text-align: right;\">\n",
       "      <th></th>\n",
       "      <th>total_q_ty</th>\n",
       "      <th>contacts_show</th>\n",
       "      <th>share</th>\n",
       "    </tr>\n",
       "  </thead>\n",
       "  <tbody>\n",
       "    <tr>\n",
       "      <th>0</th>\n",
       "      <td>2504</td>\n",
       "      <td>425</td>\n",
       "      <td>0.17</td>\n",
       "    </tr>\n",
       "  </tbody>\n",
       "</table>\n",
       "</div>"
      ],
      "text/plain": [
       "   total_q_ty  contacts_show  share\n",
       "0        2504            425   0.17"
      ]
     },
     "execution_count": 29,
     "metadata": {},
     "output_type": "execute_result"
    }
   ],
   "source": [
    "#Выделим вторую группу, где одно событие tips_show \n",
    "tips_show = events_table[(~events_table['tips_show'].isnull()) & (events_table['tips_click'].isnull())]\n",
    "tips_show = pd.DataFrame(data=[[tips_show['user_id'].count(),tips_show['contacts_show'].count()]], columns=['total_q_ty','contacts_show'])\n",
    "tips_show['share'] = round(tips_show['contacts_show'] / tips_show['total_q_ty'],3)\n",
    "tips_show"
   ]
  },
  {
   "cell_type": "markdown",
   "metadata": {},
   "source": [
    "Нулевая гипотеза H₀ - доли групп равны;\n",
    "\n",
    "Альтернативной гипотеза - доли групп не равны."
   ]
  },
  {
   "cell_type": "code",
   "execution_count": 30,
   "metadata": {},
   "outputs": [
    {
     "name": "stdout",
     "output_type": "stream",
     "text": [
      "p-значение: [9.21831657e-09]\n",
      "Отвергаем нулевую гипотезу\n",
      "\n"
     ]
    }
   ],
   "source": [
    "alpha = 0.05\n",
    "_, pvalue = proportions_ztest([tips_show_click['contacts_show'], tips_show['contacts_show']], [tips_show_click['total_q_ty'], tips_show['total_q_ty']])\n",
    "print('p-значение: {}'.format(pvalue))\n",
    "if (pvalue < alpha):\n",
    "    print ('Отвергаем нулевую гипотезу')\n",
    "else:\n",
    "    print ('Не получилось отвергнуть нулевую гипотезу')\n",
    "print('')    "
   ]
  },
  {
   "cell_type": "code",
   "execution_count": 31,
   "metadata": {},
   "outputs": [
    {
     "name": "stdout",
     "output_type": "stream",
     "text": [
      "Во второй группе в 8 раз больше пользователей\n"
     ]
    }
   ],
   "source": [
    "check = tips_show['total_q_ty'] / tips_show_click['total_q_ty']\n",
    "check[0]\n",
    "print ('Во второй группе в {:.0f} раз больше пользователей'.format(check[0]))"
   ]
  },
  {
   "cell_type": "markdown",
   "metadata": {},
   "source": [
    "**Вывод:** \n",
    "\n",
    "Отвергаем нулевую гипотезу, конверсия первой группы не равна конверсии второй. Оказывается, что те пользователи, которые кликают по рекомендованному объявлению, чаще выполняют целевое действие, чем те, кто просто увидел рекомендованные объявления.\n",
    "Можно также отметить, что при этом, пользователей, которые совершили и tips_show, и tips_show_click меньше в 8 раз - всего 297."
   ]
  },
  {
   "cell_type": "markdown",
   "metadata": {},
   "source": [
    "Гипотеза 2. Имеем, что пользователи устанавливают приложение по трем видам источников: google, yandex, other . Проверим гипотезу: конверсия в просмотры контактов различается у этих трех групп.\n",
    "\n",
    "Проверка: выделим три групп в зависимости от источника.\n",
    "\n",
    "Подсчитаем конверсию в просмотры контактов, выполним проверку гипотезы о равенстве долей Z-критерием.\n"
   ]
  },
  {
   "cell_type": "code",
   "execution_count": 32,
   "metadata": {},
   "outputs": [
    {
     "data": {
      "text/html": [
       "<div>\n",
       "<style scoped>\n",
       "    .dataframe tbody tr th:only-of-type {\n",
       "        vertical-align: middle;\n",
       "    }\n",
       "\n",
       "    .dataframe tbody tr th {\n",
       "        vertical-align: top;\n",
       "    }\n",
       "\n",
       "    .dataframe thead th {\n",
       "        text-align: right;\n",
       "    }\n",
       "</style>\n",
       "<table border=\"1\" class=\"dataframe\">\n",
       "  <thead>\n",
       "    <tr style=\"text-align: right;\">\n",
       "      <th></th>\n",
       "      <th>event_time</th>\n",
       "      <th>event_name</th>\n",
       "      <th>user_id</th>\n",
       "      <th>group</th>\n",
       "      <th>source</th>\n",
       "    </tr>\n",
       "  </thead>\n",
       "  <tbody>\n",
       "    <tr>\n",
       "      <th>0</th>\n",
       "      <td>2019-10-07 00:00:00</td>\n",
       "      <td>advert_open</td>\n",
       "      <td>020292ab-89bc-4156-9acf-68bc2783f894</td>\n",
       "      <td>2</td>\n",
       "      <td>other</td>\n",
       "    </tr>\n",
       "    <tr>\n",
       "      <th>1</th>\n",
       "      <td>2019-10-07 00:00:01</td>\n",
       "      <td>tips_show</td>\n",
       "      <td>020292ab-89bc-4156-9acf-68bc2783f894</td>\n",
       "      <td>2</td>\n",
       "      <td>other</td>\n",
       "    </tr>\n",
       "    <tr>\n",
       "      <th>2</th>\n",
       "      <td>2019-10-07 00:00:07</td>\n",
       "      <td>tips_show</td>\n",
       "      <td>020292ab-89bc-4156-9acf-68bc2783f894</td>\n",
       "      <td>2</td>\n",
       "      <td>other</td>\n",
       "    </tr>\n",
       "    <tr>\n",
       "      <th>3</th>\n",
       "      <td>2019-10-07 00:01:27</td>\n",
       "      <td>advert_open</td>\n",
       "      <td>020292ab-89bc-4156-9acf-68bc2783f894</td>\n",
       "      <td>2</td>\n",
       "      <td>other</td>\n",
       "    </tr>\n",
       "    <tr>\n",
       "      <th>4</th>\n",
       "      <td>2019-10-07 00:01:34</td>\n",
       "      <td>tips_show</td>\n",
       "      <td>020292ab-89bc-4156-9acf-68bc2783f894</td>\n",
       "      <td>2</td>\n",
       "      <td>other</td>\n",
       "    </tr>\n",
       "    <tr>\n",
       "      <th>...</th>\n",
       "      <td>...</td>\n",
       "      <td>...</td>\n",
       "      <td>...</td>\n",
       "      <td>...</td>\n",
       "      <td>...</td>\n",
       "    </tr>\n",
       "    <tr>\n",
       "      <th>74192</th>\n",
       "      <td>2019-11-03 23:46:47</td>\n",
       "      <td>map</td>\n",
       "      <td>d157bffc-264d-4464-8220-1cc0c42f43a9</td>\n",
       "      <td>2</td>\n",
       "      <td>google</td>\n",
       "    </tr>\n",
       "    <tr>\n",
       "      <th>74193</th>\n",
       "      <td>2019-11-03 23:46:58</td>\n",
       "      <td>advert_open</td>\n",
       "      <td>d157bffc-264d-4464-8220-1cc0c42f43a9</td>\n",
       "      <td>2</td>\n",
       "      <td>google</td>\n",
       "    </tr>\n",
       "    <tr>\n",
       "      <th>74194</th>\n",
       "      <td>2019-11-03 23:47:01</td>\n",
       "      <td>tips_show</td>\n",
       "      <td>d157bffc-264d-4464-8220-1cc0c42f43a9</td>\n",
       "      <td>2</td>\n",
       "      <td>google</td>\n",
       "    </tr>\n",
       "    <tr>\n",
       "      <th>74195</th>\n",
       "      <td>2019-11-03 23:47:47</td>\n",
       "      <td>advert_open</td>\n",
       "      <td>d157bffc-264d-4464-8220-1cc0c42f43a9</td>\n",
       "      <td>2</td>\n",
       "      <td>google</td>\n",
       "    </tr>\n",
       "    <tr>\n",
       "      <th>74196</th>\n",
       "      <td>2019-11-03 23:47:50</td>\n",
       "      <td>tips_show</td>\n",
       "      <td>d157bffc-264d-4464-8220-1cc0c42f43a9</td>\n",
       "      <td>2</td>\n",
       "      <td>google</td>\n",
       "    </tr>\n",
       "  </tbody>\n",
       "</table>\n",
       "<p>74197 rows × 5 columns</p>\n",
       "</div>"
      ],
      "text/plain": [
       "               event_time   event_name                               user_id  \\\n",
       "0     2019-10-07 00:00:00  advert_open  020292ab-89bc-4156-9acf-68bc2783f894   \n",
       "1     2019-10-07 00:00:01    tips_show  020292ab-89bc-4156-9acf-68bc2783f894   \n",
       "2     2019-10-07 00:00:07    tips_show  020292ab-89bc-4156-9acf-68bc2783f894   \n",
       "3     2019-10-07 00:01:27  advert_open  020292ab-89bc-4156-9acf-68bc2783f894   \n",
       "4     2019-10-07 00:01:34    tips_show  020292ab-89bc-4156-9acf-68bc2783f894   \n",
       "...                   ...          ...                                   ...   \n",
       "74192 2019-11-03 23:46:47          map  d157bffc-264d-4464-8220-1cc0c42f43a9   \n",
       "74193 2019-11-03 23:46:58  advert_open  d157bffc-264d-4464-8220-1cc0c42f43a9   \n",
       "74194 2019-11-03 23:47:01    tips_show  d157bffc-264d-4464-8220-1cc0c42f43a9   \n",
       "74195 2019-11-03 23:47:47  advert_open  d157bffc-264d-4464-8220-1cc0c42f43a9   \n",
       "74196 2019-11-03 23:47:50    tips_show  d157bffc-264d-4464-8220-1cc0c42f43a9   \n",
       "\n",
       "       group  source  \n",
       "0          2   other  \n",
       "1          2   other  \n",
       "2          2   other  \n",
       "3          2   other  \n",
       "4          2   other  \n",
       "...      ...     ...  \n",
       "74192      2  google  \n",
       "74193      2  google  \n",
       "74194      2  google  \n",
       "74195      2  google  \n",
       "74196      2  google  \n",
       "\n",
       "[74197 rows x 5 columns]"
      ]
     },
     "execution_count": 32,
     "metadata": {},
     "output_type": "execute_result"
    }
   ],
   "source": [
    "#добавим к основной таблице информацию об источнике из таблицы df_soures\n",
    "soures_total_table = df_mobile_filtred.merge(df_soures, on = 'user_id')\n",
    "#выгрузим эту таблицу для использования в Tableau, предварительно заменив тип данны с втолбце с группой на целочисленный\n",
    "soures_total_table['group'] = soures_total_table['group'].astype('int')\n",
    "#soures_total_table.to_csv('soures_total_table.csv', encoding='utf-8', index=False)\n",
    "soures_total_table"
   ]
  },
  {
   "cell_type": "code",
   "execution_count": 33,
   "metadata": {},
   "outputs": [],
   "source": [
    "#Сгруппируем данные\n",
    "soures_total_table = soures_total_table.pivot_table(index='source', columns='group', values='user_id', aggfunc='nunique').reset_index()"
   ]
  },
  {
   "cell_type": "code",
   "execution_count": 34,
   "metadata": {},
   "outputs": [
    {
     "data": {
      "text/html": [
       "<div>\n",
       "<style scoped>\n",
       "    .dataframe tbody tr th:only-of-type {\n",
       "        vertical-align: middle;\n",
       "    }\n",
       "\n",
       "    .dataframe tbody tr th {\n",
       "        vertical-align: top;\n",
       "    }\n",
       "\n",
       "    .dataframe thead th {\n",
       "        text-align: right;\n",
       "    }\n",
       "</style>\n",
       "<table border=\"1\" class=\"dataframe\">\n",
       "  <thead>\n",
       "    <tr style=\"text-align: right;\">\n",
       "      <th></th>\n",
       "      <th>group</th>\n",
       "      <th>user_id</th>\n",
       "    </tr>\n",
       "  </thead>\n",
       "  <tbody>\n",
       "    <tr>\n",
       "      <th>0</th>\n",
       "      <td>1.0</td>\n",
       "      <td>981</td>\n",
       "    </tr>\n",
       "    <tr>\n",
       "      <th>1</th>\n",
       "      <td>2.0</td>\n",
       "      <td>3312</td>\n",
       "    </tr>\n",
       "  </tbody>\n",
       "</table>\n",
       "</div>"
      ],
      "text/plain": [
       "   group  user_id\n",
       "0    1.0      981\n",
       "1    2.0     3312"
      ]
     },
     "execution_count": 34,
     "metadata": {},
     "output_type": "execute_result"
    }
   ],
   "source": [
    "users_total_table"
   ]
  },
  {
   "cell_type": "code",
   "execution_count": 35,
   "metadata": {},
   "outputs": [
    {
     "data": {
      "text/html": [
       "<div>\n",
       "<style scoped>\n",
       "    .dataframe tbody tr th:only-of-type {\n",
       "        vertical-align: middle;\n",
       "    }\n",
       "\n",
       "    .dataframe tbody tr th {\n",
       "        vertical-align: top;\n",
       "    }\n",
       "\n",
       "    .dataframe thead th {\n",
       "        text-align: right;\n",
       "    }\n",
       "</style>\n",
       "<table border=\"1\" class=\"dataframe\">\n",
       "  <thead>\n",
       "    <tr style=\"text-align: right;\">\n",
       "      <th>group</th>\n",
       "      <th>source</th>\n",
       "      <th>1</th>\n",
       "      <th>2</th>\n",
       "      <th>total</th>\n",
       "      <th>total_1</th>\n",
       "      <th>total_2</th>\n",
       "      <th>total_1_share</th>\n",
       "      <th>total_2_share</th>\n",
       "      <th>diff</th>\n",
       "    </tr>\n",
       "  </thead>\n",
       "  <tbody>\n",
       "    <tr>\n",
       "      <th>0</th>\n",
       "      <td>google</td>\n",
       "      <td>275</td>\n",
       "      <td>854</td>\n",
       "      <td>1129</td>\n",
       "      <td>981</td>\n",
       "      <td>3312</td>\n",
       "      <td>0.280326</td>\n",
       "      <td>0.257850</td>\n",
       "      <td>0.022476</td>\n",
       "    </tr>\n",
       "    <tr>\n",
       "      <th>1</th>\n",
       "      <td>other</td>\n",
       "      <td>228</td>\n",
       "      <td>1002</td>\n",
       "      <td>1230</td>\n",
       "      <td>981</td>\n",
       "      <td>3312</td>\n",
       "      <td>0.232416</td>\n",
       "      <td>0.302536</td>\n",
       "      <td>-0.070120</td>\n",
       "    </tr>\n",
       "    <tr>\n",
       "      <th>2</th>\n",
       "      <td>yandex</td>\n",
       "      <td>478</td>\n",
       "      <td>1456</td>\n",
       "      <td>1934</td>\n",
       "      <td>981</td>\n",
       "      <td>3312</td>\n",
       "      <td>0.487258</td>\n",
       "      <td>0.439614</td>\n",
       "      <td>0.047644</td>\n",
       "    </tr>\n",
       "  </tbody>\n",
       "</table>\n",
       "</div>"
      ],
      "text/plain": [
       "group  source    1     2  total  total_1  total_2  total_1_share  \\\n",
       "0      google  275   854   1129      981     3312       0.280326   \n",
       "1       other  228  1002   1230      981     3312       0.232416   \n",
       "2      yandex  478  1456   1934      981     3312       0.487258   \n",
       "\n",
       "group  total_2_share      diff  \n",
       "0           0.257850  0.022476  \n",
       "1           0.302536 -0.070120  \n",
       "2           0.439614  0.047644  "
      ]
     },
     "execution_count": 35,
     "metadata": {},
     "output_type": "execute_result"
    }
   ],
   "source": [
    "soures_total_table['total'] = soures_total_table.sum(axis=1)\n",
    "soures_total_table['total_1'] = users_total_table[users_total_table['group'] == 1]['user_id'][0]\n",
    "soures_total_table['total_2'] = users_total_table[users_total_table['group'] == 2]['user_id'][1]\n",
    "soures_total_table['total_1_share'] = soures_total_table[1] / soures_total_table['total_1']\n",
    "soures_total_table['total_2_share'] = soures_total_table[2] / soures_total_table['total_2']\n",
    "soures_total_table['diff'] = soures_total_table['total_1_share'] - soures_total_table['total_2_share']\n",
    "\n",
    "soures_total_table"
   ]
  },
  {
   "cell_type": "code",
   "execution_count": 36,
   "metadata": {},
   "outputs": [
    {
     "name": "stdout",
     "output_type": "stream",
     "text": [
      "Проверим гипотезу для события google\n",
      "p-значение: 0.16017834813412735\n",
      "Не получилось отвергнуть нулевую гипотезу\n",
      "\n",
      "Проверим гипотезу для события other\n",
      "p-значение: 1.9850881263797683e-05\n",
      "Отвергаем нулевую гипотезу\n",
      "\n",
      "Проверим гипотезу для события yandex\n",
      "p-значение: 0.008428942598692516\n",
      "Отвергаем нулевую гипотезу\n",
      "\n"
     ]
    }
   ],
   "source": [
    "z_value_method(soures_total_table, 'source')"
   ]
  },
  {
   "cell_type": "markdown",
   "metadata": {},
   "source": [
    "**Вывод** пользователи, которые установили приложение из источника - Google, равновероятно могут как совершить ЦД, так и не сделать этого , для них не получилось отвергнуть нулевую гипотезу, т.е доли группы_1- пользователи совершившие просмотр контакта и группы_2- пользователи не совершившие ЦД, равны.\n",
    "Пользователи от Yandex, наоборот более склонны к совершению ЦД.\n",
    "А вот пользователи, скачавшие приложение из других источников, скорее не совершат ЦД, чем сделают это.\n"
   ]
  },
  {
   "cell_type": "markdown",
   "metadata": {},
   "source": [
    "<a id='conclution'></a>  \n",
    "## Общий вывод"
   ]
  },
  {
   "cell_type": "markdown",
   "metadata": {},
   "source": [
    "Наиболее часто выполняемые пользователем действия в приложении: увидел рекомендованные объявления, просмотрел фотографий в объявлении, открыл карточки объявления. При этом стоит отметить, что событие - просмотр карты, совершают не так часто, но практически все пользователи.\n",
    "\n",
    "Из всех имеющихся событий основное влияние на увеличение конверсии в группе, где пользователи совершили ЦД, оказывают следующие действия: просмотр фотографий в объявлении, search_1, добавление объявление в избранное, клик по рекомендованному объявлению. Т.е совершение этих действий пользователем повышает вероятность просмотра контактов.\n",
    "\n",
    "Такие события как: увидел рекомендованные объявления, открыл карту объявлений, открыл карточки объявления — это те действия, которых достаточно, чтобы получить предварительную информацию об объявлении, т.о в группе пользователей, не совершивших ЦД эти действия преобладают.\n",
    "\n",
    "\n",
    "Также посмотрели, на каком обычно действии останавливаются пользователи, прежде чем совершить свой выбор объявления, оказалось, что это: tips_show и photos_show — это скорее всего объясняется тем, что в целом эти события самые часто совершаемые.\n",
    "\n",
    "По итогам проверок гипотез выяснили, что:\n",
    "\n",
    "1) пользователи, которые помимо того, что увидели рекомендованное объявление еще и кликают на него, совершаю ЦД чаще, чем те, кто просто увидел рекомендованное объявление.\n",
    "\n",
    "2) пользователи, которые устанавливают приложение из источника Yandex более склонны к совершению ЦД, из источника Google такой склонности не имеют, а пользователи от других источников, с большей вероятностью не совершат просмотр контакта.\n",
    "\n",
    "\n",
    "Рекомендации:\n",
    "\n",
    "Так как выяснилось, что  просмотр фотографий в объявлении, search_1, добавление объявление в избранное, клик по рекомендованному объявлению - приводят пользователя к совершению ЦД сильнее остальных событий, можно порекомендовать поработать над ними, еще больше усилив их эффект, так например можно:\n",
    "\n",
    "1) установить встроенные фильтры, которые будут улучшать качество фотографий товара, чтобы они были более привлекательные для пользователя;\n",
    "\n",
    "2) кнопку - добавление в избранное – сделать более видимой: увеличить в размере, поработать над ее цветом и яркостью.\n",
    "\n",
    "3) над кликом по рекомендованному объявлению работать сложнее, т.к пользователь совершит это действие, если в целом объявление заинтересует его, но опять же, можно усилить кликабельность с помощью дополнительных подсветок при наведении курсора на объявление.\n",
    "\n",
    "Также имеет смысл купить рекламу у Yandex, т.к его аудитория больше проявляет интерес к объявлениям приложения и совершает ЦД. \n"
   ]
  },
  {
   "cell_type": "code",
   "execution_count": null,
   "metadata": {},
   "outputs": [],
   "source": []
  }
 ],
 "metadata": {
  "ExecuteTimeLog": [
   {
    "duration": 84,
    "start_time": "2021-10-10T15:52:58.623Z"
   },
   {
    "duration": 1584,
    "start_time": "2021-10-10T15:55:02.411Z"
   },
   {
    "duration": 2477,
    "start_time": "2021-10-10T15:55:07.851Z"
   },
   {
    "duration": 1238,
    "start_time": "2021-10-10T15:55:14.996Z"
   },
   {
    "duration": 5,
    "start_time": "2021-10-10T15:55:40.001Z"
   },
   {
    "duration": 6,
    "start_time": "2021-10-10T15:55:51.473Z"
   },
   {
    "duration": 75,
    "start_time": "2021-10-10T15:55:56.746Z"
   },
   {
    "duration": 606,
    "start_time": "2021-10-10T15:56:04.115Z"
   },
   {
    "duration": 8,
    "start_time": "2021-10-10T15:56:30.992Z"
   },
   {
    "duration": 9,
    "start_time": "2021-10-10T15:56:45.251Z"
   },
   {
    "duration": 80,
    "start_time": "2021-10-10T15:57:13.047Z"
   },
   {
    "duration": 5,
    "start_time": "2021-10-10T15:58:53.227Z"
   },
   {
    "duration": 318,
    "start_time": "2021-10-10T15:59:03.845Z"
   },
   {
    "duration": 20,
    "start_time": "2021-10-10T16:03:44.152Z"
   },
   {
    "duration": 74,
    "start_time": "2021-10-10T16:05:30.199Z"
   },
   {
    "duration": 18,
    "start_time": "2021-10-10T16:17:23.639Z"
   },
   {
    "duration": 60,
    "start_time": "2021-10-10T16:19:01.151Z"
   },
   {
    "duration": 11,
    "start_time": "2021-10-10T16:23:23.795Z"
   },
   {
    "duration": 59,
    "start_time": "2021-10-10T16:24:05.632Z"
   },
   {
    "duration": 56,
    "start_time": "2021-10-10T16:24:20.778Z"
   },
   {
    "duration": 51,
    "start_time": "2021-10-10T16:24:27.170Z"
   },
   {
    "duration": 49,
    "start_time": "2021-10-10T16:24:43.326Z"
   },
   {
    "duration": 50,
    "start_time": "2021-10-10T16:27:49.723Z"
   },
   {
    "duration": 66,
    "start_time": "2021-10-10T16:30:27.810Z"
   },
   {
    "duration": 70,
    "start_time": "2021-10-10T16:30:46.976Z"
   },
   {
    "duration": 63,
    "start_time": "2021-10-10T16:30:56.321Z"
   },
   {
    "duration": 58,
    "start_time": "2021-10-10T16:31:02.786Z"
   },
   {
    "duration": 19,
    "start_time": "2021-10-10T16:34:23.112Z"
   },
   {
    "duration": 19,
    "start_time": "2021-10-10T16:35:27.314Z"
   },
   {
    "duration": 27,
    "start_time": "2021-10-10T16:35:44.267Z"
   },
   {
    "duration": 18,
    "start_time": "2021-10-10T16:35:48.635Z"
   },
   {
    "duration": 337,
    "start_time": "2021-10-10T16:37:28.096Z"
   },
   {
    "duration": 220,
    "start_time": "2021-10-10T16:37:35.873Z"
   },
   {
    "duration": 1537,
    "start_time": "2021-10-10T16:37:50.703Z"
   },
   {
    "duration": 3145,
    "start_time": "2021-10-10T16:37:52.242Z"
   },
   {
    "duration": 1095,
    "start_time": "2021-10-10T16:37:55.390Z"
   },
   {
    "duration": 4,
    "start_time": "2021-10-10T16:37:56.487Z"
   },
   {
    "duration": 9,
    "start_time": "2021-10-10T16:37:56.493Z"
   },
   {
    "duration": 611,
    "start_time": "2021-10-10T16:37:56.503Z"
   },
   {
    "duration": 7,
    "start_time": "2021-10-10T16:37:57.116Z"
   },
   {
    "duration": 24,
    "start_time": "2021-10-10T16:37:57.125Z"
   },
   {
    "duration": 21,
    "start_time": "2021-10-10T16:37:57.152Z"
   },
   {
    "duration": 4,
    "start_time": "2021-10-10T16:37:57.175Z"
   },
   {
    "duration": 362,
    "start_time": "2021-10-10T16:37:57.181Z"
   },
   {
    "duration": 18,
    "start_time": "2021-10-10T16:37:57.545Z"
   },
   {
    "duration": 67,
    "start_time": "2021-10-10T16:37:57.565Z"
   },
   {
    "duration": 31,
    "start_time": "2021-10-10T16:37:57.634Z"
   },
   {
    "duration": 27,
    "start_time": "2021-10-10T16:37:57.667Z"
   },
   {
    "duration": 21,
    "start_time": "2021-10-10T16:40:20.315Z"
   },
   {
    "duration": 22,
    "start_time": "2021-10-10T16:40:27.376Z"
   },
   {
    "duration": 20,
    "start_time": "2021-10-10T16:41:13.687Z"
   },
   {
    "duration": 367,
    "start_time": "2021-10-10T16:41:30.256Z"
   },
   {
    "duration": 17,
    "start_time": "2021-10-10T16:41:36.898Z"
   },
   {
    "duration": 18,
    "start_time": "2021-10-10T16:43:48.240Z"
   },
   {
    "duration": 4,
    "start_time": "2021-10-10T17:57:04.949Z"
   },
   {
    "duration": 51,
    "start_time": "2021-10-10T17:57:44.586Z"
   },
   {
    "duration": 118,
    "start_time": "2021-10-10T17:57:58.703Z"
   },
   {
    "duration": 1799,
    "start_time": "2021-10-10T17:58:33.967Z"
   },
   {
    "duration": 63,
    "start_time": "2021-10-10T17:59:10.495Z"
   },
   {
    "duration": 1722,
    "start_time": "2021-10-10T17:59:43.273Z"
   },
   {
    "duration": 3067,
    "start_time": "2021-10-10T17:59:44.997Z"
   },
   {
    "duration": 1262,
    "start_time": "2021-10-10T17:59:48.066Z"
   },
   {
    "duration": 4,
    "start_time": "2021-10-10T17:59:49.331Z"
   },
   {
    "duration": 10,
    "start_time": "2021-10-10T17:59:49.337Z"
   },
   {
    "duration": 625,
    "start_time": "2021-10-10T17:59:49.349Z"
   },
   {
    "duration": 7,
    "start_time": "2021-10-10T17:59:49.976Z"
   },
   {
    "duration": 9,
    "start_time": "2021-10-10T17:59:49.985Z"
   },
   {
    "duration": 21,
    "start_time": "2021-10-10T17:59:49.996Z"
   },
   {
    "duration": 31,
    "start_time": "2021-10-10T17:59:50.019Z"
   },
   {
    "duration": 320,
    "start_time": "2021-10-10T17:59:50.052Z"
   },
   {
    "duration": 17,
    "start_time": "2021-10-10T17:59:50.375Z"
   },
   {
    "duration": 80,
    "start_time": "2021-10-10T17:59:50.394Z"
   },
   {
    "duration": 16,
    "start_time": "2021-10-10T17:59:50.476Z"
   },
   {
    "duration": 31,
    "start_time": "2021-10-10T17:59:50.494Z"
   },
   {
    "duration": 39,
    "start_time": "2021-10-10T17:59:50.526Z"
   },
   {
    "duration": 22,
    "start_time": "2021-10-10T17:59:50.567Z"
   },
   {
    "duration": 19,
    "start_time": "2021-10-10T17:59:50.591Z"
   },
   {
    "duration": 77,
    "start_time": "2021-10-10T17:59:50.612Z"
   },
   {
    "duration": 130,
    "start_time": "2021-10-10T17:59:50.691Z"
   },
   {
    "duration": 593,
    "start_time": "2021-10-10T18:00:24.158Z"
   },
   {
    "duration": 1604,
    "start_time": "2021-10-10T18:00:49.301Z"
   },
   {
    "duration": 2009,
    "start_time": "2021-10-10T18:00:50.907Z"
   },
   {
    "duration": 875,
    "start_time": "2021-10-10T18:00:52.919Z"
   },
   {
    "duration": 6,
    "start_time": "2021-10-10T18:00:53.796Z"
   },
   {
    "duration": 14,
    "start_time": "2021-10-10T18:00:53.803Z"
   },
   {
    "duration": 668,
    "start_time": "2021-10-10T18:00:53.818Z"
   },
   {
    "duration": 9,
    "start_time": "2021-10-10T18:00:54.488Z"
   },
   {
    "duration": 10,
    "start_time": "2021-10-10T18:00:54.500Z"
   },
   {
    "duration": 40,
    "start_time": "2021-10-10T18:00:54.512Z"
   },
   {
    "duration": 4,
    "start_time": "2021-10-10T18:00:54.554Z"
   },
   {
    "duration": 335,
    "start_time": "2021-10-10T18:00:54.560Z"
   },
   {
    "duration": 17,
    "start_time": "2021-10-10T18:00:54.896Z"
   },
   {
    "duration": 81,
    "start_time": "2021-10-10T18:00:54.914Z"
   },
   {
    "duration": 16,
    "start_time": "2021-10-10T18:00:54.997Z"
   },
   {
    "duration": 42,
    "start_time": "2021-10-10T18:00:55.015Z"
   },
   {
    "duration": 18,
    "start_time": "2021-10-10T18:00:55.059Z"
   },
   {
    "duration": 21,
    "start_time": "2021-10-10T18:00:55.078Z"
   },
   {
    "duration": 21,
    "start_time": "2021-10-10T18:00:55.101Z"
   },
   {
    "duration": 55,
    "start_time": "2021-10-10T18:00:55.150Z"
   },
   {
    "duration": 136,
    "start_time": "2021-10-10T18:00:55.208Z"
   },
   {
    "duration": 20,
    "start_time": "2021-10-10T18:05:12.392Z"
   },
   {
    "duration": 118,
    "start_time": "2021-10-10T18:10:18.335Z"
   },
   {
    "duration": 115,
    "start_time": "2021-10-10T18:11:48.200Z"
   },
   {
    "duration": 117,
    "start_time": "2021-10-10T18:11:56.712Z"
   },
   {
    "duration": 67,
    "start_time": "2021-10-10T18:14:14.546Z"
   },
   {
    "duration": 19,
    "start_time": "2021-10-10T18:14:32.755Z"
   },
   {
    "duration": 119,
    "start_time": "2021-10-10T18:14:48.455Z"
   },
   {
    "duration": 19,
    "start_time": "2021-10-10T18:14:49.592Z"
   },
   {
    "duration": 113,
    "start_time": "2021-10-10T18:15:02.635Z"
   },
   {
    "duration": 117,
    "start_time": "2021-10-10T18:15:11.068Z"
   },
   {
    "duration": 449,
    "start_time": "2021-10-10T18:15:29.639Z"
   },
   {
    "duration": 315,
    "start_time": "2021-10-10T18:16:53.218Z"
   },
   {
    "duration": 306,
    "start_time": "2021-10-10T18:17:06.388Z"
   },
   {
    "duration": 119,
    "start_time": "2021-10-10T18:17:42.907Z"
   },
   {
    "duration": 318,
    "start_time": "2021-10-10T18:18:01.567Z"
   },
   {
    "duration": 311,
    "start_time": "2021-10-10T18:18:11.250Z"
   },
   {
    "duration": 318,
    "start_time": "2021-10-10T18:18:15.640Z"
   },
   {
    "duration": 311,
    "start_time": "2021-10-10T18:18:23.627Z"
   },
   {
    "duration": 117,
    "start_time": "2021-10-10T18:18:28.710Z"
   },
   {
    "duration": 21,
    "start_time": "2021-10-10T18:18:33.701Z"
   },
   {
    "duration": 113,
    "start_time": "2021-10-10T18:32:43.692Z"
   },
   {
    "duration": 117,
    "start_time": "2021-10-10T18:32:50.112Z"
   },
   {
    "duration": 112,
    "start_time": "2021-10-10T18:33:04.234Z"
   },
   {
    "duration": 1696,
    "start_time": "2021-10-10T18:33:10.600Z"
   },
   {
    "duration": 2559,
    "start_time": "2021-10-10T18:33:12.298Z"
   },
   {
    "duration": 1224,
    "start_time": "2021-10-10T18:33:14.860Z"
   },
   {
    "duration": 5,
    "start_time": "2021-10-10T18:33:16.085Z"
   },
   {
    "duration": 13,
    "start_time": "2021-10-10T18:33:16.091Z"
   },
   {
    "duration": 657,
    "start_time": "2021-10-10T18:33:16.105Z"
   },
   {
    "duration": 7,
    "start_time": "2021-10-10T18:33:16.764Z"
   },
   {
    "duration": 10,
    "start_time": "2021-10-10T18:33:16.773Z"
   },
   {
    "duration": 20,
    "start_time": "2021-10-10T18:33:16.786Z"
   },
   {
    "duration": 4,
    "start_time": "2021-10-10T18:33:16.808Z"
   },
   {
    "duration": 360,
    "start_time": "2021-10-10T18:33:16.813Z"
   },
   {
    "duration": 17,
    "start_time": "2021-10-10T18:33:17.175Z"
   },
   {
    "duration": 75,
    "start_time": "2021-10-10T18:33:17.194Z"
   },
   {
    "duration": 16,
    "start_time": "2021-10-10T18:33:17.271Z"
   },
   {
    "duration": 36,
    "start_time": "2021-10-10T18:33:17.289Z"
   },
   {
    "duration": 66,
    "start_time": "2021-10-10T18:33:17.327Z"
   },
   {
    "duration": 132,
    "start_time": "2021-10-10T18:33:17.395Z"
   },
   {
    "duration": 27,
    "start_time": "2021-10-10T18:33:17.529Z"
   },
   {
    "duration": 113,
    "start_time": "2021-10-10T18:33:52.895Z"
   },
   {
    "duration": 179,
    "start_time": "2021-10-10T18:34:30.163Z"
   },
   {
    "duration": 120,
    "start_time": "2021-10-10T18:34:49.673Z"
   },
   {
    "duration": 122,
    "start_time": "2021-10-10T18:35:07.540Z"
   },
   {
    "duration": 206,
    "start_time": "2021-10-10T18:35:17.863Z"
   },
   {
    "duration": 198,
    "start_time": "2021-10-10T18:35:25.862Z"
   },
   {
    "duration": 205,
    "start_time": "2021-10-10T18:35:31.055Z"
   },
   {
    "duration": 323,
    "start_time": "2021-10-10T19:37:47.377Z"
   },
   {
    "duration": 823,
    "start_time": "2021-10-10T19:43:40.031Z"
   },
   {
    "duration": 919,
    "start_time": "2021-10-10T19:43:48.679Z"
   },
   {
    "duration": 816,
    "start_time": "2021-10-10T19:43:59.842Z"
   },
   {
    "duration": 884,
    "start_time": "2021-10-10T19:45:04.000Z"
   },
   {
    "duration": 1553,
    "start_time": "2021-10-10T19:45:17.673Z"
   },
   {
    "duration": 1708,
    "start_time": "2021-10-10T19:45:19.228Z"
   },
   {
    "duration": 1219,
    "start_time": "2021-10-10T19:45:20.949Z"
   },
   {
    "duration": 5,
    "start_time": "2021-10-10T19:45:22.170Z"
   },
   {
    "duration": 16,
    "start_time": "2021-10-10T19:45:22.177Z"
   },
   {
    "duration": 661,
    "start_time": "2021-10-10T19:45:22.195Z"
   },
   {
    "duration": 6,
    "start_time": "2021-10-10T19:45:22.858Z"
   },
   {
    "duration": 11,
    "start_time": "2021-10-10T19:45:22.867Z"
   },
   {
    "duration": 20,
    "start_time": "2021-10-10T19:45:22.881Z"
   },
   {
    "duration": 5,
    "start_time": "2021-10-10T19:45:22.902Z"
   },
   {
    "duration": 349,
    "start_time": "2021-10-10T19:45:22.909Z"
   },
   {
    "duration": 19,
    "start_time": "2021-10-10T19:45:23.260Z"
   },
   {
    "duration": 85,
    "start_time": "2021-10-10T19:45:23.282Z"
   },
   {
    "duration": 17,
    "start_time": "2021-10-10T19:45:23.369Z"
   },
   {
    "duration": 28,
    "start_time": "2021-10-10T19:45:23.388Z"
   },
   {
    "duration": 71,
    "start_time": "2021-10-10T19:45:23.418Z"
   },
   {
    "duration": 130,
    "start_time": "2021-10-10T19:45:23.492Z"
   },
   {
    "duration": 28,
    "start_time": "2021-10-10T19:45:23.624Z"
   },
   {
    "duration": 835,
    "start_time": "2021-10-10T19:45:23.654Z"
   },
   {
    "duration": 1525,
    "start_time": "2021-10-10T19:45:49.977Z"
   },
   {
    "duration": 1720,
    "start_time": "2021-10-10T19:45:51.504Z"
   },
   {
    "duration": 921,
    "start_time": "2021-10-10T19:45:53.226Z"
   },
   {
    "duration": 4,
    "start_time": "2021-10-10T19:45:54.149Z"
   },
   {
    "duration": 10,
    "start_time": "2021-10-10T19:45:54.155Z"
   },
   {
    "duration": 635,
    "start_time": "2021-10-10T19:45:54.166Z"
   },
   {
    "duration": 8,
    "start_time": "2021-10-10T19:45:54.803Z"
   },
   {
    "duration": 10,
    "start_time": "2021-10-10T19:45:54.813Z"
   },
   {
    "duration": 43,
    "start_time": "2021-10-10T19:45:54.827Z"
   },
   {
    "duration": 6,
    "start_time": "2021-10-10T19:45:54.872Z"
   },
   {
    "duration": 334,
    "start_time": "2021-10-10T19:45:54.879Z"
   },
   {
    "duration": 18,
    "start_time": "2021-10-10T19:45:55.215Z"
   },
   {
    "duration": 76,
    "start_time": "2021-10-10T19:45:55.234Z"
   },
   {
    "duration": 16,
    "start_time": "2021-10-10T19:45:55.312Z"
   },
   {
    "duration": 42,
    "start_time": "2021-10-10T19:45:55.330Z"
   },
   {
    "duration": 52,
    "start_time": "2021-10-10T19:45:55.374Z"
   },
   {
    "duration": 141,
    "start_time": "2021-10-10T19:45:55.428Z"
   },
   {
    "duration": 19,
    "start_time": "2021-10-10T19:45:55.571Z"
   },
   {
    "duration": 843,
    "start_time": "2021-10-10T19:45:55.592Z"
   },
   {
    "duration": 901,
    "start_time": "2021-10-10T19:46:11.960Z"
   },
   {
    "duration": 6468,
    "start_time": "2021-10-10T19:46:46.666Z"
   },
   {
    "duration": 943,
    "start_time": "2021-10-10T19:47:02.269Z"
   },
   {
    "duration": 924,
    "start_time": "2021-10-10T19:47:27.271Z"
   },
   {
    "duration": 976,
    "start_time": "2021-10-10T19:47:37.955Z"
   },
   {
    "duration": 837,
    "start_time": "2021-10-10T19:47:53.156Z"
   },
   {
    "duration": 1691,
    "start_time": "2021-10-10T19:48:20.807Z"
   },
   {
    "duration": 1068,
    "start_time": "2021-10-10T19:48:36.639Z"
   },
   {
    "duration": 879,
    "start_time": "2021-10-10T19:50:30.505Z"
   },
   {
    "duration": 1016,
    "start_time": "2021-10-10T19:56:45.875Z"
   },
   {
    "duration": 849,
    "start_time": "2021-10-10T19:56:58.326Z"
   },
   {
    "duration": 988,
    "start_time": "2021-10-10T20:02:33.637Z"
   },
   {
    "duration": 65,
    "start_time": "2021-10-10T20:04:00.926Z"
   },
   {
    "duration": 31,
    "start_time": "2021-10-10T20:05:00.746Z"
   },
   {
    "duration": 21,
    "start_time": "2021-10-10T20:06:00.770Z"
   },
   {
    "duration": 852,
    "start_time": "2021-10-10T20:07:14.750Z"
   },
   {
    "duration": 934,
    "start_time": "2021-10-10T20:07:29.482Z"
   },
   {
    "duration": 858,
    "start_time": "2021-10-10T20:08:14.069Z"
   },
   {
    "duration": 27,
    "start_time": "2021-10-10T20:09:07.686Z"
   },
   {
    "duration": 919,
    "start_time": "2021-10-10T20:09:16.687Z"
   },
   {
    "duration": 219,
    "start_time": "2021-10-10T20:10:11.927Z"
   },
   {
    "duration": 26,
    "start_time": "2021-10-10T20:10:16.593Z"
   },
   {
    "duration": 27,
    "start_time": "2021-10-10T20:10:37.170Z"
   },
   {
    "duration": 42,
    "start_time": "2021-10-10T20:12:43.311Z"
   },
   {
    "duration": 878,
    "start_time": "2021-10-10T20:13:34.799Z"
   },
   {
    "duration": 62,
    "start_time": "2021-10-10T20:13:53.907Z"
   },
   {
    "duration": 6557,
    "start_time": "2021-10-10T20:18:52.087Z"
   },
   {
    "duration": 71,
    "start_time": "2021-10-10T20:19:10.016Z"
   },
   {
    "duration": 1615,
    "start_time": "2021-10-10T20:19:18.388Z"
   },
   {
    "duration": 1519,
    "start_time": "2021-10-10T20:19:20.005Z"
   },
   {
    "duration": 909,
    "start_time": "2021-10-10T20:19:21.527Z"
   },
   {
    "duration": 5,
    "start_time": "2021-10-10T20:19:22.438Z"
   },
   {
    "duration": 10,
    "start_time": "2021-10-10T20:19:22.445Z"
   },
   {
    "duration": 695,
    "start_time": "2021-10-10T20:19:22.457Z"
   },
   {
    "duration": 10,
    "start_time": "2021-10-10T20:19:23.155Z"
   },
   {
    "duration": 26,
    "start_time": "2021-10-10T20:19:23.167Z"
   },
   {
    "duration": 31,
    "start_time": "2021-10-10T20:19:23.196Z"
   },
   {
    "duration": 7,
    "start_time": "2021-10-10T20:19:23.229Z"
   },
   {
    "duration": 356,
    "start_time": "2021-10-10T20:19:23.238Z"
   },
   {
    "duration": 17,
    "start_time": "2021-10-10T20:19:23.596Z"
   },
   {
    "duration": 85,
    "start_time": "2021-10-10T20:19:23.615Z"
   },
   {
    "duration": 16,
    "start_time": "2021-10-10T20:19:23.702Z"
   },
   {
    "duration": 46,
    "start_time": "2021-10-10T20:19:23.720Z"
   },
   {
    "duration": 52,
    "start_time": "2021-10-10T20:19:23.767Z"
   },
   {
    "duration": 142,
    "start_time": "2021-10-10T20:19:23.820Z"
   },
   {
    "duration": 20,
    "start_time": "2021-10-10T20:19:23.964Z"
   },
   {
    "duration": 1234,
    "start_time": "2021-10-10T20:19:23.988Z"
   },
   {
    "duration": -380,
    "start_time": "2021-10-10T20:19:25.604Z"
   },
   {
    "duration": -382,
    "start_time": "2021-10-10T20:19:25.607Z"
   },
   {
    "duration": 1128,
    "start_time": "2021-10-10T20:19:51.969Z"
   },
   {
    "duration": 1622,
    "start_time": "2021-10-10T20:19:59.087Z"
   },
   {
    "duration": 1515,
    "start_time": "2021-10-10T20:20:00.711Z"
   },
   {
    "duration": 957,
    "start_time": "2021-10-10T20:20:02.228Z"
   },
   {
    "duration": 4,
    "start_time": "2021-10-10T20:20:03.187Z"
   },
   {
    "duration": 13,
    "start_time": "2021-10-10T20:20:03.193Z"
   },
   {
    "duration": 671,
    "start_time": "2021-10-10T20:20:03.207Z"
   },
   {
    "duration": 6,
    "start_time": "2021-10-10T20:20:03.880Z"
   },
   {
    "duration": 14,
    "start_time": "2021-10-10T20:20:03.888Z"
   },
   {
    "duration": 22,
    "start_time": "2021-10-10T20:20:03.904Z"
   },
   {
    "duration": 6,
    "start_time": "2021-10-10T20:20:03.949Z"
   },
   {
    "duration": 366,
    "start_time": "2021-10-10T20:20:03.958Z"
   },
   {
    "duration": 27,
    "start_time": "2021-10-10T20:20:04.326Z"
   },
   {
    "duration": 67,
    "start_time": "2021-10-10T20:20:04.355Z"
   },
   {
    "duration": 30,
    "start_time": "2021-10-10T20:20:04.424Z"
   },
   {
    "duration": 30,
    "start_time": "2021-10-10T20:20:04.456Z"
   },
   {
    "duration": 80,
    "start_time": "2021-10-10T20:20:04.488Z"
   },
   {
    "duration": 125,
    "start_time": "2021-10-10T20:20:04.569Z"
   },
   {
    "duration": 19,
    "start_time": "2021-10-10T20:20:04.696Z"
   },
   {
    "duration": 958,
    "start_time": "2021-10-10T20:20:04.717Z"
   },
   {
    "duration": 29,
    "start_time": "2021-10-10T20:20:05.677Z"
   },
   {
    "duration": 83,
    "start_time": "2021-10-10T20:20:05.708Z"
   },
   {
    "duration": 5515,
    "start_time": "2021-10-10T20:20:47.378Z"
   },
   {
    "duration": 1609,
    "start_time": "2021-10-10T20:21:06.408Z"
   },
   {
    "duration": 1670,
    "start_time": "2021-10-10T20:21:08.019Z"
   },
   {
    "duration": 979,
    "start_time": "2021-10-10T20:21:09.691Z"
   },
   {
    "duration": 4,
    "start_time": "2021-10-10T20:21:10.673Z"
   },
   {
    "duration": 10,
    "start_time": "2021-10-10T20:21:10.679Z"
   },
   {
    "duration": 698,
    "start_time": "2021-10-10T20:21:10.691Z"
   },
   {
    "duration": 7,
    "start_time": "2021-10-10T20:21:11.391Z"
   },
   {
    "duration": 9,
    "start_time": "2021-10-10T20:21:11.400Z"
   },
   {
    "duration": 49,
    "start_time": "2021-10-10T20:21:11.411Z"
   },
   {
    "duration": 5,
    "start_time": "2021-10-10T20:21:11.463Z"
   },
   {
    "duration": 357,
    "start_time": "2021-10-10T20:21:11.471Z"
   },
   {
    "duration": 28,
    "start_time": "2021-10-10T20:21:11.831Z"
   },
   {
    "duration": 67,
    "start_time": "2021-10-10T20:21:11.862Z"
   },
   {
    "duration": 38,
    "start_time": "2021-10-10T20:21:11.931Z"
   },
   {
    "duration": 29,
    "start_time": "2021-10-10T20:21:11.971Z"
   },
   {
    "duration": 88,
    "start_time": "2021-10-10T20:21:12.002Z"
   },
   {
    "duration": 132,
    "start_time": "2021-10-10T20:21:12.092Z"
   },
   {
    "duration": 27,
    "start_time": "2021-10-10T20:21:12.226Z"
   },
   {
    "duration": 999,
    "start_time": "2021-10-10T20:21:12.256Z"
   },
   {
    "duration": 31,
    "start_time": "2021-10-10T20:21:13.257Z"
   },
   {
    "duration": 92,
    "start_time": "2021-10-10T20:21:13.290Z"
   },
   {
    "duration": 27,
    "start_time": "2021-10-10T20:23:13.604Z"
   },
   {
    "duration": 1611,
    "start_time": "2021-10-10T20:23:20.684Z"
   },
   {
    "duration": 1609,
    "start_time": "2021-10-10T20:23:22.298Z"
   },
   {
    "duration": 970,
    "start_time": "2021-10-10T20:23:23.912Z"
   },
   {
    "duration": 5,
    "start_time": "2021-10-10T20:23:24.884Z"
   },
   {
    "duration": 11,
    "start_time": "2021-10-10T20:23:24.890Z"
   },
   {
    "duration": 648,
    "start_time": "2021-10-10T20:23:24.903Z"
   },
   {
    "duration": 8,
    "start_time": "2021-10-10T20:23:25.555Z"
   },
   {
    "duration": 11,
    "start_time": "2021-10-10T20:23:25.566Z"
   },
   {
    "duration": 32,
    "start_time": "2021-10-10T20:23:25.579Z"
   },
   {
    "duration": 37,
    "start_time": "2021-10-10T20:23:25.613Z"
   },
   {
    "duration": 341,
    "start_time": "2021-10-10T20:23:25.653Z"
   },
   {
    "duration": 22,
    "start_time": "2021-10-10T20:23:25.996Z"
   },
   {
    "duration": 84,
    "start_time": "2021-10-10T20:23:26.020Z"
   },
   {
    "duration": 16,
    "start_time": "2021-10-10T20:23:26.106Z"
   },
   {
    "duration": 42,
    "start_time": "2021-10-10T20:23:26.125Z"
   },
   {
    "duration": 100,
    "start_time": "2021-10-10T20:23:26.170Z"
   },
   {
    "duration": 225,
    "start_time": "2021-10-10T20:23:26.272Z"
   },
   {
    "duration": 27,
    "start_time": "2021-10-10T20:23:26.499Z"
   },
   {
    "duration": 1700,
    "start_time": "2021-10-10T20:23:26.528Z"
   },
   {
    "duration": 49,
    "start_time": "2021-10-10T20:23:28.231Z"
   },
   {
    "duration": 75,
    "start_time": "2021-10-10T20:23:28.282Z"
   },
   {
    "duration": 58,
    "start_time": "2021-10-10T20:24:06.853Z"
   },
   {
    "duration": 34,
    "start_time": "2021-10-10T20:24:47.622Z"
   },
   {
    "duration": 68,
    "start_time": "2021-10-10T20:24:50.046Z"
   },
   {
    "duration": 1612,
    "start_time": "2021-10-10T20:24:58.407Z"
   },
   {
    "duration": 1561,
    "start_time": "2021-10-10T20:25:00.021Z"
   },
   {
    "duration": 916,
    "start_time": "2021-10-10T20:25:01.584Z"
   },
   {
    "duration": 4,
    "start_time": "2021-10-10T20:25:02.502Z"
   },
   {
    "duration": 19,
    "start_time": "2021-10-10T20:25:02.508Z"
   },
   {
    "duration": 658,
    "start_time": "2021-10-10T20:25:02.529Z"
   },
   {
    "duration": 7,
    "start_time": "2021-10-10T20:25:03.189Z"
   },
   {
    "duration": 14,
    "start_time": "2021-10-10T20:25:03.198Z"
   },
   {
    "duration": 42,
    "start_time": "2021-10-10T20:25:03.215Z"
   },
   {
    "duration": 5,
    "start_time": "2021-10-10T20:25:03.259Z"
   },
   {
    "duration": 405,
    "start_time": "2021-10-10T20:25:03.266Z"
   },
   {
    "duration": 21,
    "start_time": "2021-10-10T20:25:03.673Z"
   },
   {
    "duration": 85,
    "start_time": "2021-10-10T20:25:03.696Z"
   },
   {
    "duration": 22,
    "start_time": "2021-10-10T20:25:03.784Z"
   },
   {
    "duration": 43,
    "start_time": "2021-10-10T20:25:03.808Z"
   },
   {
    "duration": 73,
    "start_time": "2021-10-10T20:25:03.853Z"
   },
   {
    "duration": 177,
    "start_time": "2021-10-10T20:25:03.928Z"
   },
   {
    "duration": 19,
    "start_time": "2021-10-10T20:25:04.106Z"
   },
   {
    "duration": 899,
    "start_time": "2021-10-10T20:25:04.127Z"
   },
   {
    "duration": 43,
    "start_time": "2021-10-10T20:25:05.028Z"
   },
   {
    "duration": 52,
    "start_time": "2021-10-10T20:25:05.073Z"
   },
   {
    "duration": 47,
    "start_time": "2021-10-10T20:25:25.391Z"
   },
   {
    "duration": 1680,
    "start_time": "2021-10-10T20:25:29.657Z"
   },
   {
    "duration": 1580,
    "start_time": "2021-10-10T20:25:31.340Z"
   },
   {
    "duration": 970,
    "start_time": "2021-10-10T20:25:32.922Z"
   },
   {
    "duration": 4,
    "start_time": "2021-10-10T20:25:33.894Z"
   },
   {
    "duration": 11,
    "start_time": "2021-10-10T20:25:33.900Z"
   },
   {
    "duration": 676,
    "start_time": "2021-10-10T20:25:33.913Z"
   },
   {
    "duration": 7,
    "start_time": "2021-10-10T20:25:34.590Z"
   },
   {
    "duration": 10,
    "start_time": "2021-10-10T20:25:34.599Z"
   },
   {
    "duration": 46,
    "start_time": "2021-10-10T20:25:34.611Z"
   },
   {
    "duration": 5,
    "start_time": "2021-10-10T20:25:34.659Z"
   },
   {
    "duration": 339,
    "start_time": "2021-10-10T20:25:34.667Z"
   },
   {
    "duration": 16,
    "start_time": "2021-10-10T20:25:35.008Z"
   },
   {
    "duration": 83,
    "start_time": "2021-10-10T20:25:35.026Z"
   },
   {
    "duration": 18,
    "start_time": "2021-10-10T20:25:35.111Z"
   },
   {
    "duration": 46,
    "start_time": "2021-10-10T20:25:35.130Z"
   },
   {
    "duration": 52,
    "start_time": "2021-10-10T20:25:35.178Z"
   },
   {
    "duration": 155,
    "start_time": "2021-10-10T20:25:35.248Z"
   },
   {
    "duration": 17,
    "start_time": "2021-10-10T20:25:35.405Z"
   },
   {
    "duration": 976,
    "start_time": "2021-10-10T20:25:35.424Z"
   },
   {
    "duration": 28,
    "start_time": "2021-10-10T20:25:36.402Z"
   },
   {
    "duration": 66,
    "start_time": "2021-10-10T20:25:36.432Z"
   },
   {
    "duration": 366,
    "start_time": "2021-10-10T20:27:26.439Z"
   },
   {
    "duration": 67,
    "start_time": "2021-10-10T20:27:36.325Z"
   },
   {
    "duration": 62,
    "start_time": "2021-10-10T20:35:28.792Z"
   },
   {
    "duration": 53,
    "start_time": "2021-10-10T20:35:43.793Z"
   },
   {
    "duration": 13,
    "start_time": "2021-10-10T20:37:05.277Z"
   },
   {
    "duration": 27,
    "start_time": "2021-10-10T20:37:09.364Z"
   },
   {
    "duration": 54,
    "start_time": "2021-10-10T20:37:15.148Z"
   },
   {
    "duration": 1520,
    "start_time": "2021-10-10T20:37:55.283Z"
   },
   {
    "duration": 2417,
    "start_time": "2021-10-10T20:37:56.805Z"
   },
   {
    "duration": 1155,
    "start_time": "2021-10-10T20:37:59.224Z"
   },
   {
    "duration": 5,
    "start_time": "2021-10-10T20:38:00.381Z"
   },
   {
    "duration": 9,
    "start_time": "2021-10-10T20:38:00.387Z"
   },
   {
    "duration": 690,
    "start_time": "2021-10-10T20:38:00.398Z"
   },
   {
    "duration": 6,
    "start_time": "2021-10-10T20:38:01.090Z"
   },
   {
    "duration": 15,
    "start_time": "2021-10-10T20:38:01.099Z"
   },
   {
    "duration": 47,
    "start_time": "2021-10-10T20:38:01.117Z"
   },
   {
    "duration": 4,
    "start_time": "2021-10-10T20:38:01.166Z"
   },
   {
    "duration": 336,
    "start_time": "2021-10-10T20:38:01.172Z"
   },
   {
    "duration": 22,
    "start_time": "2021-10-10T20:38:01.509Z"
   },
   {
    "duration": 81,
    "start_time": "2021-10-10T20:38:01.533Z"
   },
   {
    "duration": 23,
    "start_time": "2021-10-10T20:38:01.616Z"
   },
   {
    "duration": 32,
    "start_time": "2021-10-10T20:38:01.650Z"
   },
   {
    "duration": 72,
    "start_time": "2021-10-10T20:38:01.683Z"
   },
   {
    "duration": 142,
    "start_time": "2021-10-10T20:38:01.757Z"
   },
   {
    "duration": 19,
    "start_time": "2021-10-10T20:38:01.901Z"
   },
   {
    "duration": 901,
    "start_time": "2021-10-10T20:38:01.922Z"
   },
   {
    "duration": 25,
    "start_time": "2021-10-10T20:38:02.824Z"
   },
   {
    "duration": 25,
    "start_time": "2021-10-10T20:38:02.851Z"
   },
   {
    "duration": 42,
    "start_time": "2021-10-10T20:38:02.878Z"
   },
   {
    "duration": 55,
    "start_time": "2021-10-10T20:39:15.774Z"
   },
   {
    "duration": 50,
    "start_time": "2021-10-10T20:39:20.872Z"
   },
   {
    "duration": 1647,
    "start_time": "2021-10-10T20:39:25.955Z"
   },
   {
    "duration": 1605,
    "start_time": "2021-10-10T20:39:27.604Z"
   },
   {
    "duration": 960,
    "start_time": "2021-10-10T20:39:29.211Z"
   },
   {
    "duration": 4,
    "start_time": "2021-10-10T20:39:30.173Z"
   },
   {
    "duration": 14,
    "start_time": "2021-10-10T20:39:30.179Z"
   },
   {
    "duration": 666,
    "start_time": "2021-10-10T20:39:30.195Z"
   },
   {
    "duration": 6,
    "start_time": "2021-10-10T20:39:30.863Z"
   },
   {
    "duration": 17,
    "start_time": "2021-10-10T20:39:30.872Z"
   },
   {
    "duration": 33,
    "start_time": "2021-10-10T20:39:30.892Z"
   },
   {
    "duration": 5,
    "start_time": "2021-10-10T20:39:30.926Z"
   },
   {
    "duration": 330,
    "start_time": "2021-10-10T20:39:30.932Z"
   },
   {
    "duration": 17,
    "start_time": "2021-10-10T20:39:31.264Z"
   },
   {
    "duration": 80,
    "start_time": "2021-10-10T20:39:31.282Z"
   },
   {
    "duration": 17,
    "start_time": "2021-10-10T20:39:31.363Z"
   },
   {
    "duration": 44,
    "start_time": "2021-10-10T20:39:31.382Z"
   },
   {
    "duration": 58,
    "start_time": "2021-10-10T20:39:31.428Z"
   },
   {
    "duration": 122,
    "start_time": "2021-10-10T20:39:31.488Z"
   },
   {
    "duration": 39,
    "start_time": "2021-10-10T20:39:31.612Z"
   },
   {
    "duration": 857,
    "start_time": "2021-10-10T20:39:31.653Z"
   },
   {
    "duration": 11,
    "start_time": "2021-10-10T20:39:32.512Z"
   },
   {
    "duration": 43,
    "start_time": "2021-10-10T20:39:32.525Z"
   },
   {
    "duration": 43,
    "start_time": "2021-10-10T20:39:32.569Z"
   },
   {
    "duration": 35,
    "start_time": "2021-10-10T20:40:14.361Z"
   },
   {
    "duration": 16,
    "start_time": "2021-10-10T20:44:43.370Z"
   },
   {
    "duration": 11,
    "start_time": "2021-10-10T20:45:16.153Z"
   },
   {
    "duration": 1623,
    "start_time": "2021-10-10T20:45:22.474Z"
   },
   {
    "duration": 1789,
    "start_time": "2021-10-10T20:45:24.099Z"
   },
   {
    "duration": 1065,
    "start_time": "2021-10-10T20:45:25.891Z"
   },
   {
    "duration": 5,
    "start_time": "2021-10-10T20:45:26.958Z"
   },
   {
    "duration": 10,
    "start_time": "2021-10-10T20:45:26.968Z"
   },
   {
    "duration": 681,
    "start_time": "2021-10-10T20:45:26.980Z"
   },
   {
    "duration": 7,
    "start_time": "2021-10-10T20:45:27.663Z"
   },
   {
    "duration": 9,
    "start_time": "2021-10-10T20:45:27.673Z"
   },
   {
    "duration": 20,
    "start_time": "2021-10-10T20:45:27.685Z"
   },
   {
    "duration": 4,
    "start_time": "2021-10-10T20:45:27.707Z"
   },
   {
    "duration": 339,
    "start_time": "2021-10-10T20:45:27.749Z"
   },
   {
    "duration": 24,
    "start_time": "2021-10-10T20:45:28.090Z"
   },
   {
    "duration": 87,
    "start_time": "2021-10-10T20:45:28.116Z"
   },
   {
    "duration": 16,
    "start_time": "2021-10-10T20:45:28.205Z"
   },
   {
    "duration": 42,
    "start_time": "2021-10-10T20:45:28.223Z"
   },
   {
    "duration": 54,
    "start_time": "2021-10-10T20:45:28.267Z"
   },
   {
    "duration": 146,
    "start_time": "2021-10-10T20:45:28.323Z"
   },
   {
    "duration": 24,
    "start_time": "2021-10-10T20:45:28.471Z"
   },
   {
    "duration": 894,
    "start_time": "2021-10-10T20:45:28.497Z"
   },
   {
    "duration": 12,
    "start_time": "2021-10-10T20:45:29.393Z"
   },
   {
    "duration": 46,
    "start_time": "2021-10-10T20:45:29.407Z"
   },
   {
    "duration": 41,
    "start_time": "2021-10-10T20:45:29.455Z"
   },
   {
    "duration": 20,
    "start_time": "2021-10-10T20:45:29.499Z"
   },
   {
    "duration": 339,
    "start_time": "2021-10-10T20:48:38.387Z"
   },
   {
    "duration": 6,
    "start_time": "2021-10-10T20:48:41.832Z"
   },
   {
    "duration": 23,
    "start_time": "2021-10-10T20:48:43.219Z"
   },
   {
    "duration": 29,
    "start_time": "2021-10-10T20:48:52.755Z"
   },
   {
    "duration": 1685,
    "start_time": "2021-10-10T20:49:11.020Z"
   },
   {
    "duration": 1639,
    "start_time": "2021-10-10T20:49:12.707Z"
   },
   {
    "duration": 1021,
    "start_time": "2021-10-10T20:49:14.349Z"
   },
   {
    "duration": 5,
    "start_time": "2021-10-10T20:49:15.372Z"
   },
   {
    "duration": 10,
    "start_time": "2021-10-10T20:49:15.378Z"
   },
   {
    "duration": 645,
    "start_time": "2021-10-10T20:49:15.390Z"
   },
   {
    "duration": 12,
    "start_time": "2021-10-10T20:49:16.037Z"
   },
   {
    "duration": 9,
    "start_time": "2021-10-10T20:49:16.052Z"
   },
   {
    "duration": 23,
    "start_time": "2021-10-10T20:49:16.063Z"
   },
   {
    "duration": 4,
    "start_time": "2021-10-10T20:49:16.088Z"
   },
   {
    "duration": 329,
    "start_time": "2021-10-10T20:49:16.094Z"
   },
   {
    "duration": 30,
    "start_time": "2021-10-10T20:49:16.425Z"
   },
   {
    "duration": 70,
    "start_time": "2021-10-10T20:49:16.457Z"
   },
   {
    "duration": 26,
    "start_time": "2021-10-10T20:49:16.528Z"
   },
   {
    "duration": 26,
    "start_time": "2021-10-10T20:49:16.556Z"
   },
   {
    "duration": 71,
    "start_time": "2021-10-10T20:49:16.584Z"
   },
   {
    "duration": 124,
    "start_time": "2021-10-10T20:49:16.657Z"
   },
   {
    "duration": 19,
    "start_time": "2021-10-10T20:49:16.782Z"
   },
   {
    "duration": 861,
    "start_time": "2021-10-10T20:49:16.803Z"
   },
   {
    "duration": 13,
    "start_time": "2021-10-10T20:49:17.666Z"
   },
   {
    "duration": 30,
    "start_time": "2021-10-10T20:49:17.681Z"
   },
   {
    "duration": 71,
    "start_time": "2021-10-10T20:49:17.714Z"
   },
   {
    "duration": 19,
    "start_time": "2021-10-10T20:49:17.789Z"
   },
   {
    "duration": 15,
    "start_time": "2021-10-10T20:49:54.414Z"
   },
   {
    "duration": 20,
    "start_time": "2021-10-10T20:50:11.609Z"
   },
   {
    "duration": 17,
    "start_time": "2021-10-10T20:50:18.707Z"
   },
   {
    "duration": 20,
    "start_time": "2021-10-10T20:50:36.272Z"
   },
   {
    "duration": 16,
    "start_time": "2021-10-10T20:51:11.266Z"
   },
   {
    "duration": 1574,
    "start_time": "2021-10-10T20:53:07.122Z"
   },
   {
    "duration": 1611,
    "start_time": "2021-10-10T20:53:08.698Z"
   },
   {
    "duration": 1033,
    "start_time": "2021-10-10T20:53:10.311Z"
   },
   {
    "duration": 4,
    "start_time": "2021-10-10T20:53:11.347Z"
   },
   {
    "duration": 10,
    "start_time": "2021-10-10T20:53:11.353Z"
   },
   {
    "duration": 622,
    "start_time": "2021-10-10T20:53:11.365Z"
   },
   {
    "duration": 7,
    "start_time": "2021-10-10T20:53:11.989Z"
   },
   {
    "duration": 13,
    "start_time": "2021-10-10T20:53:11.998Z"
   },
   {
    "duration": 40,
    "start_time": "2021-10-10T20:53:12.013Z"
   },
   {
    "duration": 5,
    "start_time": "2021-10-10T20:53:12.055Z"
   },
   {
    "duration": 331,
    "start_time": "2021-10-10T20:53:12.061Z"
   },
   {
    "duration": 19,
    "start_time": "2021-10-10T20:53:12.393Z"
   },
   {
    "duration": 85,
    "start_time": "2021-10-10T20:53:12.414Z"
   },
   {
    "duration": 18,
    "start_time": "2021-10-10T20:53:12.502Z"
   },
   {
    "duration": 46,
    "start_time": "2021-10-10T20:53:12.522Z"
   },
   {
    "duration": 53,
    "start_time": "2021-10-10T20:53:12.571Z"
   },
   {
    "duration": 153,
    "start_time": "2021-10-10T20:53:12.626Z"
   },
   {
    "duration": 21,
    "start_time": "2021-10-10T20:53:12.781Z"
   },
   {
    "duration": 1027,
    "start_time": "2021-10-10T20:53:12.804Z"
   },
   {
    "duration": 20,
    "start_time": "2021-10-10T20:53:13.833Z"
   },
   {
    "duration": 30,
    "start_time": "2021-10-10T20:53:13.855Z"
   },
   {
    "duration": 41,
    "start_time": "2021-10-10T20:53:13.887Z"
   },
   {
    "duration": 34,
    "start_time": "2021-10-10T20:53:13.931Z"
   },
   {
    "duration": 345,
    "start_time": "2021-10-10T20:53:13.967Z"
   },
   {
    "duration": 18,
    "start_time": "2021-10-10T20:53:44.916Z"
   },
   {
    "duration": 19,
    "start_time": "2021-10-10T20:53:52.317Z"
   },
   {
    "duration": 239,
    "start_time": "2021-10-10T20:54:48.461Z"
   },
   {
    "duration": 32,
    "start_time": "2021-10-10T20:54:57.403Z"
   },
   {
    "duration": 31,
    "start_time": "2021-10-10T20:55:36.951Z"
   },
   {
    "duration": 4889,
    "start_time": "2021-10-10T20:57:48.124Z"
   },
   {
    "duration": 1634,
    "start_time": "2021-10-10T20:57:59.654Z"
   },
   {
    "duration": 1617,
    "start_time": "2021-10-10T20:58:01.290Z"
   },
   {
    "duration": 981,
    "start_time": "2021-10-10T20:58:02.909Z"
   },
   {
    "duration": 5,
    "start_time": "2021-10-10T20:58:03.892Z"
   },
   {
    "duration": 10,
    "start_time": "2021-10-10T20:58:03.898Z"
   },
   {
    "duration": 654,
    "start_time": "2021-10-10T20:58:03.910Z"
   },
   {
    "duration": 7,
    "start_time": "2021-10-10T20:58:04.565Z"
   },
   {
    "duration": 10,
    "start_time": "2021-10-10T20:58:04.575Z"
   },
   {
    "duration": 21,
    "start_time": "2021-10-10T20:58:04.587Z"
   },
   {
    "duration": 4,
    "start_time": "2021-10-10T20:58:04.610Z"
   },
   {
    "duration": 344,
    "start_time": "2021-10-10T20:58:04.616Z"
   },
   {
    "duration": 17,
    "start_time": "2021-10-10T20:58:04.962Z"
   },
   {
    "duration": 80,
    "start_time": "2021-10-10T20:58:04.981Z"
   },
   {
    "duration": 17,
    "start_time": "2021-10-10T20:58:05.063Z"
   },
   {
    "duration": 27,
    "start_time": "2021-10-10T20:58:05.082Z"
   },
   {
    "duration": 80,
    "start_time": "2021-10-10T20:58:05.111Z"
   },
   {
    "duration": 131,
    "start_time": "2021-10-10T20:58:05.193Z"
   },
   {
    "duration": 34,
    "start_time": "2021-10-10T20:58:05.326Z"
   },
   {
    "duration": 880,
    "start_time": "2021-10-10T20:58:05.362Z"
   },
   {
    "duration": 12,
    "start_time": "2021-10-10T20:58:06.244Z"
   },
   {
    "duration": 29,
    "start_time": "2021-10-10T20:58:06.258Z"
   },
   {
    "duration": 65,
    "start_time": "2021-10-10T20:58:06.289Z"
   },
   {
    "duration": 21,
    "start_time": "2021-10-10T20:58:06.358Z"
   },
   {
    "duration": 23,
    "start_time": "2021-10-10T20:58:06.380Z"
   },
   {
    "duration": 65,
    "start_time": "2021-10-10T21:00:07.435Z"
   },
   {
    "duration": 23,
    "start_time": "2021-10-10T21:01:12.625Z"
   },
   {
    "duration": 1589,
    "start_time": "2021-10-10T21:04:00.786Z"
   },
   {
    "duration": 2390,
    "start_time": "2021-10-10T21:04:02.378Z"
   },
   {
    "duration": 1347,
    "start_time": "2021-10-10T21:04:04.771Z"
   },
   {
    "duration": 4,
    "start_time": "2021-10-10T21:04:06.121Z"
   },
   {
    "duration": 9,
    "start_time": "2021-10-10T21:04:06.127Z"
   },
   {
    "duration": 630,
    "start_time": "2021-10-10T21:04:06.138Z"
   },
   {
    "duration": 8,
    "start_time": "2021-10-10T21:04:06.770Z"
   },
   {
    "duration": 9,
    "start_time": "2021-10-10T21:04:06.781Z"
   },
   {
    "duration": 19,
    "start_time": "2021-10-10T21:04:06.793Z"
   },
   {
    "duration": 4,
    "start_time": "2021-10-10T21:04:06.813Z"
   },
   {
    "duration": 346,
    "start_time": "2021-10-10T21:04:06.819Z"
   },
   {
    "duration": 16,
    "start_time": "2021-10-10T21:04:07.167Z"
   },
   {
    "duration": 79,
    "start_time": "2021-10-10T21:04:07.185Z"
   },
   {
    "duration": 16,
    "start_time": "2021-10-10T21:04:07.265Z"
   },
   {
    "duration": 25,
    "start_time": "2021-10-10T21:04:07.283Z"
   },
   {
    "duration": 74,
    "start_time": "2021-10-10T21:04:07.310Z"
   },
   {
    "duration": 124,
    "start_time": "2021-10-10T21:04:07.385Z"
   },
   {
    "duration": 18,
    "start_time": "2021-10-10T21:04:07.511Z"
   },
   {
    "duration": 867,
    "start_time": "2021-10-10T21:04:07.531Z"
   },
   {
    "duration": 11,
    "start_time": "2021-10-10T21:04:08.400Z"
   },
   {
    "duration": 41,
    "start_time": "2021-10-10T21:04:08.413Z"
   },
   {
    "duration": 47,
    "start_time": "2021-10-10T21:04:08.455Z"
   },
   {
    "duration": 19,
    "start_time": "2021-10-10T21:04:08.505Z"
   },
   {
    "duration": 43,
    "start_time": "2021-10-10T21:04:08.526Z"
   },
   {
    "duration": 14,
    "start_time": "2021-10-10T21:04:37.654Z"
   },
   {
    "duration": 20,
    "start_time": "2021-10-10T21:05:03.660Z"
   },
   {
    "duration": 17,
    "start_time": "2021-10-10T21:05:26.662Z"
   },
   {
    "duration": 21,
    "start_time": "2021-10-10T21:05:31.413Z"
   },
   {
    "duration": 21,
    "start_time": "2021-10-10T21:06:05.304Z"
   },
   {
    "duration": 22,
    "start_time": "2021-10-10T21:06:33.567Z"
   },
   {
    "duration": 347,
    "start_time": "2021-10-10T21:10:37.577Z"
   },
   {
    "duration": 23,
    "start_time": "2021-10-10T21:11:51.115Z"
   },
   {
    "duration": 25,
    "start_time": "2021-10-10T21:12:20.617Z"
   },
   {
    "duration": 555,
    "start_time": "2021-10-10T21:13:21.987Z"
   },
   {
    "duration": 25,
    "start_time": "2021-10-10T21:13:33.558Z"
   },
   {
    "duration": 23,
    "start_time": "2021-10-10T21:13:38.479Z"
   },
   {
    "duration": 25,
    "start_time": "2021-10-10T21:13:49.152Z"
   },
   {
    "duration": 12,
    "start_time": "2021-10-10T21:20:21.704Z"
   },
   {
    "duration": 46,
    "start_time": "2021-10-10T21:20:36.243Z"
   },
   {
    "duration": 45,
    "start_time": "2021-10-10T21:21:22.398Z"
   },
   {
    "duration": 17,
    "start_time": "2021-10-10T21:22:37.434Z"
   },
   {
    "duration": 16,
    "start_time": "2021-10-10T21:25:28.441Z"
   },
   {
    "duration": 6,
    "start_time": "2021-10-10T21:26:48.011Z"
   },
   {
    "duration": 2063,
    "start_time": "2021-10-11T05:34:51.385Z"
   },
   {
    "duration": 2868,
    "start_time": "2021-10-11T05:34:53.451Z"
   },
   {
    "duration": 1251,
    "start_time": "2021-10-11T05:34:56.322Z"
   },
   {
    "duration": 6,
    "start_time": "2021-10-11T05:34:57.576Z"
   },
   {
    "duration": 9,
    "start_time": "2021-10-11T05:34:57.584Z"
   },
   {
    "duration": 892,
    "start_time": "2021-10-11T05:34:57.595Z"
   },
   {
    "duration": 9,
    "start_time": "2021-10-11T05:34:58.489Z"
   },
   {
    "duration": 12,
    "start_time": "2021-10-11T05:34:58.502Z"
   },
   {
    "duration": 60,
    "start_time": "2021-10-11T05:34:58.517Z"
   },
   {
    "duration": 6,
    "start_time": "2021-10-11T05:34:58.580Z"
   },
   {
    "duration": 530,
    "start_time": "2021-10-11T05:34:58.588Z"
   },
   {
    "duration": 24,
    "start_time": "2021-10-11T05:34:59.120Z"
   },
   {
    "duration": 106,
    "start_time": "2021-10-11T05:34:59.146Z"
   },
   {
    "duration": 31,
    "start_time": "2021-10-11T05:34:59.255Z"
   },
   {
    "duration": 37,
    "start_time": "2021-10-11T05:34:59.288Z"
   },
   {
    "duration": 109,
    "start_time": "2021-10-11T05:34:59.328Z"
   },
   {
    "duration": 189,
    "start_time": "2021-10-11T05:34:59.440Z"
   },
   {
    "duration": 45,
    "start_time": "2021-10-11T05:34:59.632Z"
   },
   {
    "duration": 1689,
    "start_time": "2021-10-11T05:34:59.680Z"
   },
   {
    "duration": 15,
    "start_time": "2021-10-11T05:35:01.372Z"
   },
   {
    "duration": 56,
    "start_time": "2021-10-11T05:35:01.389Z"
   },
   {
    "duration": 95,
    "start_time": "2021-10-11T05:35:01.447Z"
   },
   {
    "duration": 41,
    "start_time": "2021-10-11T05:35:01.546Z"
   },
   {
    "duration": 36,
    "start_time": "2021-10-11T05:35:01.589Z"
   },
   {
    "duration": 89,
    "start_time": "2021-10-11T05:35:01.628Z"
   },
   {
    "duration": 477,
    "start_time": "2021-10-11T05:35:01.720Z"
   },
   {
    "duration": -662,
    "start_time": "2021-10-11T05:35:02.861Z"
   },
   {
    "duration": -677,
    "start_time": "2021-10-11T05:35:02.878Z"
   },
   {
    "duration": 25,
    "start_time": "2021-10-11T05:35:16.503Z"
   },
   {
    "duration": 23,
    "start_time": "2021-10-11T05:35:21.640Z"
   },
   {
    "duration": 13,
    "start_time": "2021-10-11T05:35:51.480Z"
   },
   {
    "duration": 2160,
    "start_time": "2021-10-11T05:37:03.375Z"
   },
   {
    "duration": 2071,
    "start_time": "2021-10-11T05:37:05.538Z"
   },
   {
    "duration": 734,
    "start_time": "2021-10-11T05:37:07.615Z"
   },
   {
    "duration": 5,
    "start_time": "2021-10-11T05:37:08.351Z"
   },
   {
    "duration": 11,
    "start_time": "2021-10-11T05:37:08.359Z"
   },
   {
    "duration": 863,
    "start_time": "2021-10-11T05:37:08.372Z"
   },
   {
    "duration": 10,
    "start_time": "2021-10-11T05:37:09.238Z"
   },
   {
    "duration": 26,
    "start_time": "2021-10-11T05:37:09.251Z"
   },
   {
    "duration": 28,
    "start_time": "2021-10-11T05:37:09.279Z"
   },
   {
    "duration": 6,
    "start_time": "2021-10-11T05:37:09.309Z"
   },
   {
    "duration": 555,
    "start_time": "2021-10-11T05:37:09.317Z"
   },
   {
    "duration": 24,
    "start_time": "2021-10-11T05:37:09.874Z"
   },
   {
    "duration": 111,
    "start_time": "2021-10-11T05:37:09.900Z"
   },
   {
    "duration": 23,
    "start_time": "2021-10-11T05:37:10.013Z"
   },
   {
    "duration": 59,
    "start_time": "2021-10-11T05:37:10.038Z"
   },
   {
    "duration": 90,
    "start_time": "2021-10-11T05:37:10.099Z"
   },
   {
    "duration": 184,
    "start_time": "2021-10-11T05:37:10.191Z"
   },
   {
    "duration": 27,
    "start_time": "2021-10-11T05:37:10.378Z"
   },
   {
    "duration": 1699,
    "start_time": "2021-10-11T05:37:10.408Z"
   },
   {
    "duration": 14,
    "start_time": "2021-10-11T05:37:12.109Z"
   },
   {
    "duration": 65,
    "start_time": "2021-10-11T05:37:12.126Z"
   },
   {
    "duration": 84,
    "start_time": "2021-10-11T05:37:12.195Z"
   },
   {
    "duration": 27,
    "start_time": "2021-10-11T05:37:12.281Z"
   },
   {
    "duration": 60,
    "start_time": "2021-10-11T05:37:12.311Z"
   },
   {
    "duration": 66,
    "start_time": "2021-10-11T05:37:12.374Z"
   },
   {
    "duration": 467,
    "start_time": "2021-10-11T05:37:12.442Z"
   },
   {
    "duration": -669,
    "start_time": "2021-10-11T05:37:13.581Z"
   },
   {
    "duration": -671,
    "start_time": "2021-10-11T05:37:13.584Z"
   },
   {
    "duration": -679,
    "start_time": "2021-10-11T05:37:13.594Z"
   },
   {
    "duration": 21,
    "start_time": "2021-10-11T05:37:32.696Z"
   },
   {
    "duration": 62,
    "start_time": "2021-10-11T05:43:38.587Z"
   },
   {
    "duration": 109,
    "start_time": "2021-10-11T05:45:17.660Z"
   },
   {
    "duration": 244,
    "start_time": "2021-10-11T05:45:28.189Z"
   },
   {
    "duration": 284,
    "start_time": "2021-10-11T05:45:59.328Z"
   },
   {
    "duration": 1990,
    "start_time": "2021-10-11T05:46:13.750Z"
   },
   {
    "duration": 4568,
    "start_time": "2021-10-11T05:46:15.742Z"
   },
   {
    "duration": 1239,
    "start_time": "2021-10-11T05:46:20.313Z"
   },
   {
    "duration": 6,
    "start_time": "2021-10-11T05:46:21.555Z"
   },
   {
    "duration": 12,
    "start_time": "2021-10-11T05:46:21.564Z"
   },
   {
    "duration": 846,
    "start_time": "2021-10-11T05:46:21.578Z"
   },
   {
    "duration": 9,
    "start_time": "2021-10-11T05:46:22.426Z"
   },
   {
    "duration": 32,
    "start_time": "2021-10-11T05:46:22.439Z"
   },
   {
    "duration": 26,
    "start_time": "2021-10-11T05:46:22.474Z"
   },
   {
    "duration": 6,
    "start_time": "2021-10-11T05:46:22.502Z"
   },
   {
    "duration": 528,
    "start_time": "2021-10-11T05:46:22.510Z"
   },
   {
    "duration": 36,
    "start_time": "2021-10-11T05:46:23.040Z"
   },
   {
    "duration": 96,
    "start_time": "2021-10-11T05:46:23.078Z"
   },
   {
    "duration": 22,
    "start_time": "2021-10-11T05:46:23.176Z"
   },
   {
    "duration": 35,
    "start_time": "2021-10-11T05:46:23.200Z"
   },
   {
    "duration": 97,
    "start_time": "2021-10-11T05:46:23.237Z"
   },
   {
    "duration": 187,
    "start_time": "2021-10-11T05:46:23.336Z"
   },
   {
    "duration": 46,
    "start_time": "2021-10-11T05:46:23.526Z"
   },
   {
    "duration": 1666,
    "start_time": "2021-10-11T05:46:23.574Z"
   },
   {
    "duration": 28,
    "start_time": "2021-10-11T05:46:25.242Z"
   },
   {
    "duration": 41,
    "start_time": "2021-10-11T05:46:25.272Z"
   },
   {
    "duration": 98,
    "start_time": "2021-10-11T05:46:25.316Z"
   },
   {
    "duration": 28,
    "start_time": "2021-10-11T05:46:25.419Z"
   },
   {
    "duration": 54,
    "start_time": "2021-10-11T05:46:25.449Z"
   },
   {
    "duration": 94,
    "start_time": "2021-10-11T05:46:25.506Z"
   },
   {
    "duration": 500,
    "start_time": "2021-10-11T05:46:25.603Z"
   },
   {
    "duration": -681,
    "start_time": "2021-10-11T05:46:26.788Z"
   },
   {
    "duration": -682,
    "start_time": "2021-10-11T05:46:26.791Z"
   },
   {
    "duration": 1562,
    "start_time": "2021-10-11T05:47:42.197Z"
   },
   {
    "duration": 1994,
    "start_time": "2021-10-11T05:47:50.732Z"
   },
   {
    "duration": 1876,
    "start_time": "2021-10-11T05:47:52.729Z"
   },
   {
    "duration": 836,
    "start_time": "2021-10-11T05:47:54.608Z"
   },
   {
    "duration": 5,
    "start_time": "2021-10-11T05:47:55.447Z"
   },
   {
    "duration": 12,
    "start_time": "2021-10-11T05:47:55.455Z"
   },
   {
    "duration": 850,
    "start_time": "2021-10-11T05:47:55.469Z"
   },
   {
    "duration": 9,
    "start_time": "2021-10-11T05:47:56.321Z"
   },
   {
    "duration": 37,
    "start_time": "2021-10-11T05:47:56.336Z"
   },
   {
    "duration": 28,
    "start_time": "2021-10-11T05:47:56.378Z"
   },
   {
    "duration": 7,
    "start_time": "2021-10-11T05:47:56.409Z"
   },
   {
    "duration": 559,
    "start_time": "2021-10-11T05:47:56.419Z"
   },
   {
    "duration": 25,
    "start_time": "2021-10-11T05:47:56.981Z"
   },
   {
    "duration": 117,
    "start_time": "2021-10-11T05:47:57.008Z"
   },
   {
    "duration": 38,
    "start_time": "2021-10-11T05:47:57.129Z"
   },
   {
    "duration": 38,
    "start_time": "2021-10-11T05:47:57.170Z"
   },
   {
    "duration": 98,
    "start_time": "2021-10-11T05:47:57.211Z"
   },
   {
    "duration": 183,
    "start_time": "2021-10-11T05:47:57.312Z"
   },
   {
    "duration": 25,
    "start_time": "2021-10-11T05:47:57.498Z"
   },
   {
    "duration": 1677,
    "start_time": "2021-10-11T05:47:57.525Z"
   },
   {
    "duration": 15,
    "start_time": "2021-10-11T05:47:59.204Z"
   },
   {
    "duration": 61,
    "start_time": "2021-10-11T05:47:59.222Z"
   },
   {
    "duration": 94,
    "start_time": "2021-10-11T05:47:59.285Z"
   },
   {
    "duration": 28,
    "start_time": "2021-10-11T05:47:59.383Z"
   },
   {
    "duration": 61,
    "start_time": "2021-10-11T05:47:59.413Z"
   },
   {
    "duration": 63,
    "start_time": "2021-10-11T05:47:59.477Z"
   },
   {
    "duration": 530,
    "start_time": "2021-10-11T05:47:59.542Z"
   },
   {
    "duration": -686,
    "start_time": "2021-10-11T05:48:00.760Z"
   },
   {
    "duration": -686,
    "start_time": "2021-10-11T05:48:00.762Z"
   },
   {
    "duration": 23,
    "start_time": "2021-10-11T05:48:38.761Z"
   },
   {
    "duration": 21,
    "start_time": "2021-10-11T05:50:36.659Z"
   },
   {
    "duration": 26,
    "start_time": "2021-10-11T05:52:15.418Z"
   },
   {
    "duration": 2108,
    "start_time": "2021-10-11T05:53:45.132Z"
   },
   {
    "duration": 3252,
    "start_time": "2021-10-11T05:53:47.243Z"
   },
   {
    "duration": 939,
    "start_time": "2021-10-11T05:53:50.498Z"
   },
   {
    "duration": 6,
    "start_time": "2021-10-11T05:53:51.441Z"
   },
   {
    "duration": 10,
    "start_time": "2021-10-11T05:53:51.451Z"
   },
   {
    "duration": 870,
    "start_time": "2021-10-11T05:53:51.464Z"
   },
   {
    "duration": 30,
    "start_time": "2021-10-11T05:53:52.337Z"
   },
   {
    "duration": 15,
    "start_time": "2021-10-11T05:53:52.372Z"
   },
   {
    "duration": 30,
    "start_time": "2021-10-11T05:53:52.391Z"
   },
   {
    "duration": 6,
    "start_time": "2021-10-11T05:53:52.424Z"
   },
   {
    "duration": 537,
    "start_time": "2021-10-11T05:53:52.469Z"
   },
   {
    "duration": 23,
    "start_time": "2021-10-11T05:53:53.009Z"
   },
   {
    "duration": 105,
    "start_time": "2021-10-11T05:53:53.034Z"
   },
   {
    "duration": 36,
    "start_time": "2021-10-11T05:53:53.141Z"
   },
   {
    "duration": 36,
    "start_time": "2021-10-11T05:53:53.180Z"
   },
   {
    "duration": 106,
    "start_time": "2021-10-11T05:53:53.218Z"
   },
   {
    "duration": 182,
    "start_time": "2021-10-11T05:53:53.326Z"
   },
   {
    "duration": 31,
    "start_time": "2021-10-11T05:53:53.511Z"
   },
   {
    "duration": 1683,
    "start_time": "2021-10-11T05:53:53.545Z"
   },
   {
    "duration": 16,
    "start_time": "2021-10-11T05:53:55.230Z"
   },
   {
    "duration": 58,
    "start_time": "2021-10-11T05:53:55.249Z"
   },
   {
    "duration": 94,
    "start_time": "2021-10-11T05:53:55.310Z"
   },
   {
    "duration": 26,
    "start_time": "2021-10-11T05:53:55.409Z"
   },
   {
    "duration": 51,
    "start_time": "2021-10-11T05:53:55.438Z"
   },
   {
    "duration": 89,
    "start_time": "2021-10-11T05:53:55.492Z"
   },
   {
    "duration": 20,
    "start_time": "2021-10-11T05:53:55.584Z"
   },
   {
    "duration": 23,
    "start_time": "2021-10-11T05:53:55.607Z"
   },
   {
    "duration": 543,
    "start_time": "2021-10-11T05:53:55.633Z"
   },
   {
    "duration": 311,
    "start_time": "2021-10-11T05:55:09.389Z"
   },
   {
    "duration": 109,
    "start_time": "2021-10-11T05:56:33.678Z"
   },
   {
    "duration": 10,
    "start_time": "2021-10-11T05:56:45.246Z"
   },
   {
    "duration": 19,
    "start_time": "2021-10-11T05:56:52.765Z"
   },
   {
    "duration": 19,
    "start_time": "2021-10-11T05:57:20.168Z"
   },
   {
    "duration": 313,
    "start_time": "2021-10-11T05:58:45.040Z"
   },
   {
    "duration": 10,
    "start_time": "2021-10-11T05:59:03.218Z"
   },
   {
    "duration": 10,
    "start_time": "2021-10-11T05:59:29.305Z"
   },
   {
    "duration": 24,
    "start_time": "2021-10-11T05:59:38.244Z"
   },
   {
    "duration": 10,
    "start_time": "2021-10-11T05:59:48.184Z"
   },
   {
    "duration": 10,
    "start_time": "2021-10-11T06:00:21.439Z"
   },
   {
    "duration": 10,
    "start_time": "2021-10-11T06:00:28.921Z"
   },
   {
    "duration": 22,
    "start_time": "2021-10-11T06:00:34.909Z"
   },
   {
    "duration": 303,
    "start_time": "2021-10-11T06:03:45.633Z"
   },
   {
    "duration": 283,
    "start_time": "2021-10-11T06:04:14.641Z"
   },
   {
    "duration": 81,
    "start_time": "2021-10-11T06:04:27.957Z"
   },
   {
    "duration": 16,
    "start_time": "2021-10-11T06:05:19.955Z"
   },
   {
    "duration": 22,
    "start_time": "2021-10-11T06:06:21.253Z"
   },
   {
    "duration": 14,
    "start_time": "2021-10-11T06:07:01.845Z"
   },
   {
    "duration": 15,
    "start_time": "2021-10-11T06:08:05.876Z"
   },
   {
    "duration": 17,
    "start_time": "2021-10-11T06:08:47.729Z"
   },
   {
    "duration": 326,
    "start_time": "2021-10-11T06:09:04.454Z"
   },
   {
    "duration": 18,
    "start_time": "2021-10-11T06:09:16.471Z"
   },
   {
    "duration": 18,
    "start_time": "2021-10-11T06:09:36.354Z"
   },
   {
    "duration": 7324,
    "start_time": "2021-10-11T06:11:06.182Z"
   },
   {
    "duration": 8,
    "start_time": "2021-10-11T06:11:31.768Z"
   },
   {
    "duration": 19,
    "start_time": "2021-10-11T06:11:48.194Z"
   },
   {
    "duration": 270,
    "start_time": "2021-10-11T06:18:54.848Z"
   },
   {
    "duration": 274,
    "start_time": "2021-10-11T06:19:14.334Z"
   },
   {
    "duration": 92,
    "start_time": "2021-10-11T06:19:28.338Z"
   },
   {
    "duration": 276,
    "start_time": "2021-10-11T06:19:39.393Z"
   },
   {
    "duration": 8,
    "start_time": "2021-10-11T06:19:54.386Z"
   },
   {
    "duration": 238,
    "start_time": "2021-10-11T06:20:20.297Z"
   },
   {
    "duration": 5,
    "start_time": "2021-10-11T06:20:23.898Z"
   },
   {
    "duration": 252,
    "start_time": "2021-10-11T06:20:24.704Z"
   },
   {
    "duration": 7,
    "start_time": "2021-10-11T06:20:32.842Z"
   },
   {
    "duration": 4596,
    "start_time": "2021-10-11T06:20:39.692Z"
   },
   {
    "duration": 8,
    "start_time": "2021-10-11T06:20:53.565Z"
   },
   {
    "duration": 5,
    "start_time": "2021-10-11T06:21:00.984Z"
   },
   {
    "duration": 5,
    "start_time": "2021-10-11T06:21:16.913Z"
   },
   {
    "duration": 5,
    "start_time": "2021-10-11T06:21:26.667Z"
   },
   {
    "duration": 5,
    "start_time": "2021-10-11T06:21:40.955Z"
   },
   {
    "duration": 36,
    "start_time": "2021-10-11T17:56:11.841Z"
   },
   {
    "duration": 48,
    "start_time": "2021-10-11T17:56:35.229Z"
   },
   {
    "duration": 42,
    "start_time": "2021-10-11T18:03:07.360Z"
   },
   {
    "duration": 71,
    "start_time": "2021-10-11T18:03:29.644Z"
   },
   {
    "duration": 16,
    "start_time": "2021-10-11T18:03:56.528Z"
   },
   {
    "duration": 297,
    "start_time": "2021-10-11T18:05:40.773Z"
   },
   {
    "duration": 271,
    "start_time": "2021-10-11T18:05:47.592Z"
   },
   {
    "duration": 2076,
    "start_time": "2021-10-11T18:06:19.563Z"
   },
   {
    "duration": 3108,
    "start_time": "2021-10-11T18:06:21.642Z"
   },
   {
    "duration": 1223,
    "start_time": "2021-10-11T18:06:24.770Z"
   },
   {
    "duration": 6,
    "start_time": "2021-10-11T18:06:25.996Z"
   },
   {
    "duration": 13,
    "start_time": "2021-10-11T18:06:26.005Z"
   },
   {
    "duration": 913,
    "start_time": "2021-10-11T18:06:26.020Z"
   },
   {
    "duration": 10,
    "start_time": "2021-10-11T18:06:26.937Z"
   },
   {
    "duration": 13,
    "start_time": "2021-10-11T18:06:26.967Z"
   },
   {
    "duration": 30,
    "start_time": "2021-10-11T18:06:26.983Z"
   },
   {
    "duration": 6,
    "start_time": "2021-10-11T18:06:27.016Z"
   },
   {
    "duration": 592,
    "start_time": "2021-10-11T18:06:27.024Z"
   },
   {
    "duration": 27,
    "start_time": "2021-10-11T18:06:27.619Z"
   },
   {
    "duration": 104,
    "start_time": "2021-10-11T18:06:27.667Z"
   },
   {
    "duration": 25,
    "start_time": "2021-10-11T18:06:27.774Z"
   },
   {
    "duration": 67,
    "start_time": "2021-10-11T18:06:27.802Z"
   },
   {
    "duration": 95,
    "start_time": "2021-10-11T18:06:27.872Z"
   },
   {
    "duration": 191,
    "start_time": "2021-10-11T18:06:27.969Z"
   },
   {
    "duration": 30,
    "start_time": "2021-10-11T18:06:28.162Z"
   },
   {
    "duration": 1781,
    "start_time": "2021-10-11T18:06:28.195Z"
   },
   {
    "duration": 16,
    "start_time": "2021-10-11T18:06:29.978Z"
   },
   {
    "duration": 42,
    "start_time": "2021-10-11T18:06:29.997Z"
   },
   {
    "duration": 99,
    "start_time": "2021-10-11T18:06:30.070Z"
   },
   {
    "duration": 32,
    "start_time": "2021-10-11T18:06:30.172Z"
   },
   {
    "duration": 68,
    "start_time": "2021-10-11T18:06:30.207Z"
   },
   {
    "duration": 70,
    "start_time": "2021-10-11T18:06:30.278Z"
   },
   {
    "duration": 30,
    "start_time": "2021-10-11T18:06:30.351Z"
   },
   {
    "duration": 43,
    "start_time": "2021-10-11T18:06:30.383Z"
   },
   {
    "duration": 55,
    "start_time": "2021-10-11T18:06:30.430Z"
   },
   {
    "duration": 30,
    "start_time": "2021-10-11T18:06:30.488Z"
   },
   {
    "duration": 57,
    "start_time": "2021-10-11T18:06:30.520Z"
   },
   {
    "duration": 132,
    "start_time": "2021-10-11T18:06:30.580Z"
   },
   {
    "duration": 445,
    "start_time": "2021-10-11T18:09:48.606Z"
   },
   {
    "duration": 278,
    "start_time": "2021-10-11T18:10:09.463Z"
   },
   {
    "duration": 2072,
    "start_time": "2021-10-11T18:10:23.373Z"
   },
   {
    "duration": 2452,
    "start_time": "2021-10-11T18:10:25.448Z"
   },
   {
    "duration": 1069,
    "start_time": "2021-10-11T18:10:27.903Z"
   },
   {
    "duration": 6,
    "start_time": "2021-10-11T18:10:28.975Z"
   },
   {
    "duration": 20,
    "start_time": "2021-10-11T18:10:28.983Z"
   },
   {
    "duration": 871,
    "start_time": "2021-10-11T18:10:29.006Z"
   },
   {
    "duration": 10,
    "start_time": "2021-10-11T18:10:29.881Z"
   },
   {
    "duration": 12,
    "start_time": "2021-10-11T18:10:29.895Z"
   },
   {
    "duration": 64,
    "start_time": "2021-10-11T18:10:29.910Z"
   },
   {
    "duration": 6,
    "start_time": "2021-10-11T18:10:29.976Z"
   },
   {
    "duration": 585,
    "start_time": "2021-10-11T18:10:29.984Z"
   },
   {
    "duration": 23,
    "start_time": "2021-10-11T18:10:30.571Z"
   },
   {
    "duration": 119,
    "start_time": "2021-10-11T18:10:30.597Z"
   },
   {
    "duration": 25,
    "start_time": "2021-10-11T18:10:30.718Z"
   },
   {
    "duration": 54,
    "start_time": "2021-10-11T18:10:30.745Z"
   },
   {
    "duration": 92,
    "start_time": "2021-10-11T18:10:30.802Z"
   },
   {
    "duration": 188,
    "start_time": "2021-10-11T18:10:30.896Z"
   },
   {
    "duration": 25,
    "start_time": "2021-10-11T18:10:31.087Z"
   },
   {
    "duration": 1720,
    "start_time": "2021-10-11T18:10:31.117Z"
   },
   {
    "duration": 31,
    "start_time": "2021-10-11T18:10:32.839Z"
   },
   {
    "duration": 42,
    "start_time": "2021-10-11T18:10:32.872Z"
   },
   {
    "duration": 102,
    "start_time": "2021-10-11T18:10:32.916Z"
   },
   {
    "duration": 26,
    "start_time": "2021-10-11T18:10:33.022Z"
   },
   {
    "duration": 50,
    "start_time": "2021-10-11T18:10:33.051Z"
   },
   {
    "duration": 100,
    "start_time": "2021-10-11T18:10:33.104Z"
   },
   {
    "duration": 19,
    "start_time": "2021-10-11T18:10:33.207Z"
   },
   {
    "duration": 45,
    "start_time": "2021-10-11T18:10:33.229Z"
   },
   {
    "duration": 10,
    "start_time": "2021-10-11T18:10:33.277Z"
   },
   {
    "duration": 12,
    "start_time": "2021-10-11T18:10:33.290Z"
   },
   {
    "duration": 78,
    "start_time": "2021-10-11T18:10:33.305Z"
   },
   {
    "duration": 132,
    "start_time": "2021-10-11T18:10:33.386Z"
   },
   {
    "duration": 8304,
    "start_time": "2021-10-11T18:19:32.697Z"
   },
   {
    "duration": 2067,
    "start_time": "2021-10-11T18:19:57.568Z"
   },
   {
    "duration": 2962,
    "start_time": "2021-10-11T18:19:59.638Z"
   },
   {
    "duration": 1717,
    "start_time": "2021-10-11T18:20:02.603Z"
   },
   {
    "duration": 6,
    "start_time": "2021-10-11T18:20:04.323Z"
   },
   {
    "duration": 10,
    "start_time": "2021-10-11T18:20:04.332Z"
   },
   {
    "duration": 897,
    "start_time": "2021-10-11T18:20:04.345Z"
   },
   {
    "duration": 10,
    "start_time": "2021-10-11T18:20:05.244Z"
   },
   {
    "duration": 12,
    "start_time": "2021-10-11T18:20:05.268Z"
   },
   {
    "duration": 26,
    "start_time": "2021-10-11T18:20:05.285Z"
   },
   {
    "duration": 6,
    "start_time": "2021-10-11T18:20:05.315Z"
   },
   {
    "duration": 572,
    "start_time": "2021-10-11T18:20:05.324Z"
   },
   {
    "duration": 24,
    "start_time": "2021-10-11T18:20:05.899Z"
   },
   {
    "duration": 117,
    "start_time": "2021-10-11T18:20:05.925Z"
   },
   {
    "duration": 34,
    "start_time": "2021-10-11T18:20:06.044Z"
   },
   {
    "duration": 38,
    "start_time": "2021-10-11T18:20:06.081Z"
   },
   {
    "duration": 99,
    "start_time": "2021-10-11T18:20:06.122Z"
   },
   {
    "duration": 187,
    "start_time": "2021-10-11T18:20:06.223Z"
   },
   {
    "duration": 55,
    "start_time": "2021-10-11T18:20:06.412Z"
   },
   {
    "duration": 1685,
    "start_time": "2021-10-11T18:20:06.469Z"
   },
   {
    "duration": 24,
    "start_time": "2021-10-11T18:20:08.156Z"
   },
   {
    "duration": 44,
    "start_time": "2021-10-11T18:20:08.182Z"
   },
   {
    "duration": 108,
    "start_time": "2021-10-11T18:20:08.228Z"
   },
   {
    "duration": 45,
    "start_time": "2021-10-11T18:20:08.338Z"
   },
   {
    "duration": 34,
    "start_time": "2021-10-11T18:20:08.385Z"
   },
   {
    "duration": 85,
    "start_time": "2021-10-11T18:20:08.422Z"
   },
   {
    "duration": 17,
    "start_time": "2021-10-11T18:20:08.510Z"
   },
   {
    "duration": 42,
    "start_time": "2021-10-11T18:20:08.532Z"
   },
   {
    "duration": 9,
    "start_time": "2021-10-11T18:20:08.578Z"
   },
   {
    "duration": 10,
    "start_time": "2021-10-11T18:20:08.590Z"
   },
   {
    "duration": 69,
    "start_time": "2021-10-11T18:20:08.603Z"
   },
   {
    "duration": 131,
    "start_time": "2021-10-11T18:20:08.675Z"
   },
   {
    "duration": 2054,
    "start_time": "2021-10-11T18:21:04.672Z"
   },
   {
    "duration": 1957,
    "start_time": "2021-10-11T18:21:06.728Z"
   },
   {
    "duration": 1275,
    "start_time": "2021-10-11T18:21:08.688Z"
   },
   {
    "duration": 7,
    "start_time": "2021-10-11T18:21:09.966Z"
   },
   {
    "duration": 13,
    "start_time": "2021-10-11T18:21:09.976Z"
   },
   {
    "duration": 883,
    "start_time": "2021-10-11T18:21:09.991Z"
   },
   {
    "duration": 10,
    "start_time": "2021-10-11T18:21:10.877Z"
   },
   {
    "duration": 12,
    "start_time": "2021-10-11T18:21:10.891Z"
   },
   {
    "duration": 62,
    "start_time": "2021-10-11T18:21:10.906Z"
   },
   {
    "duration": 8,
    "start_time": "2021-10-11T18:21:10.971Z"
   },
   {
    "duration": 543,
    "start_time": "2021-10-11T18:21:10.981Z"
   },
   {
    "duration": 23,
    "start_time": "2021-10-11T18:21:11.527Z"
   },
   {
    "duration": 101,
    "start_time": "2021-10-11T18:21:11.568Z"
   },
   {
    "duration": 23,
    "start_time": "2021-10-11T18:21:11.672Z"
   },
   {
    "duration": 37,
    "start_time": "2021-10-11T18:21:11.698Z"
   },
   {
    "duration": 106,
    "start_time": "2021-10-11T18:21:11.738Z"
   },
   {
    "duration": 201,
    "start_time": "2021-10-11T18:21:11.846Z"
   },
   {
    "duration": 35,
    "start_time": "2021-10-11T18:21:12.049Z"
   },
   {
    "duration": 1675,
    "start_time": "2021-10-11T18:21:12.087Z"
   },
   {
    "duration": 14,
    "start_time": "2021-10-11T18:21:13.768Z"
   },
   {
    "duration": 42,
    "start_time": "2021-10-11T18:21:13.785Z"
   },
   {
    "duration": 103,
    "start_time": "2021-10-11T18:21:13.829Z"
   },
   {
    "duration": 47,
    "start_time": "2021-10-11T18:21:13.937Z"
   },
   {
    "duration": 35,
    "start_time": "2021-10-11T18:21:13.986Z"
   },
   {
    "duration": 85,
    "start_time": "2021-10-11T18:21:14.023Z"
   },
   {
    "duration": 18,
    "start_time": "2021-10-11T18:21:14.110Z"
   },
   {
    "duration": 39,
    "start_time": "2021-10-11T18:21:14.130Z"
   },
   {
    "duration": 8,
    "start_time": "2021-10-11T18:21:14.171Z"
   },
   {
    "duration": 10,
    "start_time": "2021-10-11T18:21:14.181Z"
   },
   {
    "duration": 45,
    "start_time": "2021-10-11T18:21:14.193Z"
   },
   {
    "duration": 145,
    "start_time": "2021-10-11T18:21:14.240Z"
   },
   {
    "duration": 463,
    "start_time": "2021-10-11T18:25:28.403Z"
   },
   {
    "duration": 2074,
    "start_time": "2021-10-11T18:25:35.179Z"
   },
   {
    "duration": 1955,
    "start_time": "2021-10-11T18:25:37.257Z"
   },
   {
    "duration": 1085,
    "start_time": "2021-10-11T18:25:39.215Z"
   },
   {
    "duration": 6,
    "start_time": "2021-10-11T18:25:40.303Z"
   },
   {
    "duration": 14,
    "start_time": "2021-10-11T18:25:40.311Z"
   },
   {
    "duration": 870,
    "start_time": "2021-10-11T18:25:40.327Z"
   },
   {
    "duration": 10,
    "start_time": "2021-10-11T18:25:41.200Z"
   },
   {
    "duration": 12,
    "start_time": "2021-10-11T18:25:41.214Z"
   },
   {
    "duration": 54,
    "start_time": "2021-10-11T18:25:41.229Z"
   },
   {
    "duration": 6,
    "start_time": "2021-10-11T18:25:41.286Z"
   },
   {
    "duration": 551,
    "start_time": "2021-10-11T18:25:41.294Z"
   },
   {
    "duration": 31,
    "start_time": "2021-10-11T18:25:41.848Z"
   },
   {
    "duration": 111,
    "start_time": "2021-10-11T18:25:41.881Z"
   },
   {
    "duration": 24,
    "start_time": "2021-10-11T18:25:41.995Z"
   },
   {
    "duration": 62,
    "start_time": "2021-10-11T18:25:42.022Z"
   },
   {
    "duration": 89,
    "start_time": "2021-10-11T18:25:42.087Z"
   },
   {
    "duration": 186,
    "start_time": "2021-10-11T18:25:42.179Z"
   },
   {
    "duration": 24,
    "start_time": "2021-10-11T18:25:42.368Z"
   },
   {
    "duration": 1653,
    "start_time": "2021-10-11T18:25:42.395Z"
   },
   {
    "duration": 24,
    "start_time": "2021-10-11T18:25:44.051Z"
   },
   {
    "duration": 42,
    "start_time": "2021-10-11T18:25:44.077Z"
   },
   {
    "duration": 102,
    "start_time": "2021-10-11T18:25:44.121Z"
   },
   {
    "duration": 41,
    "start_time": "2021-10-11T18:25:44.227Z"
   },
   {
    "duration": 36,
    "start_time": "2021-10-11T18:25:44.271Z"
   },
   {
    "duration": 85,
    "start_time": "2021-10-11T18:25:44.309Z"
   },
   {
    "duration": 16,
    "start_time": "2021-10-11T18:25:44.396Z"
   },
   {
    "duration": 18,
    "start_time": "2021-10-11T18:25:44.415Z"
   },
   {
    "duration": 33,
    "start_time": "2021-10-11T18:25:44.435Z"
   },
   {
    "duration": 9,
    "start_time": "2021-10-11T18:25:44.471Z"
   },
   {
    "duration": 46,
    "start_time": "2021-10-11T18:25:44.482Z"
   },
   {
    "duration": 138,
    "start_time": "2021-10-11T18:25:44.530Z"
   },
   {
    "duration": 463,
    "start_time": "2021-10-11T18:26:20.285Z"
   },
   {
    "duration": 2134,
    "start_time": "2021-10-11T18:26:26.615Z"
   },
   {
    "duration": 1916,
    "start_time": "2021-10-11T18:26:28.752Z"
   },
   {
    "duration": 1103,
    "start_time": "2021-10-11T18:26:30.671Z"
   },
   {
    "duration": 6,
    "start_time": "2021-10-11T18:26:31.777Z"
   },
   {
    "duration": 12,
    "start_time": "2021-10-11T18:26:31.785Z"
   },
   {
    "duration": 939,
    "start_time": "2021-10-11T18:26:31.800Z"
   },
   {
    "duration": 26,
    "start_time": "2021-10-11T18:26:32.742Z"
   },
   {
    "duration": 14,
    "start_time": "2021-10-11T18:26:32.774Z"
   },
   {
    "duration": 27,
    "start_time": "2021-10-11T18:26:32.792Z"
   },
   {
    "duration": 7,
    "start_time": "2021-10-11T18:26:32.821Z"
   },
   {
    "duration": 573,
    "start_time": "2021-10-11T18:26:32.831Z"
   },
   {
    "duration": 26,
    "start_time": "2021-10-11T18:26:33.407Z"
   },
   {
    "duration": 128,
    "start_time": "2021-10-11T18:26:33.435Z"
   },
   {
    "duration": 24,
    "start_time": "2021-10-11T18:26:33.566Z"
   },
   {
    "duration": 41,
    "start_time": "2021-10-11T18:26:33.593Z"
   },
   {
    "duration": 101,
    "start_time": "2021-10-11T18:26:33.636Z"
   },
   {
    "duration": 200,
    "start_time": "2021-10-11T18:26:33.740Z"
   },
   {
    "duration": 36,
    "start_time": "2021-10-11T18:26:33.943Z"
   },
   {
    "duration": 1665,
    "start_time": "2021-10-11T18:26:33.981Z"
   },
   {
    "duration": 26,
    "start_time": "2021-10-11T18:26:35.649Z"
   },
   {
    "duration": 43,
    "start_time": "2021-10-11T18:26:35.677Z"
   },
   {
    "duration": 110,
    "start_time": "2021-10-11T18:26:35.723Z"
   },
   {
    "duration": 39,
    "start_time": "2021-10-11T18:26:35.837Z"
   },
   {
    "duration": 35,
    "start_time": "2021-10-11T18:26:35.879Z"
   },
   {
    "duration": 83,
    "start_time": "2021-10-11T18:26:35.917Z"
   },
   {
    "duration": 17,
    "start_time": "2021-10-11T18:26:36.003Z"
   },
   {
    "duration": 47,
    "start_time": "2021-10-11T18:26:36.022Z"
   },
   {
    "duration": 8,
    "start_time": "2021-10-11T18:26:36.072Z"
   },
   {
    "duration": 12,
    "start_time": "2021-10-11T18:26:36.082Z"
   },
   {
    "duration": 46,
    "start_time": "2021-10-11T18:26:36.097Z"
   },
   {
    "duration": 142,
    "start_time": "2021-10-11T18:26:36.145Z"
   },
   {
    "duration": 483,
    "start_time": "2021-10-11T18:26:58.783Z"
   },
   {
    "duration": 300,
    "start_time": "2021-10-11T18:27:26.435Z"
   },
   {
    "duration": 2067,
    "start_time": "2021-10-11T18:27:31.281Z"
   },
   {
    "duration": 2036,
    "start_time": "2021-10-11T18:27:33.350Z"
   },
   {
    "duration": 943,
    "start_time": "2021-10-11T18:27:35.392Z"
   },
   {
    "duration": 6,
    "start_time": "2021-10-11T18:27:36.337Z"
   },
   {
    "duration": 11,
    "start_time": "2021-10-11T18:27:36.345Z"
   },
   {
    "duration": 882,
    "start_time": "2021-10-11T18:27:36.359Z"
   },
   {
    "duration": 24,
    "start_time": "2021-10-11T18:27:37.244Z"
   },
   {
    "duration": 13,
    "start_time": "2021-10-11T18:27:37.271Z"
   },
   {
    "duration": 27,
    "start_time": "2021-10-11T18:27:37.286Z"
   },
   {
    "duration": 5,
    "start_time": "2021-10-11T18:27:37.316Z"
   },
   {
    "duration": 548,
    "start_time": "2021-10-11T18:27:37.324Z"
   },
   {
    "duration": 22,
    "start_time": "2021-10-11T18:27:37.874Z"
   },
   {
    "duration": 113,
    "start_time": "2021-10-11T18:27:37.899Z"
   },
   {
    "duration": 23,
    "start_time": "2021-10-11T18:27:38.014Z"
   },
   {
    "duration": 55,
    "start_time": "2021-10-11T18:27:38.040Z"
   },
   {
    "duration": 92,
    "start_time": "2021-10-11T18:27:38.097Z"
   },
   {
    "duration": 186,
    "start_time": "2021-10-11T18:27:38.192Z"
   },
   {
    "duration": 24,
    "start_time": "2021-10-11T18:27:38.380Z"
   },
   {
    "duration": 1806,
    "start_time": "2021-10-11T18:27:38.406Z"
   },
   {
    "duration": 15,
    "start_time": "2021-10-11T18:27:40.214Z"
   },
   {
    "duration": 65,
    "start_time": "2021-10-11T18:27:40.231Z"
   },
   {
    "duration": 85,
    "start_time": "2021-10-11T18:27:40.300Z"
   },
   {
    "duration": 26,
    "start_time": "2021-10-11T18:27:40.388Z"
   },
   {
    "duration": 53,
    "start_time": "2021-10-11T18:27:40.416Z"
   },
   {
    "duration": 65,
    "start_time": "2021-10-11T18:27:40.472Z"
   },
   {
    "duration": 37,
    "start_time": "2021-10-11T18:27:40.539Z"
   },
   {
    "duration": 17,
    "start_time": "2021-10-11T18:27:40.579Z"
   },
   {
    "duration": 9,
    "start_time": "2021-10-11T18:27:40.599Z"
   },
   {
    "duration": 9,
    "start_time": "2021-10-11T18:27:40.610Z"
   },
   {
    "duration": 81,
    "start_time": "2021-10-11T18:27:40.621Z"
   },
   {
    "duration": 128,
    "start_time": "2021-10-11T18:27:40.705Z"
   },
   {
    "duration": 488,
    "start_time": "2021-10-11T18:28:14.405Z"
   },
   {
    "duration": 2026,
    "start_time": "2021-10-11T18:28:25.327Z"
   },
   {
    "duration": 1984,
    "start_time": "2021-10-11T18:28:27.356Z"
   },
   {
    "duration": 1088,
    "start_time": "2021-10-11T18:28:29.344Z"
   },
   {
    "duration": 6,
    "start_time": "2021-10-11T18:28:30.434Z"
   },
   {
    "duration": 24,
    "start_time": "2021-10-11T18:28:30.442Z"
   },
   {
    "duration": 899,
    "start_time": "2021-10-11T18:28:30.469Z"
   },
   {
    "duration": 10,
    "start_time": "2021-10-11T18:28:31.371Z"
   },
   {
    "duration": 23,
    "start_time": "2021-10-11T18:28:31.383Z"
   },
   {
    "duration": 32,
    "start_time": "2021-10-11T18:28:31.410Z"
   },
   {
    "duration": 25,
    "start_time": "2021-10-11T18:28:31.445Z"
   },
   {
    "duration": 544,
    "start_time": "2021-10-11T18:28:31.473Z"
   },
   {
    "duration": 25,
    "start_time": "2021-10-11T18:28:32.020Z"
   },
   {
    "duration": 109,
    "start_time": "2021-10-11T18:28:32.048Z"
   },
   {
    "duration": 28,
    "start_time": "2021-10-11T18:28:32.159Z"
   },
   {
    "duration": 39,
    "start_time": "2021-10-11T18:28:32.190Z"
   },
   {
    "duration": 111,
    "start_time": "2021-10-11T18:28:32.231Z"
   },
   {
    "duration": 200,
    "start_time": "2021-10-11T18:28:32.345Z"
   },
   {
    "duration": 37,
    "start_time": "2021-10-11T18:28:32.548Z"
   },
   {
    "duration": 1758,
    "start_time": "2021-10-11T18:28:32.587Z"
   },
   {
    "duration": 29,
    "start_time": "2021-10-11T18:28:34.349Z"
   },
   {
    "duration": 41,
    "start_time": "2021-10-11T18:28:34.380Z"
   },
   {
    "duration": 102,
    "start_time": "2021-10-11T18:28:34.423Z"
   },
   {
    "duration": 41,
    "start_time": "2021-10-11T18:28:34.527Z"
   },
   {
    "duration": 36,
    "start_time": "2021-10-11T18:28:34.571Z"
   },
   {
    "duration": 87,
    "start_time": "2021-10-11T18:28:34.609Z"
   },
   {
    "duration": 17,
    "start_time": "2021-10-11T18:28:34.699Z"
   },
   {
    "duration": 16,
    "start_time": "2021-10-11T18:28:34.721Z"
   },
   {
    "duration": 33,
    "start_time": "2021-10-11T18:28:34.740Z"
   },
   {
    "duration": 9,
    "start_time": "2021-10-11T18:28:34.775Z"
   },
   {
    "duration": 41,
    "start_time": "2021-10-11T18:28:34.787Z"
   },
   {
    "duration": 6087,
    "start_time": "2021-10-11T18:28:34.831Z"
   },
   {
    "duration": 2182,
    "start_time": "2021-10-11T18:29:23.368Z"
   },
   {
    "duration": 1852,
    "start_time": "2021-10-11T18:29:25.553Z"
   },
   {
    "duration": 1093,
    "start_time": "2021-10-11T18:29:27.408Z"
   },
   {
    "duration": 5,
    "start_time": "2021-10-11T18:29:28.504Z"
   },
   {
    "duration": 10,
    "start_time": "2021-10-11T18:29:28.512Z"
   },
   {
    "duration": 876,
    "start_time": "2021-10-11T18:29:28.524Z"
   },
   {
    "duration": 9,
    "start_time": "2021-10-11T18:29:29.403Z"
   },
   {
    "duration": 14,
    "start_time": "2021-10-11T18:29:29.416Z"
   },
   {
    "duration": 61,
    "start_time": "2021-10-11T18:29:29.433Z"
   },
   {
    "duration": 6,
    "start_time": "2021-10-11T18:29:29.497Z"
   },
   {
    "duration": 555,
    "start_time": "2021-10-11T18:29:29.505Z"
   },
   {
    "duration": 23,
    "start_time": "2021-10-11T18:29:30.066Z"
   },
   {
    "duration": 113,
    "start_time": "2021-10-11T18:29:30.091Z"
   },
   {
    "duration": 24,
    "start_time": "2021-10-11T18:29:30.206Z"
   },
   {
    "duration": 56,
    "start_time": "2021-10-11T18:29:30.232Z"
   },
   {
    "duration": 96,
    "start_time": "2021-10-11T18:29:30.291Z"
   },
   {
    "duration": 190,
    "start_time": "2021-10-11T18:29:30.389Z"
   },
   {
    "duration": 22,
    "start_time": "2021-10-11T18:29:30.582Z"
   },
   {
    "duration": 1805,
    "start_time": "2021-10-11T18:29:30.608Z"
   },
   {
    "duration": 14,
    "start_time": "2021-10-11T18:29:32.416Z"
   },
   {
    "duration": 66,
    "start_time": "2021-10-11T18:29:32.433Z"
   },
   {
    "duration": 91,
    "start_time": "2021-10-11T18:29:32.501Z"
   },
   {
    "duration": 27,
    "start_time": "2021-10-11T18:29:32.596Z"
   },
   {
    "duration": 63,
    "start_time": "2021-10-11T18:29:32.626Z"
   },
   {
    "duration": 76,
    "start_time": "2021-10-11T18:29:32.691Z"
   },
   {
    "duration": 17,
    "start_time": "2021-10-11T18:29:32.769Z"
   },
   {
    "duration": 16,
    "start_time": "2021-10-11T18:29:32.789Z"
   },
   {
    "duration": 7,
    "start_time": "2021-10-11T18:29:32.808Z"
   },
   {
    "duration": 10,
    "start_time": "2021-10-11T18:29:32.818Z"
   },
   {
    "duration": 79,
    "start_time": "2021-10-11T18:29:32.831Z"
   },
   {
    "duration": 599,
    "start_time": "2021-10-11T18:29:32.913Z"
   },
   {
    "duration": 307,
    "start_time": "2021-10-11T18:29:48.235Z"
   },
   {
    "duration": 2061,
    "start_time": "2021-10-11T18:30:07.212Z"
   },
   {
    "duration": 2028,
    "start_time": "2021-10-11T18:30:09.276Z"
   },
   {
    "duration": 1183,
    "start_time": "2021-10-11T18:30:11.308Z"
   },
   {
    "duration": 6,
    "start_time": "2021-10-11T18:30:12.494Z"
   },
   {
    "duration": 11,
    "start_time": "2021-10-11T18:30:12.503Z"
   },
   {
    "duration": 915,
    "start_time": "2021-10-11T18:30:12.516Z"
   },
   {
    "duration": 11,
    "start_time": "2021-10-11T18:30:13.434Z"
   },
   {
    "duration": 13,
    "start_time": "2021-10-11T18:30:13.468Z"
   },
   {
    "duration": 29,
    "start_time": "2021-10-11T18:30:13.484Z"
   },
   {
    "duration": 5,
    "start_time": "2021-10-11T18:30:13.516Z"
   },
   {
    "duration": 573,
    "start_time": "2021-10-11T18:30:13.525Z"
   },
   {
    "duration": 24,
    "start_time": "2021-10-11T18:30:14.100Z"
   },
   {
    "duration": 118,
    "start_time": "2021-10-11T18:30:14.126Z"
   },
   {
    "duration": 28,
    "start_time": "2021-10-11T18:30:14.247Z"
   },
   {
    "duration": 37,
    "start_time": "2021-10-11T18:30:14.278Z"
   },
   {
    "duration": 104,
    "start_time": "2021-10-11T18:30:14.318Z"
   },
   {
    "duration": 185,
    "start_time": "2021-10-11T18:30:14.425Z"
   },
   {
    "duration": 26,
    "start_time": "2021-10-11T18:30:14.613Z"
   },
   {
    "duration": 1748,
    "start_time": "2021-10-11T18:30:14.642Z"
   },
   {
    "duration": 15,
    "start_time": "2021-10-11T18:30:16.393Z"
   },
   {
    "duration": 68,
    "start_time": "2021-10-11T18:30:16.411Z"
   },
   {
    "duration": 95,
    "start_time": "2021-10-11T18:30:16.482Z"
   },
   {
    "duration": 27,
    "start_time": "2021-10-11T18:30:16.582Z"
   },
   {
    "duration": 63,
    "start_time": "2021-10-11T18:30:16.611Z"
   },
   {
    "duration": 65,
    "start_time": "2021-10-11T18:30:16.677Z"
   },
   {
    "duration": 34,
    "start_time": "2021-10-11T18:30:16.744Z"
   },
   {
    "duration": 19,
    "start_time": "2021-10-11T18:30:16.781Z"
   },
   {
    "duration": 9,
    "start_time": "2021-10-11T18:30:16.803Z"
   },
   {
    "duration": 54,
    "start_time": "2021-10-11T18:30:16.814Z"
   },
   {
    "duration": 47,
    "start_time": "2021-10-11T18:30:16.871Z"
   },
   {
    "duration": 5676,
    "start_time": "2021-10-11T18:30:16.921Z"
   },
   {
    "duration": 287,
    "start_time": "2021-10-11T18:30:34.226Z"
   },
   {
    "duration": 303,
    "start_time": "2021-10-11T18:30:43.352Z"
   },
   {
    "duration": 271,
    "start_time": "2021-10-11T18:31:03.960Z"
   },
   {
    "duration": 309,
    "start_time": "2021-10-11T18:31:12.301Z"
   },
   {
    "duration": 271,
    "start_time": "2021-10-11T18:31:34.077Z"
   },
   {
    "duration": 2045,
    "start_time": "2021-10-11T18:31:41.393Z"
   },
   {
    "duration": 2089,
    "start_time": "2021-10-11T18:31:43.441Z"
   },
   {
    "duration": 1299,
    "start_time": "2021-10-11T18:31:45.533Z"
   },
   {
    "duration": 6,
    "start_time": "2021-10-11T18:31:46.835Z"
   },
   {
    "duration": 9,
    "start_time": "2021-10-11T18:31:46.844Z"
   },
   {
    "duration": 845,
    "start_time": "2021-10-11T18:31:46.856Z"
   },
   {
    "duration": 11,
    "start_time": "2021-10-11T18:31:47.703Z"
   },
   {
    "duration": 16,
    "start_time": "2021-10-11T18:31:47.718Z"
   },
   {
    "duration": 52,
    "start_time": "2021-10-11T18:31:47.737Z"
   },
   {
    "duration": 6,
    "start_time": "2021-10-11T18:31:47.791Z"
   },
   {
    "duration": 570,
    "start_time": "2021-10-11T18:31:47.799Z"
   },
   {
    "duration": 24,
    "start_time": "2021-10-11T18:31:48.371Z"
   },
   {
    "duration": 133,
    "start_time": "2021-10-11T18:31:48.398Z"
   },
   {
    "duration": 36,
    "start_time": "2021-10-11T18:31:48.533Z"
   },
   {
    "duration": 38,
    "start_time": "2021-10-11T18:31:48.571Z"
   },
   {
    "duration": 98,
    "start_time": "2021-10-11T18:31:48.612Z"
   },
   {
    "duration": 186,
    "start_time": "2021-10-11T18:31:48.712Z"
   },
   {
    "duration": 26,
    "start_time": "2021-10-11T18:31:48.901Z"
   },
   {
    "duration": 1700,
    "start_time": "2021-10-11T18:31:48.930Z"
   },
   {
    "duration": 34,
    "start_time": "2021-10-11T18:31:50.633Z"
   },
   {
    "duration": 41,
    "start_time": "2021-10-11T18:31:50.670Z"
   },
   {
    "duration": 104,
    "start_time": "2021-10-11T18:31:50.713Z"
   },
   {
    "duration": 27,
    "start_time": "2021-10-11T18:31:50.822Z"
   },
   {
    "duration": 47,
    "start_time": "2021-10-11T18:31:50.851Z"
   },
   {
    "duration": 88,
    "start_time": "2021-10-11T18:31:50.901Z"
   },
   {
    "duration": 17,
    "start_time": "2021-10-11T18:31:50.991Z"
   },
   {
    "duration": 17,
    "start_time": "2021-10-11T18:31:51.010Z"
   },
   {
    "duration": 41,
    "start_time": "2021-10-11T18:31:51.030Z"
   },
   {
    "duration": 6,
    "start_time": "2021-10-11T18:31:51.073Z"
   },
   {
    "duration": 43,
    "start_time": "2021-10-11T18:31:51.082Z"
   },
   {
    "duration": 141,
    "start_time": "2021-10-11T18:31:51.128Z"
   },
   {
    "duration": 451,
    "start_time": "2021-10-11T18:32:46.237Z"
   },
   {
    "duration": 2033,
    "start_time": "2021-10-11T18:33:16.111Z"
   },
   {
    "duration": 2004,
    "start_time": "2021-10-11T18:33:18.147Z"
   },
   {
    "duration": 1395,
    "start_time": "2021-10-11T18:33:20.169Z"
   },
   {
    "duration": 6,
    "start_time": "2021-10-11T18:33:21.566Z"
   },
   {
    "duration": 12,
    "start_time": "2021-10-11T18:33:21.574Z"
   },
   {
    "duration": 912,
    "start_time": "2021-10-11T18:33:21.588Z"
   },
   {
    "duration": 10,
    "start_time": "2021-10-11T18:33:22.506Z"
   },
   {
    "duration": 12,
    "start_time": "2021-10-11T18:33:22.519Z"
   },
   {
    "duration": 56,
    "start_time": "2021-10-11T18:33:22.533Z"
   },
   {
    "duration": 6,
    "start_time": "2021-10-11T18:33:22.591Z"
   },
   {
    "duration": 538,
    "start_time": "2021-10-11T18:33:22.600Z"
   },
   {
    "duration": 37,
    "start_time": "2021-10-11T18:33:23.141Z"
   },
   {
    "duration": 114,
    "start_time": "2021-10-11T18:33:23.181Z"
   },
   {
    "duration": 23,
    "start_time": "2021-10-11T18:33:23.297Z"
   },
   {
    "duration": 56,
    "start_time": "2021-10-11T18:33:23.322Z"
   },
   {
    "duration": 108,
    "start_time": "2021-10-11T18:33:23.381Z"
   },
   {
    "duration": 185,
    "start_time": "2021-10-11T18:33:23.492Z"
   },
   {
    "duration": 30,
    "start_time": "2021-10-11T18:33:23.679Z"
   },
   {
    "duration": 1750,
    "start_time": "2021-10-11T18:33:23.711Z"
   },
   {
    "duration": 18,
    "start_time": "2021-10-11T18:33:25.464Z"
   },
   {
    "duration": 40,
    "start_time": "2021-10-11T18:33:25.484Z"
   },
   {
    "duration": 80,
    "start_time": "2021-10-11T18:33:25.528Z"
   },
   {
    "duration": 27,
    "start_time": "2021-10-11T18:33:25.610Z"
   },
   {
    "duration": 43,
    "start_time": "2021-10-11T18:33:25.639Z"
   },
   {
    "duration": 63,
    "start_time": "2021-10-11T18:33:25.685Z"
   },
   {
    "duration": 23,
    "start_time": "2021-10-11T18:33:25.751Z"
   },
   {
    "duration": 16,
    "start_time": "2021-10-11T18:33:25.776Z"
   },
   {
    "duration": 8,
    "start_time": "2021-10-11T18:33:25.795Z"
   },
   {
    "duration": 9,
    "start_time": "2021-10-11T18:33:25.805Z"
   },
   {
    "duration": 44,
    "start_time": "2021-10-11T18:33:25.816Z"
   },
   {
    "duration": 117,
    "start_time": "2021-10-11T18:33:25.862Z"
   },
   {
    "duration": 509,
    "start_time": "2021-10-11T18:34:15.062Z"
   },
   {
    "duration": 281,
    "start_time": "2021-10-11T18:34:46.272Z"
   },
   {
    "duration": 319,
    "start_time": "2021-10-11T18:34:55.361Z"
   },
   {
    "duration": 2079,
    "start_time": "2021-10-11T18:35:00.681Z"
   },
   {
    "duration": 2581,
    "start_time": "2021-10-11T18:35:02.763Z"
   },
   {
    "duration": 1030,
    "start_time": "2021-10-11T18:35:05.347Z"
   },
   {
    "duration": 6,
    "start_time": "2021-10-11T18:35:06.380Z"
   },
   {
    "duration": 14,
    "start_time": "2021-10-11T18:35:06.388Z"
   },
   {
    "duration": 903,
    "start_time": "2021-10-11T18:35:06.404Z"
   },
   {
    "duration": 10,
    "start_time": "2021-10-11T18:35:07.309Z"
   },
   {
    "duration": 13,
    "start_time": "2021-10-11T18:35:07.323Z"
   },
   {
    "duration": 54,
    "start_time": "2021-10-11T18:35:07.339Z"
   },
   {
    "duration": 6,
    "start_time": "2021-10-11T18:35:07.395Z"
   },
   {
    "duration": 560,
    "start_time": "2021-10-11T18:35:07.403Z"
   },
   {
    "duration": 26,
    "start_time": "2021-10-11T18:35:07.967Z"
   },
   {
    "duration": 118,
    "start_time": "2021-10-11T18:35:07.995Z"
   },
   {
    "duration": 24,
    "start_time": "2021-10-11T18:35:08.115Z"
   },
   {
    "duration": 54,
    "start_time": "2021-10-11T18:35:08.142Z"
   },
   {
    "duration": 99,
    "start_time": "2021-10-11T18:35:08.198Z"
   },
   {
    "duration": 188,
    "start_time": "2021-10-11T18:35:08.299Z"
   },
   {
    "duration": 37,
    "start_time": "2021-10-11T18:35:08.490Z"
   },
   {
    "duration": 1746,
    "start_time": "2021-10-11T18:35:08.530Z"
   },
   {
    "duration": 15,
    "start_time": "2021-10-11T18:35:10.278Z"
   },
   {
    "duration": 41,
    "start_time": "2021-10-11T18:35:10.295Z"
   },
   {
    "duration": 98,
    "start_time": "2021-10-11T18:35:10.338Z"
   },
   {
    "duration": 43,
    "start_time": "2021-10-11T18:35:10.441Z"
   },
   {
    "duration": 35,
    "start_time": "2021-10-11T18:35:10.487Z"
   },
   {
    "duration": 91,
    "start_time": "2021-10-11T18:35:10.524Z"
   },
   {
    "duration": 16,
    "start_time": "2021-10-11T18:35:10.617Z"
   },
   {
    "duration": 40,
    "start_time": "2021-10-11T18:35:10.636Z"
   },
   {
    "duration": 8,
    "start_time": "2021-10-11T18:35:10.679Z"
   },
   {
    "duration": 15,
    "start_time": "2021-10-11T18:35:10.689Z"
   },
   {
    "duration": 60,
    "start_time": "2021-10-11T18:35:10.707Z"
   },
   {
    "duration": 116,
    "start_time": "2021-10-11T18:35:10.769Z"
   },
   {
    "duration": 506,
    "start_time": "2021-10-11T18:35:16.355Z"
   },
   {
    "duration": 2081,
    "start_time": "2021-10-11T18:35:29.481Z"
   },
   {
    "duration": 2076,
    "start_time": "2021-10-11T18:35:31.564Z"
   },
   {
    "duration": 1136,
    "start_time": "2021-10-11T18:35:33.643Z"
   },
   {
    "duration": 5,
    "start_time": "2021-10-11T18:35:34.782Z"
   },
   {
    "duration": 11,
    "start_time": "2021-10-11T18:35:34.791Z"
   },
   {
    "duration": 891,
    "start_time": "2021-10-11T18:35:34.805Z"
   },
   {
    "duration": 9,
    "start_time": "2021-10-11T18:35:35.698Z"
   },
   {
    "duration": 13,
    "start_time": "2021-10-11T18:35:35.711Z"
   },
   {
    "duration": 57,
    "start_time": "2021-10-11T18:35:35.727Z"
   },
   {
    "duration": 6,
    "start_time": "2021-10-11T18:35:35.787Z"
   },
   {
    "duration": 541,
    "start_time": "2021-10-11T18:35:35.796Z"
   },
   {
    "duration": 36,
    "start_time": "2021-10-11T18:35:36.340Z"
   },
   {
    "duration": 104,
    "start_time": "2021-10-11T18:35:36.378Z"
   },
   {
    "duration": 23,
    "start_time": "2021-10-11T18:35:36.485Z"
   },
   {
    "duration": 61,
    "start_time": "2021-10-11T18:35:36.510Z"
   },
   {
    "duration": 74,
    "start_time": "2021-10-11T18:35:36.574Z"
   },
   {
    "duration": 197,
    "start_time": "2021-10-11T18:35:36.651Z"
   },
   {
    "duration": 33,
    "start_time": "2021-10-11T18:35:36.850Z"
   },
   {
    "duration": 1675,
    "start_time": "2021-10-11T18:35:36.885Z"
   },
   {
    "duration": 15,
    "start_time": "2021-10-11T18:35:38.562Z"
   },
   {
    "duration": 40,
    "start_time": "2021-10-11T18:35:38.579Z"
   },
   {
    "duration": 107,
    "start_time": "2021-10-11T18:35:38.621Z"
   },
   {
    "duration": 43,
    "start_time": "2021-10-11T18:35:38.733Z"
   },
   {
    "duration": 35,
    "start_time": "2021-10-11T18:35:38.779Z"
   },
   {
    "duration": 90,
    "start_time": "2021-10-11T18:35:38.816Z"
   },
   {
    "duration": 17,
    "start_time": "2021-10-11T18:35:38.908Z"
   },
   {
    "duration": 18,
    "start_time": "2021-10-11T18:35:38.927Z"
   },
   {
    "duration": 9,
    "start_time": "2021-10-11T18:35:38.968Z"
   },
   {
    "duration": 9,
    "start_time": "2021-10-11T18:35:38.980Z"
   },
   {
    "duration": 43,
    "start_time": "2021-10-11T18:35:38.991Z"
   },
   {
    "duration": 124,
    "start_time": "2021-10-11T18:35:39.067Z"
   },
   {
    "duration": 520,
    "start_time": "2021-10-11T18:41:08.164Z"
   },
   {
    "duration": 2494,
    "start_time": "2021-10-11T18:41:32.949Z"
   },
   {
    "duration": 3284,
    "start_time": "2021-10-11T18:41:35.445Z"
   },
   {
    "duration": 2231,
    "start_time": "2021-10-11T18:41:38.733Z"
   },
   {
    "duration": 6,
    "start_time": "2021-10-11T18:41:40.966Z"
   },
   {
    "duration": 11,
    "start_time": "2021-10-11T18:41:40.975Z"
   },
   {
    "duration": 872,
    "start_time": "2021-10-11T18:41:40.989Z"
   },
   {
    "duration": 11,
    "start_time": "2021-10-11T18:41:41.867Z"
   },
   {
    "duration": 13,
    "start_time": "2021-10-11T18:41:41.882Z"
   },
   {
    "duration": 27,
    "start_time": "2021-10-11T18:41:41.898Z"
   },
   {
    "duration": 43,
    "start_time": "2021-10-11T18:41:41.927Z"
   },
   {
    "duration": 647,
    "start_time": "2021-10-11T18:41:41.972Z"
   },
   {
    "duration": 32,
    "start_time": "2021-10-11T18:41:42.621Z"
   },
   {
    "duration": 143,
    "start_time": "2021-10-11T18:41:42.669Z"
   },
   {
    "duration": 26,
    "start_time": "2021-10-11T18:41:42.814Z"
   },
   {
    "duration": 59,
    "start_time": "2021-10-11T18:41:42.843Z"
   },
   {
    "duration": 97,
    "start_time": "2021-10-11T18:41:42.905Z"
   },
   {
    "duration": 192,
    "start_time": "2021-10-11T18:41:43.004Z"
   },
   {
    "duration": 27,
    "start_time": "2021-10-11T18:41:43.198Z"
   },
   {
    "duration": 1733,
    "start_time": "2021-10-11T18:41:43.228Z"
   },
   {
    "duration": 19,
    "start_time": "2021-10-11T18:41:44.968Z"
   },
   {
    "duration": 43,
    "start_time": "2021-10-11T18:41:44.990Z"
   },
   {
    "duration": 78,
    "start_time": "2021-10-11T18:41:45.068Z"
   },
   {
    "duration": 47,
    "start_time": "2021-10-11T18:41:45.152Z"
   },
   {
    "duration": 65,
    "start_time": "2021-10-11T18:41:45.201Z"
   },
   {
    "duration": 63,
    "start_time": "2021-10-11T18:41:45.269Z"
   },
   {
    "duration": 37,
    "start_time": "2021-10-11T18:41:45.335Z"
   },
   {
    "duration": 30,
    "start_time": "2021-10-11T18:41:45.375Z"
   },
   {
    "duration": 11,
    "start_time": "2021-10-11T18:41:45.409Z"
   },
   {
    "duration": 9,
    "start_time": "2021-10-11T18:41:45.422Z"
   },
   {
    "duration": 70,
    "start_time": "2021-10-11T18:41:45.434Z"
   },
   {
    "duration": 24,
    "start_time": "2021-10-11T18:41:45.507Z"
   },
   {
    "duration": 436,
    "start_time": "2021-10-11T18:43:12.965Z"
   },
   {
    "duration": 288,
    "start_time": "2021-10-11T18:43:28.485Z"
   },
   {
    "duration": 2080,
    "start_time": "2021-10-11T18:43:58.267Z"
   },
   {
    "duration": 1979,
    "start_time": "2021-10-11T18:44:00.349Z"
   },
   {
    "duration": 1307,
    "start_time": "2021-10-11T18:44:02.331Z"
   },
   {
    "duration": 6,
    "start_time": "2021-10-11T18:44:03.640Z"
   },
   {
    "duration": 12,
    "start_time": "2021-10-11T18:44:03.649Z"
   },
   {
    "duration": 868,
    "start_time": "2021-10-11T18:44:03.664Z"
   },
   {
    "duration": 9,
    "start_time": "2021-10-11T18:44:04.535Z"
   },
   {
    "duration": 28,
    "start_time": "2021-10-11T18:44:04.548Z"
   },
   {
    "duration": 28,
    "start_time": "2021-10-11T18:44:04.579Z"
   },
   {
    "duration": 6,
    "start_time": "2021-10-11T18:44:04.609Z"
   },
   {
    "duration": 569,
    "start_time": "2021-10-11T18:44:04.618Z"
   },
   {
    "duration": 24,
    "start_time": "2021-10-11T18:44:05.189Z"
   },
   {
    "duration": 115,
    "start_time": "2021-10-11T18:44:05.215Z"
   },
   {
    "duration": 34,
    "start_time": "2021-10-11T18:44:05.333Z"
   },
   {
    "duration": 35,
    "start_time": "2021-10-11T18:44:05.369Z"
   },
   {
    "duration": 94,
    "start_time": "2021-10-11T18:44:05.406Z"
   },
   {
    "duration": 184,
    "start_time": "2021-10-11T18:44:05.502Z"
   },
   {
    "duration": 28,
    "start_time": "2021-10-11T18:44:05.688Z"
   },
   {
    "duration": 1718,
    "start_time": "2021-10-11T18:44:05.719Z"
   },
   {
    "duration": 30,
    "start_time": "2021-10-11T18:44:07.440Z"
   },
   {
    "duration": 41,
    "start_time": "2021-10-11T18:44:07.473Z"
   },
   {
    "duration": 107,
    "start_time": "2021-10-11T18:44:07.516Z"
   },
   {
    "duration": 45,
    "start_time": "2021-10-11T18:44:07.627Z"
   },
   {
    "duration": 36,
    "start_time": "2021-10-11T18:44:07.676Z"
   },
   {
    "duration": 94,
    "start_time": "2021-10-11T18:44:07.715Z"
   },
   {
    "duration": 18,
    "start_time": "2021-10-11T18:44:07.813Z"
   },
   {
    "duration": 44,
    "start_time": "2021-10-11T18:44:07.834Z"
   },
   {
    "duration": 9,
    "start_time": "2021-10-11T18:44:07.881Z"
   },
   {
    "duration": 11,
    "start_time": "2021-10-11T18:44:07.892Z"
   },
   {
    "duration": 65,
    "start_time": "2021-10-11T18:44:07.906Z"
   },
   {
    "duration": 125,
    "start_time": "2021-10-11T18:44:07.974Z"
   },
   {
    "duration": 2100,
    "start_time": "2021-10-11T18:44:41.251Z"
   },
   {
    "duration": 1983,
    "start_time": "2021-10-11T18:44:43.354Z"
   },
   {
    "duration": 1593,
    "start_time": "2021-10-11T18:44:45.341Z"
   },
   {
    "duration": 6,
    "start_time": "2021-10-11T18:44:46.937Z"
   },
   {
    "duration": 11,
    "start_time": "2021-10-11T18:44:46.945Z"
   },
   {
    "duration": 865,
    "start_time": "2021-10-11T18:44:46.958Z"
   },
   {
    "duration": 9,
    "start_time": "2021-10-11T18:44:47.825Z"
   },
   {
    "duration": 32,
    "start_time": "2021-10-11T18:44:47.837Z"
   },
   {
    "duration": 31,
    "start_time": "2021-10-11T18:44:47.872Z"
   },
   {
    "duration": 7,
    "start_time": "2021-10-11T18:44:47.906Z"
   },
   {
    "duration": 572,
    "start_time": "2021-10-11T18:44:47.917Z"
   },
   {
    "duration": 22,
    "start_time": "2021-10-11T18:44:48.492Z"
   },
   {
    "duration": 122,
    "start_time": "2021-10-11T18:44:48.516Z"
   },
   {
    "duration": 33,
    "start_time": "2021-10-11T18:44:48.640Z"
   },
   {
    "duration": 38,
    "start_time": "2021-10-11T18:44:48.676Z"
   },
   {
    "duration": 101,
    "start_time": "2021-10-11T18:44:48.716Z"
   },
   {
    "duration": 182,
    "start_time": "2021-10-11T18:44:48.820Z"
   },
   {
    "duration": 25,
    "start_time": "2021-10-11T18:44:49.005Z"
   },
   {
    "duration": 1728,
    "start_time": "2021-10-11T18:44:49.033Z"
   },
   {
    "duration": 15,
    "start_time": "2021-10-11T18:44:50.767Z"
   },
   {
    "duration": 41,
    "start_time": "2021-10-11T18:44:50.785Z"
   },
   {
    "duration": 108,
    "start_time": "2021-10-11T18:44:50.828Z"
   },
   {
    "duration": 40,
    "start_time": "2021-10-11T18:44:50.941Z"
   },
   {
    "duration": 38,
    "start_time": "2021-10-11T18:44:50.985Z"
   },
   {
    "duration": 90,
    "start_time": "2021-10-11T18:44:51.026Z"
   },
   {
    "duration": 18,
    "start_time": "2021-10-11T18:44:51.119Z"
   },
   {
    "duration": 40,
    "start_time": "2021-10-11T18:44:51.139Z"
   },
   {
    "duration": 10,
    "start_time": "2021-10-11T18:44:51.182Z"
   },
   {
    "duration": 13,
    "start_time": "2021-10-11T18:44:51.194Z"
   },
   {
    "duration": 72,
    "start_time": "2021-10-11T18:44:51.209Z"
   },
   {
    "duration": 8355,
    "start_time": "2021-10-11T18:44:51.284Z"
   },
   {
    "duration": 2063,
    "start_time": "2021-10-11T18:45:17.079Z"
   },
   {
    "duration": 1824,
    "start_time": "2021-10-11T18:45:19.145Z"
   },
   {
    "duration": 1457,
    "start_time": "2021-10-11T18:45:20.971Z"
   },
   {
    "duration": 5,
    "start_time": "2021-10-11T18:45:22.431Z"
   },
   {
    "duration": 17,
    "start_time": "2021-10-11T18:45:22.438Z"
   },
   {
    "duration": 870,
    "start_time": "2021-10-11T18:45:22.457Z"
   },
   {
    "duration": 10,
    "start_time": "2021-10-11T18:45:23.329Z"
   },
   {
    "duration": 28,
    "start_time": "2021-10-11T18:45:23.343Z"
   },
   {
    "duration": 30,
    "start_time": "2021-10-11T18:45:23.375Z"
   },
   {
    "duration": 6,
    "start_time": "2021-10-11T18:45:23.407Z"
   },
   {
    "duration": 564,
    "start_time": "2021-10-11T18:45:23.415Z"
   },
   {
    "duration": 23,
    "start_time": "2021-10-11T18:45:23.981Z"
   },
   {
    "duration": 120,
    "start_time": "2021-10-11T18:45:24.006Z"
   },
   {
    "duration": 43,
    "start_time": "2021-10-11T18:45:24.128Z"
   },
   {
    "duration": 37,
    "start_time": "2021-10-11T18:45:24.173Z"
   },
   {
    "duration": 85,
    "start_time": "2021-10-11T18:45:24.212Z"
   },
   {
    "duration": 179,
    "start_time": "2021-10-11T18:45:24.299Z"
   },
   {
    "duration": 26,
    "start_time": "2021-10-11T18:45:24.480Z"
   },
   {
    "duration": 1926,
    "start_time": "2021-10-11T18:45:24.508Z"
   },
   {
    "duration": 15,
    "start_time": "2021-10-11T18:45:26.436Z"
   },
   {
    "duration": 43,
    "start_time": "2021-10-11T18:45:26.468Z"
   },
   {
    "duration": 91,
    "start_time": "2021-10-11T18:45:26.513Z"
   },
   {
    "duration": 26,
    "start_time": "2021-10-11T18:45:26.609Z"
   },
   {
    "duration": 55,
    "start_time": "2021-10-11T18:45:26.638Z"
   },
   {
    "duration": 81,
    "start_time": "2021-10-11T18:45:26.695Z"
   },
   {
    "duration": 17,
    "start_time": "2021-10-11T18:45:26.778Z"
   },
   {
    "duration": 20,
    "start_time": "2021-10-11T18:45:26.797Z"
   },
   {
    "duration": 8,
    "start_time": "2021-10-11T18:45:26.820Z"
   },
   {
    "duration": 41,
    "start_time": "2021-10-11T18:45:26.830Z"
   },
   {
    "duration": 42,
    "start_time": "2021-10-11T18:45:26.873Z"
   },
   {
    "duration": 136,
    "start_time": "2021-10-11T18:45:26.918Z"
   },
   {
    "duration": 10,
    "start_time": "2021-10-11T18:45:31.749Z"
   },
   {
    "duration": 6982,
    "start_time": "2021-10-11T18:45:41.034Z"
   },
   {
    "duration": 10,
    "start_time": "2021-10-11T18:45:53.566Z"
   },
   {
    "duration": 2197,
    "start_time": "2021-10-11T18:47:19.541Z"
   },
   {
    "duration": 1862,
    "start_time": "2021-10-11T18:47:21.741Z"
   },
   {
    "duration": 2680,
    "start_time": "2021-10-11T18:47:23.606Z"
   },
   {
    "duration": 6,
    "start_time": "2021-10-11T18:47:26.289Z"
   },
   {
    "duration": 10,
    "start_time": "2021-10-11T18:47:26.298Z"
   },
   {
    "duration": 930,
    "start_time": "2021-10-11T18:47:26.311Z"
   },
   {
    "duration": 24,
    "start_time": "2021-10-11T18:47:27.244Z"
   },
   {
    "duration": 13,
    "start_time": "2021-10-11T18:47:27.272Z"
   },
   {
    "duration": 29,
    "start_time": "2021-10-11T18:47:27.289Z"
   },
   {
    "duration": 6,
    "start_time": "2021-10-11T18:47:27.321Z"
   },
   {
    "duration": 528,
    "start_time": "2021-10-11T18:47:27.369Z"
   },
   {
    "duration": 23,
    "start_time": "2021-10-11T18:47:27.899Z"
   },
   {
    "duration": 116,
    "start_time": "2021-10-11T18:47:27.924Z"
   },
   {
    "duration": 33,
    "start_time": "2021-10-11T18:47:28.043Z"
   },
   {
    "duration": 40,
    "start_time": "2021-10-11T18:47:28.078Z"
   },
   {
    "duration": 105,
    "start_time": "2021-10-11T18:47:28.120Z"
   },
   {
    "duration": 186,
    "start_time": "2021-10-11T18:47:28.228Z"
   },
   {
    "duration": 27,
    "start_time": "2021-10-11T18:47:28.416Z"
   },
   {
    "duration": 1657,
    "start_time": "2021-10-11T18:47:28.445Z"
   },
   {
    "duration": 15,
    "start_time": "2021-10-11T18:47:30.104Z"
   },
   {
    "duration": 64,
    "start_time": "2021-10-11T18:47:30.122Z"
   },
   {
    "duration": 93,
    "start_time": "2021-10-11T18:47:30.189Z"
   },
   {
    "duration": 26,
    "start_time": "2021-10-11T18:47:30.287Z"
   },
   {
    "duration": 59,
    "start_time": "2021-10-11T18:47:30.316Z"
   },
   {
    "duration": 63,
    "start_time": "2021-10-11T18:47:30.378Z"
   },
   {
    "duration": 39,
    "start_time": "2021-10-11T18:47:30.443Z"
   },
   {
    "duration": 18,
    "start_time": "2021-10-11T18:47:30.484Z"
   },
   {
    "duration": 9,
    "start_time": "2021-10-11T18:47:30.505Z"
   },
   {
    "duration": 16,
    "start_time": "2021-10-11T18:47:30.517Z"
   },
   {
    "duration": 71,
    "start_time": "2021-10-11T18:47:30.536Z"
   },
   {
    "duration": 124,
    "start_time": "2021-10-11T18:47:30.610Z"
   },
   {
    "duration": 10,
    "start_time": "2021-10-11T18:47:30.737Z"
   },
   {
    "duration": 6,
    "start_time": "2021-10-11T18:49:09.332Z"
   },
   {
    "duration": 13,
    "start_time": "2021-10-11T18:49:13.672Z"
   },
   {
    "duration": 13,
    "start_time": "2021-10-11T18:49:54.860Z"
   },
   {
    "duration": 12,
    "start_time": "2021-10-11T18:49:59.275Z"
   },
   {
    "duration": 553,
    "start_time": "2021-10-11T18:50:51.821Z"
   },
   {
    "duration": 329,
    "start_time": "2021-10-11T18:51:12.448Z"
   },
   {
    "duration": 2050,
    "start_time": "2021-10-11T18:51:27.951Z"
   },
   {
    "duration": 1989,
    "start_time": "2021-10-11T18:51:30.003Z"
   },
   {
    "duration": 1346,
    "start_time": "2021-10-11T18:51:31.995Z"
   },
   {
    "duration": 6,
    "start_time": "2021-10-11T18:51:33.344Z"
   },
   {
    "duration": 11,
    "start_time": "2021-10-11T18:51:33.353Z"
   },
   {
    "duration": 889,
    "start_time": "2021-10-11T18:51:33.367Z"
   },
   {
    "duration": 14,
    "start_time": "2021-10-11T18:51:34.258Z"
   },
   {
    "duration": 11,
    "start_time": "2021-10-11T18:51:34.277Z"
   },
   {
    "duration": 27,
    "start_time": "2021-10-11T18:51:34.292Z"
   },
   {
    "duration": 45,
    "start_time": "2021-10-11T18:51:34.322Z"
   },
   {
    "duration": 535,
    "start_time": "2021-10-11T18:51:34.370Z"
   },
   {
    "duration": 23,
    "start_time": "2021-10-11T18:51:34.908Z"
   },
   {
    "duration": 114,
    "start_time": "2021-10-11T18:51:34.933Z"
   },
   {
    "duration": 29,
    "start_time": "2021-10-11T18:51:35.049Z"
   },
   {
    "duration": 35,
    "start_time": "2021-10-11T18:51:35.081Z"
   },
   {
    "duration": 100,
    "start_time": "2021-10-11T18:51:35.118Z"
   },
   {
    "duration": 181,
    "start_time": "2021-10-11T18:51:35.220Z"
   },
   {
    "duration": 23,
    "start_time": "2021-10-11T18:51:35.403Z"
   },
   {
    "duration": 1690,
    "start_time": "2021-10-11T18:51:35.429Z"
   },
   {
    "duration": 16,
    "start_time": "2021-10-11T18:51:37.121Z"
   },
   {
    "duration": 59,
    "start_time": "2021-10-11T18:51:37.139Z"
   },
   {
    "duration": 94,
    "start_time": "2021-10-11T18:51:37.201Z"
   },
   {
    "duration": 27,
    "start_time": "2021-10-11T18:51:37.300Z"
   },
   {
    "duration": 58,
    "start_time": "2021-10-11T18:51:37.330Z"
   },
   {
    "duration": 60,
    "start_time": "2021-10-11T18:51:37.391Z"
   },
   {
    "duration": 17,
    "start_time": "2021-10-11T18:51:37.468Z"
   },
   {
    "duration": 16,
    "start_time": "2021-10-11T18:51:37.488Z"
   },
   {
    "duration": 9,
    "start_time": "2021-10-11T18:51:37.506Z"
   },
   {
    "duration": 49,
    "start_time": "2021-10-11T18:51:37.518Z"
   },
   {
    "duration": 46,
    "start_time": "2021-10-11T18:51:37.569Z"
   },
   {
    "duration": 119,
    "start_time": "2021-10-11T18:51:37.618Z"
   },
   {
    "duration": 489,
    "start_time": "2021-10-11T18:51:37.740Z"
   },
   {
    "duration": 15,
    "start_time": "2021-10-11T18:52:04.876Z"
   },
   {
    "duration": 13,
    "start_time": "2021-10-11T18:52:10.288Z"
   },
   {
    "duration": 13,
    "start_time": "2021-10-11T18:52:16.436Z"
   },
   {
    "duration": 2113,
    "start_time": "2021-10-11T18:52:20.832Z"
   },
   {
    "duration": 2120,
    "start_time": "2021-10-11T18:52:22.948Z"
   },
   {
    "duration": 1077,
    "start_time": "2021-10-11T18:52:25.071Z"
   },
   {
    "duration": 5,
    "start_time": "2021-10-11T18:52:26.151Z"
   },
   {
    "duration": 11,
    "start_time": "2021-10-11T18:52:26.158Z"
   },
   {
    "duration": 860,
    "start_time": "2021-10-11T18:52:26.171Z"
   },
   {
    "duration": 12,
    "start_time": "2021-10-11T18:52:27.034Z"
   },
   {
    "duration": 13,
    "start_time": "2021-10-11T18:52:27.069Z"
   },
   {
    "duration": 30,
    "start_time": "2021-10-11T18:52:27.086Z"
   },
   {
    "duration": 7,
    "start_time": "2021-10-11T18:52:27.120Z"
   },
   {
    "duration": 544,
    "start_time": "2021-10-11T18:52:27.166Z"
   },
   {
    "duration": 24,
    "start_time": "2021-10-11T18:52:27.712Z"
   },
   {
    "duration": 108,
    "start_time": "2021-10-11T18:52:27.739Z"
   },
   {
    "duration": 31,
    "start_time": "2021-10-11T18:52:27.850Z"
   },
   {
    "duration": 37,
    "start_time": "2021-10-11T18:52:27.884Z"
   },
   {
    "duration": 106,
    "start_time": "2021-10-11T18:52:27.923Z"
   },
   {
    "duration": 188,
    "start_time": "2021-10-11T18:52:28.031Z"
   },
   {
    "duration": 47,
    "start_time": "2021-10-11T18:52:28.222Z"
   },
   {
    "duration": 1680,
    "start_time": "2021-10-11T18:52:28.272Z"
   },
   {
    "duration": 23,
    "start_time": "2021-10-11T18:52:29.954Z"
   },
   {
    "duration": 48,
    "start_time": "2021-10-11T18:52:29.980Z"
   },
   {
    "duration": 104,
    "start_time": "2021-10-11T18:52:30.030Z"
   },
   {
    "duration": 43,
    "start_time": "2021-10-11T18:52:30.139Z"
   },
   {
    "duration": 50,
    "start_time": "2021-10-11T18:52:30.185Z"
   },
   {
    "duration": 90,
    "start_time": "2021-10-11T18:52:30.237Z"
   },
   {
    "duration": 17,
    "start_time": "2021-10-11T18:52:30.330Z"
   },
   {
    "duration": 34,
    "start_time": "2021-10-11T18:52:30.348Z"
   },
   {
    "duration": 18,
    "start_time": "2021-10-11T18:52:30.385Z"
   },
   {
    "duration": 23,
    "start_time": "2021-10-11T18:52:30.406Z"
   },
   {
    "duration": 66,
    "start_time": "2021-10-11T18:52:30.432Z"
   },
   {
    "duration": 123,
    "start_time": "2021-10-11T18:52:30.501Z"
   },
   {
    "duration": 13,
    "start_time": "2021-10-11T18:52:30.627Z"
   },
   {
    "duration": 460,
    "start_time": "2021-10-11T18:52:58.214Z"
   },
   {
    "duration": 13,
    "start_time": "2021-10-11T18:53:00.599Z"
   },
   {
    "duration": 12,
    "start_time": "2021-10-11T18:53:03.151Z"
   },
   {
    "duration": 1931,
    "start_time": "2021-10-11T18:53:25.697Z"
   },
   {
    "duration": 2059,
    "start_time": "2021-10-11T18:53:27.631Z"
   },
   {
    "duration": 1273,
    "start_time": "2021-10-11T18:53:29.693Z"
   },
   {
    "duration": 6,
    "start_time": "2021-10-11T18:53:30.969Z"
   },
   {
    "duration": 16,
    "start_time": "2021-10-11T18:53:30.977Z"
   },
   {
    "duration": 872,
    "start_time": "2021-10-11T18:53:30.996Z"
   },
   {
    "duration": 9,
    "start_time": "2021-10-11T18:53:31.870Z"
   },
   {
    "duration": 16,
    "start_time": "2021-10-11T18:53:31.883Z"
   },
   {
    "duration": 29,
    "start_time": "2021-10-11T18:53:31.903Z"
   },
   {
    "duration": 34,
    "start_time": "2021-10-11T18:53:31.935Z"
   },
   {
    "duration": 535,
    "start_time": "2021-10-11T18:53:31.972Z"
   },
   {
    "duration": 24,
    "start_time": "2021-10-11T18:53:32.510Z"
   },
   {
    "duration": 111,
    "start_time": "2021-10-11T18:53:32.536Z"
   },
   {
    "duration": 32,
    "start_time": "2021-10-11T18:53:32.649Z"
   },
   {
    "duration": 37,
    "start_time": "2021-10-11T18:53:32.684Z"
   },
   {
    "duration": 102,
    "start_time": "2021-10-11T18:53:32.724Z"
   },
   {
    "duration": 184,
    "start_time": "2021-10-11T18:53:32.829Z"
   },
   {
    "duration": 51,
    "start_time": "2021-10-11T18:53:33.016Z"
   },
   {
    "duration": 1688,
    "start_time": "2021-10-11T18:53:33.070Z"
   },
   {
    "duration": 16,
    "start_time": "2021-10-11T18:53:34.767Z"
   },
   {
    "duration": 40,
    "start_time": "2021-10-11T18:53:34.785Z"
   },
   {
    "duration": 99,
    "start_time": "2021-10-11T18:53:34.828Z"
   },
   {
    "duration": 38,
    "start_time": "2021-10-11T18:53:34.931Z"
   },
   {
    "duration": 35,
    "start_time": "2021-10-11T18:53:34.972Z"
   },
   {
    "duration": 87,
    "start_time": "2021-10-11T18:53:35.010Z"
   },
   {
    "duration": 16,
    "start_time": "2021-10-11T18:53:35.100Z"
   },
   {
    "duration": 16,
    "start_time": "2021-10-11T18:53:35.119Z"
   },
   {
    "duration": 38,
    "start_time": "2021-10-11T18:53:35.137Z"
   },
   {
    "duration": 10,
    "start_time": "2021-10-11T18:53:35.178Z"
   },
   {
    "duration": 48,
    "start_time": "2021-10-11T18:53:35.191Z"
   },
   {
    "duration": 122,
    "start_time": "2021-10-11T18:53:35.266Z"
   },
   {
    "duration": 11,
    "start_time": "2021-10-11T18:53:35.390Z"
   },
   {
    "duration": 7,
    "start_time": "2021-10-11T18:55:08.095Z"
   },
   {
    "duration": 14,
    "start_time": "2021-10-11T18:55:11.973Z"
   },
   {
    "duration": 15,
    "start_time": "2021-10-11T18:55:27.817Z"
   },
   {
    "duration": -828,
    "start_time": "2021-10-11T18:57:51.790Z"
   },
   {
    "duration": 14,
    "start_time": "2021-10-11T18:57:56.855Z"
   },
   {
    "duration": 2062,
    "start_time": "2021-10-11T18:58:15.094Z"
   },
   {
    "duration": 2081,
    "start_time": "2021-10-11T18:58:17.158Z"
   },
   {
    "duration": 959,
    "start_time": "2021-10-11T18:58:19.242Z"
   },
   {
    "duration": 6,
    "start_time": "2021-10-11T18:58:20.204Z"
   },
   {
    "duration": 10,
    "start_time": "2021-10-11T18:58:20.214Z"
   },
   {
    "duration": 877,
    "start_time": "2021-10-11T18:58:20.227Z"
   },
   {
    "duration": 11,
    "start_time": "2021-10-11T18:58:21.107Z"
   },
   {
    "duration": 12,
    "start_time": "2021-10-11T18:58:21.122Z"
   },
   {
    "duration": 27,
    "start_time": "2021-10-11T18:58:21.166Z"
   },
   {
    "duration": 6,
    "start_time": "2021-10-11T18:58:21.195Z"
   },
   {
    "duration": 546,
    "start_time": "2021-10-11T18:58:21.203Z"
   },
   {
    "duration": 32,
    "start_time": "2021-10-11T18:58:21.752Z"
   },
   {
    "duration": 112,
    "start_time": "2021-10-11T18:58:21.786Z"
   },
   {
    "duration": 22,
    "start_time": "2021-10-11T18:58:21.901Z"
   },
   {
    "duration": 58,
    "start_time": "2021-10-11T18:58:21.925Z"
   },
   {
    "duration": 88,
    "start_time": "2021-10-11T18:58:21.985Z"
   },
   {
    "duration": 192,
    "start_time": "2021-10-11T18:58:22.076Z"
   },
   {
    "duration": 25,
    "start_time": "2021-10-11T18:58:22.270Z"
   },
   {
    "duration": 1809,
    "start_time": "2021-10-11T18:58:22.298Z"
   },
   {
    "duration": 16,
    "start_time": "2021-10-11T18:58:24.110Z"
   },
   {
    "duration": 66,
    "start_time": "2021-10-11T18:58:24.128Z"
   },
   {
    "duration": 91,
    "start_time": "2021-10-11T18:58:24.196Z"
   },
   {
    "duration": 29,
    "start_time": "2021-10-11T18:58:24.293Z"
   },
   {
    "duration": 58,
    "start_time": "2021-10-11T18:58:24.325Z"
   },
   {
    "duration": 82,
    "start_time": "2021-10-11T18:58:24.385Z"
   },
   {
    "duration": 17,
    "start_time": "2021-10-11T18:58:24.470Z"
   },
   {
    "duration": 19,
    "start_time": "2021-10-11T18:58:24.489Z"
   },
   {
    "duration": 8,
    "start_time": "2021-10-11T18:58:24.510Z"
   },
   {
    "duration": 48,
    "start_time": "2021-10-11T18:58:24.521Z"
   },
   {
    "duration": 46,
    "start_time": "2021-10-11T18:58:24.571Z"
   },
   {
    "duration": 128,
    "start_time": "2021-10-11T18:58:24.620Z"
   },
   {
    "duration": 19,
    "start_time": "2021-10-11T18:58:24.750Z"
   },
   {
    "duration": 10,
    "start_time": "2021-10-11T19:02:20.260Z"
   },
   {
    "duration": 20,
    "start_time": "2021-10-11T19:03:44.448Z"
   },
   {
    "duration": 25,
    "start_time": "2021-10-11T19:04:19.919Z"
   },
   {
    "duration": 501,
    "start_time": "2021-10-11T19:14:02.965Z"
   },
   {
    "duration": 7051,
    "start_time": "2021-10-11T19:14:41.971Z"
   },
   {
    "duration": 2055,
    "start_time": "2021-10-11T19:15:04.389Z"
   },
   {
    "duration": 2957,
    "start_time": "2021-10-11T19:15:06.446Z"
   },
   {
    "duration": 1322,
    "start_time": "2021-10-11T19:15:09.406Z"
   },
   {
    "duration": 6,
    "start_time": "2021-10-11T19:15:10.731Z"
   },
   {
    "duration": 12,
    "start_time": "2021-10-11T19:15:10.739Z"
   },
   {
    "duration": 884,
    "start_time": "2021-10-11T19:15:10.753Z"
   },
   {
    "duration": 10,
    "start_time": "2021-10-11T19:15:11.639Z"
   },
   {
    "duration": 13,
    "start_time": "2021-10-11T19:15:11.669Z"
   },
   {
    "duration": 28,
    "start_time": "2021-10-11T19:15:11.685Z"
   },
   {
    "duration": 5,
    "start_time": "2021-10-11T19:15:11.716Z"
   },
   {
    "duration": 556,
    "start_time": "2021-10-11T19:15:11.723Z"
   },
   {
    "duration": 25,
    "start_time": "2021-10-11T19:15:12.282Z"
   },
   {
    "duration": 122,
    "start_time": "2021-10-11T19:15:12.310Z"
   },
   {
    "duration": 39,
    "start_time": "2021-10-11T19:15:12.435Z"
   },
   {
    "duration": 42,
    "start_time": "2021-10-11T19:15:12.477Z"
   },
   {
    "duration": 109,
    "start_time": "2021-10-11T19:15:12.523Z"
   },
   {
    "duration": 196,
    "start_time": "2021-10-11T19:15:12.636Z"
   },
   {
    "duration": 38,
    "start_time": "2021-10-11T19:15:12.835Z"
   },
   {
    "duration": 1694,
    "start_time": "2021-10-11T19:15:12.876Z"
   },
   {
    "duration": 16,
    "start_time": "2021-10-11T19:15:14.572Z"
   },
   {
    "duration": 43,
    "start_time": "2021-10-11T19:15:14.590Z"
   },
   {
    "duration": 108,
    "start_time": "2021-10-11T19:15:14.635Z"
   },
   {
    "duration": 39,
    "start_time": "2021-10-11T19:15:14.749Z"
   },
   {
    "duration": 34,
    "start_time": "2021-10-11T19:15:14.791Z"
   },
   {
    "duration": 92,
    "start_time": "2021-10-11T19:15:14.827Z"
   },
   {
    "duration": 16,
    "start_time": "2021-10-11T19:15:14.922Z"
   },
   {
    "duration": 38,
    "start_time": "2021-10-11T19:15:14.941Z"
   },
   {
    "duration": 10,
    "start_time": "2021-10-11T19:15:14.981Z"
   },
   {
    "duration": 11,
    "start_time": "2021-10-11T19:15:14.993Z"
   },
   {
    "duration": 74,
    "start_time": "2021-10-11T19:15:15.007Z"
   },
   {
    "duration": 116,
    "start_time": "2021-10-11T19:15:15.084Z"
   },
   {
    "duration": 9,
    "start_time": "2021-10-11T19:15:15.203Z"
   },
   {
    "duration": 23,
    "start_time": "2021-10-11T19:15:15.215Z"
   },
   {
    "duration": 7585,
    "start_time": "2021-10-11T19:15:15.240Z"
   },
   {
    "duration": 7424,
    "start_time": "2021-10-11T19:16:50.429Z"
   },
   {
    "duration": 11,
    "start_time": "2021-10-11T19:17:13.609Z"
   },
   {
    "duration": 25,
    "start_time": "2021-10-11T19:18:46.729Z"
   },
   {
    "duration": 11,
    "start_time": "2021-10-11T19:18:48.510Z"
   },
   {
    "duration": 2102,
    "start_time": "2021-10-11T19:37:03.039Z"
   },
   {
    "duration": 2727,
    "start_time": "2021-10-11T19:37:05.144Z"
   },
   {
    "duration": 1590,
    "start_time": "2021-10-11T19:37:07.873Z"
   },
   {
    "duration": 6,
    "start_time": "2021-10-11T19:37:09.466Z"
   },
   {
    "duration": 15,
    "start_time": "2021-10-11T19:37:09.474Z"
   },
   {
    "duration": 877,
    "start_time": "2021-10-11T19:37:09.491Z"
   },
   {
    "duration": 9,
    "start_time": "2021-10-11T19:37:10.371Z"
   },
   {
    "duration": 18,
    "start_time": "2021-10-11T19:37:10.384Z"
   },
   {
    "duration": 26,
    "start_time": "2021-10-11T19:37:10.406Z"
   },
   {
    "duration": 35,
    "start_time": "2021-10-11T19:37:10.435Z"
   },
   {
    "duration": 542,
    "start_time": "2021-10-11T19:37:10.473Z"
   },
   {
    "duration": 23,
    "start_time": "2021-10-11T19:37:11.017Z"
   },
   {
    "duration": 109,
    "start_time": "2021-10-11T19:37:11.043Z"
   },
   {
    "duration": 32,
    "start_time": "2021-10-11T19:37:11.154Z"
   },
   {
    "duration": 39,
    "start_time": "2021-10-11T19:37:11.189Z"
   },
   {
    "duration": 101,
    "start_time": "2021-10-11T19:37:11.230Z"
   },
   {
    "duration": 191,
    "start_time": "2021-10-11T19:37:11.333Z"
   },
   {
    "duration": 44,
    "start_time": "2021-10-11T19:37:11.526Z"
   },
   {
    "duration": 1774,
    "start_time": "2021-10-11T19:37:11.572Z"
   },
   {
    "duration": 26,
    "start_time": "2021-10-11T19:37:13.348Z"
   },
   {
    "duration": 47,
    "start_time": "2021-10-11T19:37:13.376Z"
   },
   {
    "duration": 98,
    "start_time": "2021-10-11T19:37:13.426Z"
   },
   {
    "duration": 40,
    "start_time": "2021-10-11T19:37:13.529Z"
   },
   {
    "duration": 36,
    "start_time": "2021-10-11T19:37:13.571Z"
   },
   {
    "duration": 89,
    "start_time": "2021-10-11T19:37:13.610Z"
   },
   {
    "duration": 17,
    "start_time": "2021-10-11T19:37:13.701Z"
   },
   {
    "duration": 23,
    "start_time": "2021-10-11T19:37:13.720Z"
   },
   {
    "duration": 29,
    "start_time": "2021-10-11T19:37:13.745Z"
   },
   {
    "duration": 13,
    "start_time": "2021-10-11T19:37:13.777Z"
   },
   {
    "duration": 48,
    "start_time": "2021-10-11T19:37:13.793Z"
   },
   {
    "duration": 136,
    "start_time": "2021-10-11T19:37:13.843Z"
   },
   {
    "duration": 9,
    "start_time": "2021-10-11T19:37:13.982Z"
   },
   {
    "duration": 29,
    "start_time": "2021-10-11T19:37:13.994Z"
   },
   {
    "duration": 45,
    "start_time": "2021-10-11T19:37:14.025Z"
   },
   {
    "duration": 25,
    "start_time": "2021-10-11T19:37:45.218Z"
   },
   {
    "duration": 15,
    "start_time": "2021-10-11T19:38:03.395Z"
   },
   {
    "duration": 27,
    "start_time": "2021-10-11T19:38:28.112Z"
   },
   {
    "duration": 2083,
    "start_time": "2021-10-11T19:38:47.955Z"
   },
   {
    "duration": 1693,
    "start_time": "2021-10-11T19:38:50.041Z"
   },
   {
    "duration": 1000,
    "start_time": "2021-10-11T19:38:51.737Z"
   },
   {
    "duration": 6,
    "start_time": "2021-10-11T19:38:52.740Z"
   },
   {
    "duration": 13,
    "start_time": "2021-10-11T19:38:52.748Z"
   },
   {
    "duration": 861,
    "start_time": "2021-10-11T19:38:52.764Z"
   },
   {
    "duration": 11,
    "start_time": "2021-10-11T19:38:53.627Z"
   },
   {
    "duration": 13,
    "start_time": "2021-10-11T19:38:53.666Z"
   },
   {
    "duration": 27,
    "start_time": "2021-10-11T19:38:53.683Z"
   },
   {
    "duration": 6,
    "start_time": "2021-10-11T19:38:53.712Z"
   },
   {
    "duration": 549,
    "start_time": "2021-10-11T19:38:53.721Z"
   },
   {
    "duration": 22,
    "start_time": "2021-10-11T19:38:54.273Z"
   },
   {
    "duration": 117,
    "start_time": "2021-10-11T19:38:54.298Z"
   },
   {
    "duration": 25,
    "start_time": "2021-10-11T19:38:54.418Z"
   },
   {
    "duration": 51,
    "start_time": "2021-10-11T19:38:54.446Z"
   },
   {
    "duration": 103,
    "start_time": "2021-10-11T19:38:54.500Z"
   },
   {
    "duration": 191,
    "start_time": "2021-10-11T19:38:54.605Z"
   },
   {
    "duration": 28,
    "start_time": "2021-10-11T19:38:54.799Z"
   },
   {
    "duration": 1815,
    "start_time": "2021-10-11T19:38:54.829Z"
   },
   {
    "duration": 22,
    "start_time": "2021-10-11T19:38:56.647Z"
   },
   {
    "duration": 41,
    "start_time": "2021-10-11T19:38:56.672Z"
   },
   {
    "duration": 106,
    "start_time": "2021-10-11T19:38:56.715Z"
   },
   {
    "duration": 41,
    "start_time": "2021-10-11T19:38:56.826Z"
   },
   {
    "duration": 34,
    "start_time": "2021-10-11T19:38:56.870Z"
   },
   {
    "duration": 115,
    "start_time": "2021-10-11T19:38:56.906Z"
   },
   {
    "duration": 25,
    "start_time": "2021-10-11T19:38:57.024Z"
   },
   {
    "duration": 32,
    "start_time": "2021-10-11T19:38:57.052Z"
   },
   {
    "duration": 10,
    "start_time": "2021-10-11T19:38:57.088Z"
   },
   {
    "duration": 9,
    "start_time": "2021-10-11T19:38:57.101Z"
   },
   {
    "duration": 98,
    "start_time": "2021-10-11T19:38:57.113Z"
   },
   {
    "duration": 117,
    "start_time": "2021-10-11T19:38:57.214Z"
   },
   {
    "duration": 9,
    "start_time": "2021-10-11T19:38:57.334Z"
   },
   {
    "duration": 42,
    "start_time": "2021-10-11T19:38:57.345Z"
   },
   {
    "duration": 14,
    "start_time": "2021-10-11T19:38:57.390Z"
   },
   {
    "duration": 32,
    "start_time": "2021-10-11T19:46:50.458Z"
   },
   {
    "duration": 27,
    "start_time": "2021-10-11T19:47:22.897Z"
   },
   {
    "duration": 2068,
    "start_time": "2021-10-11T19:47:33.632Z"
   },
   {
    "duration": 2734,
    "start_time": "2021-10-11T19:47:35.703Z"
   },
   {
    "duration": 1197,
    "start_time": "2021-10-11T19:47:38.440Z"
   },
   {
    "duration": 5,
    "start_time": "2021-10-11T19:47:39.640Z"
   },
   {
    "duration": 10,
    "start_time": "2021-10-11T19:47:39.648Z"
   },
   {
    "duration": 855,
    "start_time": "2021-10-11T19:47:39.660Z"
   },
   {
    "duration": 9,
    "start_time": "2021-10-11T19:47:40.517Z"
   },
   {
    "duration": 37,
    "start_time": "2021-10-11T19:47:40.530Z"
   },
   {
    "duration": 29,
    "start_time": "2021-10-11T19:47:40.571Z"
   },
   {
    "duration": 7,
    "start_time": "2021-10-11T19:47:40.603Z"
   },
   {
    "duration": 559,
    "start_time": "2021-10-11T19:47:40.613Z"
   },
   {
    "duration": 23,
    "start_time": "2021-10-11T19:47:41.175Z"
   },
   {
    "duration": 114,
    "start_time": "2021-10-11T19:47:41.200Z"
   },
   {
    "duration": 24,
    "start_time": "2021-10-11T19:47:41.316Z"
   },
   {
    "duration": 54,
    "start_time": "2021-10-11T19:47:41.342Z"
   },
   {
    "duration": 97,
    "start_time": "2021-10-11T19:47:41.399Z"
   },
   {
    "duration": 186,
    "start_time": "2021-10-11T19:47:41.499Z"
   },
   {
    "duration": 20,
    "start_time": "2021-10-11T19:47:41.688Z"
   },
   {
    "duration": 1788,
    "start_time": "2021-10-11T19:47:41.710Z"
   },
   {
    "duration": 15,
    "start_time": "2021-10-11T19:47:43.501Z"
   },
   {
    "duration": 66,
    "start_time": "2021-10-11T19:47:43.519Z"
   },
   {
    "duration": 86,
    "start_time": "2021-10-11T19:47:43.587Z"
   },
   {
    "duration": 27,
    "start_time": "2021-10-11T19:47:43.678Z"
   },
   {
    "duration": 60,
    "start_time": "2021-10-11T19:47:43.708Z"
   },
   {
    "duration": 63,
    "start_time": "2021-10-11T19:47:43.771Z"
   },
   {
    "duration": 40,
    "start_time": "2021-10-11T19:47:43.836Z"
   },
   {
    "duration": 17,
    "start_time": "2021-10-11T19:47:43.878Z"
   },
   {
    "duration": 9,
    "start_time": "2021-10-11T19:47:43.897Z"
   },
   {
    "duration": 9,
    "start_time": "2021-10-11T19:47:43.908Z"
   },
   {
    "duration": 80,
    "start_time": "2021-10-11T19:47:43.920Z"
   },
   {
    "duration": 117,
    "start_time": "2021-10-11T19:47:44.002Z"
   },
   {
    "duration": 9,
    "start_time": "2021-10-11T19:47:44.121Z"
   },
   {
    "duration": 49,
    "start_time": "2021-10-11T19:47:44.132Z"
   },
   {
    "duration": 13,
    "start_time": "2021-10-11T19:47:44.184Z"
   },
   {
    "duration": 92,
    "start_time": "2021-10-11T19:59:14.548Z"
   },
   {
    "duration": 7,
    "start_time": "2021-10-11T20:14:43.424Z"
   },
   {
    "duration": 12962,
    "start_time": "2021-10-11T20:14:46.024Z"
   },
   {
    "duration": 2204,
    "start_time": "2021-10-11T20:15:08.194Z"
   },
   {
    "duration": 2930,
    "start_time": "2021-10-11T20:15:10.400Z"
   },
   {
    "duration": 1153,
    "start_time": "2021-10-11T20:15:13.336Z"
   },
   {
    "duration": 6,
    "start_time": "2021-10-11T20:15:14.491Z"
   },
   {
    "duration": 13,
    "start_time": "2021-10-11T20:15:14.499Z"
   },
   {
    "duration": 919,
    "start_time": "2021-10-11T20:15:14.515Z"
   },
   {
    "duration": 27,
    "start_time": "2021-10-11T20:15:15.440Z"
   },
   {
    "duration": 16,
    "start_time": "2021-10-11T20:15:15.472Z"
   },
   {
    "duration": 31,
    "start_time": "2021-10-11T20:15:15.491Z"
   },
   {
    "duration": 8,
    "start_time": "2021-10-11T20:15:15.568Z"
   },
   {
    "duration": 575,
    "start_time": "2021-10-11T20:15:15.579Z"
   },
   {
    "duration": 34,
    "start_time": "2021-10-11T20:15:16.157Z"
   },
   {
    "duration": 118,
    "start_time": "2021-10-11T20:15:16.193Z"
   },
   {
    "duration": 24,
    "start_time": "2021-10-11T20:15:16.314Z"
   },
   {
    "duration": 54,
    "start_time": "2021-10-11T20:15:16.340Z"
   },
   {
    "duration": 104,
    "start_time": "2021-10-11T20:15:16.397Z"
   },
   {
    "duration": 191,
    "start_time": "2021-10-11T20:15:16.504Z"
   },
   {
    "duration": 5,
    "start_time": "2021-10-11T20:15:16.697Z"
   },
   {
    "duration": 28,
    "start_time": "2021-10-11T20:15:16.705Z"
   },
   {
    "duration": 1672,
    "start_time": "2021-10-11T20:15:16.736Z"
   },
   {
    "duration": 17,
    "start_time": "2021-10-11T20:15:18.411Z"
   },
   {
    "duration": 70,
    "start_time": "2021-10-11T20:15:18.433Z"
   },
   {
    "duration": 109,
    "start_time": "2021-10-11T20:15:18.507Z"
   },
   {
    "duration": 28,
    "start_time": "2021-10-11T20:15:18.618Z"
   },
   {
    "duration": 35,
    "start_time": "2021-10-11T20:15:18.667Z"
   },
   {
    "duration": 92,
    "start_time": "2021-10-11T20:15:18.704Z"
   },
   {
    "duration": 17,
    "start_time": "2021-10-11T20:15:18.798Z"
   },
   {
    "duration": 18,
    "start_time": "2021-10-11T20:15:18.817Z"
   },
   {
    "duration": 38,
    "start_time": "2021-10-11T20:15:18.837Z"
   },
   {
    "duration": 11,
    "start_time": "2021-10-11T20:15:18.877Z"
   },
   {
    "duration": 81,
    "start_time": "2021-10-11T20:15:18.891Z"
   },
   {
    "duration": 125,
    "start_time": "2021-10-11T20:15:18.976Z"
   },
   {
    "duration": 9,
    "start_time": "2021-10-11T20:15:19.103Z"
   },
   {
    "duration": 57,
    "start_time": "2021-10-11T20:15:19.115Z"
   },
   {
    "duration": 12,
    "start_time": "2021-10-11T20:15:19.174Z"
   },
   {
    "duration": 102,
    "start_time": "2021-10-11T20:15:19.188Z"
   },
   {
    "duration": 8322,
    "start_time": "2021-10-11T20:16:14.974Z"
   },
   {
    "duration": 2051,
    "start_time": "2021-10-11T20:16:26.097Z"
   },
   {
    "duration": 2254,
    "start_time": "2021-10-11T20:16:28.151Z"
   },
   {
    "duration": 788,
    "start_time": "2021-10-11T20:16:30.409Z"
   },
   {
    "duration": 7,
    "start_time": "2021-10-11T20:16:31.201Z"
   },
   {
    "duration": 14,
    "start_time": "2021-10-11T20:16:31.211Z"
   },
   {
    "duration": 916,
    "start_time": "2021-10-11T20:16:31.228Z"
   },
   {
    "duration": 9,
    "start_time": "2021-10-11T20:16:32.146Z"
   },
   {
    "duration": 13,
    "start_time": "2021-10-11T20:16:32.169Z"
   },
   {
    "duration": 26,
    "start_time": "2021-10-11T20:16:32.186Z"
   },
   {
    "duration": 6,
    "start_time": "2021-10-11T20:16:32.215Z"
   },
   {
    "duration": 588,
    "start_time": "2021-10-11T20:16:32.223Z"
   },
   {
    "duration": 23,
    "start_time": "2021-10-11T20:16:32.814Z"
   },
   {
    "duration": 113,
    "start_time": "2021-10-11T20:16:32.840Z"
   },
   {
    "duration": 32,
    "start_time": "2021-10-11T20:16:32.955Z"
   },
   {
    "duration": 35,
    "start_time": "2021-10-11T20:16:32.989Z"
   },
   {
    "duration": 116,
    "start_time": "2021-10-11T20:16:33.028Z"
   },
   {
    "duration": 211,
    "start_time": "2021-10-11T20:16:33.147Z"
   },
   {
    "duration": 7,
    "start_time": "2021-10-11T20:16:33.368Z"
   },
   {
    "duration": 33,
    "start_time": "2021-10-11T20:16:33.378Z"
   },
   {
    "duration": 1727,
    "start_time": "2021-10-11T20:16:33.415Z"
   },
   {
    "duration": 28,
    "start_time": "2021-10-11T20:16:35.145Z"
   },
   {
    "duration": 41,
    "start_time": "2021-10-11T20:16:35.176Z"
   },
   {
    "duration": 108,
    "start_time": "2021-10-11T20:16:35.222Z"
   },
   {
    "duration": 40,
    "start_time": "2021-10-11T20:16:35.332Z"
   },
   {
    "duration": 35,
    "start_time": "2021-10-11T20:16:35.375Z"
   },
   {
    "duration": 96,
    "start_time": "2021-10-11T20:16:35.412Z"
   },
   {
    "duration": 21,
    "start_time": "2021-10-11T20:16:35.511Z"
   },
   {
    "duration": 44,
    "start_time": "2021-10-11T20:16:35.534Z"
   },
   {
    "duration": 8,
    "start_time": "2021-10-11T20:16:35.580Z"
   },
   {
    "duration": 7,
    "start_time": "2021-10-11T20:16:35.590Z"
   },
   {
    "duration": 88,
    "start_time": "2021-10-11T20:16:35.600Z"
   },
   {
    "duration": 124,
    "start_time": "2021-10-11T20:16:35.690Z"
   },
   {
    "duration": 8,
    "start_time": "2021-10-11T20:16:35.817Z"
   },
   {
    "duration": 47,
    "start_time": "2021-10-11T20:16:35.827Z"
   },
   {
    "duration": 8733,
    "start_time": "2021-10-11T20:16:35.876Z"
   },
   {
    "duration": 6,
    "start_time": "2021-10-11T20:18:32.600Z"
   },
   {
    "duration": 9768,
    "start_time": "2021-10-11T20:18:33.884Z"
   },
   {
    "duration": 2676,
    "start_time": "2021-10-11T20:19:04.591Z"
   },
   {
    "duration": 2130,
    "start_time": "2021-10-11T20:19:07.270Z"
   },
   {
    "duration": 873,
    "start_time": "2021-10-11T20:19:09.407Z"
   },
   {
    "duration": 8,
    "start_time": "2021-10-11T20:19:10.283Z"
   },
   {
    "duration": 11,
    "start_time": "2021-10-11T20:19:10.294Z"
   },
   {
    "duration": 953,
    "start_time": "2021-10-11T20:19:10.308Z"
   },
   {
    "duration": 13,
    "start_time": "2021-10-11T20:19:11.271Z"
   },
   {
    "duration": 16,
    "start_time": "2021-10-11T20:19:11.288Z"
   },
   {
    "duration": 76,
    "start_time": "2021-10-11T20:19:11.307Z"
   },
   {
    "duration": 7,
    "start_time": "2021-10-11T20:19:11.387Z"
   },
   {
    "duration": 558,
    "start_time": "2021-10-11T20:19:11.396Z"
   },
   {
    "duration": 28,
    "start_time": "2021-10-11T20:19:11.957Z"
   },
   {
    "duration": 121,
    "start_time": "2021-10-11T20:19:11.988Z"
   },
   {
    "duration": 25,
    "start_time": "2021-10-11T20:19:12.111Z"
   },
   {
    "duration": 60,
    "start_time": "2021-10-11T20:19:12.138Z"
   },
   {
    "duration": 106,
    "start_time": "2021-10-11T20:19:12.202Z"
   },
   {
    "duration": 199,
    "start_time": "2021-10-11T20:19:12.311Z"
   },
   {
    "duration": 9,
    "start_time": "2021-10-11T20:19:12.513Z"
   },
   {
    "duration": 55,
    "start_time": "2021-10-11T20:19:12.525Z"
   },
   {
    "duration": 1746,
    "start_time": "2021-10-11T20:19:12.583Z"
   },
   {
    "duration": 14,
    "start_time": "2021-10-11T20:19:14.332Z"
   },
   {
    "duration": 42,
    "start_time": "2021-10-11T20:19:14.370Z"
   },
   {
    "duration": 108,
    "start_time": "2021-10-11T20:19:14.415Z"
   },
   {
    "duration": 42,
    "start_time": "2021-10-11T20:19:14.526Z"
   },
   {
    "duration": 34,
    "start_time": "2021-10-11T20:19:14.570Z"
   },
   {
    "duration": 93,
    "start_time": "2021-10-11T20:19:14.606Z"
   },
   {
    "duration": 17,
    "start_time": "2021-10-11T20:19:14.701Z"
   },
   {
    "duration": 47,
    "start_time": "2021-10-11T20:19:14.721Z"
   },
   {
    "duration": 9,
    "start_time": "2021-10-11T20:19:14.770Z"
   },
   {
    "duration": 11,
    "start_time": "2021-10-11T20:19:14.782Z"
   },
   {
    "duration": 76,
    "start_time": "2021-10-11T20:19:14.796Z"
   },
   {
    "duration": 128,
    "start_time": "2021-10-11T20:19:14.874Z"
   },
   {
    "duration": 9,
    "start_time": "2021-10-11T20:19:15.005Z"
   },
   {
    "duration": 53,
    "start_time": "2021-10-11T20:19:15.017Z"
   },
   {
    "duration": 19,
    "start_time": "2021-10-11T20:19:15.073Z"
   },
   {
    "duration": 437,
    "start_time": "2021-10-13T06:06:51.874Z"
   },
   {
    "duration": 2075,
    "start_time": "2021-10-13T06:06:58.044Z"
   },
   {
    "duration": 3000,
    "start_time": "2021-10-13T06:07:00.123Z"
   },
   {
    "duration": 1141,
    "start_time": "2021-10-13T06:07:03.126Z"
   },
   {
    "duration": 6,
    "start_time": "2021-10-13T06:07:04.270Z"
   },
   {
    "duration": 12,
    "start_time": "2021-10-13T06:07:04.278Z"
   },
   {
    "duration": 898,
    "start_time": "2021-10-13T06:07:04.293Z"
   },
   {
    "duration": 10,
    "start_time": "2021-10-13T06:07:05.193Z"
   },
   {
    "duration": 12,
    "start_time": "2021-10-13T06:07:05.207Z"
   },
   {
    "duration": 54,
    "start_time": "2021-10-13T06:07:05.222Z"
   },
   {
    "duration": 5,
    "start_time": "2021-10-13T06:07:05.279Z"
   },
   {
    "duration": 555,
    "start_time": "2021-10-13T06:07:05.287Z"
   },
   {
    "duration": 31,
    "start_time": "2021-10-13T06:07:05.845Z"
   },
   {
    "duration": 102,
    "start_time": "2021-10-13T06:07:05.878Z"
   },
   {
    "duration": 22,
    "start_time": "2021-10-13T06:07:05.983Z"
   },
   {
    "duration": 54,
    "start_time": "2021-10-13T06:07:06.009Z"
   },
   {
    "duration": 73,
    "start_time": "2021-10-13T06:07:06.066Z"
   },
   {
    "duration": 189,
    "start_time": "2021-10-13T06:07:06.141Z"
   },
   {
    "duration": 5,
    "start_time": "2021-10-13T06:07:06.333Z"
   },
   {
    "duration": 41,
    "start_time": "2021-10-13T06:07:06.340Z"
   },
   {
    "duration": 1731,
    "start_time": "2021-10-13T06:07:06.383Z"
   },
   {
    "duration": 15,
    "start_time": "2021-10-13T06:07:08.116Z"
   },
   {
    "duration": 63,
    "start_time": "2021-10-13T06:07:08.134Z"
   },
   {
    "duration": 91,
    "start_time": "2021-10-13T06:07:08.202Z"
   },
   {
    "duration": 29,
    "start_time": "2021-10-13T06:07:08.296Z"
   },
   {
    "duration": 58,
    "start_time": "2021-10-13T06:07:08.327Z"
   },
   {
    "duration": 77,
    "start_time": "2021-10-13T06:07:08.388Z"
   },
   {
    "duration": 17,
    "start_time": "2021-10-13T06:07:08.468Z"
   },
   {
    "duration": 21,
    "start_time": "2021-10-13T06:07:08.488Z"
   },
   {
    "duration": 8,
    "start_time": "2021-10-13T06:07:08.511Z"
   },
   {
    "duration": 42,
    "start_time": "2021-10-13T06:07:08.521Z"
   },
   {
    "duration": 1044,
    "start_time": "2021-10-13T06:07:08.565Z"
   },
   {
    "duration": 101,
    "start_time": "2021-10-13T06:07:09.611Z"
   },
   {
    "duration": 18,
    "start_time": "2021-10-13T06:07:09.714Z"
   },
   {
    "duration": 31,
    "start_time": "2021-10-13T06:07:09.734Z"
   },
   {
    "duration": 11,
    "start_time": "2021-10-13T06:07:09.767Z"
   },
   {
    "duration": 42,
    "start_time": "2021-10-13T06:15:55.807Z"
   },
   {
    "duration": 918,
    "start_time": "2021-10-13T06:16:59.760Z"
   },
   {
    "duration": 2091,
    "start_time": "2021-10-14T05:46:00.689Z"
   },
   {
    "duration": 3250,
    "start_time": "2021-10-14T05:46:02.783Z"
   },
   {
    "duration": 1304,
    "start_time": "2021-10-14T05:46:06.037Z"
   },
   {
    "duration": 5,
    "start_time": "2021-10-14T05:46:07.343Z"
   },
   {
    "duration": 9,
    "start_time": "2021-10-14T05:46:07.351Z"
   },
   {
    "duration": 868,
    "start_time": "2021-10-14T05:46:07.363Z"
   },
   {
    "duration": 8,
    "start_time": "2021-10-14T05:46:08.233Z"
   },
   {
    "duration": 11,
    "start_time": "2021-10-14T05:46:08.245Z"
   },
   {
    "duration": 55,
    "start_time": "2021-10-14T05:46:08.259Z"
   },
   {
    "duration": 5,
    "start_time": "2021-10-14T05:46:08.316Z"
   },
   {
    "duration": 517,
    "start_time": "2021-10-14T05:46:08.323Z"
   },
   {
    "duration": 23,
    "start_time": "2021-10-14T05:46:08.842Z"
   },
   {
    "duration": 113,
    "start_time": "2021-10-14T05:46:08.868Z"
   },
   {
    "duration": 38,
    "start_time": "2021-10-14T05:46:08.984Z"
   },
   {
    "duration": 39,
    "start_time": "2021-10-14T05:46:09.026Z"
   },
   {
    "duration": 104,
    "start_time": "2021-10-14T05:46:09.068Z"
   },
   {
    "duration": 188,
    "start_time": "2021-10-14T05:46:09.174Z"
   },
   {
    "duration": 5,
    "start_time": "2021-10-14T05:46:09.364Z"
   },
   {
    "duration": 41,
    "start_time": "2021-10-14T05:46:09.372Z"
   },
   {
    "duration": 1662,
    "start_time": "2021-10-14T05:46:09.416Z"
   },
   {
    "duration": 15,
    "start_time": "2021-10-14T05:46:11.081Z"
   },
   {
    "duration": 41,
    "start_time": "2021-10-14T05:46:11.098Z"
   },
   {
    "duration": 97,
    "start_time": "2021-10-14T05:46:11.144Z"
   },
   {
    "duration": 27,
    "start_time": "2021-10-14T05:46:11.244Z"
   },
   {
    "duration": 53,
    "start_time": "2021-10-14T05:46:11.274Z"
   },
   {
    "duration": 81,
    "start_time": "2021-10-14T05:46:11.330Z"
   },
   {
    "duration": 16,
    "start_time": "2021-10-14T05:46:11.413Z"
   },
   {
    "duration": 18,
    "start_time": "2021-10-14T05:46:11.431Z"
   },
   {
    "duration": 8,
    "start_time": "2021-10-14T05:46:11.451Z"
   },
   {
    "duration": 41,
    "start_time": "2021-10-14T05:46:11.461Z"
   },
   {
    "duration": 45,
    "start_time": "2021-10-14T05:46:11.504Z"
   },
   {
    "duration": 123,
    "start_time": "2021-10-14T05:46:11.551Z"
   },
   {
    "duration": 8,
    "start_time": "2021-10-14T05:46:11.677Z"
   },
   {
    "duration": 34,
    "start_time": "2021-10-14T05:46:11.687Z"
   },
   {
    "duration": 11,
    "start_time": "2021-10-14T05:46:11.724Z"
   },
   {
    "duration": 655,
    "start_time": "2021-10-14T05:47:22.711Z"
   },
   {
    "duration": 389,
    "start_time": "2021-10-14T05:48:39.001Z"
   },
   {
    "duration": 2077,
    "start_time": "2021-10-14T05:48:47.205Z"
   },
   {
    "duration": 2021,
    "start_time": "2021-10-14T05:48:49.284Z"
   },
   {
    "duration": 1034,
    "start_time": "2021-10-14T05:48:51.307Z"
   },
   {
    "duration": 6,
    "start_time": "2021-10-14T05:48:52.345Z"
   },
   {
    "duration": 11,
    "start_time": "2021-10-14T05:48:52.354Z"
   },
   {
    "duration": 886,
    "start_time": "2021-10-14T05:48:52.367Z"
   },
   {
    "duration": 8,
    "start_time": "2021-10-14T05:48:53.256Z"
   },
   {
    "duration": 32,
    "start_time": "2021-10-14T05:48:53.268Z"
   },
   {
    "duration": 27,
    "start_time": "2021-10-14T05:48:53.303Z"
   },
   {
    "duration": 5,
    "start_time": "2021-10-14T05:48:53.332Z"
   },
   {
    "duration": 538,
    "start_time": "2021-10-14T05:48:53.340Z"
   },
   {
    "duration": 37,
    "start_time": "2021-10-14T05:48:53.880Z"
   },
   {
    "duration": 597,
    "start_time": "2021-10-14T05:48:53.919Z"
   },
   {
    "duration": -946,
    "start_time": "2021-10-14T05:48:55.465Z"
   },
   {
    "duration": -957,
    "start_time": "2021-10-14T05:48:55.477Z"
   },
   {
    "duration": -961,
    "start_time": "2021-10-14T05:48:55.483Z"
   },
   {
    "duration": -968,
    "start_time": "2021-10-14T05:48:55.491Z"
   },
   {
    "duration": -971,
    "start_time": "2021-10-14T05:48:55.495Z"
   },
   {
    "duration": -983,
    "start_time": "2021-10-14T05:48:55.509Z"
   },
   {
    "duration": -987,
    "start_time": "2021-10-14T05:48:55.514Z"
   },
   {
    "duration": -988,
    "start_time": "2021-10-14T05:48:55.517Z"
   },
   {
    "duration": -996,
    "start_time": "2021-10-14T05:48:55.526Z"
   },
   {
    "duration": -998,
    "start_time": "2021-10-14T05:48:55.529Z"
   },
   {
    "duration": -1000,
    "start_time": "2021-10-14T05:48:55.533Z"
   },
   {
    "duration": -1009,
    "start_time": "2021-10-14T05:48:55.543Z"
   },
   {
    "duration": -1012,
    "start_time": "2021-10-14T05:48:55.547Z"
   },
   {
    "duration": -1015,
    "start_time": "2021-10-14T05:48:55.552Z"
   },
   {
    "duration": -1023,
    "start_time": "2021-10-14T05:48:55.561Z"
   },
   {
    "duration": -1024,
    "start_time": "2021-10-14T05:48:55.564Z"
   },
   {
    "duration": -1041,
    "start_time": "2021-10-14T05:48:55.582Z"
   },
   {
    "duration": -1043,
    "start_time": "2021-10-14T05:48:55.586Z"
   },
   {
    "duration": -1050,
    "start_time": "2021-10-14T05:48:55.594Z"
   },
   {
    "duration": -1052,
    "start_time": "2021-10-14T05:48:55.597Z"
   },
   {
    "duration": -1056,
    "start_time": "2021-10-14T05:48:55.602Z"
   },
   {
    "duration": -1064,
    "start_time": "2021-10-14T05:48:55.611Z"
   },
   {
    "duration": 76,
    "start_time": "2021-10-14T05:49:09.249Z"
   },
   {
    "duration": 93,
    "start_time": "2021-10-14T05:49:35.538Z"
   },
   {
    "duration": 2027,
    "start_time": "2021-10-14T05:49:43.039Z"
   },
   {
    "duration": 1737,
    "start_time": "2021-10-14T05:49:45.069Z"
   },
   {
    "duration": 935,
    "start_time": "2021-10-14T05:49:46.809Z"
   },
   {
    "duration": 6,
    "start_time": "2021-10-14T05:49:47.746Z"
   },
   {
    "duration": 12,
    "start_time": "2021-10-14T05:49:47.755Z"
   },
   {
    "duration": 865,
    "start_time": "2021-10-14T05:49:47.770Z"
   },
   {
    "duration": 10,
    "start_time": "2021-10-14T05:49:48.637Z"
   },
   {
    "duration": 13,
    "start_time": "2021-10-14T05:49:48.650Z"
   },
   {
    "duration": 51,
    "start_time": "2021-10-14T05:49:48.666Z"
   },
   {
    "duration": 6,
    "start_time": "2021-10-14T05:49:48.719Z"
   },
   {
    "duration": 554,
    "start_time": "2021-10-14T05:49:48.727Z"
   },
   {
    "duration": 31,
    "start_time": "2021-10-14T05:49:49.284Z"
   },
   {
    "duration": 107,
    "start_time": "2021-10-14T05:49:49.318Z"
   },
   {
    "duration": 23,
    "start_time": "2021-10-14T05:49:49.428Z"
   },
   {
    "duration": 57,
    "start_time": "2021-10-14T05:49:49.454Z"
   },
   {
    "duration": 88,
    "start_time": "2021-10-14T05:49:49.514Z"
   },
   {
    "duration": 185,
    "start_time": "2021-10-14T05:49:49.605Z"
   },
   {
    "duration": 10,
    "start_time": "2021-10-14T05:49:49.792Z"
   },
   {
    "duration": 24,
    "start_time": "2021-10-14T05:49:49.804Z"
   },
   {
    "duration": 1733,
    "start_time": "2021-10-14T05:49:49.830Z"
   },
   {
    "duration": 16,
    "start_time": "2021-10-14T05:49:51.565Z"
   },
   {
    "duration": 58,
    "start_time": "2021-10-14T05:49:51.584Z"
   },
   {
    "duration": 101,
    "start_time": "2021-10-14T05:49:51.647Z"
   },
   {
    "duration": 27,
    "start_time": "2021-10-14T05:49:51.751Z"
   },
   {
    "duration": 53,
    "start_time": "2021-10-14T05:49:51.780Z"
   },
   {
    "duration": 80,
    "start_time": "2021-10-14T05:49:51.835Z"
   },
   {
    "duration": 16,
    "start_time": "2021-10-14T05:49:51.918Z"
   },
   {
    "duration": 19,
    "start_time": "2021-10-14T05:49:51.937Z"
   },
   {
    "duration": 9,
    "start_time": "2021-10-14T05:49:51.958Z"
   },
   {
    "duration": 35,
    "start_time": "2021-10-14T05:49:51.969Z"
   },
   {
    "duration": 47,
    "start_time": "2021-10-14T05:49:52.007Z"
   },
   {
    "duration": 131,
    "start_time": "2021-10-14T05:49:52.056Z"
   },
   {
    "duration": 12,
    "start_time": "2021-10-14T05:49:52.189Z"
   },
   {
    "duration": 26,
    "start_time": "2021-10-14T05:49:52.204Z"
   },
   {
    "duration": 16,
    "start_time": "2021-10-14T05:49:52.233Z"
   },
   {
    "duration": 12,
    "start_time": "2021-10-14T05:50:57.283Z"
   },
   {
    "duration": 92,
    "start_time": "2021-10-14T05:51:09.266Z"
   },
   {
    "duration": 8231,
    "start_time": "2021-10-14T06:02:27.082Z"
   },
   {
    "duration": 7889,
    "start_time": "2021-10-14T06:02:47.931Z"
   },
   {
    "duration": 8520,
    "start_time": "2021-10-14T06:03:03.554Z"
   },
   {
    "duration": 7853,
    "start_time": "2021-10-14T06:03:35.541Z"
   },
   {
    "duration": 10402,
    "start_time": "2021-10-14T06:08:04.954Z"
   },
   {
    "duration": 9228,
    "start_time": "2021-10-14T06:08:35.805Z"
   },
   {
    "duration": 10251,
    "start_time": "2021-10-14T06:08:55.648Z"
   },
   {
    "duration": 168,
    "start_time": "2021-10-14T06:09:37.091Z"
   },
   {
    "duration": 172,
    "start_time": "2021-10-14T06:10:11.751Z"
   },
   {
    "duration": 423,
    "start_time": "2021-10-14T06:10:21.159Z"
   },
   {
    "duration": 691,
    "start_time": "2021-10-14T06:10:46.444Z"
   },
   {
    "duration": 474,
    "start_time": "2021-10-14T06:11:05.366Z"
   },
   {
    "duration": 496,
    "start_time": "2021-10-14T06:12:59.890Z"
   },
   {
    "duration": 301,
    "start_time": "2021-10-14T06:14:11.931Z"
   },
   {
    "duration": 176,
    "start_time": "2021-10-14T06:14:17.972Z"
   },
   {
    "duration": 387,
    "start_time": "2021-10-14T06:14:18.957Z"
   },
   {
    "duration": 473,
    "start_time": "2021-10-14T06:14:29.462Z"
   },
   {
    "duration": 2101,
    "start_time": "2021-10-14T06:14:45.779Z"
   },
   {
    "duration": 2842,
    "start_time": "2021-10-14T06:14:47.883Z"
   },
   {
    "duration": 1539,
    "start_time": "2021-10-14T06:14:50.729Z"
   },
   {
    "duration": 6,
    "start_time": "2021-10-14T06:14:52.271Z"
   },
   {
    "duration": 15,
    "start_time": "2021-10-14T06:14:52.279Z"
   },
   {
    "duration": 866,
    "start_time": "2021-10-14T06:14:52.296Z"
   },
   {
    "duration": 9,
    "start_time": "2021-10-14T06:14:53.165Z"
   },
   {
    "duration": 33,
    "start_time": "2021-10-14T06:14:53.176Z"
   },
   {
    "duration": 27,
    "start_time": "2021-10-14T06:14:53.213Z"
   },
   {
    "duration": 5,
    "start_time": "2021-10-14T06:14:53.243Z"
   },
   {
    "duration": 549,
    "start_time": "2021-10-14T06:14:53.251Z"
   },
   {
    "duration": 24,
    "start_time": "2021-10-14T06:14:53.802Z"
   },
   {
    "duration": 114,
    "start_time": "2021-10-14T06:14:53.828Z"
   },
   {
    "duration": 23,
    "start_time": "2021-10-14T06:14:53.945Z"
   },
   {
    "duration": 53,
    "start_time": "2021-10-14T06:14:53.970Z"
   },
   {
    "duration": 91,
    "start_time": "2021-10-14T06:14:54.026Z"
   },
   {
    "duration": 181,
    "start_time": "2021-10-14T06:14:54.119Z"
   },
   {
    "duration": 489,
    "start_time": "2021-10-14T06:14:54.302Z"
   },
   {
    "duration": 10,
    "start_time": "2021-10-14T06:14:54.794Z"
   },
   {
    "duration": 9269,
    "start_time": "2021-10-14T06:14:54.807Z"
   },
   {
    "duration": -950,
    "start_time": "2021-10-14T06:15:05.030Z"
   },
   {
    "duration": -955,
    "start_time": "2021-10-14T06:15:05.037Z"
   },
   {
    "duration": -959,
    "start_time": "2021-10-14T06:15:05.043Z"
   },
   {
    "duration": -963,
    "start_time": "2021-10-14T06:15:05.049Z"
   },
   {
    "duration": -966,
    "start_time": "2021-10-14T06:15:05.055Z"
   },
   {
    "duration": -970,
    "start_time": "2021-10-14T06:15:05.061Z"
   },
   {
    "duration": -974,
    "start_time": "2021-10-14T06:15:05.067Z"
   },
   {
    "duration": -979,
    "start_time": "2021-10-14T06:15:05.074Z"
   },
   {
    "duration": -982,
    "start_time": "2021-10-14T06:15:05.079Z"
   },
   {
    "duration": -984,
    "start_time": "2021-10-14T06:15:05.083Z"
   },
   {
    "duration": -985,
    "start_time": "2021-10-14T06:15:05.087Z"
   },
   {
    "duration": -988,
    "start_time": "2021-10-14T06:15:05.092Z"
   },
   {
    "duration": -990,
    "start_time": "2021-10-14T06:15:05.096Z"
   },
   {
    "duration": -992,
    "start_time": "2021-10-14T06:15:05.100Z"
   },
   {
    "duration": -993,
    "start_time": "2021-10-14T06:15:05.103Z"
   },
   {
    "duration": -995,
    "start_time": "2021-10-14T06:15:05.108Z"
   },
   {
    "duration": 2100,
    "start_time": "2021-10-14T06:15:34.262Z"
   },
   {
    "duration": 2292,
    "start_time": "2021-10-14T06:15:36.365Z"
   },
   {
    "duration": 919,
    "start_time": "2021-10-14T06:15:38.660Z"
   },
   {
    "duration": 5,
    "start_time": "2021-10-14T06:15:39.582Z"
   },
   {
    "duration": 12,
    "start_time": "2021-10-14T06:15:39.589Z"
   },
   {
    "duration": 858,
    "start_time": "2021-10-14T06:15:39.603Z"
   },
   {
    "duration": 10,
    "start_time": "2021-10-14T06:15:40.463Z"
   },
   {
    "duration": 30,
    "start_time": "2021-10-14T06:15:40.476Z"
   },
   {
    "duration": 26,
    "start_time": "2021-10-14T06:15:40.509Z"
   },
   {
    "duration": 6,
    "start_time": "2021-10-14T06:15:40.537Z"
   },
   {
    "duration": 542,
    "start_time": "2021-10-14T06:15:40.545Z"
   },
   {
    "duration": 30,
    "start_time": "2021-10-14T06:15:41.090Z"
   },
   {
    "duration": 113,
    "start_time": "2021-10-14T06:15:41.122Z"
   },
   {
    "duration": 22,
    "start_time": "2021-10-14T06:15:41.238Z"
   },
   {
    "duration": 57,
    "start_time": "2021-10-14T06:15:41.263Z"
   },
   {
    "duration": 86,
    "start_time": "2021-10-14T06:15:41.323Z"
   },
   {
    "duration": 181,
    "start_time": "2021-10-14T06:15:41.412Z"
   },
   {
    "duration": 478,
    "start_time": "2021-10-14T06:15:41.596Z"
   },
   {
    "duration": 5,
    "start_time": "2021-10-14T06:15:42.077Z"
   },
   {
    "duration": 34,
    "start_time": "2021-10-14T06:15:42.085Z"
   },
   {
    "duration": 1673,
    "start_time": "2021-10-14T06:15:42.121Z"
   },
   {
    "duration": 14,
    "start_time": "2021-10-14T06:15:43.801Z"
   },
   {
    "duration": 40,
    "start_time": "2021-10-14T06:15:43.820Z"
   },
   {
    "duration": 104,
    "start_time": "2021-10-14T06:15:43.862Z"
   },
   {
    "duration": 41,
    "start_time": "2021-10-14T06:15:43.969Z"
   },
   {
    "duration": 37,
    "start_time": "2021-10-14T06:15:44.013Z"
   },
   {
    "duration": 98,
    "start_time": "2021-10-14T06:15:44.053Z"
   },
   {
    "duration": 18,
    "start_time": "2021-10-14T06:15:44.155Z"
   },
   {
    "duration": 38,
    "start_time": "2021-10-14T06:15:44.176Z"
   },
   {
    "duration": 18,
    "start_time": "2021-10-14T06:15:44.217Z"
   },
   {
    "duration": 12,
    "start_time": "2021-10-14T06:15:44.238Z"
   },
   {
    "duration": 71,
    "start_time": "2021-10-14T06:15:44.252Z"
   },
   {
    "duration": 118,
    "start_time": "2021-10-14T06:15:44.326Z"
   },
   {
    "duration": 10,
    "start_time": "2021-10-14T06:15:44.447Z"
   },
   {
    "duration": 54,
    "start_time": "2021-10-14T06:15:44.460Z"
   },
   {
    "duration": 23,
    "start_time": "2021-10-14T06:15:44.517Z"
   },
   {
    "duration": 8934,
    "start_time": "2021-10-14T06:20:38.741Z"
   },
   {
    "duration": 8520,
    "start_time": "2021-10-14T06:28:24.375Z"
   },
   {
    "duration": 10378,
    "start_time": "2021-10-14T06:30:57.897Z"
   },
   {
    "duration": 2049,
    "start_time": "2021-10-14T06:31:14.843Z"
   },
   {
    "duration": 2777,
    "start_time": "2021-10-14T06:31:16.895Z"
   },
   {
    "duration": 1249,
    "start_time": "2021-10-14T06:31:19.677Z"
   },
   {
    "duration": 6,
    "start_time": "2021-10-14T06:31:20.928Z"
   },
   {
    "duration": 13,
    "start_time": "2021-10-14T06:31:20.937Z"
   },
   {
    "duration": 985,
    "start_time": "2021-10-14T06:31:20.953Z"
   },
   {
    "duration": 10,
    "start_time": "2021-10-14T06:31:21.941Z"
   },
   {
    "duration": 12,
    "start_time": "2021-10-14T06:31:21.956Z"
   },
   {
    "duration": 51,
    "start_time": "2021-10-14T06:31:21.971Z"
   },
   {
    "duration": 5,
    "start_time": "2021-10-14T06:31:22.025Z"
   },
   {
    "duration": 568,
    "start_time": "2021-10-14T06:31:22.032Z"
   },
   {
    "duration": 23,
    "start_time": "2021-10-14T06:31:22.603Z"
   },
   {
    "duration": 126,
    "start_time": "2021-10-14T06:31:22.628Z"
   },
   {
    "duration": 23,
    "start_time": "2021-10-14T06:31:22.756Z"
   },
   {
    "duration": 50,
    "start_time": "2021-10-14T06:31:22.781Z"
   },
   {
    "duration": 92,
    "start_time": "2021-10-14T06:31:22.833Z"
   },
   {
    "duration": 194,
    "start_time": "2021-10-14T06:31:22.927Z"
   },
   {
    "duration": 347,
    "start_time": "2021-10-14T06:31:23.124Z"
   },
   {
    "duration": 493,
    "start_time": "2021-10-14T06:31:23.474Z"
   },
   {
    "duration": 6,
    "start_time": "2021-10-14T06:31:23.970Z"
   },
   {
    "duration": 42,
    "start_time": "2021-10-14T06:31:23.978Z"
   },
   {
    "duration": 1695,
    "start_time": "2021-10-14T06:31:24.023Z"
   },
   {
    "duration": 14,
    "start_time": "2021-10-14T06:31:25.723Z"
   },
   {
    "duration": 65,
    "start_time": "2021-10-14T06:31:25.740Z"
   },
   {
    "duration": 74,
    "start_time": "2021-10-14T06:31:25.808Z"
   },
   {
    "duration": 27,
    "start_time": "2021-10-14T06:31:25.900Z"
   },
   {
    "duration": 35,
    "start_time": "2021-10-14T06:31:25.929Z"
   },
   {
    "duration": 90,
    "start_time": "2021-10-14T06:31:25.967Z"
   },
   {
    "duration": 16,
    "start_time": "2021-10-14T06:31:26.060Z"
   },
   {
    "duration": 39,
    "start_time": "2021-10-14T06:31:26.079Z"
   },
   {
    "duration": 8,
    "start_time": "2021-10-14T06:31:26.120Z"
   },
   {
    "duration": 6,
    "start_time": "2021-10-14T06:31:26.130Z"
   },
   {
    "duration": 86,
    "start_time": "2021-10-14T06:31:26.138Z"
   },
   {
    "duration": 116,
    "start_time": "2021-10-14T06:31:26.227Z"
   },
   {
    "duration": 9,
    "start_time": "2021-10-14T06:31:26.345Z"
   },
   {
    "duration": 42,
    "start_time": "2021-10-14T06:31:26.357Z"
   },
   {
    "duration": 9,
    "start_time": "2021-10-14T06:31:26.402Z"
   },
   {
    "duration": 9407,
    "start_time": "2021-10-14T06:32:27.419Z"
   },
   {
    "duration": 2122,
    "start_time": "2021-10-14T06:32:43.262Z"
   },
   {
    "duration": 1851,
    "start_time": "2021-10-14T06:32:45.387Z"
   },
   {
    "duration": 1079,
    "start_time": "2021-10-14T06:32:47.241Z"
   },
   {
    "duration": 5,
    "start_time": "2021-10-14T06:32:48.323Z"
   },
   {
    "duration": 12,
    "start_time": "2021-10-14T06:32:48.331Z"
   },
   {
    "duration": 897,
    "start_time": "2021-10-14T06:32:48.345Z"
   },
   {
    "duration": 11,
    "start_time": "2021-10-14T06:32:49.245Z"
   },
   {
    "duration": 41,
    "start_time": "2021-10-14T06:32:49.262Z"
   },
   {
    "duration": 28,
    "start_time": "2021-10-14T06:32:49.307Z"
   },
   {
    "duration": 7,
    "start_time": "2021-10-14T06:32:49.338Z"
   },
   {
    "duration": 566,
    "start_time": "2021-10-14T06:32:49.349Z"
   },
   {
    "duration": 25,
    "start_time": "2021-10-14T06:32:49.918Z"
   },
   {
    "duration": 126,
    "start_time": "2021-10-14T06:32:49.945Z"
   },
   {
    "duration": 31,
    "start_time": "2021-10-14T06:32:50.073Z"
   },
   {
    "duration": 36,
    "start_time": "2021-10-14T06:32:50.107Z"
   },
   {
    "duration": 96,
    "start_time": "2021-10-14T06:32:50.145Z"
   },
   {
    "duration": 185,
    "start_time": "2021-10-14T06:32:50.243Z"
   },
   {
    "duration": 694,
    "start_time": "2021-10-14T06:32:50.431Z"
   },
   {
    "duration": 513,
    "start_time": "2021-10-14T06:32:51.128Z"
   },
   {
    "duration": 6,
    "start_time": "2021-10-14T06:32:51.643Z"
   },
   {
    "duration": 48,
    "start_time": "2021-10-14T06:32:51.652Z"
   },
   {
    "duration": 1830,
    "start_time": "2021-10-14T06:32:51.703Z"
   },
   {
    "duration": 15,
    "start_time": "2021-10-14T06:32:53.538Z"
   },
   {
    "duration": 62,
    "start_time": "2021-10-14T06:32:53.556Z"
   },
   {
    "duration": 87,
    "start_time": "2021-10-14T06:32:53.621Z"
   },
   {
    "duration": 27,
    "start_time": "2021-10-14T06:32:53.711Z"
   },
   {
    "duration": 63,
    "start_time": "2021-10-14T06:32:53.741Z"
   },
   {
    "duration": 65,
    "start_time": "2021-10-14T06:32:53.807Z"
   },
   {
    "duration": 38,
    "start_time": "2021-10-14T06:32:53.875Z"
   },
   {
    "duration": 16,
    "start_time": "2021-10-14T06:32:53.915Z"
   },
   {
    "duration": 8,
    "start_time": "2021-10-14T06:32:53.933Z"
   },
   {
    "duration": 11,
    "start_time": "2021-10-14T06:32:53.943Z"
   },
   {
    "duration": 80,
    "start_time": "2021-10-14T06:32:53.956Z"
   },
   {
    "duration": 116,
    "start_time": "2021-10-14T06:32:54.038Z"
   },
   {
    "duration": 9,
    "start_time": "2021-10-14T06:32:54.156Z"
   },
   {
    "duration": 45,
    "start_time": "2021-10-14T06:32:54.168Z"
   },
   {
    "duration": 14,
    "start_time": "2021-10-14T06:32:54.216Z"
   },
   {
    "duration": 2095,
    "start_time": "2021-10-14T06:37:19.526Z"
   },
   {
    "duration": 2094,
    "start_time": "2021-10-14T06:37:21.624Z"
   },
   {
    "duration": 880,
    "start_time": "2021-10-14T06:37:23.721Z"
   },
   {
    "duration": 5,
    "start_time": "2021-10-14T06:37:24.604Z"
   },
   {
    "duration": 10,
    "start_time": "2021-10-14T06:37:24.612Z"
   },
   {
    "duration": 899,
    "start_time": "2021-10-14T06:37:24.625Z"
   },
   {
    "duration": 9,
    "start_time": "2021-10-14T06:37:25.526Z"
   },
   {
    "duration": 12,
    "start_time": "2021-10-14T06:37:25.539Z"
   },
   {
    "duration": 57,
    "start_time": "2021-10-14T06:37:25.554Z"
   },
   {
    "duration": 6,
    "start_time": "2021-10-14T06:37:25.614Z"
   },
   {
    "duration": 644,
    "start_time": "2021-10-14T06:37:25.623Z"
   },
   {
    "duration": 42,
    "start_time": "2021-10-14T06:37:26.270Z"
   },
   {
    "duration": 117,
    "start_time": "2021-10-14T06:37:26.315Z"
   },
   {
    "duration": 25,
    "start_time": "2021-10-14T06:37:26.435Z"
   },
   {
    "duration": 63,
    "start_time": "2021-10-14T06:37:26.463Z"
   },
   {
    "duration": 90,
    "start_time": "2021-10-14T06:37:26.528Z"
   },
   {
    "duration": 184,
    "start_time": "2021-10-14T06:37:26.620Z"
   },
   {
    "duration": 567,
    "start_time": "2021-10-14T06:37:26.806Z"
   },
   {
    "duration": -906,
    "start_time": "2021-10-14T06:37:28.282Z"
   },
   {
    "duration": -917,
    "start_time": "2021-10-14T06:37:28.295Z"
   },
   {
    "duration": -931,
    "start_time": "2021-10-14T06:37:28.310Z"
   },
   {
    "duration": -943,
    "start_time": "2021-10-14T06:37:28.323Z"
   },
   {
    "duration": -952,
    "start_time": "2021-10-14T06:37:28.334Z"
   },
   {
    "duration": -963,
    "start_time": "2021-10-14T06:37:28.346Z"
   },
   {
    "duration": -975,
    "start_time": "2021-10-14T06:37:28.359Z"
   },
   {
    "duration": -986,
    "start_time": "2021-10-14T06:37:28.371Z"
   },
   {
    "duration": -995,
    "start_time": "2021-10-14T06:37:28.382Z"
   },
   {
    "duration": -1003,
    "start_time": "2021-10-14T06:37:28.391Z"
   },
   {
    "duration": -1005,
    "start_time": "2021-10-14T06:37:28.395Z"
   },
   {
    "duration": -1010,
    "start_time": "2021-10-14T06:37:28.401Z"
   },
   {
    "duration": -1015,
    "start_time": "2021-10-14T06:37:28.407Z"
   },
   {
    "duration": -1018,
    "start_time": "2021-10-14T06:37:28.412Z"
   },
   {
    "duration": -1022,
    "start_time": "2021-10-14T06:37:28.417Z"
   },
   {
    "duration": -1028,
    "start_time": "2021-10-14T06:37:28.424Z"
   },
   {
    "duration": -1030,
    "start_time": "2021-10-14T06:37:28.428Z"
   },
   {
    "duration": -1034,
    "start_time": "2021-10-14T06:37:28.433Z"
   },
   {
    "duration": -1043,
    "start_time": "2021-10-14T06:37:28.443Z"
   },
   {
    "duration": 474,
    "start_time": "2021-10-14T06:41:42.250Z"
   },
   {
    "duration": 732,
    "start_time": "2021-10-14T07:09:04.862Z"
   },
   {
    "duration": 735,
    "start_time": "2021-10-14T07:10:18.123Z"
   },
   {
    "duration": 735,
    "start_time": "2021-10-14T07:10:41.464Z"
   },
   {
    "duration": 753,
    "start_time": "2021-10-14T07:11:55.580Z"
   },
   {
    "duration": 2027,
    "start_time": "2021-10-14T07:12:09.035Z"
   },
   {
    "duration": 2239,
    "start_time": "2021-10-14T07:12:11.065Z"
   },
   {
    "duration": 1989,
    "start_time": "2021-10-14T07:12:13.307Z"
   },
   {
    "duration": 13,
    "start_time": "2021-10-14T07:12:15.300Z"
   },
   {
    "duration": 12,
    "start_time": "2021-10-14T07:12:15.317Z"
   },
   {
    "duration": 870,
    "start_time": "2021-10-14T07:12:15.332Z"
   },
   {
    "duration": 9,
    "start_time": "2021-10-14T07:12:16.204Z"
   },
   {
    "duration": 24,
    "start_time": "2021-10-14T07:12:16.217Z"
   },
   {
    "duration": 57,
    "start_time": "2021-10-14T07:12:16.244Z"
   },
   {
    "duration": 6,
    "start_time": "2021-10-14T07:12:16.303Z"
   },
   {
    "duration": 590,
    "start_time": "2021-10-14T07:12:16.312Z"
   },
   {
    "duration": 24,
    "start_time": "2021-10-14T07:12:16.905Z"
   },
   {
    "duration": 123,
    "start_time": "2021-10-14T07:12:16.932Z"
   },
   {
    "duration": 24,
    "start_time": "2021-10-14T07:12:17.058Z"
   },
   {
    "duration": 52,
    "start_time": "2021-10-14T07:12:17.084Z"
   },
   {
    "duration": 107,
    "start_time": "2021-10-14T07:12:17.138Z"
   },
   {
    "duration": 200,
    "start_time": "2021-10-14T07:12:17.247Z"
   },
   {
    "duration": 1083,
    "start_time": "2021-10-14T07:12:17.450Z"
   },
   {
    "duration": -1003,
    "start_time": "2021-10-14T07:12:19.540Z"
   },
   {
    "duration": -1012,
    "start_time": "2021-10-14T07:12:19.551Z"
   },
   {
    "duration": -1014,
    "start_time": "2021-10-14T07:12:19.556Z"
   },
   {
    "duration": -1017,
    "start_time": "2021-10-14T07:12:19.560Z"
   },
   {
    "duration": -1023,
    "start_time": "2021-10-14T07:12:19.568Z"
   },
   {
    "duration": -1025,
    "start_time": "2021-10-14T07:12:19.572Z"
   },
   {
    "duration": -1026,
    "start_time": "2021-10-14T07:12:19.575Z"
   },
   {
    "duration": -1032,
    "start_time": "2021-10-14T07:12:19.583Z"
   },
   {
    "duration": -1033,
    "start_time": "2021-10-14T07:12:19.586Z"
   },
   {
    "duration": -1034,
    "start_time": "2021-10-14T07:12:19.589Z"
   },
   {
    "duration": -1036,
    "start_time": "2021-10-14T07:12:19.593Z"
   },
   {
    "duration": -1041,
    "start_time": "2021-10-14T07:12:19.600Z"
   },
   {
    "duration": -1043,
    "start_time": "2021-10-14T07:12:19.604Z"
   },
   {
    "duration": -1045,
    "start_time": "2021-10-14T07:12:19.608Z"
   },
   {
    "duration": -1014,
    "start_time": "2021-10-14T07:12:19.615Z"
   },
   {
    "duration": -1015,
    "start_time": "2021-10-14T07:12:19.619Z"
   },
   {
    "duration": -1015,
    "start_time": "2021-10-14T07:12:19.621Z"
   },
   {
    "duration": -1016,
    "start_time": "2021-10-14T07:12:19.624Z"
   },
   {
    "duration": 730,
    "start_time": "2021-10-14T07:12:48.363Z"
   },
   {
    "duration": 626,
    "start_time": "2021-10-14T07:13:00.996Z"
   },
   {
    "duration": 516,
    "start_time": "2021-10-14T07:15:09.060Z"
   },
   {
    "duration": 537,
    "start_time": "2021-10-14T07:15:16.566Z"
   },
   {
    "duration": 547,
    "start_time": "2021-10-14T07:16:37.199Z"
   },
   {
    "duration": 670,
    "start_time": "2021-10-14T07:16:43.984Z"
   },
   {
    "duration": 2098,
    "start_time": "2021-10-14T07:16:51.969Z"
   },
   {
    "duration": 1610,
    "start_time": "2021-10-14T07:16:54.070Z"
   },
   {
    "duration": 1230,
    "start_time": "2021-10-14T07:16:55.700Z"
   },
   {
    "duration": 5,
    "start_time": "2021-10-14T07:16:56.933Z"
   },
   {
    "duration": 16,
    "start_time": "2021-10-14T07:16:56.940Z"
   },
   {
    "duration": 896,
    "start_time": "2021-10-14T07:16:56.959Z"
   },
   {
    "duration": 9,
    "start_time": "2021-10-14T07:16:57.857Z"
   },
   {
    "duration": 32,
    "start_time": "2021-10-14T07:16:57.871Z"
   },
   {
    "duration": 27,
    "start_time": "2021-10-14T07:16:57.906Z"
   },
   {
    "duration": 5,
    "start_time": "2021-10-14T07:16:57.936Z"
   },
   {
    "duration": 550,
    "start_time": "2021-10-14T07:16:57.944Z"
   },
   {
    "duration": 22,
    "start_time": "2021-10-14T07:16:58.496Z"
   },
   {
    "duration": 120,
    "start_time": "2021-10-14T07:16:58.521Z"
   },
   {
    "duration": 22,
    "start_time": "2021-10-14T07:16:58.644Z"
   },
   {
    "duration": 56,
    "start_time": "2021-10-14T07:16:58.669Z"
   },
   {
    "duration": 89,
    "start_time": "2021-10-14T07:16:58.728Z"
   },
   {
    "duration": 186,
    "start_time": "2021-10-14T07:16:58.820Z"
   },
   {
    "duration": 537,
    "start_time": "2021-10-14T07:16:59.008Z"
   },
   {
    "duration": 5,
    "start_time": "2021-10-14T07:16:59.548Z"
   },
   {
    "duration": 44,
    "start_time": "2021-10-14T07:16:59.556Z"
   },
   {
    "duration": 1687,
    "start_time": "2021-10-14T07:16:59.603Z"
   },
   {
    "duration": 16,
    "start_time": "2021-10-14T07:17:01.300Z"
   },
   {
    "duration": 47,
    "start_time": "2021-10-14T07:17:01.321Z"
   },
   {
    "duration": 106,
    "start_time": "2021-10-14T07:17:01.371Z"
   },
   {
    "duration": 39,
    "start_time": "2021-10-14T07:17:01.480Z"
   },
   {
    "duration": 42,
    "start_time": "2021-10-14T07:17:01.522Z"
   },
   {
    "duration": 92,
    "start_time": "2021-10-14T07:17:01.566Z"
   },
   {
    "duration": 18,
    "start_time": "2021-10-14T07:17:01.660Z"
   },
   {
    "duration": 39,
    "start_time": "2021-10-14T07:17:01.680Z"
   },
   {
    "duration": 8,
    "start_time": "2021-10-14T07:17:01.721Z"
   },
   {
    "duration": 28,
    "start_time": "2021-10-14T07:17:01.732Z"
   },
   {
    "duration": 70,
    "start_time": "2021-10-14T07:17:01.762Z"
   },
   {
    "duration": 120,
    "start_time": "2021-10-14T07:17:01.835Z"
   },
   {
    "duration": 10,
    "start_time": "2021-10-14T07:17:01.958Z"
   },
   {
    "duration": 131,
    "start_time": "2021-10-14T07:17:01.970Z"
   },
   {
    "duration": 41,
    "start_time": "2021-10-14T07:17:02.104Z"
   },
   {
    "duration": 8130,
    "start_time": "2021-10-14T07:17:17.916Z"
   },
   {
    "duration": 8631,
    "start_time": "2021-10-14T07:17:39.080Z"
   },
   {
    "duration": 2051,
    "start_time": "2021-10-14T07:18:14.128Z"
   },
   {
    "duration": 1772,
    "start_time": "2021-10-14T07:18:16.182Z"
   },
   {
    "duration": 1253,
    "start_time": "2021-10-14T07:18:17.957Z"
   },
   {
    "duration": 5,
    "start_time": "2021-10-14T07:18:19.213Z"
   },
   {
    "duration": 14,
    "start_time": "2021-10-14T07:18:19.220Z"
   },
   {
    "duration": 887,
    "start_time": "2021-10-14T07:18:19.237Z"
   },
   {
    "duration": 10,
    "start_time": "2021-10-14T07:18:20.126Z"
   },
   {
    "duration": 13,
    "start_time": "2021-10-14T07:18:20.140Z"
   },
   {
    "duration": 55,
    "start_time": "2021-10-14T07:18:20.156Z"
   },
   {
    "duration": 5,
    "start_time": "2021-10-14T07:18:20.214Z"
   },
   {
    "duration": 531,
    "start_time": "2021-10-14T07:18:20.222Z"
   },
   {
    "duration": 25,
    "start_time": "2021-10-14T07:18:20.755Z"
   },
   {
    "duration": 125,
    "start_time": "2021-10-14T07:18:20.782Z"
   },
   {
    "duration": 23,
    "start_time": "2021-10-14T07:18:20.909Z"
   },
   {
    "duration": 37,
    "start_time": "2021-10-14T07:18:20.935Z"
   },
   {
    "duration": 102,
    "start_time": "2021-10-14T07:18:20.975Z"
   },
   {
    "duration": 197,
    "start_time": "2021-10-14T07:18:21.080Z"
   },
   {
    "duration": 546,
    "start_time": "2021-10-14T07:18:21.279Z"
   },
   {
    "duration": 6,
    "start_time": "2021-10-14T07:18:21.828Z"
   },
   {
    "duration": 29,
    "start_time": "2021-10-14T07:18:21.837Z"
   },
   {
    "duration": 1830,
    "start_time": "2021-10-14T07:18:21.868Z"
   },
   {
    "duration": 15,
    "start_time": "2021-10-14T07:18:23.701Z"
   },
   {
    "duration": 47,
    "start_time": "2021-10-14T07:18:23.721Z"
   },
   {
    "duration": 90,
    "start_time": "2021-10-14T07:18:23.771Z"
   },
   {
    "duration": 27,
    "start_time": "2021-10-14T07:18:23.864Z"
   },
   {
    "duration": 39,
    "start_time": "2021-10-14T07:18:23.893Z"
   },
   {
    "duration": 72,
    "start_time": "2021-10-14T07:18:23.935Z"
   },
   {
    "duration": 16,
    "start_time": "2021-10-14T07:18:24.009Z"
   },
   {
    "duration": 19,
    "start_time": "2021-10-14T07:18:24.028Z"
   },
   {
    "duration": 7,
    "start_time": "2021-10-14T07:18:24.050Z"
   },
   {
    "duration": 10,
    "start_time": "2021-10-14T07:18:24.059Z"
   },
   {
    "duration": 54,
    "start_time": "2021-10-14T07:18:24.072Z"
   },
   {
    "duration": 208,
    "start_time": "2021-10-14T07:18:24.129Z"
   },
   {
    "duration": 9,
    "start_time": "2021-10-14T07:18:24.340Z"
   },
   {
    "duration": 56,
    "start_time": "2021-10-14T07:18:24.351Z"
   },
   {
    "duration": 24,
    "start_time": "2021-10-14T07:18:24.410Z"
   },
   {
    "duration": 2059,
    "start_time": "2021-10-14T07:20:37.134Z"
   },
   {
    "duration": 1645,
    "start_time": "2021-10-14T07:20:39.196Z"
   },
   {
    "duration": 1021,
    "start_time": "2021-10-14T07:20:40.844Z"
   },
   {
    "duration": 5,
    "start_time": "2021-10-14T07:20:41.868Z"
   },
   {
    "duration": 14,
    "start_time": "2021-10-14T07:20:41.875Z"
   },
   {
    "duration": 867,
    "start_time": "2021-10-14T07:20:41.892Z"
   },
   {
    "duration": 10,
    "start_time": "2021-10-14T07:20:42.762Z"
   },
   {
    "duration": 30,
    "start_time": "2021-10-14T07:20:42.776Z"
   },
   {
    "duration": 27,
    "start_time": "2021-10-14T07:20:42.809Z"
   },
   {
    "duration": 5,
    "start_time": "2021-10-14T07:20:42.839Z"
   },
   {
    "duration": 540,
    "start_time": "2021-10-14T07:20:42.846Z"
   },
   {
    "duration": 31,
    "start_time": "2021-10-14T07:20:43.388Z"
   },
   {
    "duration": 116,
    "start_time": "2021-10-14T07:20:43.421Z"
   },
   {
    "duration": 24,
    "start_time": "2021-10-14T07:20:43.539Z"
   },
   {
    "duration": 59,
    "start_time": "2021-10-14T07:20:43.565Z"
   },
   {
    "duration": 83,
    "start_time": "2021-10-14T07:20:43.626Z"
   },
   {
    "duration": 190,
    "start_time": "2021-10-14T07:20:43.711Z"
   },
   {
    "duration": 938,
    "start_time": "2021-10-14T07:20:43.904Z"
   },
   {
    "duration": -1038,
    "start_time": "2021-10-14T07:20:45.884Z"
   },
   {
    "duration": -1042,
    "start_time": "2021-10-14T07:20:45.889Z"
   },
   {
    "duration": -1043,
    "start_time": "2021-10-14T07:20:45.892Z"
   },
   {
    "duration": -1047,
    "start_time": "2021-10-14T07:20:45.897Z"
   },
   {
    "duration": -1054,
    "start_time": "2021-10-14T07:20:45.906Z"
   },
   {
    "duration": -1057,
    "start_time": "2021-10-14T07:20:45.910Z"
   },
   {
    "duration": -1065,
    "start_time": "2021-10-14T07:20:45.919Z"
   },
   {
    "duration": -1067,
    "start_time": "2021-10-14T07:20:45.923Z"
   },
   {
    "duration": -1070,
    "start_time": "2021-10-14T07:20:45.927Z"
   },
   {
    "duration": -1077,
    "start_time": "2021-10-14T07:20:45.936Z"
   },
   {
    "duration": -1079,
    "start_time": "2021-10-14T07:20:45.939Z"
   },
   {
    "duration": -1081,
    "start_time": "2021-10-14T07:20:45.943Z"
   },
   {
    "duration": -1089,
    "start_time": "2021-10-14T07:20:45.952Z"
   },
   {
    "duration": -1092,
    "start_time": "2021-10-14T07:20:45.956Z"
   },
   {
    "duration": -1093,
    "start_time": "2021-10-14T07:20:45.959Z"
   },
   {
    "duration": -1063,
    "start_time": "2021-10-14T07:20:45.965Z"
   },
   {
    "duration": -1070,
    "start_time": "2021-10-14T07:20:45.973Z"
   },
   {
    "duration": -1072,
    "start_time": "2021-10-14T07:20:45.977Z"
   },
   {
    "duration": 534,
    "start_time": "2021-10-14T07:21:17.169Z"
   },
   {
    "duration": 567,
    "start_time": "2021-10-14T07:21:31.179Z"
   },
   {
    "duration": 545,
    "start_time": "2021-10-14T07:21:37.666Z"
   },
   {
    "duration": 2139,
    "start_time": "2021-10-14T07:21:46.943Z"
   },
   {
    "duration": 1766,
    "start_time": "2021-10-14T07:21:49.084Z"
   },
   {
    "duration": 1164,
    "start_time": "2021-10-14T07:21:50.853Z"
   },
   {
    "duration": 6,
    "start_time": "2021-10-14T07:21:52.020Z"
   },
   {
    "duration": 12,
    "start_time": "2021-10-14T07:21:52.029Z"
   },
   {
    "duration": 898,
    "start_time": "2021-10-14T07:21:52.043Z"
   },
   {
    "duration": 9,
    "start_time": "2021-10-14T07:21:52.943Z"
   },
   {
    "duration": 12,
    "start_time": "2021-10-14T07:21:52.956Z"
   },
   {
    "duration": 53,
    "start_time": "2021-10-14T07:21:52.971Z"
   },
   {
    "duration": 6,
    "start_time": "2021-10-14T07:21:53.027Z"
   },
   {
    "duration": 554,
    "start_time": "2021-10-14T07:21:53.036Z"
   },
   {
    "duration": 24,
    "start_time": "2021-10-14T07:21:53.600Z"
   },
   {
    "duration": 114,
    "start_time": "2021-10-14T07:21:53.626Z"
   },
   {
    "duration": 22,
    "start_time": "2021-10-14T07:21:53.743Z"
   },
   {
    "duration": 52,
    "start_time": "2021-10-14T07:21:53.767Z"
   },
   {
    "duration": 92,
    "start_time": "2021-10-14T07:21:53.821Z"
   },
   {
    "duration": 186,
    "start_time": "2021-10-14T07:21:53.916Z"
   },
   {
    "duration": 546,
    "start_time": "2021-10-14T07:21:54.105Z"
   },
   {
    "duration": 6,
    "start_time": "2021-10-14T07:21:54.653Z"
   },
   {
    "duration": 45,
    "start_time": "2021-10-14T07:21:54.661Z"
   },
   {
    "duration": 1682,
    "start_time": "2021-10-14T07:21:54.708Z"
   },
   {
    "duration": 15,
    "start_time": "2021-10-14T07:21:56.400Z"
   },
   {
    "duration": 44,
    "start_time": "2021-10-14T07:21:56.420Z"
   },
   {
    "duration": 102,
    "start_time": "2021-10-14T07:21:56.467Z"
   },
   {
    "duration": 43,
    "start_time": "2021-10-14T07:21:56.572Z"
   },
   {
    "duration": 34,
    "start_time": "2021-10-14T07:21:56.618Z"
   },
   {
    "duration": 85,
    "start_time": "2021-10-14T07:21:56.654Z"
   },
   {
    "duration": 16,
    "start_time": "2021-10-14T07:21:56.742Z"
   },
   {
    "duration": 40,
    "start_time": "2021-10-14T07:21:56.761Z"
   },
   {
    "duration": 9,
    "start_time": "2021-10-14T07:21:56.804Z"
   },
   {
    "duration": 11,
    "start_time": "2021-10-14T07:21:56.816Z"
   },
   {
    "duration": 79,
    "start_time": "2021-10-14T07:21:56.829Z"
   },
   {
    "duration": 123,
    "start_time": "2021-10-14T07:21:56.912Z"
   },
   {
    "duration": 12,
    "start_time": "2021-10-14T07:21:57.037Z"
   },
   {
    "duration": 51,
    "start_time": "2021-10-14T07:21:57.052Z"
   },
   {
    "duration": 14,
    "start_time": "2021-10-14T07:21:57.107Z"
   },
   {
    "duration": 8660,
    "start_time": "2021-10-14T07:22:05.219Z"
   },
   {
    "duration": 2030,
    "start_time": "2021-10-14T07:22:19.761Z"
   },
   {
    "duration": 1543,
    "start_time": "2021-10-14T07:22:21.794Z"
   },
   {
    "duration": 1559,
    "start_time": "2021-10-14T07:22:23.340Z"
   },
   {
    "duration": 6,
    "start_time": "2021-10-14T07:22:24.902Z"
   },
   {
    "duration": 9,
    "start_time": "2021-10-14T07:22:24.910Z"
   },
   {
    "duration": 871,
    "start_time": "2021-10-14T07:22:24.922Z"
   },
   {
    "duration": 9,
    "start_time": "2021-10-14T07:22:25.800Z"
   },
   {
    "duration": 12,
    "start_time": "2021-10-14T07:22:25.813Z"
   },
   {
    "duration": 27,
    "start_time": "2021-10-14T07:22:25.828Z"
   },
   {
    "duration": 6,
    "start_time": "2021-10-14T07:22:25.857Z"
   },
   {
    "duration": 530,
    "start_time": "2021-10-14T07:22:25.901Z"
   },
   {
    "duration": 23,
    "start_time": "2021-10-14T07:22:26.434Z"
   },
   {
    "duration": 121,
    "start_time": "2021-10-14T07:22:26.459Z"
   },
   {
    "duration": 31,
    "start_time": "2021-10-14T07:22:26.582Z"
   },
   {
    "duration": 36,
    "start_time": "2021-10-14T07:22:26.615Z"
   },
   {
    "duration": 97,
    "start_time": "2021-10-14T07:22:26.654Z"
   },
   {
    "duration": 194,
    "start_time": "2021-10-14T07:22:26.754Z"
   },
   {
    "duration": 638,
    "start_time": "2021-10-14T07:22:26.950Z"
   },
   {
    "duration": 10,
    "start_time": "2021-10-14T07:22:27.591Z"
   },
   {
    "duration": 36,
    "start_time": "2021-10-14T07:22:27.603Z"
   },
   {
    "duration": 1890,
    "start_time": "2021-10-14T07:22:27.642Z"
   },
   {
    "duration": 21,
    "start_time": "2021-10-14T07:22:29.535Z"
   },
   {
    "duration": 70,
    "start_time": "2021-10-14T07:22:29.563Z"
   },
   {
    "duration": 90,
    "start_time": "2021-10-14T07:22:29.636Z"
   },
   {
    "duration": 27,
    "start_time": "2021-10-14T07:22:29.729Z"
   },
   {
    "duration": 55,
    "start_time": "2021-10-14T07:22:29.759Z"
   },
   {
    "duration": 66,
    "start_time": "2021-10-14T07:22:29.817Z"
   },
   {
    "duration": 17,
    "start_time": "2021-10-14T07:22:29.901Z"
   },
   {
    "duration": 22,
    "start_time": "2021-10-14T07:22:29.921Z"
   },
   {
    "duration": 8,
    "start_time": "2021-10-14T07:22:29.945Z"
   },
   {
    "duration": 6,
    "start_time": "2021-10-14T07:22:29.955Z"
   },
   {
    "duration": 48,
    "start_time": "2021-10-14T07:22:30.001Z"
   },
   {
    "duration": 132,
    "start_time": "2021-10-14T07:22:30.052Z"
   },
   {
    "duration": 19,
    "start_time": "2021-10-14T07:22:30.187Z"
   },
   {
    "duration": 35,
    "start_time": "2021-10-14T07:22:30.209Z"
   },
   {
    "duration": 16,
    "start_time": "2021-10-14T07:22:30.246Z"
   },
   {
    "duration": 8219,
    "start_time": "2021-10-14T07:25:45.240Z"
   },
   {
    "duration": 2150,
    "start_time": "2021-10-14T07:25:59.199Z"
   },
   {
    "duration": 1604,
    "start_time": "2021-10-14T07:26:01.351Z"
   },
   {
    "duration": 1225,
    "start_time": "2021-10-14T07:26:02.958Z"
   },
   {
    "duration": 7,
    "start_time": "2021-10-14T07:26:04.186Z"
   },
   {
    "duration": 29,
    "start_time": "2021-10-14T07:26:04.196Z"
   },
   {
    "duration": 872,
    "start_time": "2021-10-14T07:26:04.228Z"
   },
   {
    "duration": 11,
    "start_time": "2021-10-14T07:26:05.103Z"
   },
   {
    "duration": 14,
    "start_time": "2021-10-14T07:26:05.120Z"
   },
   {
    "duration": 66,
    "start_time": "2021-10-14T07:26:05.138Z"
   },
   {
    "duration": 7,
    "start_time": "2021-10-14T07:26:05.207Z"
   },
   {
    "duration": 546,
    "start_time": "2021-10-14T07:26:05.217Z"
   },
   {
    "duration": 36,
    "start_time": "2021-10-14T07:26:05.766Z"
   },
   {
    "duration": 108,
    "start_time": "2021-10-14T07:26:05.805Z"
   },
   {
    "duration": 22,
    "start_time": "2021-10-14T07:26:05.916Z"
   },
   {
    "duration": 59,
    "start_time": "2021-10-14T07:26:05.940Z"
   },
   {
    "duration": 75,
    "start_time": "2021-10-14T07:26:06.002Z"
   },
   {
    "duration": 193,
    "start_time": "2021-10-14T07:26:06.080Z"
   },
   {
    "duration": 565,
    "start_time": "2021-10-14T07:26:06.276Z"
   },
   {
    "duration": 6,
    "start_time": "2021-10-14T07:26:06.843Z"
   },
   {
    "duration": 51,
    "start_time": "2021-10-14T07:26:06.851Z"
   },
   {
    "duration": 1706,
    "start_time": "2021-10-14T07:26:06.905Z"
   },
   {
    "duration": 14,
    "start_time": "2021-10-14T07:26:08.613Z"
   },
   {
    "duration": 54,
    "start_time": "2021-10-14T07:26:08.632Z"
   },
   {
    "duration": 77,
    "start_time": "2021-10-14T07:26:08.700Z"
   },
   {
    "duration": 39,
    "start_time": "2021-10-14T07:26:08.780Z"
   },
   {
    "duration": 33,
    "start_time": "2021-10-14T07:26:08.822Z"
   },
   {
    "duration": 92,
    "start_time": "2021-10-14T07:26:08.857Z"
   },
   {
    "duration": 15,
    "start_time": "2021-10-14T07:26:08.952Z"
   },
   {
    "duration": 39,
    "start_time": "2021-10-14T07:26:08.969Z"
   },
   {
    "duration": 8,
    "start_time": "2021-10-14T07:26:09.010Z"
   },
   {
    "duration": 10,
    "start_time": "2021-10-14T07:26:09.021Z"
   },
   {
    "duration": 72,
    "start_time": "2021-10-14T07:26:09.033Z"
   },
   {
    "duration": 111,
    "start_time": "2021-10-14T07:26:09.107Z"
   },
   {
    "duration": 9,
    "start_time": "2021-10-14T07:26:09.220Z"
   },
   {
    "duration": 29,
    "start_time": "2021-10-14T07:26:09.231Z"
   },
   {
    "duration": 41,
    "start_time": "2021-10-14T07:26:09.262Z"
   },
   {
    "duration": 8427,
    "start_time": "2021-10-14T07:30:14.074Z"
   },
   {
    "duration": 2059,
    "start_time": "2021-10-14T07:30:31.229Z"
   },
   {
    "duration": 1637,
    "start_time": "2021-10-14T07:30:33.290Z"
   },
   {
    "duration": 1218,
    "start_time": "2021-10-14T07:30:34.930Z"
   },
   {
    "duration": 6,
    "start_time": "2021-10-14T07:30:36.150Z"
   },
   {
    "duration": 12,
    "start_time": "2021-10-14T07:30:36.158Z"
   },
   {
    "duration": 881,
    "start_time": "2021-10-14T07:30:36.173Z"
   },
   {
    "duration": 8,
    "start_time": "2021-10-14T07:30:37.057Z"
   },
   {
    "duration": 34,
    "start_time": "2021-10-14T07:30:37.068Z"
   },
   {
    "duration": 27,
    "start_time": "2021-10-14T07:30:37.106Z"
   },
   {
    "duration": 6,
    "start_time": "2021-10-14T07:30:37.136Z"
   },
   {
    "duration": 552,
    "start_time": "2021-10-14T07:30:37.144Z"
   },
   {
    "duration": 23,
    "start_time": "2021-10-14T07:30:37.699Z"
   },
   {
    "duration": 121,
    "start_time": "2021-10-14T07:30:37.724Z"
   },
   {
    "duration": 24,
    "start_time": "2021-10-14T07:30:37.848Z"
   },
   {
    "duration": 55,
    "start_time": "2021-10-14T07:30:37.874Z"
   },
   {
    "duration": 97,
    "start_time": "2021-10-14T07:30:37.931Z"
   },
   {
    "duration": 189,
    "start_time": "2021-10-14T07:30:38.031Z"
   },
   {
    "duration": 684,
    "start_time": "2021-10-14T07:30:38.223Z"
   },
   {
    "duration": 6,
    "start_time": "2021-10-14T07:30:38.910Z"
   },
   {
    "duration": 33,
    "start_time": "2021-10-14T07:30:38.918Z"
   },
   {
    "duration": 1736,
    "start_time": "2021-10-14T07:30:38.953Z"
   },
   {
    "duration": 20,
    "start_time": "2021-10-14T07:30:40.691Z"
   },
   {
    "duration": 44,
    "start_time": "2021-10-14T07:30:40.713Z"
   },
   {
    "duration": 108,
    "start_time": "2021-10-14T07:30:40.759Z"
   },
   {
    "duration": 34,
    "start_time": "2021-10-14T07:30:40.870Z"
   },
   {
    "duration": 34,
    "start_time": "2021-10-14T07:30:40.907Z"
   },
   {
    "duration": 88,
    "start_time": "2021-10-14T07:30:40.945Z"
   },
   {
    "duration": 17,
    "start_time": "2021-10-14T07:30:41.036Z"
   },
   {
    "duration": 22,
    "start_time": "2021-10-14T07:30:41.056Z"
   },
   {
    "duration": 9,
    "start_time": "2021-10-14T07:30:41.101Z"
   },
   {
    "duration": 10,
    "start_time": "2021-10-14T07:30:41.113Z"
   },
   {
    "duration": 74,
    "start_time": "2021-10-14T07:30:41.126Z"
   },
   {
    "duration": 122,
    "start_time": "2021-10-14T07:30:41.203Z"
   },
   {
    "duration": 11,
    "start_time": "2021-10-14T07:30:41.328Z"
   },
   {
    "duration": 30,
    "start_time": "2021-10-14T07:30:41.341Z"
   },
   {
    "duration": 31,
    "start_time": "2021-10-14T07:30:41.374Z"
   },
   {
    "duration": 8672,
    "start_time": "2021-10-14T07:42:31.516Z"
   },
   {
    "duration": 2124,
    "start_time": "2021-10-14T07:42:46.069Z"
   },
   {
    "duration": 2735,
    "start_time": "2021-10-14T07:42:48.196Z"
   },
   {
    "duration": 1533,
    "start_time": "2021-10-14T07:42:50.935Z"
   },
   {
    "duration": 6,
    "start_time": "2021-10-14T07:42:52.471Z"
   },
   {
    "duration": 22,
    "start_time": "2021-10-14T07:42:52.479Z"
   },
   {
    "duration": 870,
    "start_time": "2021-10-14T07:42:52.504Z"
   },
   {
    "duration": 24,
    "start_time": "2021-10-14T07:42:53.376Z"
   },
   {
    "duration": 12,
    "start_time": "2021-10-14T07:42:53.405Z"
   },
   {
    "duration": 31,
    "start_time": "2021-10-14T07:42:53.420Z"
   },
   {
    "duration": 6,
    "start_time": "2021-10-14T07:42:53.454Z"
   },
   {
    "duration": 560,
    "start_time": "2021-10-14T07:42:53.462Z"
   },
   {
    "duration": 23,
    "start_time": "2021-10-14T07:42:54.024Z"
   },
   {
    "duration": 115,
    "start_time": "2021-10-14T07:42:54.049Z"
   },
   {
    "duration": 37,
    "start_time": "2021-10-14T07:42:54.167Z"
   },
   {
    "duration": 40,
    "start_time": "2021-10-14T07:42:54.208Z"
   },
   {
    "duration": 111,
    "start_time": "2021-10-14T07:42:54.251Z"
   },
   {
    "duration": 193,
    "start_time": "2021-10-14T07:42:54.365Z"
   },
   {
    "duration": 574,
    "start_time": "2021-10-14T07:42:54.562Z"
   },
   {
    "duration": 6,
    "start_time": "2021-10-14T07:42:55.139Z"
   },
   {
    "duration": 58,
    "start_time": "2021-10-14T07:42:55.147Z"
   },
   {
    "duration": 1694,
    "start_time": "2021-10-14T07:42:55.208Z"
   },
   {
    "duration": 15,
    "start_time": "2021-10-14T07:42:56.905Z"
   },
   {
    "duration": 49,
    "start_time": "2021-10-14T07:42:56.925Z"
   },
   {
    "duration": 100,
    "start_time": "2021-10-14T07:42:56.976Z"
   },
   {
    "duration": 41,
    "start_time": "2021-10-14T07:42:57.079Z"
   },
   {
    "duration": 34,
    "start_time": "2021-10-14T07:42:57.122Z"
   },
   {
    "duration": 94,
    "start_time": "2021-10-14T07:42:57.158Z"
   },
   {
    "duration": 16,
    "start_time": "2021-10-14T07:42:57.254Z"
   },
   {
    "duration": 33,
    "start_time": "2021-10-14T07:42:57.272Z"
   },
   {
    "duration": 7,
    "start_time": "2021-10-14T07:42:57.308Z"
   },
   {
    "duration": 20,
    "start_time": "2021-10-14T07:42:57.317Z"
   },
   {
    "duration": 63,
    "start_time": "2021-10-14T07:42:57.339Z"
   },
   {
    "duration": 116,
    "start_time": "2021-10-14T07:42:57.405Z"
   },
   {
    "duration": 9,
    "start_time": "2021-10-14T07:42:57.524Z"
   },
   {
    "duration": 38,
    "start_time": "2021-10-14T07:42:57.535Z"
   },
   {
    "duration": 29,
    "start_time": "2021-10-14T07:42:57.575Z"
   },
   {
    "duration": 2042,
    "start_time": "2021-10-14T07:59:36.358Z"
   },
   {
    "duration": 3064,
    "start_time": "2021-10-14T07:59:38.403Z"
   },
   {
    "duration": 1124,
    "start_time": "2021-10-14T07:59:41.470Z"
   },
   {
    "duration": 6,
    "start_time": "2021-10-14T07:59:42.597Z"
   },
   {
    "duration": 10,
    "start_time": "2021-10-14T07:59:42.605Z"
   },
   {
    "duration": 896,
    "start_time": "2021-10-14T07:59:42.618Z"
   },
   {
    "duration": 9,
    "start_time": "2021-10-14T07:59:43.517Z"
   },
   {
    "duration": 12,
    "start_time": "2021-10-14T07:59:43.530Z"
   },
   {
    "duration": 61,
    "start_time": "2021-10-14T07:59:43.545Z"
   },
   {
    "duration": 6,
    "start_time": "2021-10-14T07:59:43.608Z"
   },
   {
    "duration": 518,
    "start_time": "2021-10-14T07:59:43.617Z"
   },
   {
    "duration": 23,
    "start_time": "2021-10-14T07:59:44.138Z"
   },
   {
    "duration": 119,
    "start_time": "2021-10-14T07:59:44.163Z"
   },
   {
    "duration": 27,
    "start_time": "2021-10-14T07:59:44.284Z"
   },
   {
    "duration": 40,
    "start_time": "2021-10-14T07:59:44.313Z"
   },
   {
    "duration": 103,
    "start_time": "2021-10-14T07:59:44.356Z"
   },
   {
    "duration": 185,
    "start_time": "2021-10-14T07:59:44.462Z"
   },
   {
    "duration": 588,
    "start_time": "2021-10-14T07:59:44.649Z"
   },
   {
    "duration": 6,
    "start_time": "2021-10-14T07:59:45.240Z"
   },
   {
    "duration": 26,
    "start_time": "2021-10-14T07:59:45.249Z"
   },
   {
    "duration": 1657,
    "start_time": "2021-10-14T07:59:45.301Z"
   },
   {
    "duration": 15,
    "start_time": "2021-10-14T07:59:46.961Z"
   },
   {
    "duration": 58,
    "start_time": "2021-10-14T07:59:46.982Z"
   },
   {
    "duration": 98,
    "start_time": "2021-10-14T07:59:47.043Z"
   },
   {
    "duration": 26,
    "start_time": "2021-10-14T07:59:47.144Z"
   },
   {
    "duration": 50,
    "start_time": "2021-10-14T07:59:47.172Z"
   },
   {
    "duration": 87,
    "start_time": "2021-10-14T07:59:47.225Z"
   },
   {
    "duration": 18,
    "start_time": "2021-10-14T07:59:47.315Z"
   },
   {
    "duration": 20,
    "start_time": "2021-10-14T07:59:47.336Z"
   },
   {
    "duration": 10,
    "start_time": "2021-10-14T07:59:47.359Z"
   },
   {
    "duration": 6,
    "start_time": "2021-10-14T07:59:47.401Z"
   },
   {
    "duration": 49,
    "start_time": "2021-10-14T07:59:47.410Z"
   },
   {
    "duration": 131,
    "start_time": "2021-10-14T07:59:47.461Z"
   },
   {
    "duration": 9,
    "start_time": "2021-10-14T07:59:47.595Z"
   },
   {
    "duration": 28,
    "start_time": "2021-10-14T07:59:47.606Z"
   },
   {
    "duration": 11,
    "start_time": "2021-10-14T07:59:47.637Z"
   },
   {
    "duration": 2039,
    "start_time": "2021-10-14T08:01:47.349Z"
   },
   {
    "duration": 1746,
    "start_time": "2021-10-14T08:01:49.391Z"
   },
   {
    "duration": 820,
    "start_time": "2021-10-14T08:01:51.141Z"
   },
   {
    "duration": 6,
    "start_time": "2021-10-14T08:01:51.965Z"
   },
   {
    "duration": 20,
    "start_time": "2021-10-14T08:01:51.974Z"
   },
   {
    "duration": 881,
    "start_time": "2021-10-14T08:01:51.996Z"
   },
   {
    "duration": 8,
    "start_time": "2021-10-14T08:01:52.880Z"
   },
   {
    "duration": 12,
    "start_time": "2021-10-14T08:01:52.902Z"
   },
   {
    "duration": 31,
    "start_time": "2021-10-14T08:01:52.917Z"
   },
   {
    "duration": 5,
    "start_time": "2021-10-14T08:01:52.950Z"
   },
   {
    "duration": 554,
    "start_time": "2021-10-14T08:01:52.958Z"
   },
   {
    "duration": 23,
    "start_time": "2021-10-14T08:01:53.514Z"
   },
   {
    "duration": 122,
    "start_time": "2021-10-14T08:01:53.539Z"
   },
   {
    "duration": 23,
    "start_time": "2021-10-14T08:01:53.663Z"
   },
   {
    "duration": 37,
    "start_time": "2021-10-14T08:01:53.700Z"
   },
   {
    "duration": 95,
    "start_time": "2021-10-14T08:01:53.740Z"
   },
   {
    "duration": 185,
    "start_time": "2021-10-14T08:01:53.837Z"
   },
   {
    "duration": 588,
    "start_time": "2021-10-14T08:01:54.024Z"
   },
   {
    "duration": 6,
    "start_time": "2021-10-14T08:01:54.614Z"
   },
   {
    "duration": 28,
    "start_time": "2021-10-14T08:01:54.623Z"
   },
   {
    "duration": 1714,
    "start_time": "2021-10-14T08:01:54.653Z"
   },
   {
    "duration": 31,
    "start_time": "2021-10-14T08:01:56.369Z"
   },
   {
    "duration": 42,
    "start_time": "2021-10-14T08:01:56.405Z"
   },
   {
    "duration": 97,
    "start_time": "2021-10-14T08:01:56.450Z"
   },
   {
    "duration": 26,
    "start_time": "2021-10-14T08:01:56.549Z"
   },
   {
    "duration": 48,
    "start_time": "2021-10-14T08:01:56.578Z"
   },
   {
    "duration": 86,
    "start_time": "2021-10-14T08:01:56.629Z"
   },
   {
    "duration": 16,
    "start_time": "2021-10-14T08:01:56.718Z"
   },
   {
    "duration": 21,
    "start_time": "2021-10-14T08:01:56.736Z"
   },
   {
    "duration": 9,
    "start_time": "2021-10-14T08:01:56.760Z"
   },
   {
    "duration": 34,
    "start_time": "2021-10-14T08:01:56.771Z"
   },
   {
    "duration": 48,
    "start_time": "2021-10-14T08:01:56.808Z"
   },
   {
    "duration": 129,
    "start_time": "2021-10-14T08:01:56.859Z"
   },
   {
    "duration": 11,
    "start_time": "2021-10-14T08:01:56.991Z"
   },
   {
    "duration": 27,
    "start_time": "2021-10-14T08:01:57.005Z"
   },
   {
    "duration": 12,
    "start_time": "2021-10-14T08:01:57.035Z"
   },
   {
    "duration": 2105,
    "start_time": "2021-10-14T08:02:27.462Z"
   },
   {
    "duration": 1771,
    "start_time": "2021-10-14T08:02:29.570Z"
   },
   {
    "duration": 1054,
    "start_time": "2021-10-14T08:02:31.344Z"
   },
   {
    "duration": 6,
    "start_time": "2021-10-14T08:02:32.400Z"
   },
   {
    "duration": 24,
    "start_time": "2021-10-14T08:02:32.408Z"
   },
   {
    "duration": 895,
    "start_time": "2021-10-14T08:02:32.435Z"
   },
   {
    "duration": 9,
    "start_time": "2021-10-14T08:02:33.333Z"
   },
   {
    "duration": 11,
    "start_time": "2021-10-14T08:02:33.347Z"
   },
   {
    "duration": 55,
    "start_time": "2021-10-14T08:02:33.362Z"
   },
   {
    "duration": 6,
    "start_time": "2021-10-14T08:02:33.419Z"
   },
   {
    "duration": 535,
    "start_time": "2021-10-14T08:02:33.428Z"
   },
   {
    "duration": 36,
    "start_time": "2021-10-14T08:02:33.966Z"
   },
   {
    "duration": 104,
    "start_time": "2021-10-14T08:02:34.004Z"
   },
   {
    "duration": 23,
    "start_time": "2021-10-14T08:02:34.110Z"
   },
   {
    "duration": 37,
    "start_time": "2021-10-14T08:02:34.135Z"
   },
   {
    "duration": 76,
    "start_time": "2021-10-14T08:02:34.200Z"
   },
   {
    "duration": 190,
    "start_time": "2021-10-14T08:02:34.279Z"
   },
   {
    "duration": 599,
    "start_time": "2021-10-14T08:02:34.471Z"
   },
   {
    "duration": 6,
    "start_time": "2021-10-14T08:02:35.072Z"
   },
   {
    "duration": 43,
    "start_time": "2021-10-14T08:02:35.080Z"
   },
   {
    "duration": 1726,
    "start_time": "2021-10-14T08:02:35.128Z"
   },
   {
    "duration": 15,
    "start_time": "2021-10-14T08:02:36.857Z"
   },
   {
    "duration": 61,
    "start_time": "2021-10-14T08:02:36.877Z"
   },
   {
    "duration": 94,
    "start_time": "2021-10-14T08:02:36.941Z"
   },
   {
    "duration": 26,
    "start_time": "2021-10-14T08:02:37.037Z"
   },
   {
    "duration": 55,
    "start_time": "2021-10-14T08:02:37.066Z"
   },
   {
    "duration": 77,
    "start_time": "2021-10-14T08:02:37.124Z"
   },
   {
    "duration": 17,
    "start_time": "2021-10-14T08:02:37.204Z"
   },
   {
    "duration": 19,
    "start_time": "2021-10-14T08:02:37.223Z"
   },
   {
    "duration": 8,
    "start_time": "2021-10-14T08:02:37.244Z"
   },
   {
    "duration": 8,
    "start_time": "2021-10-14T08:02:37.255Z"
   },
   {
    "duration": 80,
    "start_time": "2021-10-14T08:02:37.265Z"
   },
   {
    "duration": 125,
    "start_time": "2021-10-14T08:02:37.347Z"
   },
   {
    "duration": 9,
    "start_time": "2021-10-14T08:02:37.474Z"
   },
   {
    "duration": 28,
    "start_time": "2021-10-14T08:02:37.500Z"
   },
   {
    "duration": 15,
    "start_time": "2021-10-14T08:02:37.530Z"
   },
   {
    "duration": 41,
    "start_time": "2021-10-14T09:58:15.398Z"
   },
   {
    "duration": 280,
    "start_time": "2021-10-16T15:46:50.880Z"
   },
   {
    "duration": 2114,
    "start_time": "2021-10-16T15:47:02.226Z"
   },
   {
    "duration": 3060,
    "start_time": "2021-10-16T15:47:04.343Z"
   },
   {
    "duration": 1575,
    "start_time": "2021-10-16T15:47:07.406Z"
   },
   {
    "duration": 6,
    "start_time": "2021-10-16T15:47:08.983Z"
   },
   {
    "duration": 12,
    "start_time": "2021-10-16T15:47:08.991Z"
   },
   {
    "duration": 878,
    "start_time": "2021-10-16T15:47:09.005Z"
   },
   {
    "duration": 11,
    "start_time": "2021-10-16T15:47:09.885Z"
   },
   {
    "duration": 12,
    "start_time": "2021-10-16T15:47:09.900Z"
   },
   {
    "duration": 63,
    "start_time": "2021-10-16T15:47:09.915Z"
   },
   {
    "duration": 7,
    "start_time": "2021-10-16T15:47:09.980Z"
   },
   {
    "duration": 17,
    "start_time": "2021-10-16T15:47:09.989Z"
   },
   {
    "duration": 740,
    "start_time": "2021-10-16T15:47:10.009Z"
   },
   {
    "duration": 30,
    "start_time": "2021-10-16T15:47:10.751Z"
   },
   {
    "duration": 112,
    "start_time": "2021-10-16T15:47:10.783Z"
   },
   {
    "duration": 23,
    "start_time": "2021-10-16T15:47:10.897Z"
   },
   {
    "duration": 63,
    "start_time": "2021-10-16T15:47:10.923Z"
   },
   {
    "duration": 85,
    "start_time": "2021-10-16T15:47:10.988Z"
   },
   {
    "duration": 200,
    "start_time": "2021-10-16T15:47:11.076Z"
   },
   {
    "duration": 737,
    "start_time": "2021-10-16T15:47:11.280Z"
   },
   {
    "duration": 5,
    "start_time": "2021-10-16T15:47:12.020Z"
   },
   {
    "duration": 27,
    "start_time": "2021-10-16T15:47:12.028Z"
   },
   {
    "duration": 1948,
    "start_time": "2021-10-16T15:47:12.057Z"
   },
   {
    "duration": 15,
    "start_time": "2021-10-16T15:47:14.010Z"
   },
   {
    "duration": 51,
    "start_time": "2021-10-16T15:47:14.028Z"
   },
   {
    "duration": 86,
    "start_time": "2021-10-16T15:47:14.081Z"
   },
   {
    "duration": 28,
    "start_time": "2021-10-16T15:47:14.170Z"
   },
   {
    "duration": 34,
    "start_time": "2021-10-16T15:47:14.200Z"
   },
   {
    "duration": 73,
    "start_time": "2021-10-16T15:47:14.236Z"
   },
   {
    "duration": 16,
    "start_time": "2021-10-16T15:47:14.312Z"
   },
   {
    "duration": 18,
    "start_time": "2021-10-16T15:47:14.331Z"
   },
   {
    "duration": 16,
    "start_time": "2021-10-16T15:47:14.352Z"
   },
   {
    "duration": 11,
    "start_time": "2021-10-16T15:47:14.371Z"
   },
   {
    "duration": 48,
    "start_time": "2021-10-16T15:47:14.384Z"
   },
   {
    "duration": 150,
    "start_time": "2021-10-16T15:47:14.435Z"
   },
   {
    "duration": 8,
    "start_time": "2021-10-16T15:47:14.588Z"
   },
   {
    "duration": 70,
    "start_time": "2021-10-16T15:47:14.599Z"
   },
   {
    "duration": 15,
    "start_time": "2021-10-16T15:47:14.672Z"
   },
   {
    "duration": 469,
    "start_time": "2021-10-16T15:48:52.861Z"
   }
  ],
  "kernelspec": {
   "display_name": "Python 3",
   "language": "python",
   "name": "python3"
  },
  "language_info": {
   "codemirror_mode": {
    "name": "ipython",
    "version": 3
   },
   "file_extension": ".py",
   "mimetype": "text/x-python",
   "name": "python",
   "nbconvert_exporter": "python",
   "pygments_lexer": "ipython3",
   "version": "3.8.8"
  },
  "toc": {
   "base_numbering": 1,
   "nav_menu": {},
   "number_sections": true,
   "sideBar": true,
   "skip_h1_title": true,
   "title_cell": "Table of Contents",
   "title_sidebar": "Contents",
   "toc_cell": false,
   "toc_position": {
    "height": "calc(100% - 180px)",
    "left": "10px",
    "top": "150px",
    "width": "165px"
   },
   "toc_section_display": true,
   "toc_window_display": true
  }
 },
 "nbformat": 4,
 "nbformat_minor": 2
}
